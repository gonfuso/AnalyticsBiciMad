{
 "cells": [
  {
   "cell_type": "code",
   "execution_count": 47,
   "metadata": {},
   "outputs": [],
   "source": [
    "import pandas as pd "
   ]
  },
  {
   "cell_type": "code",
   "execution_count": 48,
   "metadata": {},
   "outputs": [
    {
     "data": {
      "text/html": [
       "<div>\n",
       "<style scoped>\n",
       "    .dataframe tbody tr th:only-of-type {\n",
       "        vertical-align: middle;\n",
       "    }\n",
       "\n",
       "    .dataframe tbody tr th {\n",
       "        vertical-align: top;\n",
       "    }\n",
       "\n",
       "    .dataframe thead th {\n",
       "        text-align: right;\n",
       "    }\n",
       "</style>\n",
       "<table border=\"1\" class=\"dataframe\">\n",
       "  <thead>\n",
       "    <tr style=\"text-align: right;\">\n",
       "      <th></th>\n",
       "      <th>user_type</th>\n",
       "      <th>travel_time</th>\n",
       "      <th>idunplug_station</th>\n",
       "      <th>ageRange</th>\n",
       "      <th>idplug_station</th>\n",
       "      <th>unplug_hourTime</th>\n",
       "      <th>status</th>\n",
       "      <th>Origen_destino</th>\n",
       "      <th>Número_Salida</th>\n",
       "      <th>Distrito_Salida</th>\n",
       "      <th>...</th>\n",
       "      <th>Barrio_Llegada</th>\n",
       "      <th>Número de Plazas_Llegada</th>\n",
       "      <th>Latitud_Llegada</th>\n",
       "      <th>Longitud_Llegada</th>\n",
       "      <th>name_Salida</th>\n",
       "      <th>address_Salida</th>\n",
       "      <th>name_Llegada</th>\n",
       "      <th>address_Llegada</th>\n",
       "      <th>dayofweek</th>\n",
       "      <th>hour</th>\n",
       "    </tr>\n",
       "  </thead>\n",
       "  <tbody>\n",
       "    <tr>\n",
       "      <th>0</th>\n",
       "      <td>1</td>\n",
       "      <td>154</td>\n",
       "      <td>44</td>\n",
       "      <td>5</td>\n",
       "      <td>40</td>\n",
       "      <td>2019-07-01 00:00:00+00:00</td>\n",
       "      <td>short_rental</td>\n",
       "      <td>44-40</td>\n",
       "      <td>44</td>\n",
       "      <td>01  CENTRO</td>\n",
       "      <td>...</td>\n",
       "      <td>01-02 EMBAJADORES</td>\n",
       "      <td>24.0</td>\n",
       "      <td>40.413788</td>\n",
       "      <td>-3.704746</td>\n",
       "      <td>Plaza de Nelson Mandela</td>\n",
       "      <td>Calle Mesón de Paredes nº 35</td>\n",
       "      <td>Conde de Romanones</td>\n",
       "      <td>Plaza del Conde de Romanones nº 9</td>\n",
       "      <td>0</td>\n",
       "      <td>0</td>\n",
       "    </tr>\n",
       "    <tr>\n",
       "      <th>1</th>\n",
       "      <td>1</td>\n",
       "      <td>184</td>\n",
       "      <td>57</td>\n",
       "      <td>4</td>\n",
       "      <td>129</td>\n",
       "      <td>2019-07-01 00:00:00+00:00</td>\n",
       "      <td>short_rental</td>\n",
       "      <td>57-129</td>\n",
       "      <td>57</td>\n",
       "      <td>01  CENTRO</td>\n",
       "      <td>...</td>\n",
       "      <td>07-05 RÍOS ROSAS</td>\n",
       "      <td>24.0</td>\n",
       "      <td>40.438469</td>\n",
       "      <td>-3.698282</td>\n",
       "      <td>Santa Cruz del Marcenado</td>\n",
       "      <td>Calle Santa Cruz del Marcenado nº 24</td>\n",
       "      <td>José Abascal</td>\n",
       "      <td>Calle José Abascal nº 33</td>\n",
       "      <td>0</td>\n",
       "      <td>0</td>\n",
       "    </tr>\n",
       "    <tr>\n",
       "      <th>2</th>\n",
       "      <td>1</td>\n",
       "      <td>282</td>\n",
       "      <td>53</td>\n",
       "      <td>4</td>\n",
       "      <td>43</td>\n",
       "      <td>2019-07-01 00:00:00+00:00</td>\n",
       "      <td>short_rental</td>\n",
       "      <td>53-43</td>\n",
       "      <td>53</td>\n",
       "      <td>01  CENTRO</td>\n",
       "      <td>...</td>\n",
       "      <td>01-02 EMBAJADORES</td>\n",
       "      <td>24.0</td>\n",
       "      <td>40.410088</td>\n",
       "      <td>-3.702545</td>\n",
       "      <td>Plaza de Lavapiés</td>\n",
       "      <td>Calle Valencia nº 1</td>\n",
       "      <td>Jesús y María</td>\n",
       "      <td>Calle Lavapiés nº 34-36</td>\n",
       "      <td>0</td>\n",
       "      <td>0</td>\n",
       "    </tr>\n",
       "    <tr>\n",
       "      <th>3</th>\n",
       "      <td>1</td>\n",
       "      <td>388</td>\n",
       "      <td>56</td>\n",
       "      <td>0</td>\n",
       "      <td>13</td>\n",
       "      <td>2019-07-01 00:00:00+00:00</td>\n",
       "      <td>short_rental</td>\n",
       "      <td>56-13</td>\n",
       "      <td>56</td>\n",
       "      <td>01  CENTRO</td>\n",
       "      <td>...</td>\n",
       "      <td>01-05 UNIVERSIDAD</td>\n",
       "      <td>24.0</td>\n",
       "      <td>40.427364</td>\n",
       "      <td>-3.710473</td>\n",
       "      <td>Plaza del Carmen</td>\n",
       "      <td>Plaza del Carmen nº 1</td>\n",
       "      <td>Conde Duque</td>\n",
       "      <td>Calle Conde Duque nº 22</td>\n",
       "      <td>0</td>\n",
       "      <td>0</td>\n",
       "    </tr>\n",
       "    <tr>\n",
       "      <th>4</th>\n",
       "      <td>1</td>\n",
       "      <td>254</td>\n",
       "      <td>105</td>\n",
       "      <td>0</td>\n",
       "      <td>75</td>\n",
       "      <td>2019-07-01 00:00:00+00:00</td>\n",
       "      <td>short_rental</td>\n",
       "      <td>105-75</td>\n",
       "      <td>105</td>\n",
       "      <td>04  SALAMANCA</td>\n",
       "      <td>...</td>\n",
       "      <td>03-05 JERÓNIMOS</td>\n",
       "      <td>24.0</td>\n",
       "      <td>40.408340</td>\n",
       "      <td>-3.678415</td>\n",
       "      <td>Serrano</td>\n",
       "      <td>Calle Serrano nº 54</td>\n",
       "      <td>Menéndez Pelayo</td>\n",
       "      <td>Avenida de Menéndez Pelayo nº 90</td>\n",
       "      <td>0</td>\n",
       "      <td>0</td>\n",
       "    </tr>\n",
       "  </tbody>\n",
       "</table>\n",
       "<p>5 rows × 26 columns</p>\n",
       "</div>"
      ],
      "text/plain": [
       "   user_type  travel_time  idunplug_station  ageRange  idplug_station  \\\n",
       "0          1          154                44         5              40   \n",
       "1          1          184                57         4             129   \n",
       "2          1          282                53         4              43   \n",
       "3          1          388                56         0              13   \n",
       "4          1          254               105         0              75   \n",
       "\n",
       "            unplug_hourTime        status Origen_destino  Número_Salida  \\\n",
       "0 2019-07-01 00:00:00+00:00  short_rental          44-40             44   \n",
       "1 2019-07-01 00:00:00+00:00  short_rental         57-129             57   \n",
       "2 2019-07-01 00:00:00+00:00  short_rental          53-43             53   \n",
       "3 2019-07-01 00:00:00+00:00  short_rental          56-13             56   \n",
       "4 2019-07-01 00:00:00+00:00  short_rental         105-75            105   \n",
       "\n",
       "  Distrito_Salida  ...     Barrio_Llegada  Número de Plazas_Llegada  \\\n",
       "0      01  CENTRO  ...  01-02 EMBAJADORES                      24.0   \n",
       "1      01  CENTRO  ...   07-05 RÍOS ROSAS                      24.0   \n",
       "2      01  CENTRO  ...  01-02 EMBAJADORES                      24.0   \n",
       "3      01  CENTRO  ...  01-05 UNIVERSIDAD                      24.0   \n",
       "4   04  SALAMANCA  ...    03-05 JERÓNIMOS                      24.0   \n",
       "\n",
       "   Latitud_Llegada  Longitud_Llegada               name_Salida  \\\n",
       "0        40.413788         -3.704746   Plaza de Nelson Mandela   \n",
       "1        40.438469         -3.698282  Santa Cruz del Marcenado   \n",
       "2        40.410088         -3.702545         Plaza de Lavapiés   \n",
       "3        40.427364         -3.710473         Plaza del Carmen    \n",
       "4        40.408340         -3.678415                   Serrano   \n",
       "\n",
       "                         address_Salida        name_Llegada  \\\n",
       "0          Calle Mesón de Paredes nº 35  Conde de Romanones   \n",
       "1  Calle Santa Cruz del Marcenado nº 24        José Abascal   \n",
       "2                   Calle Valencia nº 1       Jesús y María   \n",
       "3                 Plaza del Carmen nº 1         Conde Duque   \n",
       "4                   Calle Serrano nº 54     Menéndez Pelayo   \n",
       "\n",
       "                     address_Llegada  dayofweek  hour  \n",
       "0  Plaza del Conde de Romanones nº 9          0     0  \n",
       "1           Calle José Abascal nº 33          0     0  \n",
       "2            Calle Lavapiés nº 34-36          0     0  \n",
       "3            Calle Conde Duque nº 22          0     0  \n",
       "4   Avenida de Menéndez Pelayo nº 90          0     0  \n",
       "\n",
       "[5 rows x 26 columns]"
      ]
     },
     "execution_count": 48,
     "metadata": {},
     "output_type": "execute_result"
    }
   ],
   "source": [
    "itinerarios_bases=pd.read_parquet('../Data/Itinerarios/itinerarios_bases3.parquet')\n",
    "itinerarios_bases.head()"
   ]
  },
  {
   "cell_type": "code",
   "execution_count": 49,
   "metadata": {},
   "outputs": [
    {
     "data": {
      "text/plain": [
       "Index(['user_type', 'travel_time', 'idunplug_station', 'ageRange',\n",
       "       'idplug_station', 'unplug_hourTime', 'status', 'Origen_destino',\n",
       "       'Número_Salida', 'Distrito_Salida', 'Barrio_Salida',\n",
       "       'Número de Plazas_Salida', 'Latitud_Salida', 'Longitud_Salida',\n",
       "       'Número_Llegada', 'Distrito_Llegada', 'Barrio_Llegada',\n",
       "       'Número de Plazas_Llegada', 'Latitud_Llegada', 'Longitud_Llegada',\n",
       "       'name_Salida', 'address_Salida', 'name_Llegada', 'address_Llegada',\n",
       "       'dayofweek', 'hour'],\n",
       "      dtype='object')"
      ]
     },
     "execution_count": 49,
     "metadata": {},
     "output_type": "execute_result"
    }
   ],
   "source": [
    "itinerarios_bases.columns"
   ]
  },
  {
   "cell_type": "code",
   "execution_count": 50,
   "metadata": {},
   "outputs": [
    {
     "name": "stderr",
     "output_type": "stream",
     "text": [
      "c:\\Users\\visit\\Anaconda3\\lib\\site-packages\\pandas\\core\\frame.py:4441: SettingWithCopyWarning:\n",
      "\n",
      "\n",
      "A value is trying to be set on a copy of a slice from a DataFrame\n",
      "\n",
      "See the caveats in the documentation: https://pandas.pydata.org/pandas-docs/stable/user_guide/indexing.html#returning-a-view-versus-a-copy\n",
      "\n"
     ]
    },
    {
     "data": {
      "text/html": [
       "<div>\n",
       "<style scoped>\n",
       "    .dataframe tbody tr th:only-of-type {\n",
       "        vertical-align: middle;\n",
       "    }\n",
       "\n",
       "    .dataframe tbody tr th {\n",
       "        vertical-align: top;\n",
       "    }\n",
       "\n",
       "    .dataframe thead th {\n",
       "        text-align: right;\n",
       "    }\n",
       "</style>\n",
       "<table border=\"1\" class=\"dataframe\">\n",
       "  <thead>\n",
       "    <tr style=\"text-align: right;\">\n",
       "      <th></th>\n",
       "      <th>estacion</th>\n",
       "      <th>Latitud</th>\n",
       "      <th>Longitud</th>\n",
       "      <th>dayofweek</th>\n",
       "      <th>hour</th>\n",
       "      <th>viajes_llegada</th>\n",
       "      <th>viajes_llegada%</th>\n",
       "      <th>viajes_salida</th>\n",
       "      <th>viajes_salida%</th>\n",
       "    </tr>\n",
       "  </thead>\n",
       "  <tbody>\n",
       "    <tr>\n",
       "      <th>0</th>\n",
       "      <td>1</td>\n",
       "      <td>40.417110</td>\n",
       "      <td>-3.701998</td>\n",
       "      <td>0</td>\n",
       "      <td>0</td>\n",
       "      <td>8</td>\n",
       "      <td>0.002851</td>\n",
       "      <td>33</td>\n",
       "      <td>0.011761</td>\n",
       "    </tr>\n",
       "    <tr>\n",
       "      <th>1</th>\n",
       "      <td>1</td>\n",
       "      <td>40.417110</td>\n",
       "      <td>-3.701998</td>\n",
       "      <td>0</td>\n",
       "      <td>1</td>\n",
       "      <td>7</td>\n",
       "      <td>0.003989</td>\n",
       "      <td>20</td>\n",
       "      <td>0.011396</td>\n",
       "    </tr>\n",
       "    <tr>\n",
       "      <th>2</th>\n",
       "      <td>1</td>\n",
       "      <td>40.417110</td>\n",
       "      <td>-3.701998</td>\n",
       "      <td>0</td>\n",
       "      <td>2</td>\n",
       "      <td>10</td>\n",
       "      <td>0.008354</td>\n",
       "      <td>17</td>\n",
       "      <td>0.014202</td>\n",
       "    </tr>\n",
       "    <tr>\n",
       "      <th>3</th>\n",
       "      <td>1</td>\n",
       "      <td>40.417110</td>\n",
       "      <td>-3.701998</td>\n",
       "      <td>0</td>\n",
       "      <td>3</td>\n",
       "      <td>20</td>\n",
       "      <td>0.018832</td>\n",
       "      <td>11</td>\n",
       "      <td>0.010358</td>\n",
       "    </tr>\n",
       "    <tr>\n",
       "      <th>4</th>\n",
       "      <td>1</td>\n",
       "      <td>40.417110</td>\n",
       "      <td>-3.701998</td>\n",
       "      <td>0</td>\n",
       "      <td>4</td>\n",
       "      <td>30</td>\n",
       "      <td>0.013743</td>\n",
       "      <td>9</td>\n",
       "      <td>0.004123</td>\n",
       "    </tr>\n",
       "    <tr>\n",
       "      <th>...</th>\n",
       "      <td>...</td>\n",
       "      <td>...</td>\n",
       "      <td>...</td>\n",
       "      <td>...</td>\n",
       "      <td>...</td>\n",
       "      <td>...</td>\n",
       "      <td>...</td>\n",
       "      <td>...</td>\n",
       "      <td>...</td>\n",
       "    </tr>\n",
       "    <tr>\n",
       "      <th>34368</th>\n",
       "      <td>219</td>\n",
       "      <td>40.408398</td>\n",
       "      <td>-3.646778</td>\n",
       "      <td>6</td>\n",
       "      <td>19</td>\n",
       "      <td>42</td>\n",
       "      <td>0.004241</td>\n",
       "      <td>47</td>\n",
       "      <td>0.004746</td>\n",
       "    </tr>\n",
       "    <tr>\n",
       "      <th>34369</th>\n",
       "      <td>219</td>\n",
       "      <td>40.408398</td>\n",
       "      <td>-3.646778</td>\n",
       "      <td>6</td>\n",
       "      <td>20</td>\n",
       "      <td>22</td>\n",
       "      <td>0.002779</td>\n",
       "      <td>31</td>\n",
       "      <td>0.003916</td>\n",
       "    </tr>\n",
       "    <tr>\n",
       "      <th>34370</th>\n",
       "      <td>219</td>\n",
       "      <td>40.408398</td>\n",
       "      <td>-3.646778</td>\n",
       "      <td>6</td>\n",
       "      <td>21</td>\n",
       "      <td>27</td>\n",
       "      <td>0.003796</td>\n",
       "      <td>33</td>\n",
       "      <td>0.004640</td>\n",
       "    </tr>\n",
       "    <tr>\n",
       "      <th>34371</th>\n",
       "      <td>219</td>\n",
       "      <td>40.408398</td>\n",
       "      <td>-3.646778</td>\n",
       "      <td>6</td>\n",
       "      <td>22</td>\n",
       "      <td>17</td>\n",
       "      <td>0.002789</td>\n",
       "      <td>35</td>\n",
       "      <td>0.005742</td>\n",
       "    </tr>\n",
       "    <tr>\n",
       "      <th>34372</th>\n",
       "      <td>219</td>\n",
       "      <td>40.408398</td>\n",
       "      <td>-3.646778</td>\n",
       "      <td>6</td>\n",
       "      <td>23</td>\n",
       "      <td>12</td>\n",
       "      <td>0.003020</td>\n",
       "      <td>18</td>\n",
       "      <td>0.004529</td>\n",
       "    </tr>\n",
       "  </tbody>\n",
       "</table>\n",
       "<p>34373 rows × 9 columns</p>\n",
       "</div>"
      ],
      "text/plain": [
       "       estacion    Latitud  Longitud  dayofweek  hour  viajes_llegada  \\\n",
       "0             1  40.417110 -3.701998          0     0               8   \n",
       "1             1  40.417110 -3.701998          0     1               7   \n",
       "2             1  40.417110 -3.701998          0     2              10   \n",
       "3             1  40.417110 -3.701998          0     3              20   \n",
       "4             1  40.417110 -3.701998          0     4              30   \n",
       "...         ...        ...       ...        ...   ...             ...   \n",
       "34368       219  40.408398 -3.646778          6    19              42   \n",
       "34369       219  40.408398 -3.646778          6    20              22   \n",
       "34370       219  40.408398 -3.646778          6    21              27   \n",
       "34371       219  40.408398 -3.646778          6    22              17   \n",
       "34372       219  40.408398 -3.646778          6    23              12   \n",
       "\n",
       "       viajes_llegada%  viajes_salida  viajes_salida%  \n",
       "0             0.002851             33        0.011761  \n",
       "1             0.003989             20        0.011396  \n",
       "2             0.008354             17        0.014202  \n",
       "3             0.018832             11        0.010358  \n",
       "4             0.013743              9        0.004123  \n",
       "...                ...            ...             ...  \n",
       "34368         0.004241             47        0.004746  \n",
       "34369         0.002779             31        0.003916  \n",
       "34370         0.003796             33        0.004640  \n",
       "34371         0.002789             35        0.005742  \n",
       "34372         0.003020             18        0.004529  \n",
       "\n",
       "[34373 rows x 9 columns]"
      ]
     },
     "execution_count": 50,
     "metadata": {},
     "output_type": "execute_result"
    }
   ],
   "source": [
    "def DistrubicionEstaciones(itinerarios_bases): \n",
    "    cols_grup=['idplug_station','Latitud_Llegada', 'Longitud_Llegada', 'dayofweek', 'hour']\n",
    "    df_llegada = itinerarios_bases.groupby(cols_grup)['status'].count().to_frame().reset_index()\n",
    "    df_llegada.rename(columns={'status': 'viajes_llegada', 'idplug_station': 'estacion'}, inplace=True)\n",
    "    # Percentage by lambda and DataFrame.apply() method.\n",
    "\n",
    "    df3 = df_llegada.groupby(['dayofweek', 'hour'])['viajes_llegada'].sum().to_dict()#.reset_index()\n",
    "    df_llegada['dict']=df_llegada.apply(lambda x: (x.dayofweek,x.hour),axis=1)\n",
    "    df_llegada['viajes_llegada%']=df_llegada.apply(lambda x: x.viajes_llegada/df3[x.dict], axis=1)\n",
    "    df_llegada_def=df_llegada[['estacion','Latitud_Llegada', 'Longitud_Llegada','dayofweek', 'hour', 'viajes_llegada', 'viajes_llegada%' ]]\n",
    "    df_llegada_def.rename(columns={'Latitud_Llegada':'Latitud','Longitud_Llegada':'Longitud' }, inplace=True)\n",
    "\n",
    "\n",
    "    cols_grup2=['idunplug_station','Latitud_Salida', 'Longitud_Salida', 'dayofweek', 'hour']\n",
    "    df_salida = itinerarios_bases.groupby(cols_grup2)['status'].count().to_frame().reset_index()\n",
    "    df_salida.rename(columns={'status': 'viajes_salida', 'idunplug_station': 'estacion'}, inplace=True)\n",
    "    # Percentage by lambda and DataFrame.apply() method.\n",
    "\n",
    "    df3 = df_salida.groupby(['dayofweek', 'hour'])['viajes_salida'].sum().to_dict()#.reset_index()\n",
    "    df_salida['dict']=df_salida.apply(lambda x: (x.dayofweek,x.hour),axis=1)\n",
    "    df_salida['viajes_salida%']=df_salida.apply(lambda x: x.viajes_salida/df3[x.dict], axis=1)\n",
    "    df_salida_def=df_salida[['estacion','Latitud_Salida', 'Longitud_Salida','dayofweek', 'hour', 'viajes_salida', 'viajes_salida%' ]]\n",
    "    \n",
    "    df_salida_def.rename(columns={'Latitud_Salida':'Latitud','Longitud_Salida':'Longitud' }, inplace=True)\n",
    "\n",
    "    return pd.merge(df_llegada_def,df_salida_def, how='inner', on=['estacion','dayofweek', 'hour', 'Latitud', 'Longitud'])\n",
    "a=DistrubicionEstaciones(itinerarios_bases)\n",
    "a"
   ]
  },
  {
   "cell_type": "code",
   "execution_count": 51,
   "metadata": {},
   "outputs": [],
   "source": [
    "def mapaPrediccion(itinerarios_bases, prediccion, salida_llegada,dia, hora ): \n",
    "    dicSalidaLlegada={0:'prediccion_llegada', 1:'prediccion_salida' }\n",
    "    distribuciones=DistrubicionEstaciones(itinerarios_bases)\n",
    "    distribuciones_filt=distribuciones[(distribuciones['dayofweek']==dia)&(distribuciones['hour']==hora)]\n",
    "\n",
    "    distribuciones_filt['prediccion_llegada']= distribuciones_filt['viajes_llegada%']*prediccion\n",
    "    distribuciones_filt['prediccion_salida']= distribuciones_filt['viajes_salida%']*prediccion\n",
    "\n",
    "    fig = px.scatter_mapbox(distribuciones_filt, lat=\"Latitud\", lon=\"Longitud\",   size=dicSalidaLlegada[salida_llegada], \n",
    "                            zoom = 12, color_discrete_sequence=px.colors.qualitative.Prism, )\n",
    "                #color_discrete_sequence=[to_hex(c) for c in sns.color_palette('colorblind', 15)])\n",
    "    # fig.update_traces(hovertemplate=None)\n",
    "\n",
    "    fig.update_layout(\n",
    "        \n",
    "        #autosize=True,\n",
    "        showlegend=True,\n",
    "\n",
    "        height = 650,\n",
    "        mapbox=dict(\n",
    "        bearing=0,\n",
    "        center=dict(\n",
    "            lat=40.435,\n",
    "            lon=-3.69\n",
    "        ),\n",
    "        zoom=11.5,\n",
    "        style= 'carto-positron' # 'open-street-map'\n",
    "        ),\n",
    "        legend=dict(orientation=\"h\",yanchor=\"bottom\",y=1.02,xanchor=\"right\",x=1),\n",
    "        margin=dict(l=1,r=1, b=10,t=20,pad = 5),\n",
    "        hoverlabel_align = 'right'\n",
    "        )\n",
    "    return fig"
   ]
  },
  {
   "cell_type": "code",
   "execution_count": 52,
   "metadata": {},
   "outputs": [
    {
     "name": "stderr",
     "output_type": "stream",
     "text": [
      "<ipython-input-52-bec9f23d50ba>:10: SettingWithCopyWarning:\n",
      "\n",
      "\n",
      "A value is trying to be set on a copy of a slice from a DataFrame.\n",
      "Try using .loc[row_indexer,col_indexer] = value instead\n",
      "\n",
      "See the caveats in the documentation: https://pandas.pydata.org/pandas-docs/stable/user_guide/indexing.html#returning-a-view-versus-a-copy\n",
      "\n",
      "<ipython-input-52-bec9f23d50ba>:11: SettingWithCopyWarning:\n",
      "\n",
      "\n",
      "A value is trying to be set on a copy of a slice from a DataFrame.\n",
      "Try using .loc[row_indexer,col_indexer] = value instead\n",
      "\n",
      "See the caveats in the documentation: https://pandas.pydata.org/pandas-docs/stable/user_guide/indexing.html#returning-a-view-versus-a-copy\n",
      "\n"
     ]
    },
    {
     "data": {
      "application/vnd.plotly.v1+json": {
       "config": {
        "plotlyServerURL": "https://plot.ly"
       },
       "data": [
        {
         "hovertemplate": "prediccion_llegada=%{marker.size}<br>Latitud=%{lat}<br>Longitud=%{lon}<extra></extra>",
         "lat": [
          40.417110443115234,
          40.42058181762695,
          40.430320739746094,
          40.4285888671875,
          40.42836380004883,
          40.424163818359375,
          40.42521667480469,
          40.42771530151367,
          40.41561508178711,
          40.4254035949707,
          40.42705154418945,
          40.42852783203125,
          40.427364349365234,
          40.42599105834961,
          40.426292419433594,
          40.422943115234375,
          40.42316818237305,
          40.420921325683594,
          40.421897888183594,
          40.419185638427734,
          40.417259216308594,
          40.423831939697266,
          40.41328430175781,
          40.418067932128906,
          40.41624450683594,
          40.419334411621094,
          40.416343688964844,
          40.41647720336914,
          40.41441345214844,
          40.414180755615234,
          40.41682434082031,
          40.41086196899414,
          40.41129684448242,
          40.4112663269043,
          40.413787841796875,
          40.412227630615234,
          40.410770416259766,
          40.41008758544922,
          40.40981674194336,
          40.40694808959961,
          40.40544891357422,
          40.404624938964844,
          40.40544891357422,
          40.40604782104492,
          40.40830993652344,
          40.40772247314453,
          40.41451644897461,
          40.40827941894531,
          40.4266242980957,
          40.424072265625,
          40.41848373413086,
          40.42963790893555,
          40.42226028442383,
          40.425479888916016,
          40.41945266723633,
          40.42143630981445,
          40.42129898071289,
          40.41789245605469,
          40.41668701171875,
          40.41082763671875,
          40.41006088256836,
          40.4160041809082,
          40.41572189331055,
          40.41146469116211,
          40.41175842285156,
          40.40834045410156,
          40.407283782958984,
          40.406333923339844,
          40.400569915771484,
          40.40504837036133,
          40.407413482666016,
          40.409576416015625,
          40.408477783203125,
          40.41325759887695,
          40.40336990356445,
          40.421142578125,
          40.4185791015625,
          40.42767333984375,
          40.431209564208984,
          40.42726135253906,
          40.425079345703125,
          40.42611312866211,
          40.42622375488281,
          40.425697326660156,
          40.423370361328125,
          40.422664642333984,
          40.42205047607422,
          40.4224853515625,
          40.424190521240234,
          40.42610549926758,
          40.42478561401367,
          40.42312240600586,
          40.4211540222168,
          40.43037414550781,
          40.42676544189453,
          40.427066802978516,
          40.42486572265625,
          40.42159652709961,
          40.42744064331055,
          40.43013000488281,
          40.43476486206055,
          40.43357467651367,
          40.43262481689453,
          40.4277458190918,
          40.42782211303711,
          40.42538070678711,
          40.42406463623047,
          40.430904388427734,
          40.400794982910156,
          40.40145492553711,
          40.403038024902344,
          40.40183639526367,
          40.42952346801758,
          40.43063735961914,
          40.430816650390625,
          40.4353141784668,
          40.434566497802734,
          40.43390655517578,
          40.43903350830078,
          40.43846893310547,
          40.44171905517578,
          40.44175338745117,
          40.446388244628906,
          40.447166442871094,
          40.444026947021484,
          40.44148635864258,
          40.445281982421875,
          40.44549560546875,
          40.4456901550293,
          40.439353942871094,
          40.43851852416992,
          40.4354248046875,
          40.43352508544922,
          40.43461608886719,
          40.43231964111328,
          40.429771423339844,
          40.44424057006836,
          40.448333740234375,
          40.451019287109375,
          40.44984436035156,
          40.44911193847656,
          40.44886016845703,
          40.45271682739258,
          40.45235061645508,
          40.454776763916016,
          40.4572868347168,
          40.4592399597168,
          40.45928192138672,
          40.4586181640625,
          40.454254150390625,
          40.45719909667969,
          40.42205810546875,
          40.40351867675781,
          40.40363311767578,
          40.39713668823242,
          40.39288330078125,
          40.4139404296875,
          40.413734436035156,
          40.40458297729492,
          40.40157699584961,
          40.40110397338867,
          40.39976119995117,
          40.4008674621582,
          40.39817428588867,
          40.39741516113281,
          40.39626693725586,
          40.39424133300781,
          40.391502380371094,
          40.40302276611328,
          40.39793395996094,
          40.394126892089844,
          40.418174743652344,
          40.4187126159668,
          40.425636291503906,
          40.426002502441406,
          40.42506790161133,
          40.43013381958008,
          40.43116760253906,
          40.435020446777344,
          40.43437576293945,
          40.43461608886719,
          40.431854248046875,
          40.43252182006836,
          40.437198638916016,
          40.439247131347656,
          40.444095611572266,
          40.4515495300293,
          40.4331169128418,
          40.434326171875,
          40.43366241455078,
          40.4387321472168,
          40.44116973876953,
          40.44175338745117,
          40.447662353515625,
          40.4535026550293,
          40.46080017089844,
          40.46302795410156,
          40.46651077270508,
          40.4656867980957,
          40.41975402832031,
          40.420616149902344,
          40.39815902709961,
          40.38893508911133,
          40.44340133666992,
          40.429691314697266,
          40.4140510559082,
          40.48100280761719,
          40.410552978515625,
          40.40839767456055
         ],
         "legendgroup": "",
         "lon": [
          -3.701997995376587,
          -3.705673933029175,
          -3.707212209701538,
          -3.70267391204834,
          -3.7020742893218994,
          -3.69840931892395,
          -3.697739839553833,
          -3.6953067779541016,
          -3.709409236907959,
          -3.6920816898345947,
          -3.7036192417144775,
          -3.7062201499938965,
          -3.710472583770752,
          -3.713376760482788,
          -3.7073609828948975,
          -3.7074954509735107,
          -3.704185962677002,
          -3.6995677947998047,
          -3.695394992828369,
          -3.6952900886535645,
          -3.706024408340454,
          -3.694542169570923,
          -3.695580244064331,
          -3.698366165161133,
          -3.69580078125,
          -3.711542844772339,
          -3.706624984741211,
          -3.703209638595581,
          -3.7035043239593506,
          -3.7103676795959473,
          -3.711764097213745,
          -3.714123487472534,
          -3.71144437789917,
          -3.7090044021606445,
          -3.7047462463378906,
          -3.6989898681640625,
          -3.6982293128967285,
          -3.702544689178467,
          -3.703913688659668,
          -3.7111380100250244,
          -3.707117795944214,
          -3.7027549743652344,
          -3.7020998001098633,
          -3.69924259185791,
          -3.6932199001312256,
          -3.6935935020446777,
          -3.7007837295532227,
          -3.7007296085357666,
          -3.700343608856201,
          -3.7019295692443848,
          -3.7032876014709473,
          -3.712818145751953,
          -3.6979458332061768,
          -3.7041165828704834,
          -3.688199281692505,
          -3.675205945968628,
          -3.672422409057617,
          -3.6706507205963135,
          -3.689382553100586,
          -3.6931347846984863,
          -3.6888668537139893,
          -3.674021005630493,
          -3.6696228981018066,
          -3.6690990924835205,
          -3.676576852798462,
          -3.678414821624756,
          -3.675154447555542,
          -3.670774221420288,
          -3.6745781898498535,
          -3.6805524826049805,
          -3.6907238960266113,
          -3.6919662952423096,
          -3.6696829795837402,
          -3.6745338439941406,
          -3.67269229888916,
          -3.6799299716949463,
          -3.6933298110961914,
          -3.683562994003296,
          -3.6837470531463623,
          -3.6751716136932373,
          -3.683729648590088,
          -3.6788203716278076,
          -3.6864821910858154,
          -3.6894123554229736,
          -3.690704345703125,
          -3.6869914531707764,
          -3.682047128677368,
          -3.6801514625549316,
          -3.675407886505127,
          -3.673963785171509,
          -3.673877716064453,
          -3.669424533843994,
          -3.6840806007385254,
          -3.686535120010376,
          -3.6895792484283447,
          -3.687474489212036,
          -3.6878867149353027,
          -3.6884243488311768,
          -3.6706531047821045,
          -3.681525230407715,
          -3.7201316356658936,
          -3.717778205871582,
          -3.724872589111328,
          -3.720714569091797,
          -3.7174150943756104,
          -3.7169625759124756,
          -3.711845636367798,
          -3.7189152240753174,
          -3.6881349086761475,
          -3.686577796936035,
          -3.69477915763855,
          -3.6986045837402344,
          -3.6962625980377197,
          -3.713468551635742,
          -3.6993181705474854,
          -3.694831609725952,
          -3.70174241065979,
          -3.7083988189697266,
          -3.715691566467285,
          -3.698281764984131,
          -3.701707124710083,
          -3.70402193069458,
          -3.7035911083221436,
          -3.700029134750366,
          -3.6955113410949707,
          -3.692890167236328,
          -3.690812587738037,
          -3.6852924823760986,
          -3.6915817260742188,
          -3.6904494762420654,
          -3.682912588119507,
          -3.6892902851104736,
          -3.688040256500244,
          -3.6782355308532715,
          -3.6754627227783203,
          -3.671401023864746,
          -3.6787900924682617,
          -3.6795811653137207,
          -3.681699275970459,
          -3.6878511905670166,
          -3.6905410289764404,
          -3.695202350616455,
          -3.6989498138427734,
          -3.693089485168457,
          -3.694673538208008,
          -3.70086407661438,
          -3.6913228034973145,
          -3.689330577850342,
          -3.6847050189971924,
          -3.683734893798828,
          -3.6766176223754883,
          -3.722062349319458,
          -3.7107558250427246,
          -3.706437110900879,
          -3.6944851875305176,
          -3.697613477706909,
          -3.7133381366729736,
          -3.7176456451416016,
          -3.695915937423706,
          -3.71384596824646,
          -3.7044029235839844,
          -3.6984457969665527,
          -3.693544864654541,
          -3.702361583709717,
          -3.7063770294189453,
          -3.69830322265625,
          -3.6936302185058594,
          -3.694087028503418,
          -3.678893804550171,
          -3.669060230255127,
          -3.675924301147461,
          -3.676640033721924,
          -3.6655023097991943,
          -3.669450521469116,
          -3.665309429168701,
          -3.6615331172943115,
          -3.6638407707214355,
          -3.6589062213897705,
          -3.655543088912964,
          -3.683471202850342,
          -3.6740365028381348,
          -3.671431541442871,
          -3.6656439304351807,
          -3.677194595336914,
          -3.6754913330078125,
          -3.6750917434692383,
          -3.678025245666504,
          -3.6915712356567383,
          -3.7148406505584717,
          -3.7046709060668945,
          -3.7038161754608154,
          -3.708096981048584,
          -3.714423894882202,
          -3.7041702270507812,
          -3.703340768814087,
          -3.699049949645996,
          -3.697399139404297,
          -3.688685178756714,
          -3.6887874603271484,
          -3.7026309967041016,
          -3.7025368213653564,
          -3.716531276702881,
          -3.700157403945923,
          -3.6569597721099854,
          -3.640969753265381,
          -3.7288947105407715,
          -3.6891093254089355,
          -3.657399892807007,
          -3.6467783451080322
         ],
         "marker": {
          "color": "rgb(95, 70, 144)",
          "size": [
           6.969572368421053,
           4.0707236842105265,
           7.70970394736842,
           6.0444078947368425,
           3.26891447368421,
           6.106085526315789,
           2.59046052631579,
           7.462993421052631,
           17.51644736842105,
           5.489309210526316,
           10.176809210526315,
           2.4054276315789473,
           6.0444078947368425,
           5.736019736842105,
           2.7138157894736845,
           1.0485197368421053,
           5.982730263157895,
           3.0838815789473686,
           14.185855263157894,
           12.64391447368421,
           5.057565789473684,
           7.771381578947369,
           2.59046052631579,
           0.8634868421052632,
           1.0485197368421053,
           14.30921052631579,
           9.745065789473685,
           11.595394736842106,
           3.9473684210526314,
           4.0707236842105265,
           2.7138157894736845,
           4.5024671052631575,
           6.53782894736842,
           4.009046052631579,
           3.700657894736842,
           6.291118421052631,
           4.255756578947369,
           5.057565789473684,
           2.6521381578947367,
           4.440789473684211,
           5.3042763157894735,
           0.9251644736842105,
           2.2820723684210527,
           8.079769736842104,
           2.7754934210526314,
           3.2072368421052633,
           3.1455592105263155,
           5.119243421052631,
           2.59046052631579,
           5.736019736842105,
           7.771381578947369,
           5.550986842105263,
           9.62171052631579,
           4.5024671052631575,
           4.749177631578947,
           3.515625,
           7.833059210526316,
           2.158717105263158,
           8.696546052631579,
           5.3042763157894735,
           11.163651315789474,
           6.4761513157894735,
           7.6480263157894735,
           9.12828947368421,
           7.339638157894737,
           4.749177631578947,
           4.440789473684211,
           6.969572368421053,
           8.881578947368421,
           7.401315789473684,
           1.9120065789473684,
           5.859375,
           4.810855263157895,
           7.6480263157894735,
           11.780427631578947,
           2.6521381578947367,
           8.203125,
           2.8371710526315788,
           2.158717105263158,
           2.4671052631578947,
           12.273848684210526,
           9.436677631578947,
           10.485197368421053,
           10.238486842105262,
           4.625822368421052,
           15.727796052631579,
           8.634868421052632,
           10.423519736842106,
           7.6480263157894735,
           8.203125,
           9.436677631578947,
           8.326480263157896,
           2.8371710526315788,
           3.4539473684210527,
           2.0353618421052633,
           1.7269736842105263,
           2.9605263157894735,
           8.326480263157896,
           12.952302631578947,
           5.612664473684211,
           6.907894736842105,
           6.53782894736842,
           8.634868421052632,
           10.36184210526316,
           3.1455592105263155,
           11.71875,
           3.9473684210526314,
           1.850328947368421,
           4.8725328947368425,
           1.3569078947368423,
           3.26891447368421,
           5.3042763157894735,
           3.0838815789473686,
           5.119243421052631,
           3.5773026315789473,
           2.6521381578947367,
           10.30016447368421,
           7.771381578947369,
           6.53782894736842,
           5.982730263157895,
           14.864309210526315,
           4.0707236842105265,
           5.982730263157895,
           4.6875,
           3.3922697368421053,
           6.291118421052631,
           4.255756578947369,
           7.154605263157895,
           6.661184210526316,
           5.612664473684211,
           5.859375,
           5.427631578947369,
           8.634868421052632,
           9.930098684210526,
           1.9120065789473684,
           10.546875,
           5.612664473684211,
           7.5863486842105265,
           5.6743421052631575,
           8.511513157894738,
           2.2820723684210527,
           5.3042763157894735,
           6.8462171052631575,
           9.189967105263158,
           7.956414473684211,
           10.546875,
           6.291118421052631,
           17.948190789473685,
           6.229440789473684,
           7.771381578947369,
           8.881578947368421,
           8.079769736842104,
           15.542763157894738,
           17.886513157894736,
           13.445723684210526,
           4.5024671052631575,
           7.771381578947369,
           7.52467105263158,
           10.115131578947368,
           10.916940789473685,
           6.969572368421053,
           3.76233552631579,
           8.573190789473685,
           2.7138157894736845,
           1.6036184210526316,
           11.225328947368421,
           0.7401315789473684,
           2.2820723684210527,
           4.440789473684211,
           2.6521381578947367,
           0.8018092105263158,
           2.0353618421052633,
           1.171875,
           2.59046052631579,
           1.7269736842105263,
           4.564144736842105,
           0.8018092105263158,
           2.59046052631579,
           2.6521381578947367,
           8.141447368421053,
           2.8988486842105265,
           2.0353618421052633,
           1.3569078947368423,
           1.6036184210526316,
           2.4054276315789473,
           2.158717105263158,
           1.295230263157895,
           9.251644736842104,
           1.665296052631579,
           4.194078947368421,
           1.665296052631579,
           4.009046052631579,
           1.295230263157895,
           1.7886513157894737,
           1.171875,
           3.26891447368421,
           2.0353618421052633,
           7.339638157894737,
           0.8634868421052632,
           1.295230263157895,
           5.797697368421053,
           1.171875,
           4.625822368421052,
           0.8018092105263158,
           1.6036184210526316,
           2.158717105263158,
           2.6521381578947367,
           5.427631578947369,
           4.317434210526316
          ],
          "sizemode": "area",
          "sizeref": 0.04487047697368421
         },
         "mode": "markers",
         "name": "",
         "showlegend": false,
         "subplot": "mapbox",
         "type": "scattermapbox"
        }
       ],
       "layout": {
        "height": 650,
        "hoverlabel": {
         "align": "right"
        },
        "legend": {
         "itemsizing": "constant",
         "orientation": "h",
         "tracegroupgap": 0,
         "x": 1,
         "xanchor": "right",
         "y": 1.02,
         "yanchor": "bottom"
        },
        "mapbox": {
         "bearing": 0,
         "center": {
          "lat": 40.435,
          "lon": -3.69
         },
         "domain": {
          "x": [
           0,
           1
          ],
          "y": [
           0,
           1
          ]
         },
         "style": "carto-positron",
         "zoom": 11.5
        },
        "margin": {
         "b": 10,
         "l": 1,
         "pad": 5,
         "r": 1,
         "t": 20
        },
        "showlegend": true,
        "template": {
         "data": {
          "bar": [
           {
            "error_x": {
             "color": "#2a3f5f"
            },
            "error_y": {
             "color": "#2a3f5f"
            },
            "marker": {
             "line": {
              "color": "#E5ECF6",
              "width": 0.5
             },
             "pattern": {
              "fillmode": "overlay",
              "size": 10,
              "solidity": 0.2
             }
            },
            "type": "bar"
           }
          ],
          "barpolar": [
           {
            "marker": {
             "line": {
              "color": "#E5ECF6",
              "width": 0.5
             },
             "pattern": {
              "fillmode": "overlay",
              "size": 10,
              "solidity": 0.2
             }
            },
            "type": "barpolar"
           }
          ],
          "carpet": [
           {
            "aaxis": {
             "endlinecolor": "#2a3f5f",
             "gridcolor": "white",
             "linecolor": "white",
             "minorgridcolor": "white",
             "startlinecolor": "#2a3f5f"
            },
            "baxis": {
             "endlinecolor": "#2a3f5f",
             "gridcolor": "white",
             "linecolor": "white",
             "minorgridcolor": "white",
             "startlinecolor": "#2a3f5f"
            },
            "type": "carpet"
           }
          ],
          "choropleth": [
           {
            "colorbar": {
             "outlinewidth": 0,
             "ticks": ""
            },
            "type": "choropleth"
           }
          ],
          "contour": [
           {
            "colorbar": {
             "outlinewidth": 0,
             "ticks": ""
            },
            "colorscale": [
             [
              0,
              "#0d0887"
             ],
             [
              0.1111111111111111,
              "#46039f"
             ],
             [
              0.2222222222222222,
              "#7201a8"
             ],
             [
              0.3333333333333333,
              "#9c179e"
             ],
             [
              0.4444444444444444,
              "#bd3786"
             ],
             [
              0.5555555555555556,
              "#d8576b"
             ],
             [
              0.6666666666666666,
              "#ed7953"
             ],
             [
              0.7777777777777778,
              "#fb9f3a"
             ],
             [
              0.8888888888888888,
              "#fdca26"
             ],
             [
              1,
              "#f0f921"
             ]
            ],
            "type": "contour"
           }
          ],
          "contourcarpet": [
           {
            "colorbar": {
             "outlinewidth": 0,
             "ticks": ""
            },
            "type": "contourcarpet"
           }
          ],
          "heatmap": [
           {
            "colorbar": {
             "outlinewidth": 0,
             "ticks": ""
            },
            "colorscale": [
             [
              0,
              "#0d0887"
             ],
             [
              0.1111111111111111,
              "#46039f"
             ],
             [
              0.2222222222222222,
              "#7201a8"
             ],
             [
              0.3333333333333333,
              "#9c179e"
             ],
             [
              0.4444444444444444,
              "#bd3786"
             ],
             [
              0.5555555555555556,
              "#d8576b"
             ],
             [
              0.6666666666666666,
              "#ed7953"
             ],
             [
              0.7777777777777778,
              "#fb9f3a"
             ],
             [
              0.8888888888888888,
              "#fdca26"
             ],
             [
              1,
              "#f0f921"
             ]
            ],
            "type": "heatmap"
           }
          ],
          "heatmapgl": [
           {
            "colorbar": {
             "outlinewidth": 0,
             "ticks": ""
            },
            "colorscale": [
             [
              0,
              "#0d0887"
             ],
             [
              0.1111111111111111,
              "#46039f"
             ],
             [
              0.2222222222222222,
              "#7201a8"
             ],
             [
              0.3333333333333333,
              "#9c179e"
             ],
             [
              0.4444444444444444,
              "#bd3786"
             ],
             [
              0.5555555555555556,
              "#d8576b"
             ],
             [
              0.6666666666666666,
              "#ed7953"
             ],
             [
              0.7777777777777778,
              "#fb9f3a"
             ],
             [
              0.8888888888888888,
              "#fdca26"
             ],
             [
              1,
              "#f0f921"
             ]
            ],
            "type": "heatmapgl"
           }
          ],
          "histogram": [
           {
            "marker": {
             "pattern": {
              "fillmode": "overlay",
              "size": 10,
              "solidity": 0.2
             }
            },
            "type": "histogram"
           }
          ],
          "histogram2d": [
           {
            "colorbar": {
             "outlinewidth": 0,
             "ticks": ""
            },
            "colorscale": [
             [
              0,
              "#0d0887"
             ],
             [
              0.1111111111111111,
              "#46039f"
             ],
             [
              0.2222222222222222,
              "#7201a8"
             ],
             [
              0.3333333333333333,
              "#9c179e"
             ],
             [
              0.4444444444444444,
              "#bd3786"
             ],
             [
              0.5555555555555556,
              "#d8576b"
             ],
             [
              0.6666666666666666,
              "#ed7953"
             ],
             [
              0.7777777777777778,
              "#fb9f3a"
             ],
             [
              0.8888888888888888,
              "#fdca26"
             ],
             [
              1,
              "#f0f921"
             ]
            ],
            "type": "histogram2d"
           }
          ],
          "histogram2dcontour": [
           {
            "colorbar": {
             "outlinewidth": 0,
             "ticks": ""
            },
            "colorscale": [
             [
              0,
              "#0d0887"
             ],
             [
              0.1111111111111111,
              "#46039f"
             ],
             [
              0.2222222222222222,
              "#7201a8"
             ],
             [
              0.3333333333333333,
              "#9c179e"
             ],
             [
              0.4444444444444444,
              "#bd3786"
             ],
             [
              0.5555555555555556,
              "#d8576b"
             ],
             [
              0.6666666666666666,
              "#ed7953"
             ],
             [
              0.7777777777777778,
              "#fb9f3a"
             ],
             [
              0.8888888888888888,
              "#fdca26"
             ],
             [
              1,
              "#f0f921"
             ]
            ],
            "type": "histogram2dcontour"
           }
          ],
          "mesh3d": [
           {
            "colorbar": {
             "outlinewidth": 0,
             "ticks": ""
            },
            "type": "mesh3d"
           }
          ],
          "parcoords": [
           {
            "line": {
             "colorbar": {
              "outlinewidth": 0,
              "ticks": ""
             }
            },
            "type": "parcoords"
           }
          ],
          "pie": [
           {
            "automargin": true,
            "type": "pie"
           }
          ],
          "scatter": [
           {
            "marker": {
             "colorbar": {
              "outlinewidth": 0,
              "ticks": ""
             }
            },
            "type": "scatter"
           }
          ],
          "scatter3d": [
           {
            "line": {
             "colorbar": {
              "outlinewidth": 0,
              "ticks": ""
             }
            },
            "marker": {
             "colorbar": {
              "outlinewidth": 0,
              "ticks": ""
             }
            },
            "type": "scatter3d"
           }
          ],
          "scattercarpet": [
           {
            "marker": {
             "colorbar": {
              "outlinewidth": 0,
              "ticks": ""
             }
            },
            "type": "scattercarpet"
           }
          ],
          "scattergeo": [
           {
            "marker": {
             "colorbar": {
              "outlinewidth": 0,
              "ticks": ""
             }
            },
            "type": "scattergeo"
           }
          ],
          "scattergl": [
           {
            "marker": {
             "colorbar": {
              "outlinewidth": 0,
              "ticks": ""
             }
            },
            "type": "scattergl"
           }
          ],
          "scattermapbox": [
           {
            "marker": {
             "colorbar": {
              "outlinewidth": 0,
              "ticks": ""
             }
            },
            "type": "scattermapbox"
           }
          ],
          "scatterpolar": [
           {
            "marker": {
             "colorbar": {
              "outlinewidth": 0,
              "ticks": ""
             }
            },
            "type": "scatterpolar"
           }
          ],
          "scatterpolargl": [
           {
            "marker": {
             "colorbar": {
              "outlinewidth": 0,
              "ticks": ""
             }
            },
            "type": "scatterpolargl"
           }
          ],
          "scatterternary": [
           {
            "marker": {
             "colorbar": {
              "outlinewidth": 0,
              "ticks": ""
             }
            },
            "type": "scatterternary"
           }
          ],
          "surface": [
           {
            "colorbar": {
             "outlinewidth": 0,
             "ticks": ""
            },
            "colorscale": [
             [
              0,
              "#0d0887"
             ],
             [
              0.1111111111111111,
              "#46039f"
             ],
             [
              0.2222222222222222,
              "#7201a8"
             ],
             [
              0.3333333333333333,
              "#9c179e"
             ],
             [
              0.4444444444444444,
              "#bd3786"
             ],
             [
              0.5555555555555556,
              "#d8576b"
             ],
             [
              0.6666666666666666,
              "#ed7953"
             ],
             [
              0.7777777777777778,
              "#fb9f3a"
             ],
             [
              0.8888888888888888,
              "#fdca26"
             ],
             [
              1,
              "#f0f921"
             ]
            ],
            "type": "surface"
           }
          ],
          "table": [
           {
            "cells": {
             "fill": {
              "color": "#EBF0F8"
             },
             "line": {
              "color": "white"
             }
            },
            "header": {
             "fill": {
              "color": "#C8D4E3"
             },
             "line": {
              "color": "white"
             }
            },
            "type": "table"
           }
          ]
         },
         "layout": {
          "annotationdefaults": {
           "arrowcolor": "#2a3f5f",
           "arrowhead": 0,
           "arrowwidth": 1
          },
          "autotypenumbers": "strict",
          "coloraxis": {
           "colorbar": {
            "outlinewidth": 0,
            "ticks": ""
           }
          },
          "colorscale": {
           "diverging": [
            [
             0,
             "#8e0152"
            ],
            [
             0.1,
             "#c51b7d"
            ],
            [
             0.2,
             "#de77ae"
            ],
            [
             0.3,
             "#f1b6da"
            ],
            [
             0.4,
             "#fde0ef"
            ],
            [
             0.5,
             "#f7f7f7"
            ],
            [
             0.6,
             "#e6f5d0"
            ],
            [
             0.7,
             "#b8e186"
            ],
            [
             0.8,
             "#7fbc41"
            ],
            [
             0.9,
             "#4d9221"
            ],
            [
             1,
             "#276419"
            ]
           ],
           "sequential": [
            [
             0,
             "#0d0887"
            ],
            [
             0.1111111111111111,
             "#46039f"
            ],
            [
             0.2222222222222222,
             "#7201a8"
            ],
            [
             0.3333333333333333,
             "#9c179e"
            ],
            [
             0.4444444444444444,
             "#bd3786"
            ],
            [
             0.5555555555555556,
             "#d8576b"
            ],
            [
             0.6666666666666666,
             "#ed7953"
            ],
            [
             0.7777777777777778,
             "#fb9f3a"
            ],
            [
             0.8888888888888888,
             "#fdca26"
            ],
            [
             1,
             "#f0f921"
            ]
           ],
           "sequentialminus": [
            [
             0,
             "#0d0887"
            ],
            [
             0.1111111111111111,
             "#46039f"
            ],
            [
             0.2222222222222222,
             "#7201a8"
            ],
            [
             0.3333333333333333,
             "#9c179e"
            ],
            [
             0.4444444444444444,
             "#bd3786"
            ],
            [
             0.5555555555555556,
             "#d8576b"
            ],
            [
             0.6666666666666666,
             "#ed7953"
            ],
            [
             0.7777777777777778,
             "#fb9f3a"
            ],
            [
             0.8888888888888888,
             "#fdca26"
            ],
            [
             1,
             "#f0f921"
            ]
           ]
          },
          "colorway": [
           "#636efa",
           "#EF553B",
           "#00cc96",
           "#ab63fa",
           "#FFA15A",
           "#19d3f3",
           "#FF6692",
           "#B6E880",
           "#FF97FF",
           "#FECB52"
          ],
          "font": {
           "color": "#2a3f5f"
          },
          "geo": {
           "bgcolor": "white",
           "lakecolor": "white",
           "landcolor": "#E5ECF6",
           "showlakes": true,
           "showland": true,
           "subunitcolor": "white"
          },
          "hoverlabel": {
           "align": "left"
          },
          "hovermode": "closest",
          "mapbox": {
           "style": "light"
          },
          "paper_bgcolor": "white",
          "plot_bgcolor": "#E5ECF6",
          "polar": {
           "angularaxis": {
            "gridcolor": "white",
            "linecolor": "white",
            "ticks": ""
           },
           "bgcolor": "#E5ECF6",
           "radialaxis": {
            "gridcolor": "white",
            "linecolor": "white",
            "ticks": ""
           }
          },
          "scene": {
           "xaxis": {
            "backgroundcolor": "#E5ECF6",
            "gridcolor": "white",
            "gridwidth": 2,
            "linecolor": "white",
            "showbackground": true,
            "ticks": "",
            "zerolinecolor": "white"
           },
           "yaxis": {
            "backgroundcolor": "#E5ECF6",
            "gridcolor": "white",
            "gridwidth": 2,
            "linecolor": "white",
            "showbackground": true,
            "ticks": "",
            "zerolinecolor": "white"
           },
           "zaxis": {
            "backgroundcolor": "#E5ECF6",
            "gridcolor": "white",
            "gridwidth": 2,
            "linecolor": "white",
            "showbackground": true,
            "ticks": "",
            "zerolinecolor": "white"
           }
          },
          "shapedefaults": {
           "line": {
            "color": "#2a3f5f"
           }
          },
          "ternary": {
           "aaxis": {
            "gridcolor": "white",
            "linecolor": "white",
            "ticks": ""
           },
           "baxis": {
            "gridcolor": "white",
            "linecolor": "white",
            "ticks": ""
           },
           "bgcolor": "#E5ECF6",
           "caxis": {
            "gridcolor": "white",
            "linecolor": "white",
            "ticks": ""
           }
          },
          "title": {
           "x": 0.05
          },
          "xaxis": {
           "automargin": true,
           "gridcolor": "white",
           "linecolor": "white",
           "ticks": "",
           "title": {
            "standoff": 15
           },
           "zerolinecolor": "white",
           "zerolinewidth": 2
          },
          "yaxis": {
           "automargin": true,
           "gridcolor": "white",
           "linecolor": "white",
           "ticks": "",
           "title": {
            "standoff": 15
           },
           "zerolinecolor": "white",
           "zerolinewidth": 2
          }
         }
        }
       }
      }
     },
     "metadata": {},
     "output_type": "display_data"
    }
   ],
   "source": [
    "import plotly.express as px\n",
    "prediccion= 1200\n",
    "salida_llegada=0\n",
    "day=0\n",
    "hora=7\n",
    "\n",
    "dicSalidaLlegada={0:'prediccion_llegada', 1:'prediccion_salida' }\n",
    "filt=a[(a['dayofweek']==day)&(a['hour']==hora)]\n",
    "\n",
    "filt['prediccion_llegada']= filt['viajes_llegada%']*prediccion\n",
    "filt['prediccion_salida']= filt['viajes_salida%']*prediccion\n",
    "\n",
    "fig = px.scatter_mapbox(filt, lat=\"Latitud\", lon=\"Longitud\",   size=dicSalidaLlegada[salida_llegada], \n",
    "                        zoom = 12, color_discrete_sequence=px.colors.qualitative.Prism, )\n",
    "            #color_discrete_sequence=[to_hex(c) for c in sns.color_palette('colorblind', 15)])\n",
    "# fig.update_traces(hovertemplate=None)\n",
    "\n",
    "fig.update_layout(\n",
    "    \n",
    "    #autosize=True,\n",
    "    showlegend=True,\n",
    "\n",
    "    height = 650,\n",
    "    mapbox=dict(\n",
    "    bearing=0,\n",
    "    center=dict(\n",
    "        lat=40.435,\n",
    "        lon=-3.69\n",
    "    ),\n",
    "    zoom=11.5,\n",
    "    style= 'carto-positron' # 'open-street-map'\n",
    "    ),\n",
    "    legend=dict(orientation=\"h\",yanchor=\"bottom\",y=1.02,xanchor=\"right\",x=1),\n",
    "    margin=dict(l=1,r=1, b=10,t=20,pad = 5),\n",
    "    hoverlabel_align = 'right'\n",
    "    )\n",
    "fig.show()"
   ]
  },
  {
   "cell_type": "code",
   "execution_count": null,
   "metadata": {},
   "outputs": [],
   "source": []
  }
 ],
 "metadata": {
  "kernelspec": {
   "display_name": "Python 3.8.8 ('base')",
   "language": "python",
   "name": "python3"
  },
  "language_info": {
   "codemirror_mode": {
    "name": "ipython",
    "version": 3
   },
   "file_extension": ".py",
   "mimetype": "text/x-python",
   "name": "python",
   "nbconvert_exporter": "python",
   "pygments_lexer": "ipython3",
   "version": "3.8.8"
  },
  "orig_nbformat": 4,
  "vscode": {
   "interpreter": {
    "hash": "9fef7a30f113eaa53eb8b5c309fb488b4423c5d8965bf87e9ef8b3198259acb6"
   }
  }
 },
 "nbformat": 4,
 "nbformat_minor": 2
}
