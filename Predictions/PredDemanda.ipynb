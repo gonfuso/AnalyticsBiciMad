{
 "cells": [
  {
   "cell_type": "markdown",
   "id": "f1ad0826",
   "metadata": {},
   "source": [
    "# Demand Prediction\n",
    "### Resources: \n",
    "- **Prohet**: \n",
    "    - https://machinelearningmastery.com/time-series-forecasting-with-prophet-in-python/\n",
    "    - https://facebook.github.io/prophet/docs/seasonality,_holiday_effects,_and_regressors.html#additional-regressors\n",
    "    - https://facebook.github.io/prophet/docs/quick_start.html\n",
    "- **Recursive autoregressive forecast**:\n",
    "    - https://www.cienciadedatos.net/documentos/py27-time-series-forecasting-python-scikitlearn.html\n",
    "- **Neural Prophet**: \n",
    "    - https://www.kaggle.com/code/ohseokkim/predicting-future-by-lstm-prophet-neural-prophet\n",
    "    - https://bobrupakroy.medium.com/neural-prophet-for-time-series-27bfeeaa5c7d"
   ]
  },
  {
   "cell_type": "markdown",
   "id": "e132c0fc",
   "metadata": {},
   "source": [
    "### Import libraries"
   ]
  },
  {
   "cell_type": "code",
   "execution_count": 3,
   "id": "eaf83944",
   "metadata": {},
   "outputs": [],
   "source": [
    "import pandas as pd\n",
    "import numpy as np\n",
    "import plotly.graph_objects as go\n",
    "from matplotlib import pyplot\n",
    "from sklearn.metrics import mean_squared_error, mean_absolute_error\n",
    "from statsmodels.tsa.seasonal import seasonal_decompose\n",
    "import matplotlib.pyplot as plt\n",
    "from statsmodels.graphics.tsaplots import plot_acf, plot_pacf\n",
    "import pickle\n",
    "\n",
    "# Prophet\n",
    "from fbprophet import Prophet\n",
    "from prophet.plot import plot_plotly, plot_components_plotly,plot_forecast_component, plot_yearly\n",
    "\n",
    "# Neural Prophet\n",
    "from neuralprophet import NeuralProphet\n",
    "\n",
    "# Recursive autoregressive forecasting\n",
    "from skforecast.ForecasterAutoreg import ForecasterAutoreg\n",
    "from skforecast.ForecasterAutoregCustom import ForecasterAutoregCustom\n",
    "from sklearn.ensemble import RandomForestRegressor\n",
    "from skforecast.model_selection import grid_search_forecaster\n",
    "from skforecast.model_selection import backtesting_forecaster"
   ]
  },
  {
   "cell_type": "markdown",
   "id": "ca3ead7b",
   "metadata": {},
   "source": [
    "### Import data"
   ]
  },
  {
   "cell_type": "code",
   "execution_count": 4,
   "id": "d3296b16",
   "metadata": {},
   "outputs": [
    {
     "data": {
      "text/html": [
       "<div>\n",
       "<style scoped>\n",
       "    .dataframe tbody tr th:only-of-type {\n",
       "        vertical-align: middle;\n",
       "    }\n",
       "\n",
       "    .dataframe tbody tr th {\n",
       "        vertical-align: top;\n",
       "    }\n",
       "\n",
       "    .dataframe thead th {\n",
       "        text-align: right;\n",
       "    }\n",
       "</style>\n",
       "<table border=\"1\" class=\"dataframe\">\n",
       "  <thead>\n",
       "    <tr style=\"text-align: right;\">\n",
       "      <th></th>\n",
       "      <th>unplug_hourTime</th>\n",
       "      <th>Count</th>\n",
       "    </tr>\n",
       "  </thead>\n",
       "  <tbody>\n",
       "    <tr>\n",
       "      <th>259</th>\n",
       "      <td>2019-08-01 00:00:00+00:00</td>\n",
       "      <td>136</td>\n",
       "    </tr>\n",
       "    <tr>\n",
       "      <th>260</th>\n",
       "      <td>2019-08-01 01:00:00+00:00</td>\n",
       "      <td>74</td>\n",
       "    </tr>\n",
       "    <tr>\n",
       "      <th>261</th>\n",
       "      <td>2019-08-01 02:00:00+00:00</td>\n",
       "      <td>66</td>\n",
       "    </tr>\n",
       "    <tr>\n",
       "      <th>262</th>\n",
       "      <td>2019-08-01 03:00:00+00:00</td>\n",
       "      <td>52</td>\n",
       "    </tr>\n",
       "    <tr>\n",
       "      <th>263</th>\n",
       "      <td>2019-08-01 04:00:00+00:00</td>\n",
       "      <td>100</td>\n",
       "    </tr>\n",
       "  </tbody>\n",
       "</table>\n",
       "</div>"
      ],
      "text/plain": [
       "              unplug_hourTime  Count\n",
       "259 2019-08-01 00:00:00+00:00    136\n",
       "260 2019-08-01 01:00:00+00:00     74\n",
       "261 2019-08-01 02:00:00+00:00     66\n",
       "262 2019-08-01 03:00:00+00:00     52\n",
       "263 2019-08-01 04:00:00+00:00    100"
      ]
     },
     "execution_count": 4,
     "metadata": {},
     "output_type": "execute_result"
    }
   ],
   "source": [
    "itinerarios = pd.read_csv('../Data/Itinerarios/itinerarios_bases.csv',index_col=0, dtype={'zip_code': 'str'})\n",
    "\n",
    "# No incluimos en el modelo de predicción los movimientos realizados por empleados de bicimad (user_type==3)\n",
    "itinerarios1 = itinerarios[itinerarios[\"user_type\"]!= 3]\n",
    "# Solo incluimos en el modelo aquellos movimientos que duran más de 5 minutos (no se ha cogido una bici defectuosa) y menos de 1 dia (no se ha perdido)\n",
    "itinerarios1 = itinerarios1[itinerarios1[\"status\"] == \"short_rental\"]\n",
    "\n",
    "# Contamos demanda por hora y día\n",
    "itinerarios2 = itinerarios1[[\"unplug_hourTime\"]]\n",
    "itinerarios3 = itinerarios2.groupby(\"unplug_hourTime\").size().reset_index(name='Count')\n",
    "itinerarios3[\"unplug_hourTime\"] = pd.to_datetime(itinerarios3[\"unplug_hourTime\"])\n",
    "itinerarios4 = itinerarios3[itinerarios3[\"unplug_hourTime\"].dt.tz_localize(None) >= pd.to_datetime('20190801')]\n",
    "itinerarios4.head()"
   ]
  },
  {
   "cell_type": "markdown",
   "id": "b50c8ab4",
   "metadata": {},
   "source": [
    "En itinerarios5 se guarda el df de la demanda por día y hora, añadiendo las variables dayofweek, typeofday, hour"
   ]
  },
  {
   "cell_type": "code",
   "execution_count": 5,
   "id": "23c4fee4",
   "metadata": {},
   "outputs": [
    {
     "data": {
      "text/html": [
       "<div>\n",
       "<style scoped>\n",
       "    .dataframe tbody tr th:only-of-type {\n",
       "        vertical-align: middle;\n",
       "    }\n",
       "\n",
       "    .dataframe tbody tr th {\n",
       "        vertical-align: top;\n",
       "    }\n",
       "\n",
       "    .dataframe thead th {\n",
       "        text-align: right;\n",
       "    }\n",
       "</style>\n",
       "<table border=\"1\" class=\"dataframe\">\n",
       "  <thead>\n",
       "    <tr style=\"text-align: right;\">\n",
       "      <th></th>\n",
       "      <th>unplug_hourTime</th>\n",
       "      <th>Count</th>\n",
       "      <th>dayofweek</th>\n",
       "      <th>hour</th>\n",
       "      <th>typeofday</th>\n",
       "    </tr>\n",
       "  </thead>\n",
       "  <tbody>\n",
       "    <tr>\n",
       "      <th>259</th>\n",
       "      <td>2019-08-01 00:00:00+00:00</td>\n",
       "      <td>136</td>\n",
       "      <td>3</td>\n",
       "      <td>0</td>\n",
       "      <td>workingday</td>\n",
       "    </tr>\n",
       "    <tr>\n",
       "      <th>260</th>\n",
       "      <td>2019-08-01 01:00:00+00:00</td>\n",
       "      <td>74</td>\n",
       "      <td>3</td>\n",
       "      <td>1</td>\n",
       "      <td>workingday</td>\n",
       "    </tr>\n",
       "    <tr>\n",
       "      <th>261</th>\n",
       "      <td>2019-08-01 02:00:00+00:00</td>\n",
       "      <td>66</td>\n",
       "      <td>3</td>\n",
       "      <td>2</td>\n",
       "      <td>workingday</td>\n",
       "    </tr>\n",
       "    <tr>\n",
       "      <th>262</th>\n",
       "      <td>2019-08-01 03:00:00+00:00</td>\n",
       "      <td>52</td>\n",
       "      <td>3</td>\n",
       "      <td>3</td>\n",
       "      <td>workingday</td>\n",
       "    </tr>\n",
       "    <tr>\n",
       "      <th>263</th>\n",
       "      <td>2019-08-01 04:00:00+00:00</td>\n",
       "      <td>100</td>\n",
       "      <td>3</td>\n",
       "      <td>4</td>\n",
       "      <td>workingday</td>\n",
       "    </tr>\n",
       "  </tbody>\n",
       "</table>\n",
       "</div>"
      ],
      "text/plain": [
       "              unplug_hourTime  Count  dayofweek  hour   typeofday\n",
       "259 2019-08-01 00:00:00+00:00    136          3     0  workingday\n",
       "260 2019-08-01 01:00:00+00:00     74          3     1  workingday\n",
       "261 2019-08-01 02:00:00+00:00     66          3     2  workingday\n",
       "262 2019-08-01 03:00:00+00:00     52          3     3  workingday\n",
       "263 2019-08-01 04:00:00+00:00    100          3     4  workingday"
      ]
     },
     "execution_count": 5,
     "metadata": {},
     "output_type": "execute_result"
    }
   ],
   "source": [
    "# Day of week Monday=0, Sunday=6.\n",
    "itinerarios5 = itinerarios4.copy()\n",
    "itinerarios5[\"dayofweek\"]  = itinerarios5[\"unplug_hourTime\"].dt.dayofweek\n",
    "itinerarios5[\"hour\"]  = itinerarios5[\"unplug_hourTime\"].dt.hour\n",
    "conditions = [\n",
    "    (itinerarios5['dayofweek'] <= 3),\n",
    "    (itinerarios5['dayofweek'] == 4),\n",
    "    (itinerarios5['dayofweek'] == 5) | (itinerarios5['dayofweek'] == 6)\n",
    "    ]\n",
    "values = ['workingday', 'friday', 'weekend']\n",
    "\n",
    "itinerarios5[\"typeofday\"]  = np.select(conditions, values)\n",
    "itinerarios5.head()"
   ]
  },
  {
   "cell_type": "markdown",
   "id": "84007c6d",
   "metadata": {},
   "source": [
    "itinerarios6 es el df usado para predecir con prophet. Las variables del tiempo y la demanda se convierten en ds e y, repsecitvamente para que pueda ser procesado por el modelo"
   ]
  },
  {
   "cell_type": "code",
   "execution_count": 6,
   "id": "9be3a9c2",
   "metadata": {},
   "outputs": [
    {
     "data": {
      "text/html": [
       "<div>\n",
       "<style scoped>\n",
       "    .dataframe tbody tr th:only-of-type {\n",
       "        vertical-align: middle;\n",
       "    }\n",
       "\n",
       "    .dataframe tbody tr th {\n",
       "        vertical-align: top;\n",
       "    }\n",
       "\n",
       "    .dataframe thead th {\n",
       "        text-align: right;\n",
       "    }\n",
       "</style>\n",
       "<table border=\"1\" class=\"dataframe\">\n",
       "  <thead>\n",
       "    <tr style=\"text-align: right;\">\n",
       "      <th></th>\n",
       "      <th>ds</th>\n",
       "      <th>y</th>\n",
       "    </tr>\n",
       "  </thead>\n",
       "  <tbody>\n",
       "    <tr>\n",
       "      <th>259</th>\n",
       "      <td>2019-08-01 00:00:00</td>\n",
       "      <td>136</td>\n",
       "    </tr>\n",
       "    <tr>\n",
       "      <th>260</th>\n",
       "      <td>2019-08-01 01:00:00</td>\n",
       "      <td>74</td>\n",
       "    </tr>\n",
       "    <tr>\n",
       "      <th>261</th>\n",
       "      <td>2019-08-01 02:00:00</td>\n",
       "      <td>66</td>\n",
       "    </tr>\n",
       "    <tr>\n",
       "      <th>262</th>\n",
       "      <td>2019-08-01 03:00:00</td>\n",
       "      <td>52</td>\n",
       "    </tr>\n",
       "    <tr>\n",
       "      <th>263</th>\n",
       "      <td>2019-08-01 04:00:00</td>\n",
       "      <td>100</td>\n",
       "    </tr>\n",
       "  </tbody>\n",
       "</table>\n",
       "</div>"
      ],
      "text/plain": [
       "                     ds    y\n",
       "259 2019-08-01 00:00:00  136\n",
       "260 2019-08-01 01:00:00   74\n",
       "261 2019-08-01 02:00:00   66\n",
       "262 2019-08-01 03:00:00   52\n",
       "263 2019-08-01 04:00:00  100"
      ]
     },
     "execution_count": 6,
     "metadata": {},
     "output_type": "execute_result"
    }
   ],
   "source": [
    "itinerarios6 = itinerarios4.copy()\n",
    "itinerarios6.columns = ['ds', 'y']\n",
    "#itinerarios6[\"ds\"] = pd.to_datetime(itinerarios6[\"ds\"])\n",
    "itinerarios6[\"ds\"] = itinerarios6[\"ds\"].dt.tz_localize(None)\n",
    "itinerarios6.head()"
   ]
  },
  {
   "cell_type": "markdown",
   "id": "8a3d43a8",
   "metadata": {},
   "source": [
    "### Prophet"
   ]
  },
  {
   "cell_type": "code",
   "execution_count": null,
   "id": "8d918065",
   "metadata": {},
   "outputs": [],
   "source": []
  }
 ],
 "metadata": {
  "kernelspec": {
   "display_name": "Python 3",
   "language": "python",
   "name": "python3"
  },
  "language_info": {
   "codemirror_mode": {
    "name": "ipython",
    "version": 3
   },
   "file_extension": ".py",
   "mimetype": "text/x-python",
   "name": "python",
   "nbconvert_exporter": "python",
   "pygments_lexer": "ipython3",
   "version": "3.8.5"
  }
 },
 "nbformat": 4,
 "nbformat_minor": 5
}
