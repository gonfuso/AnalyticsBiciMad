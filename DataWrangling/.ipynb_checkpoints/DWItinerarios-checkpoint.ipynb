{
 "cells": [
  {
   "cell_type": "markdown",
   "metadata": {},
   "source": [
    "# **DATA WRANGLING ITINERARIOS**\n",
    "This file attemps to gather, collect, and transform the movements raw dataset from the source attached below in order to analyse the data avilable and proceed with it. Data collected dates July 2019 to December 2019 (pre-covid). The following processes will be dealt with:\n",
    "\n",
    "1. Reading the .json files and transforming variables\n",
    "2. Data exploration\n",
    "3. Reshaping data\n",
    "4. Filtering data\n",
    "\n",
    "<u>Source</u>: https://datos.madrid.es/portal/site/egob/menuitem.c05c1f754a33a9fbe4b2e4b284f1a5a0/?vgnextoid=d67921bb86e64610VgnVCM2000001f4a900aRCRD&vgnextchannel=374512b9ace9f310VgnVCM100000171f5a0aRCRD&vgnextfmt=default\n",
    "\n",
    "<u>Folder</u>: Datos de uso entre julio y diciembre de 2019"
   ]
  },
  {
   "cell_type": "markdown",
   "metadata": {},
   "source": [
    "#### **LIBRARIES**"
   ]
  },
  {
   "cell_type": "code",
   "execution_count": null,
   "metadata": {},
   "outputs": [],
   "source": [
    "import pandas as pd \n",
    "import json\n",
    "import plotly.graph_objects as go\n",
    "import plotly.express as px\n",
    "import numpy as np\n",
    "from datetime import datetime, timedelta\n",
    "from plotly.subplots import make_subplots"
   ]
  },
  {
   "cell_type": "markdown",
   "metadata": {},
   "source": [
    "### **1. READ DATA and VARIABLE TRANSFORMATION**\n",
    "**Dataset**: 2019XX_movements.json (X stands for the month number)    \n",
    "\n",
    "**Description**: Dataset of the use of the electric bicycle service of the Madrid City Council.\n",
    "\n",
    "**Dataframe size**: Observations froom july to december total 1,862,981 timestamps are colected with information on 9 variables. \n",
    "\n",
    "**Variables**:\n",
    "- **_id**: Identificador del movimiento.\n",
    "- **user_day_code**: Código del usuario. Para una misma fecha, todos los movimientos de un mismo usuario, tendrán el mismo código, con el fin de poder realizar estudios estadísticos de las tendencias diarias de los usuarios.\n",
    "- **idunplug_station**: Número de la estación de la que se desengancha la bicicleta.\n",
    "- **idunplug_base**: Número de la base de la que se desengancha la bicicleta.\n",
    "- **idplug_station**: Número de la estación en la que se engancha la bicicleta.\n",
    "- **idplug_base**: Número de la base en la que se engancha la bicicleta.\n",
    "- **unplug_hourTime**: Franja horaria en la que se realiza el desenganche de la bicicleta. Se facilita la hora de inicio del movimiento, sin la información de minutos y segundos. Todos los movimientos iniciados durante la misma hora, tendrán el mismo dato de inicio.\n",
    "- **travel_time**: Tiempo total en segundos, entre el desenganche y el enganche de la bicicleta.\n",
    "- **track**: Detalle del trayecto realizado por la bicicleta entre la estación de partida y la de destino, en formato GeoJSON. Si existe, contendrá un elemento \"FeatureCollection\" que a su vez contendrá un elemento \"Features\" de tipo lista. Cada elemento de dicha lista consistirá en la información de un punto del trayecto y tendrá el siguiente formato:\n",
    "    * **geometry**: Indica la posición de la bicicleta y contiene:\n",
    "        - **type**: Tipo de la posición. Su valor siempre será \"Point\".\n",
    "        - **coordinates**: Coordenadas de longitud y latitud de la posición.\n",
    "    * **type**: tipo de elemento. Su valor siempre será \"Feature\".\n",
    "    * **properties**: Indica las propiedades adicionales de la posición y contiene:\n",
    "        - **var**: Texto con la dirección de la posición.\n",
    "        - **speed**: Velocidad de la bicicleta en el momento de generarse el dato.\n",
    "        - **secondsfromstart**: Segundos transcurridos desde el desenganche de la bicicleta hasta el momento de generarse el dato. Por cuestiones de anonimato, se facilitan tiempos relativos en lugar de marcas de tiempo.\n",
    "- **user_type**: Número que indica el tipo de usuario que ha realizado el movimiento. Sus posibles valores son:\n",
    "    - 0: No se ha podido determinar el tipo de usuario\n",
    "    - 1: Usuario anual (poseedor de un pase anual)\n",
    "    - 2: Usuario ocasional\n",
    "    - 3: Trabajador de la empresa\n",
    "- **ageRange**: Número que indica el rango de edad del usuario que ha realizado el movimiento. Sus posibles valores son:\n",
    "    - 0: No se ha podido determinar el rango de edad del usuario\n",
    "    - 1: El usuario tiene entre 0 y 16 años\n",
    "    - 2: El usuario tiene entre 17 y 18 años\n",
    "    - 3: El usuario tiene entre 19 y 26 años\n",
    "    - 4: El usuario tiene entre 27 y 40 años\n",
    "    - 5: El usuario tiene entre 41 y 65 años\n",
    "    - 6: El usuario tiene 66 años o más\n",
    "- **zip_code**: Texto que indica el código postal del usuario que ha realizado el movimiento. "
   ]
  },
  {
   "cell_type": "code",
   "execution_count": null,
   "metadata": {},
   "outputs": [],
   "source": [
    "itinerarios_list = [\"201907\", \"201908\", \"201909\", \"201910\", \"201911\", \"201912\"]\n",
    "\n",
    "itinerarios = pd.DataFrame()\n",
    "\n",
    "for i in itinerarios_list:\n",
    "    data = []\n",
    "    with open('../Data/Itinerarios/'+i+'_movements.json','r') as f:\n",
    "        for line in f:\n",
    "            data.append(json.loads(line))\n",
    "\n",
    "    df_i = pd.json_normalize(\n",
    "        data, \n",
    "        meta=['_id']\n",
    "    )\n",
    "    # Convert _id to format date\n",
    "    df_i[\"unplug_hourTime\"] = pd.to_datetime(df_i[\"unplug_hourTime\"])\n",
    "    # Dorp column id of the base\n",
    "    itinerarios = pd.concat( [itinerarios, df_i.drop(columns=[\"user_day_code\", \"_id.$oid\"])], ignore_index=True, axis=0)\n",
    "\n",
    "itinerarios.head()"
   ]
  },
  {
   "cell_type": "code",
   "execution_count": null,
   "metadata": {},
   "outputs": [],
   "source": [
    "itinerarios.shape"
   ]
  },
  {
   "cell_type": "markdown",
   "metadata": {},
   "source": [
    "**Variables type check**:"
   ]
  },
  {
   "cell_type": "code",
   "execution_count": null,
   "metadata": {},
   "outputs": [],
   "source": [
    "itinerarios.dtypes"
   ]
  },
  {
   "cell_type": "markdown",
   "metadata": {},
   "source": [
    "Convert variables user_type, age_range, idplug_station, idunplug_station, idunplug_base and idplug_base to categorical"
   ]
  },
  {
   "cell_type": "code",
   "execution_count": null,
   "metadata": {},
   "outputs": [],
   "source": [
    "itinerarios['user_type'] = itinerarios['user_type'].apply(str)\n",
    "itinerarios['ageRange'] = itinerarios['ageRange'].apply(str)\n",
    "itinerarios['idplug_station']=itinerarios['idplug_station'].astype('str')\n",
    "itinerarios['idunplug_station']=itinerarios['idunplug_station'].astype('str')\n",
    "itinerarios['idunplug_base']=itinerarios['idunplug_base'].astype('str')\n",
    "itinerarios['idplug_base']=itinerarios['idplug_base'].astype('str')"
   ]
  },
  {
   "cell_type": "markdown",
   "metadata": {},
   "source": [
    "Create variable **return_date** by adding up the unplug_houtTime and the travel_time "
   ]
  },
  {
   "cell_type": "code",
   "execution_count": null,
   "metadata": {},
   "outputs": [],
   "source": [
    "itinerarios[\"return_date\"] = itinerarios[\"unplug_hourTime\"] + pd.to_timedelta(itinerarios[\"travel_time\"]/1440,'d')"
   ]
  },
  {
   "cell_type": "markdown",
   "metadata": {},
   "source": [
    "### **2. Exploring Data and Reshaping it**"
   ]
  },
  {
   "cell_type": "markdown",
   "metadata": {},
   "source": [
    "**user_type**: 93% of users are anual, 6% are employees and a 1% occasional"
   ]
  },
  {
   "cell_type": "code",
   "execution_count": null,
   "metadata": {},
   "outputs": [],
   "source": [
    "count_type = itinerarios[\"user_type\"].value_counts()/itinerarios.shape[0]\n",
    "labels_type = count_type.index\n",
    "fig = px.bar(itinerarios, x=count_type , y=labels_type, orientation='h', text=round(count_type,2) , title = \"<b>Distribución del tipo de usuario</b>\")\n",
    "fig.show()"
   ]
  },
  {
   "cell_type": "markdown",
   "metadata": {},
   "source": [
    "Most user have no determined **age**. \n",
    "- Strangely most of users who are between 0-16 years old are employees.\n",
    "- Users with a defined age are mainly 27-65 years old. This is the active population. \n",
    "- Occasional users are undefined"
   ]
  },
  {
   "cell_type": "code",
   "execution_count": null,
   "metadata": {},
   "outputs": [],
   "source": [
    "count_ages = itinerarios[\"ageRange\"].value_counts().sort_index()\n",
    "labels_ages = count_ages.index\n",
    "\n",
    "colors = [\"#0C4B76\", \"#1A6691\", \"#6BA79D\", \"#558C6C\", \"#EE860B\"]\n",
    "fig = go.Figure()\n",
    "\n",
    "for i in range (4):\n",
    "    fig.add_trace(go.Bar(\n",
    "        y=labels_ages,\n",
    "        x=itinerarios[itinerarios[\"user_type\"] == str(i)][\"ageRange\"].value_counts().sort_index() ,\n",
    "        name=i,\n",
    "        orientation='h',\n",
    "        marker=dict(\n",
    "            color=colors[i],\n",
    "            line=dict(color=colors[i], width=3)\n",
    "        )\n",
    "    ))\n",
    "\n",
    "fig.update_layout(barmode='stack', title = \"<b>Age Distribution</b> by type of user\")\n",
    "fig.show()"
   ]
  },
  {
   "cell_type": "markdown",
   "metadata": {},
   "source": [
    "**Travel time**: has many outliers. We explore this variable further.\n",
    "- There are users who don't return the bike within the same day\n",
    "- There are negative travel_times. This is considered as an error\n",
    "- 50% of the movements are returned in the range 7h30min and 17h30min\n",
    "- Most of the bikes that are returned "
   ]
  },
  {
   "cell_type": "code",
   "execution_count": null,
   "metadata": {},
   "outputs": [],
   "source": [
    "itinerarios.describe()"
   ]
  },
  {
   "cell_type": "code",
   "execution_count": null,
   "metadata": {},
   "outputs": [],
   "source": [
    "fig = px.histogram(itinerarios[(itinerarios[\"travel_time\"] <2880) & (itinerarios[\"travel_time\"] > 0) ], x=\"travel_time\", title = \"<b>Distribución de la duración del alquiler</b> limitando el tiempo entre 0 y 2 días\")\n",
    "fig.update_traces(marker_color = \"#0C4B76\")\n",
    "fig.show()"
   ]
  },
  {
   "cell_type": "markdown",
   "metadata": {},
   "source": [
    "To further explore variable **travel_time** we proceed to check what happens with bikes that are not returned before the data collection period. Are they lost?"
   ]
  },
  {
   "cell_type": "code",
   "execution_count": null,
   "metadata": {},
   "outputs": [],
   "source": [
    "itinerarios[\"lost\"] = np.where((pd.to_datetime(itinerarios[\"return_date\"]).dt.tz_localize(None) > pd.to_datetime('20200101')) & (pd.to_datetime(itinerarios[\"unplug_hourTime\"]).dt.tz_localize(None) < pd.to_datetime('20191231')) & (itinerarios[\"user_type\"] != '3'), True, False) \n",
    "itinerarios[\"lost\"].value_counts()"
   ]
  },
  {
   "cell_type": "code",
   "execution_count": null,
   "metadata": {},
   "outputs": [],
   "source": [
    "itinerarios[itinerarios[\"lost\"]==True]"
   ]
  },
  {
   "cell_type": "markdown",
   "metadata": {},
   "source": [
    "As it has just been demosntrated they are returned, they are not lost. "
   ]
  },
  {
   "cell_type": "code",
   "execution_count": null,
   "metadata": {},
   "outputs": [],
   "source": [
    "itinerarios = itinerarios.drop(columns=\"lost\")"
   ]
  },
  {
   "cell_type": "markdown",
   "metadata": {},
   "source": [
    "Create variable **status**:\n",
    "- **error**: travel time < 0\n",
    "- **change_bike**: travel time is >0 & <5 mins and the plug and unplug station is the same one\n",
    "- **repaired**: travel time is > 1 day and user type is an employee of BiciMAD (3)\n",
    "- **long_rental**: Rental > 1 day. Travel time > 1 day and user type is 1 or 2 (normal and occasional users)\n",
    "- **short_rental**: Rental < 1 day.travel time >5 & < 1 day"
   ]
  },
  {
   "cell_type": "code",
   "execution_count": null,
   "metadata": {},
   "outputs": [],
   "source": [
    "# lo dejo por si finalmente queremos incluir la variable lost\n",
    "#conditions = [\n",
    "#    (itinerarios['travel_time'] < 0 ),\n",
    "#    ((itinerarios['travel_time'] >= 0) & (itinerarios['travel_time'] < 5)) | ((itinerarios['travel_time'] >= 0) & (itinerarios['travel_time'] < 5) & (itinerarios['idplug_station'] == itinerarios['idunplug_station'])),\n",
    "#    (itinerarios['travel_time'] >= 5) & (itinerarios['travel_time'] <= 1440),\n",
    "#    (itinerarios['travel_time'] > 1440) & (itinerarios['user_type'] == '3'),\n",
    "#    (itinerarios['travel_time'] > 1440) & (itinerarios['lost'] == False) & (itinerarios['user_type'] != '3') , # >1 day rental\n",
    "#    (itinerarios['lost'] == True) #lost\n",
    "#]\n",
    "#conditions = [\n",
    "#    (itinerarios['travel_time'] < 0 ),\n",
    "#    ((itinerarios['travel_time'] >= 0) & (itinerarios['travel_time'] < 5)) | ((itinerarios['travel_time'] >= 0) & (itinerarios['travel_time'] < 5) & (itinerarios['idplug_station'] == itinerarios['idunplug_station'])),\n",
    "#    (itinerarios['travel_time'] >= 5) & (itinerarios['travel_time'] <= 1440),\n",
    "#    (itinerarios['travel_time'] > 1440) & (itinerarios['user_type'] == '3'),\n",
    "#    (itinerarios['travel_time'] > 1440) & (itinerarios['lost'] == False) & (itinerarios['user_type'] != '3') , # >1 day rental\n",
    "#    (itinerarios['lost'] == True) #lost\n",
    "#]\n",
    "#values = ['error', 'change_bike', 'successful', 'repaired', '>1_day_rental', 'lost']\n",
    "\n",
    "conditions = [\n",
    "    (itinerarios['travel_time'] < 0 ),\n",
    "    ((itinerarios['travel_time'] >= 0) & (itinerarios['travel_time'] < 5)) | ((itinerarios['travel_time'] >= 0) & (itinerarios['travel_time'] < 5) & (itinerarios['idplug_station'] == itinerarios['idunplug_station'])),\n",
    "    (itinerarios['travel_time'] >= 5) & (itinerarios['travel_time'] <= 1440),\n",
    "    (itinerarios['travel_time'] > 1440) & (itinerarios['user_type'] == '3'),\n",
    "    (itinerarios['travel_time'] > 1440) & (itinerarios['user_type'] != '3')\n",
    "]\n",
    "values = ['error', 'change_bike', 'short_rental', 'repaired', 'long_rental']\n",
    "itinerarios[\"status\"] =  np.select(conditions, values) \n",
    "itinerarios.head()"
   ]
  },
  {
   "cell_type": "code",
   "execution_count": null,
   "metadata": {},
   "outputs": [],
   "source": [
    "itinerarios[\"status\"].value_counts()"
   ]
  },
  {
   "cell_type": "code",
   "execution_count": null,
   "metadata": {},
   "outputs": [],
   "source": [
    "colors = [\"#0C4B76\", \"#1A6691\", \"#6BA79D\", \"#558C6C\", \"#EE860B\"]\n",
    "\n",
    "fig = go.Figure()\n",
    "\n",
    "for i in range (4):\n",
    "    fig.add_trace(go.Bar(\n",
    "        x=itinerarios[itinerarios[\"user_type\"] == str(i)][\"status\"].value_counts().sort_index() ,\n",
    "        y=itinerarios[itinerarios[\"user_type\"] == str(i)][\"status\"].value_counts().sort_index().index,\n",
    "        orientation='h',\n",
    "        marker=dict(\n",
    "            color=colors[i],\n",
    "            line=dict(color=colors[i], width=3)\n",
    "        )\n",
    "    ))\n",
    "\n",
    "fig.update_layout(barmode='stack', title = \"<b>Número de movimientos por estado</b> y tipo de usuario\")\n",
    "fig.show()"
   ]
  },
  {
   "cell_type": "code",
   "execution_count": null,
   "metadata": {},
   "outputs": [],
   "source": [
    "fig = make_subplots(rows=3, cols=2)\n",
    "fig.add_trace(\n",
    "    go.Box(x=itinerarios[itinerarios[\"status\"] == \"short_rental\"][\"travel_time\"], y=itinerarios[itinerarios[\"status\"] == \"short_rental\"][\"user_type\"], name=\"Short Rental\"), \n",
    "    row=1, col=1)\n",
    "fig.add_trace(\n",
    "    go.Box(x=itinerarios[itinerarios[\"status\"] == \"long_rental\"][\"travel_time\"], y=itinerarios[itinerarios[\"status\"] == \"long_rental\"][\"user_type\"], name=\"Long Rental\"), \n",
    "    row=1, col=2)\n",
    "fig.add_trace(\n",
    "    go.Box(x=itinerarios[itinerarios[\"status\"] == \"error\"][\"travel_time\"], y=itinerarios[itinerarios[\"status\"] == \"error\"][\"user_type\"], name=\"Error\"), \n",
    "    row=2, col=1)\n",
    "fig.add_trace(\n",
    "    go.Box(x=itinerarios[itinerarios[\"status\"] == \"change_bike\"][\"travel_time\"], y=itinerarios[itinerarios[\"status\"] == \"change_bike\"][\"user_type\"], name=\"Change Bike\"), \n",
    "    row=2, col=2)\n",
    "fig.add_trace(\n",
    "    go.Box(x=itinerarios[itinerarios[\"status\"] == \"repaired\"][\"travel_time\"], y=itinerarios[itinerarios[\"status\"] == \"repaired\"][\"user_type\"], name=\"Repaired\"), \n",
    "    row=3, col=1)\n",
    "fig.update_traces(orientation='h')\n",
    "fig.update_layout(title_text=\"<b>Distribución de tipos de usuario</b> por estado\")\n",
    "fig.show()"
   ]
  },
  {
   "cell_type": "markdown",
   "metadata": {},
   "source": [
    "Create variable with the number of the plug and unplug station: **Origen_destino**"
   ]
  },
  {
   "cell_type": "code",
   "execution_count": null,
   "metadata": {},
   "outputs": [],
   "source": [
    "itinerarios['Origen_destino']=itinerarios.apply(lambda x: x.idunplug_station+'-'+x.idplug_station, axis=1)"
   ]
  },
  {
   "cell_type": "code",
   "execution_count": null,
   "metadata": {},
   "outputs": [],
   "source": [
    "itinerarios.groupby('Origen_destino')['travel_time'].agg(['count', 'mean', 'max', 'min']).sort_values('count', ascending=False)"
   ]
  },
  {
   "cell_type": "markdown",
   "metadata": {},
   "source": [
    "#### Save data to CSV"
   ]
  },
  {
   "cell_type": "code",
   "execution_count": null,
   "metadata": {},
   "outputs": [],
   "source": [
    "itinerarios.to_csv('../Data/Itinerarios/itinerarios.csv')"
   ]
  },
  {
   "cell_type": "markdown",
   "metadata": {},
   "source": [
    "### **3. Reshape data**\n",
    "#### Join bases and itinerarios dataframes\n"
   ]
  },
  {
   "cell_type": "code",
   "execution_count": null,
   "metadata": {},
   "outputs": [],
   "source": [
    "\n",
    "\n",
    "bases= pd.read_csv(\"../Data/Bases/bases.csv\")"
   ]
  },
  {
   "cell_type": "markdown",
   "metadata": {},
   "source": [
    "Get the **plug** and **unplug** station data"
   ]
  },
  {
   "cell_type": "code",
   "execution_count": null,
   "metadata": {},
   "outputs": [],
   "source": [
    "cols_bases=['Número', 'Distrito', 'Barrio','Número de Plazas', 'Latitud', 'Longitud']\n",
    "cols_salida=[palabra+'_Salida' for palabra in cols_bases]\n",
    "cols_llegada=[palabra+'_Llegada' for palabra in cols_bases]\n",
    "\n",
    "bases['Número']=bases['Número'].astype('str')\n",
    "\n",
    "# Left join itinerarios and bases. Vbles idunplug_station and Número\n",
    "itinerarios_bases0=pd.merge(itinerarios, bases[cols_bases], how='left', left_on='idunplug_station', right_on='Número')\n",
    "itinerarios_bases0.rename(columns=dict(zip(cols_bases, cols_salida)), inplace=True)\n",
    "\n",
    "# Left join itinerarios and bases. Vbles idplug_station and Número\n",
    "itinerarios_bases=pd.merge(itinerarios_bases0, bases[cols_bases], how='left', left_on='idplug_station', right_on='Número')\n",
    "itinerarios_bases.rename(columns=dict(zip(cols_bases, cols_llegada)), inplace=True)\n",
    "\n",
    "itinerarios_bases.head()"
   ]
  },
  {
   "cell_type": "markdown",
   "metadata": {},
   "source": [
    "There are many NAs resulting from the join because of the Number of Station not being the same. We delete them. "
   ]
  },
  {
   "cell_type": "code",
   "execution_count": null,
   "metadata": {},
   "outputs": [],
   "source": [
    "itinerarios_bases.isna().sum()"
   ]
  },
  {
   "cell_type": "code",
   "execution_count": null,
   "metadata": {},
   "outputs": [],
   "source": [
    "a=itinerarios_bases[itinerarios_bases['Número_Salida'].isna()].idunplug_station.value_counts()\n",
    "for i in a.index: \n",
    "    print(\"-\"+str(i)+\"-\")"
   ]
  },
  {
   "cell_type": "code",
   "execution_count": null,
   "metadata": {},
   "outputs": [],
   "source": [
    "itinerarios_bases.drop(itinerarios_bases[itinerarios_bases['Número_Salida'].isna()].index, inplace=True)\n",
    "itinerarios_bases.drop(itinerarios_bases[itinerarios_bases['Número_Llegada'].isna()].index, inplace=True)\n",
    "itinerarios_bases.isna().sum()"
   ]
  },
  {
   "cell_type": "code",
   "execution_count": null,
   "metadata": {},
   "outputs": [],
   "source": [
    "itinerarios_bases.head()"
   ]
  },
  {
   "cell_type": "code",
   "execution_count": null,
   "metadata": {},
   "outputs": [],
   "source": [
    "itinerarios_bases.to_csv('../Data/Itinerarios/itinerarios_bases.csv')"
   ]
  },
  {
   "cell_type": "code",
   "execution_count": null,
   "metadata": {},
   "outputs": [],
   "source": [
    "itinerarios_bases=pd.read_csv('../Data/Itinerarios/itinerarios_bases.csv')\n",
    "\n",
    "itinerarios_bases.dtypes.index"
   ]
  },
  {
   "cell_type": "code",
   "execution_count": null,
   "metadata": {},
   "outputs": [],
   "source": [
    "itinerarios_bases.dtypes"
   ]
  },
  {
   "cell_type": "code",
   "execution_count": null,
   "metadata": {},
   "outputs": [],
   "source": [
    "cols_int = itinerarios_bases.select_dtypes([np.integer]).columns\n",
    "cols_int\n",
    "for i in cols_int: \n",
    "    itinerarios_bases[i]=pd.to_numeric(itinerarios_bases[i], downcast='integer')\n",
    "\n",
    "cols_float = itinerarios_bases.select_dtypes([np.float]).columns\n",
    "for i in cols_float:\n",
    "    itinerarios_bases[i]=pd.to_numeric(itinerarios_bases[i], downcast='float')\n",
    "itinerarios_bases.dtypes\n"
   ]
  },
  {
   "cell_type": "code",
   "execution_count": null,
   "metadata": {},
   "outputs": [],
   "source": [
    "itinerarios_bases.drop(columns='Unnamed: 0', axis=1, inplace=True)\n",
    "itinerarios_bases['zip_code']=itinerarios_bases['zip_code'].astype(str)\n",
    "itinerarios_bases.to_parquet('../Data/Itinerarios/itinerarios_bases.parquet')"
   ]
  },
  {
   "cell_type": "code",
   "execution_count": null,
   "metadata": {},
   "outputs": [],
   "source": [
    "itinerarios_bases=pd.read_parquet('../Data/Itinerarios/itinerarios_bases.parquet')\n",
    "\n"
   ]
  },
  {
   "cell_type": "code",
   "execution_count": null,
   "metadata": {},
   "outputs": [],
   "source": [
    "itinerarios_bases[itinerarios_bases['user_type'].isin([]) ]"
   ]
  },
  {
   "cell_type": "code",
   "execution_count": null,
   "metadata": {},
   "outputs": [],
   "source": [
    "data = [[6, -10]]\n",
    "  \n",
    "# Create the pandas DataFrame\n",
    "df = pd.DataFrame(data, columns=['lat', 'lon'])\n",
    "\n",
    "fig=px.scatter_mapbox(df,lon='lon', lat='lat' ,width = 500, height = 400)\n",
    "\n",
    "fig.update_layout(\n",
    "        title='Rutas más concurridas',\n",
    "        autosize=True,\n",
    "        hovermode='closest',\n",
    "        showlegend=True,\n",
    "        width = 500,\n",
    "        height = 500,\n",
    "        mapbox=dict(\n",
    "            bearing=0,\n",
    "            center=dict(\n",
    "                lat=40.425,\n",
    "                lon=-3.69\n",
    "            ),\n",
    "            zoom=11.3,\n",
    "            style= 'carto-positron' # 'open-street-map'\n",
    "            \n",
    "            )\n",
    "        )\n",
    "fig.show()\n"
   ]
  },
  {
   "cell_type": "code",
   "execution_count": null,
   "metadata": {},
   "outputs": [],
   "source": [
    "import sys\n",
    "print(sys.executable)"
   ]
  },
  {
   "cell_type": "code",
   "execution_count": null,
   "metadata": {},
   "outputs": [],
   "source": [
    "itinerarios[\"travel_time_D\"] = itinerarios[\"travel_time\"]/1440\n",
    "itinerarios[\"travel_time_D\"].astype('timedelta64[D]')\n",
    "itinerarios[\"travel_time_D\"]= pd.to_timedelta(itinerarios[\"travel_time_D\"],'d')\n",
    "itinerarios[\"return_date\"] = itinerarios[\"unplug_hourTime\"] + itinerarios[\"travel_time_D\"]\n",
    "itinerarios.tail()"
   ]
  }
 ],
 "metadata": {
  "kernelspec": {
   "display_name": "Python 3 (ipykernel)",
   "language": "python",
   "name": "python3"
  },
  "language_info": {
   "codemirror_mode": {
    "name": "ipython",
    "version": 3
   },
   "file_extension": ".py",
   "mimetype": "text/x-python",
   "name": "python",
   "nbconvert_exporter": "python",
   "pygments_lexer": "ipython3",
   "version": "3.9.13"
  },
  "vscode": {
   "interpreter": {
    "hash": "9fef7a30f113eaa53eb8b5c309fb488b4423c5d8965bf87e9ef8b3198259acb6"
   }
  }
 },
 "nbformat": 4,
 "nbformat_minor": 2
}
