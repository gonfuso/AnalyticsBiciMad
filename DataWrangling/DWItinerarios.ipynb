{
 "cells": [
  {
   "cell_type": "markdown",
   "metadata": {},
   "source": [
    "# **DATA WRANGLING ITINERARIOS**\n",
    "This file attemps to gather, collect, and transform the movements raw dataset from the source attached below in order to analyse the data avilable and proceed with it. Data collected dates July 2019 to December 2019 (pre-covid). The following processes will be dealt with:\n",
    "\n",
    "1. Reading the .json files and transforming variables\n",
    "2. Data exploration\n",
    "3. Reshaping data\n",
    "4. Filtering data\n",
    "\n",
    "<u>Source</u>: https://datos.madrid.es/portal/site/egob/menuitem.c05c1f754a33a9fbe4b2e4b284f1a5a0/?vgnextoid=d67921bb86e64610VgnVCM2000001f4a900aRCRD&vgnextchannel=374512b9ace9f310VgnVCM100000171f5a0aRCRD&vgnextfmt=default\n",
    "\n",
    "<u>Folder</u>: Datos de uso entre julio y diciembre de 2019"
   ]
  },
  {
   "cell_type": "markdown",
   "metadata": {},
   "source": [
    "#### **LIBRARIES**"
   ]
  },
  {
   "cell_type": "code",
   "execution_count": 1,
   "metadata": {},
   "outputs": [],
   "source": [
    "import pandas as pd \n",
    "import json\n",
    "import plotly.graph_objects as go\n",
    "import plotly.express as px\n",
    "import numpy as np\n",
    "from datetime import datetime, timedelta\n",
    "from plotly.subplots import make_subplots"
   ]
  },
  {
   "cell_type": "markdown",
   "metadata": {},
   "source": [
    "### **1. READ DATA and VARIABLE TRANSFORMATION**\n",
    "**Dataset**: 2019XX_movements.json (X stands for the month number)    \n",
    "\n",
    "**Description**: Dataset of the use of the electric bicycle service of the Madrid City Council.\n",
    "\n",
    "**Dataframe size**: Observations froom july to december total 1,862,981 timestamps are colected with information on 9 variables. \n",
    "\n",
    "**Variables**:\n",
    "- **_id**: Identificador del movimiento.\n",
    "- **user_day_code**: Código del usuario. Para una misma fecha, todos los movimientos de un mismo usuario, tendrán el mismo código, con el fin de poder realizar estudios estadísticos de las tendencias diarias de los usuarios.\n",
    "- **idunplug_station**: Número de la estación de la que se desengancha la bicicleta.\n",
    "- **idunplug_base**: Número de la base de la que se desengancha la bicicleta.\n",
    "- **idplug_station**: Número de la estación en la que se engancha la bicicleta.\n",
    "- **idplug_base**: Número de la base en la que se engancha la bicicleta.\n",
    "- **unplug_hourTime**: Franja horaria en la que se realiza el desenganche de la bicicleta. Se facilita la hora de inicio del movimiento, sin la información de minutos y segundos. Todos los movimientos iniciados durante la misma hora, tendrán el mismo dato de inicio.\n",
    "- **travel_time**: Tiempo total en segundos, entre el desenganche y el enganche de la bicicleta.\n",
    "- **track**: Detalle del trayecto realizado por la bicicleta entre la estación de partida y la de destino, en formato GeoJSON. Si existe, contendrá un elemento \"FeatureCollection\" que a su vez contendrá un elemento \"Features\" de tipo lista. Cada elemento de dicha lista consistirá en la información de un punto del trayecto y tendrá el siguiente formato:\n",
    "    * **geometry**: Indica la posición de la bicicleta y contiene:\n",
    "        - **type**: Tipo de la posición. Su valor siempre será \"Point\".\n",
    "        - **coordinates**: Coordenadas de longitud y latitud de la posición.\n",
    "    * **type**: tipo de elemento. Su valor siempre será \"Feature\".\n",
    "    * **properties**: Indica las propiedades adicionales de la posición y contiene:\n",
    "        - **var**: Texto con la dirección de la posición.\n",
    "        - **speed**: Velocidad de la bicicleta en el momento de generarse el dato.\n",
    "        - **secondsfromstart**: Segundos transcurridos desde el desenganche de la bicicleta hasta el momento de generarse el dato. Por cuestiones de anonimato, se facilitan tiempos relativos en lugar de marcas de tiempo.\n",
    "- **user_type**: Número que indica el tipo de usuario que ha realizado el movimiento. Sus posibles valores son:\n",
    "    - 0: No se ha podido determinar el tipo de usuario\n",
    "    - 1: Usuario anual (poseedor de un pase anual)\n",
    "    - 2: Usuario ocasional\n",
    "    - 3: Trabajador de la empresa\n",
    "- **ageRange**: Número que indica el rango de edad del usuario que ha realizado el movimiento. Sus posibles valores son:\n",
    "    - 0: No se ha podido determinar el rango de edad del usuario\n",
    "    - 1: El usuario tiene entre 0 y 16 años\n",
    "    - 2: El usuario tiene entre 17 y 18 años\n",
    "    - 3: El usuario tiene entre 19 y 26 años\n",
    "    - 4: El usuario tiene entre 27 y 40 años\n",
    "    - 5: El usuario tiene entre 41 y 65 años\n",
    "    - 6: El usuario tiene 66 años o más\n",
    "- **zip_code**: Texto que indica el código postal del usuario que ha realizado el movimiento. "
   ]
  },
  {
   "cell_type": "code",
   "execution_count": null,
   "metadata": {},
   "outputs": [],
   "source": [
    "itinerarios_list = [\"201907\", \"201908\", \"201909\", \"201910\", \"201911\", \"201912\"]\n",
    "\n",
    "itinerarios = pd.DataFrame()\n",
    "\n",
    "for i in itinerarios_list:\n",
    "    data = []\n",
    "    with open('../Data/Itinerarios/'+i+'_movements.json','r') as f:\n",
    "        for line in f:\n",
    "            data.append(json.loads(line))\n",
    "\n",
    "    df_i = pd.json_normalize(\n",
    "        data, \n",
    "        meta=['_id']\n",
    "    )\n",
    "    # Convert _id to format date\n",
    "    df_i[\"unplug_hourTime\"] = pd.to_datetime(df_i[\"unplug_hourTime\"])\n",
    "    # Dorp column id of the base\n",
    "    itinerarios = pd.concat( [itinerarios, df_i.drop(columns=[\"user_day_code\", \"_id.$oid\"])], ignore_index=True, axis=0)\n",
    "\n",
    "itinerarios.head()"
   ]
  },
  {
   "cell_type": "code",
   "execution_count": null,
   "metadata": {},
   "outputs": [],
   "source": [
    "itinerarios.shape"
   ]
  },
  {
   "cell_type": "markdown",
   "metadata": {},
   "source": [
    "**Variables type check**:"
   ]
  },
  {
   "cell_type": "code",
   "execution_count": null,
   "metadata": {},
   "outputs": [],
   "source": [
    "itinerarios.dtypes"
   ]
  },
  {
   "cell_type": "markdown",
   "metadata": {},
   "source": [
    "Convert variables user_type, age_range, idplug_station, idunplug_station, idunplug_base and idplug_base to categorical"
   ]
  },
  {
   "cell_type": "code",
   "execution_count": null,
   "metadata": {},
   "outputs": [],
   "source": [
    "itinerarios['user_type'] = itinerarios['user_type'].apply(str)\n",
    "itinerarios['ageRange'] = itinerarios['ageRange'].apply(str)\n",
    "itinerarios['idplug_station']=itinerarios['idplug_station'].astype('str')\n",
    "itinerarios['idunplug_station']=itinerarios['idunplug_station'].astype('str')\n",
    "itinerarios['idunplug_base']=itinerarios['idunplug_base'].astype('str')\n",
    "itinerarios['idplug_base']=itinerarios['idplug_base'].astype('str')"
   ]
  },
  {
   "cell_type": "markdown",
   "metadata": {},
   "source": [
    "Create variable **return_date** by adding up the unplug_houtTime and the travel_time "
   ]
  },
  {
   "cell_type": "code",
   "execution_count": null,
   "metadata": {},
   "outputs": [],
   "source": [
    "itinerarios[\"return_date\"] = itinerarios[\"unplug_hourTime\"] + pd.to_timedelta(itinerarios[\"travel_time\"]/1440,'d')"
   ]
  },
  {
   "cell_type": "markdown",
   "metadata": {},
   "source": [
    "### **2. Exploring Data and Reshaping it**"
   ]
  },
  {
   "cell_type": "markdown",
   "metadata": {},
   "source": [
    "**user_type**: 93% of users are anual, 6% are employees and a 1% occasional"
   ]
  },
  {
   "cell_type": "code",
   "execution_count": null,
   "metadata": {},
   "outputs": [],
   "source": [
    "count_type = itinerarios[\"user_type\"].value_counts()/itinerarios.shape[0]\n",
    "labels_type = count_type.index\n",
    "fig = px.bar(itinerarios, x=count_type , y=labels_type, orientation='h', text=round(count_type,2) , title = \"<b>Distribución del tipo de usuario</b>\")\n",
    "fig.show()"
   ]
  },
  {
   "cell_type": "markdown",
   "metadata": {},
   "source": [
    "Most user have no determined **age**. \n",
    "- Strangely most of users who are between 0-16 years old are employees.\n",
    "- Users with a defined age are mainly 27-65 years old. This is the active population. \n",
    "- Occasional users are undefined"
   ]
  },
  {
   "cell_type": "code",
   "execution_count": null,
   "metadata": {},
   "outputs": [],
   "source": [
    "count_ages = itinerarios[\"ageRange\"].value_counts().sort_index()\n",
    "labels_ages = count_ages.index\n",
    "\n",
    "colors = [\"#0C4B76\", \"#1A6691\", \"#6BA79D\", \"#558C6C\", \"#EE860B\"]\n",
    "fig = go.Figure()\n",
    "\n",
    "for i in range (4):\n",
    "    fig.add_trace(go.Bar(\n",
    "        y=labels_ages,\n",
    "        x=itinerarios[itinerarios[\"user_type\"] == str(i)][\"ageRange\"].value_counts().sort_index() ,\n",
    "        name=i,\n",
    "        orientation='h',\n",
    "        marker=dict(\n",
    "            color=colors[i],\n",
    "            line=dict(color=colors[i], width=3)\n",
    "        )\n",
    "    ))\n",
    "\n",
    "fig.update_layout(barmode='stack', title = \"<b>Age Distribution</b> by type of user\")\n",
    "fig.show()"
   ]
  },
  {
   "cell_type": "markdown",
   "metadata": {},
   "source": [
    "**Travel time**: has many outliers. We explore this variable further.\n",
    "- There are users who don't return the bike within the same day\n",
    "- There are negative travel_times. This is considered as an error\n",
    "- 50% of the movements are returned in the range 7h30min and 17h30min\n",
    "- Most of the bikes that are returned "
   ]
  },
  {
   "cell_type": "code",
   "execution_count": null,
   "metadata": {},
   "outputs": [],
   "source": [
    "itinerarios.describe()"
   ]
  },
  {
   "cell_type": "code",
   "execution_count": null,
   "metadata": {},
   "outputs": [],
   "source": [
    "fig = px.histogram(itinerarios[(itinerarios[\"travel_time\"] <2880) & (itinerarios[\"travel_time\"] > 0) ], x=\"travel_time\", title = \"<b>Distribución de la duración del alquiler</b> limitando el tiempo entre 0 y 2 días\")\n",
    "fig.update_traces(marker_color = \"#0C4B76\")\n",
    "fig.show()"
   ]
  },
  {
   "cell_type": "markdown",
   "metadata": {},
   "source": [
    "To further explore variable **travel_time** we proceed to check what happens with bikes that are not returned before the data collection period. Are they lost?"
   ]
  },
  {
   "cell_type": "code",
   "execution_count": null,
   "metadata": {},
   "outputs": [],
   "source": [
    "itinerarios[\"lost\"] = np.where((pd.to_datetime(itinerarios[\"return_date\"]).dt.tz_localize(None) > pd.to_datetime('20200101')) & (pd.to_datetime(itinerarios[\"unplug_hourTime\"]).dt.tz_localize(None) < pd.to_datetime('20191231')) & (itinerarios[\"user_type\"] != '3'), True, False) \n",
    "itinerarios[\"lost\"].value_counts()"
   ]
  },
  {
   "cell_type": "code",
   "execution_count": null,
   "metadata": {},
   "outputs": [],
   "source": [
    "itinerarios[itinerarios[\"lost\"]==True]"
   ]
  },
  {
   "cell_type": "markdown",
   "metadata": {},
   "source": [
    "As it has just been demosntrated they are returned, they are not lost. "
   ]
  },
  {
   "cell_type": "code",
   "execution_count": null,
   "metadata": {},
   "outputs": [],
   "source": [
    "itinerarios = itinerarios.drop(columns=\"lost\")"
   ]
  },
  {
   "cell_type": "markdown",
   "metadata": {},
   "source": [
    "Create variable **status**:\n",
    "- **error**: travel time < 0\n",
    "- **change_bike**: travel time is >0 & <5 mins and the plug and unplug station is the same one\n",
    "- **repaired**: travel time is > 1 day and user type is an employee of BiciMAD (3)\n",
    "- **long_rental**: Rental > 1 day. Travel time > 1 day and user type is 1 or 2 (normal and occasional users)\n",
    "- **short_rental**: Rental < 1 day.travel time >5 & < 1 day"
   ]
  },
  {
   "cell_type": "code",
   "execution_count": null,
   "metadata": {},
   "outputs": [],
   "source": [
    "# lo dejo por si finalmente queremos incluir la variable lost\n",
    "#conditions = [\n",
    "#    (itinerarios['travel_time'] < 0 ),\n",
    "#    ((itinerarios['travel_time'] >= 0) & (itinerarios['travel_time'] < 5)) | ((itinerarios['travel_time'] >= 0) & (itinerarios['travel_time'] < 5) & (itinerarios['idplug_station'] == itinerarios['idunplug_station'])),\n",
    "#    (itinerarios['travel_time'] >= 5) & (itinerarios['travel_time'] <= 1440),\n",
    "#    (itinerarios['travel_time'] > 1440) & (itinerarios['user_type'] == '3'),\n",
    "#    (itinerarios['travel_time'] > 1440) & (itinerarios['lost'] == False) & (itinerarios['user_type'] != '3') , # >1 day rental\n",
    "#    (itinerarios['lost'] == True) #lost\n",
    "#]\n",
    "#conditions = [\n",
    "#    (itinerarios['travel_time'] < 0 ),\n",
    "#    ((itinerarios['travel_time'] >= 0) & (itinerarios['travel_time'] < 5)) | ((itinerarios['travel_time'] >= 0) & (itinerarios['travel_time'] < 5) & (itinerarios['idplug_station'] == itinerarios['idunplug_station'])),\n",
    "#    (itinerarios['travel_time'] >= 5) & (itinerarios['travel_time'] <= 1440),\n",
    "#    (itinerarios['travel_time'] > 1440) & (itinerarios['user_type'] == '3'),\n",
    "#    (itinerarios['travel_time'] > 1440) & (itinerarios['lost'] == False) & (itinerarios['user_type'] != '3') , # >1 day rental\n",
    "#    (itinerarios['lost'] == True) #lost\n",
    "#]\n",
    "#values = ['error', 'change_bike', 'successful', 'repaired', '>1_day_rental', 'lost']\n",
    "\n",
    "conditions = [\n",
    "    (itinerarios['travel_time'] < 0 ),\n",
    "    ((itinerarios['travel_time'] >= 0) & (itinerarios['travel_time'] < 5)) | ((itinerarios['travel_time'] >= 0) & (itinerarios['travel_time'] < 5) & (itinerarios['idplug_station'] == itinerarios['idunplug_station'])),\n",
    "    (itinerarios['travel_time'] >= 5) & (itinerarios['travel_time'] <= 1440),\n",
    "    (itinerarios['travel_time'] > 1440) & (itinerarios['user_type'] == '3'),\n",
    "    (itinerarios['travel_time'] > 1440) & (itinerarios['user_type'] != '3')\n",
    "]\n",
    "values = ['error', 'change_bike', 'short_rental', 'repaired', 'long_rental']\n",
    "itinerarios[\"status\"] =  np.select(conditions, values) \n",
    "itinerarios.head()"
   ]
  },
  {
   "cell_type": "code",
   "execution_count": null,
   "metadata": {},
   "outputs": [],
   "source": [
    "itinerarios[\"status\"].value_counts()"
   ]
  },
  {
   "cell_type": "code",
   "execution_count": null,
   "metadata": {},
   "outputs": [],
   "source": [
    "colors = [\"#0C4B76\", \"#1A6691\", \"#6BA79D\", \"#558C6C\", \"#EE860B\"]\n",
    "\n",
    "fig = go.Figure()\n",
    "\n",
    "for i in range (4):\n",
    "    fig.add_trace(go.Bar(\n",
    "        x=itinerarios[itinerarios[\"user_type\"] == str(i)][\"status\"].value_counts().sort_index() ,\n",
    "        y=itinerarios[itinerarios[\"user_type\"] == str(i)][\"status\"].value_counts().sort_index().index,\n",
    "        orientation='h',\n",
    "        marker=dict(\n",
    "            color=colors[i],\n",
    "            line=dict(color=colors[i], width=3)\n",
    "        )\n",
    "    ))\n",
    "\n",
    "fig.update_layout(barmode='stack', title = \"<b>Número de movimientos por estado</b> y tipo de usuario\")\n",
    "fig.show()"
   ]
  },
  {
   "cell_type": "code",
   "execution_count": null,
   "metadata": {},
   "outputs": [],
   "source": [
    "fig = make_subplots(rows=3, cols=2)\n",
    "fig.add_trace(\n",
    "    go.Box(x=itinerarios[itinerarios[\"status\"] == \"short_rental\"][\"travel_time\"], y=itinerarios[itinerarios[\"status\"] == \"short_rental\"][\"user_type\"], name=\"Short Rental\"), \n",
    "    row=1, col=1)\n",
    "fig.add_trace(\n",
    "    go.Box(x=itinerarios[itinerarios[\"status\"] == \"long_rental\"][\"travel_time\"], y=itinerarios[itinerarios[\"status\"] == \"long_rental\"][\"user_type\"], name=\"Long Rental\"), \n",
    "    row=1, col=2)\n",
    "fig.add_trace(\n",
    "    go.Box(x=itinerarios[itinerarios[\"status\"] == \"error\"][\"travel_time\"], y=itinerarios[itinerarios[\"status\"] == \"error\"][\"user_type\"], name=\"Error\"), \n",
    "    row=2, col=1)\n",
    "fig.add_trace(\n",
    "    go.Box(x=itinerarios[itinerarios[\"status\"] == \"change_bike\"][\"travel_time\"], y=itinerarios[itinerarios[\"status\"] == \"change_bike\"][\"user_type\"], name=\"Change Bike\"), \n",
    "    row=2, col=2)\n",
    "fig.add_trace(\n",
    "    go.Box(x=itinerarios[itinerarios[\"status\"] == \"repaired\"][\"travel_time\"], y=itinerarios[itinerarios[\"status\"] == \"repaired\"][\"user_type\"], name=\"Repaired\"), \n",
    "    row=3, col=1)\n",
    "fig.update_traces(orientation='h')\n",
    "fig.update_layout(title_text=\"<b>Distribución de tipos de usuario</b> por estado\")\n",
    "fig.show()"
   ]
  },
  {
   "cell_type": "markdown",
   "metadata": {},
   "source": [
    "Create variable with the number of the plug and unplug station: **Origen_destino**"
   ]
  },
  {
   "cell_type": "code",
   "execution_count": null,
   "metadata": {},
   "outputs": [],
   "source": [
    "itinerarios['Origen_destino']=itinerarios.apply(lambda x: x.idunplug_station+'-'+x.idplug_station, axis=1)"
   ]
  },
  {
   "cell_type": "code",
   "execution_count": null,
   "metadata": {},
   "outputs": [],
   "source": [
    "itinerarios.groupby('Origen_destino')['travel_time'].agg(['count', 'mean', 'max', 'min']).sort_values('count', ascending=False)"
   ]
  },
  {
   "cell_type": "markdown",
   "metadata": {},
   "source": [
    "#### Save data to CSV"
   ]
  },
  {
   "cell_type": "code",
   "execution_count": null,
   "metadata": {},
   "outputs": [],
   "source": [
    "itinerarios.to_csv('../Data/Itinerarios/itinerarios.csv')"
   ]
  },
  {
   "cell_type": "markdown",
   "metadata": {},
   "source": [
    "### **3. Reshape data**\n",
    "#### Join bases and itinerarios dataframes\n"
   ]
  },
  {
   "cell_type": "code",
   "execution_count": null,
   "metadata": {},
   "outputs": [],
   "source": [
    "\n",
    "\n",
    "bases= pd.read_csv(\"../Data/Bases/bases.csv\")"
   ]
  },
  {
   "cell_type": "markdown",
   "metadata": {},
   "source": [
    "Get the **plug** and **unplug** station data"
   ]
  },
  {
   "cell_type": "code",
   "execution_count": null,
   "metadata": {},
   "outputs": [],
   "source": [
    "cols_bases=['Número', 'Distrito', 'Barrio','Número de Plazas', 'Latitud', 'Longitud']\n",
    "cols_salida=[palabra+'_Salida' for palabra in cols_bases]\n",
    "cols_llegada=[palabra+'_Llegada' for palabra in cols_bases]\n",
    "\n",
    "bases['Número']=bases['Número'].astype('str')\n",
    "\n",
    "# Left join itinerarios and bases. Vbles idunplug_station and Número\n",
    "itinerarios_bases0=pd.merge(itinerarios, bases[cols_bases], how='left', left_on='idunplug_station', right_on='Número')\n",
    "itinerarios_bases0.rename(columns=dict(zip(cols_bases, cols_salida)), inplace=True)\n",
    "\n",
    "# Left join itinerarios and bases. Vbles idplug_station and Número\n",
    "itinerarios_bases=pd.merge(itinerarios_bases0, bases[cols_bases], how='left', left_on='idplug_station', right_on='Número')\n",
    "itinerarios_bases.rename(columns=dict(zip(cols_bases, cols_llegada)), inplace=True)\n",
    "\n",
    "itinerarios_bases.head()"
   ]
  },
  {
   "cell_type": "markdown",
   "metadata": {},
   "source": [
    "There are many NAs resulting from the join because of the Number of Station not being the same. We delete them. "
   ]
  },
  {
   "cell_type": "code",
   "execution_count": null,
   "metadata": {},
   "outputs": [],
   "source": [
    "itinerarios_bases.isna().sum()"
   ]
  },
  {
   "cell_type": "code",
   "execution_count": null,
   "metadata": {},
   "outputs": [],
   "source": [
    "a=itinerarios_bases[itinerarios_bases['Número_Salida'].isna()].idunplug_station.value_counts()\n",
    "for i in a.index: \n",
    "    print(\"-\"+str(i)+\"-\")"
   ]
  },
  {
   "cell_type": "code",
   "execution_count": null,
   "metadata": {},
   "outputs": [],
   "source": [
    "itinerarios_bases.drop(itinerarios_bases[itinerarios_bases['Número_Salida'].isna()].index, inplace=True)\n",
    "itinerarios_bases.drop(itinerarios_bases[itinerarios_bases['Número_Llegada'].isna()].index, inplace=True)\n",
    "itinerarios_bases.isna().sum()"
   ]
  },
  {
   "cell_type": "code",
   "execution_count": null,
   "metadata": {},
   "outputs": [],
   "source": [
    "itinerarios_bases.head()"
   ]
  },
  {
   "cell_type": "code",
   "execution_count": null,
   "metadata": {},
   "outputs": [],
   "source": [
    "itinerarios_bases.to_csv('../Data/Itinerarios/itinerarios_bases.csv')"
   ]
  },
  {
   "cell_type": "code",
   "execution_count": null,
   "metadata": {},
   "outputs": [],
   "source": [
    "itinerarios_bases=pd.read_csv('../Data/Itinerarios/itinerarios_bases.csv')\n",
    "\n",
    "itinerarios_bases.dtypes.index"
   ]
  },
  {
   "cell_type": "code",
   "execution_count": null,
   "metadata": {},
   "outputs": [],
   "source": [
    "itinerarios_bases.dtypes"
   ]
  },
  {
   "cell_type": "code",
   "execution_count": null,
   "metadata": {},
   "outputs": [],
   "source": [
    "cols_int = itinerarios_bases.select_dtypes([np.integer]).columns\n",
    "cols_int\n",
    "for i in cols_int: \n",
    "    itinerarios_bases[i]=pd.to_numeric(itinerarios_bases[i], downcast='integer')\n",
    "\n",
    "cols_float = itinerarios_bases.select_dtypes([np.float]).columns\n",
    "for i in cols_float:\n",
    "    itinerarios_bases[i]=pd.to_numeric(itinerarios_bases[i], downcast='float')\n",
    "itinerarios_bases.dtypes\n"
   ]
  },
  {
   "cell_type": "code",
   "execution_count": null,
   "metadata": {},
   "outputs": [],
   "source": [
    "itinerarios_bases.drop(columns='Unnamed: 0', axis=1, inplace=True)\n",
    "itinerarios_bases['zip_code']=itinerarios_bases['zip_code'].astype(str)\n",
    "itinerarios_bases.to_parquet('../Data/Itinerarios/itinerarios_bases.parquet')"
   ]
  },
  {
   "cell_type": "code",
   "execution_count": 2,
   "metadata": {},
   "outputs": [],
   "source": [
    "itinerarios_bases=pd.read_parquet('../Data/Itinerarios/itinerarios_bases.parquet')\n",
    "situaciones = pd.read_parquet('../Data/SituacionEstaciones/situaciones.parquet')"
   ]
  },
  {
   "cell_type": "code",
   "execution_count": 3,
   "metadata": {},
   "outputs": [
    {
     "data": {
      "text/html": [
       "<div>\n",
       "<style scoped>\n",
       "    .dataframe tbody tr th:only-of-type {\n",
       "        vertical-align: middle;\n",
       "    }\n",
       "\n",
       "    .dataframe tbody tr th {\n",
       "        vertical-align: top;\n",
       "    }\n",
       "\n",
       "    .dataframe thead th {\n",
       "        text-align: right;\n",
       "    }\n",
       "</style>\n",
       "<table border=\"1\" class=\"dataframe\">\n",
       "  <thead>\n",
       "    <tr style=\"text-align: right;\">\n",
       "      <th></th>\n",
       "      <th>activate</th>\n",
       "      <th>name</th>\n",
       "      <th>reservations_count</th>\n",
       "      <th>light</th>\n",
       "      <th>total_bases</th>\n",
       "      <th>free_bases</th>\n",
       "      <th>number</th>\n",
       "      <th>longitude</th>\n",
       "      <th>no_available</th>\n",
       "      <th>address</th>\n",
       "      <th>latitude</th>\n",
       "      <th>dock_bikes</th>\n",
       "      <th>_id</th>\n",
       "      <th>weekDay</th>\n",
       "      <th>hour</th>\n",
       "    </tr>\n",
       "  </thead>\n",
       "  <tbody>\n",
       "    <tr>\n",
       "      <th>0</th>\n",
       "      <td>1</td>\n",
       "      <td>Puerta del Sol A</td>\n",
       "      <td>0</td>\n",
       "      <td>2</td>\n",
       "      <td>24</td>\n",
       "      <td>15</td>\n",
       "      <td>NaN</td>\n",
       "      <td>-3.702425</td>\n",
       "      <td>0</td>\n",
       "      <td>Puerta del Sol nº 1</td>\n",
       "      <td>40.416896</td>\n",
       "      <td>8</td>\n",
       "      <td>2019-07-01 00:29:26.018083</td>\n",
       "      <td>0</td>\n",
       "      <td>0</td>\n",
       "    </tr>\n",
       "    <tr>\n",
       "      <th>1</th>\n",
       "      <td>1</td>\n",
       "      <td>Puerta del Sol B</td>\n",
       "      <td>0</td>\n",
       "      <td>2</td>\n",
       "      <td>24</td>\n",
       "      <td>14</td>\n",
       "      <td>NaN</td>\n",
       "      <td>-3.702421</td>\n",
       "      <td>0</td>\n",
       "      <td>Puerta del Sol nº 1</td>\n",
       "      <td>40.417001</td>\n",
       "      <td>9</td>\n",
       "      <td>2019-07-01 00:29:26.018083</td>\n",
       "      <td>0</td>\n",
       "      <td>0</td>\n",
       "    </tr>\n",
       "    <tr>\n",
       "      <th>2</th>\n",
       "      <td>1</td>\n",
       "      <td>Miguel Moya</td>\n",
       "      <td>0</td>\n",
       "      <td>2</td>\n",
       "      <td>24</td>\n",
       "      <td>12</td>\n",
       "      <td>2.0</td>\n",
       "      <td>-3.705842</td>\n",
       "      <td>0</td>\n",
       "      <td>Calle Miguel Moya nº 1</td>\n",
       "      <td>40.420589</td>\n",
       "      <td>10</td>\n",
       "      <td>2019-07-01 00:29:26.018083</td>\n",
       "      <td>0</td>\n",
       "      <td>0</td>\n",
       "    </tr>\n",
       "    <tr>\n",
       "      <th>3</th>\n",
       "      <td>1</td>\n",
       "      <td>Plaza Conde Suchil</td>\n",
       "      <td>0</td>\n",
       "      <td>1</td>\n",
       "      <td>18</td>\n",
       "      <td>4</td>\n",
       "      <td>3.0</td>\n",
       "      <td>-3.706917</td>\n",
       "      <td>0</td>\n",
       "      <td>Plaza del Conde Suchil nº 2-4</td>\n",
       "      <td>40.430294</td>\n",
       "      <td>11</td>\n",
       "      <td>2019-07-01 00:29:26.018083</td>\n",
       "      <td>0</td>\n",
       "      <td>0</td>\n",
       "    </tr>\n",
       "    <tr>\n",
       "      <th>4</th>\n",
       "      <td>1</td>\n",
       "      <td>Malasaña</td>\n",
       "      <td>0</td>\n",
       "      <td>0</td>\n",
       "      <td>24</td>\n",
       "      <td>17</td>\n",
       "      <td>4.0</td>\n",
       "      <td>-3.702587</td>\n",
       "      <td>0</td>\n",
       "      <td>Calle Manuela Malasaña nº 5</td>\n",
       "      <td>40.428552</td>\n",
       "      <td>3</td>\n",
       "      <td>2019-07-01 00:29:26.018083</td>\n",
       "      <td>0</td>\n",
       "      <td>0</td>\n",
       "    </tr>\n",
       "  </tbody>\n",
       "</table>\n",
       "</div>"
      ],
      "text/plain": [
       "   activate                name  reservations_count  light  total_bases  \\\n",
       "0         1    Puerta del Sol A                   0      2           24   \n",
       "1         1    Puerta del Sol B                   0      2           24   \n",
       "2         1         Miguel Moya                   0      2           24   \n",
       "3         1  Plaza Conde Suchil                   0      1           18   \n",
       "4         1            Malasaña                   0      0           24   \n",
       "\n",
       "   free_bases  number  longitude  no_available                        address  \\\n",
       "0          15     NaN  -3.702425             0            Puerta del Sol nº 1   \n",
       "1          14     NaN  -3.702421             0            Puerta del Sol nº 1   \n",
       "2          12     2.0  -3.705842             0         Calle Miguel Moya nº 1   \n",
       "3           4     3.0  -3.706917             0  Plaza del Conde Suchil nº 2-4   \n",
       "4          17     4.0  -3.702587             0    Calle Manuela Malasaña nº 5   \n",
       "\n",
       "    latitude  dock_bikes                        _id  weekDay  hour  \n",
       "0  40.416896           8 2019-07-01 00:29:26.018083        0     0  \n",
       "1  40.417001           9 2019-07-01 00:29:26.018083        0     0  \n",
       "2  40.420589          10 2019-07-01 00:29:26.018083        0     0  \n",
       "3  40.430294          11 2019-07-01 00:29:26.018083        0     0  \n",
       "4  40.428552           3 2019-07-01 00:29:26.018083        0     0  "
      ]
     },
     "execution_count": 3,
     "metadata": {},
     "output_type": "execute_result"
    }
   ],
   "source": [
    "situaciones.head()"
   ]
  },
  {
   "cell_type": "code",
   "execution_count": 5,
   "metadata": {},
   "outputs": [
    {
     "data": {
      "text/plain": [
       "array([ nan,   2.,   3.,   4.,   5.,   6.,   7.,   8.,   9.,  10.,  11.,\n",
       "        12.,  13.,  14.,  15.,  16.,  17.,  18.,  19.,  22.,  23.,  24.,\n",
       "        26.,  27.,  28.,  29.,  30.,  31.,  32.,  33.,  34.,  35.,  36.,\n",
       "        37.,  38.,  39.,  40.,  41.,  42.,  43.,  44.,  45.,  46.,  47.,\n",
       "        48.,  49.,  50.,  51.,  52.,  53.,  54.,  55.,  56.,  57.,  58.,\n",
       "        59.,  60.,  61.,  62.,  63.,  65.,  67.,  68.,  69.,  70.,  71.,\n",
       "        72.,  73.,  74.,  75.,  76.,  77.,  78.,  79.,  81.,  82.,  83.,\n",
       "        84.,  85.,  86.,  87.,  88.,  89.,  90.,  91.,  92.,  93.,  94.,\n",
       "        95.,  96.,  97.,  98.,  99., 100., 101., 102., 103., 104., 105.,\n",
       "       107., 108., 109., 110., 112., 113., 114., 115., 117., 118., 119.,\n",
       "       120., 121., 122., 123., 124., 125., 126., 127., 128., 129., 130.,\n",
       "       131., 132., 133., 134., 135., 136., 137., 138., 139., 140., 141.,\n",
       "       142., 143., 144., 145., 146., 147., 148., 149., 150., 151., 152.,\n",
       "       153., 154., 155., 156., 157., 158., 159., 160., 161., 162., 163.,\n",
       "       164., 165., 166., 167., 171., 175., 176., 177., 181., 182., 183.,\n",
       "       192., 193., 199., 203., 205., 170., 187., 197., 210., 207., 191.,\n",
       "       190., 204., 184., 185., 211., 169., 173., 174., 200., 188., 180.,\n",
       "       206., 209., 194., 208., 179., 186., 168., 195., 172., 198., 196.,\n",
       "       202., 189., 201.])"
      ]
     },
     "execution_count": 5,
     "metadata": {},
     "output_type": "execute_result"
    }
   ],
   "source": [
    "situaciones[\"number\"].unique()"
   ]
  },
  {
   "cell_type": "code",
   "execution_count": 4,
   "metadata": {},
   "outputs": [
    {
     "data": {
      "text/html": [
       "<div>\n",
       "<style scoped>\n",
       "    .dataframe tbody tr th:only-of-type {\n",
       "        vertical-align: middle;\n",
       "    }\n",
       "\n",
       "    .dataframe tbody tr th {\n",
       "        vertical-align: top;\n",
       "    }\n",
       "\n",
       "    .dataframe thead th {\n",
       "        text-align: right;\n",
       "    }\n",
       "</style>\n",
       "<table border=\"1\" class=\"dataframe\">\n",
       "  <thead>\n",
       "    <tr style=\"text-align: right;\">\n",
       "      <th></th>\n",
       "      <th>idplug_base</th>\n",
       "      <th>user_type</th>\n",
       "      <th>idunplug_base</th>\n",
       "      <th>travel_time</th>\n",
       "      <th>idunplug_station</th>\n",
       "      <th>ageRange</th>\n",
       "      <th>idplug_station</th>\n",
       "      <th>unplug_hourTime</th>\n",
       "      <th>zip_code</th>\n",
       "      <th>return_date</th>\n",
       "      <th>...</th>\n",
       "      <th>Barrio_Salida</th>\n",
       "      <th>Número de Plazas_Salida</th>\n",
       "      <th>Latitud_Salida</th>\n",
       "      <th>Longitud_Salida</th>\n",
       "      <th>Número_Llegada</th>\n",
       "      <th>Distrito_Llegada</th>\n",
       "      <th>Barrio_Llegada</th>\n",
       "      <th>Número de Plazas_Llegada</th>\n",
       "      <th>Latitud_Llegada</th>\n",
       "      <th>Longitud_Llegada</th>\n",
       "    </tr>\n",
       "  </thead>\n",
       "  <tbody>\n",
       "    <tr>\n",
       "      <th>0</th>\n",
       "      <td>5</td>\n",
       "      <td>1</td>\n",
       "      <td>20</td>\n",
       "      <td>154</td>\n",
       "      <td>44</td>\n",
       "      <td>5</td>\n",
       "      <td>40</td>\n",
       "      <td>2019-07-01 00:00:00+00:00</td>\n",
       "      <td>28007</td>\n",
       "      <td>2019-07-01 02:33:59.999961600+00:00</td>\n",
       "      <td>...</td>\n",
       "      <td>01-02 EMBAJADORES</td>\n",
       "      <td>21.0</td>\n",
       "      <td>40.409817</td>\n",
       "      <td>-3.703914</td>\n",
       "      <td>40</td>\n",
       "      <td>01  CENTRO</td>\n",
       "      <td>01-02 EMBAJADORES</td>\n",
       "      <td>24.0</td>\n",
       "      <td>40.413788</td>\n",
       "      <td>-3.704746</td>\n",
       "    </tr>\n",
       "    <tr>\n",
       "      <th>1</th>\n",
       "      <td>8</td>\n",
       "      <td>1</td>\n",
       "      <td>17</td>\n",
       "      <td>184</td>\n",
       "      <td>57</td>\n",
       "      <td>4</td>\n",
       "      <td>129</td>\n",
       "      <td>2019-07-01 00:00:00+00:00</td>\n",
       "      <td>28045</td>\n",
       "      <td>2019-07-01 03:04:00.000019200+00:00</td>\n",
       "      <td>...</td>\n",
       "      <td>01-05 UNIVERSIDAD</td>\n",
       "      <td>24.0</td>\n",
       "      <td>40.429638</td>\n",
       "      <td>-3.712818</td>\n",
       "      <td>129</td>\n",
       "      <td>07  CHAMBERÍ</td>\n",
       "      <td>07-05 RÍOS ROSAS</td>\n",
       "      <td>24.0</td>\n",
       "      <td>40.438469</td>\n",
       "      <td>-3.698282</td>\n",
       "    </tr>\n",
       "    <tr>\n",
       "      <th>2</th>\n",
       "      <td>15</td>\n",
       "      <td>1</td>\n",
       "      <td>16</td>\n",
       "      <td>282</td>\n",
       "      <td>53</td>\n",
       "      <td>4</td>\n",
       "      <td>43</td>\n",
       "      <td>2019-07-01 00:00:00+00:00</td>\n",
       "      <td>nan</td>\n",
       "      <td>2019-07-01 04:41:59.999971200+00:00</td>\n",
       "      <td>...</td>\n",
       "      <td>01-02 EMBAJADORES</td>\n",
       "      <td>24.0</td>\n",
       "      <td>40.408279</td>\n",
       "      <td>-3.700730</td>\n",
       "      <td>43</td>\n",
       "      <td>01  CENTRO</td>\n",
       "      <td>01-02 EMBAJADORES</td>\n",
       "      <td>24.0</td>\n",
       "      <td>40.410088</td>\n",
       "      <td>-3.702545</td>\n",
       "    </tr>\n",
       "    <tr>\n",
       "      <th>3</th>\n",
       "      <td>18</td>\n",
       "      <td>1</td>\n",
       "      <td>18</td>\n",
       "      <td>388</td>\n",
       "      <td>56</td>\n",
       "      <td>0</td>\n",
       "      <td>13</td>\n",
       "      <td>2019-07-01 00:00:00+00:00</td>\n",
       "      <td>nan</td>\n",
       "      <td>2019-07-01 06:27:59.999961600+00:00</td>\n",
       "      <td>...</td>\n",
       "      <td>01-06 SOL</td>\n",
       "      <td>24.0</td>\n",
       "      <td>40.418484</td>\n",
       "      <td>-3.703288</td>\n",
       "      <td>13</td>\n",
       "      <td>01  CENTRO</td>\n",
       "      <td>01-05 UNIVERSIDAD</td>\n",
       "      <td>24.0</td>\n",
       "      <td>40.427364</td>\n",
       "      <td>-3.710473</td>\n",
       "    </tr>\n",
       "    <tr>\n",
       "      <th>4</th>\n",
       "      <td>1</td>\n",
       "      <td>1</td>\n",
       "      <td>20</td>\n",
       "      <td>254</td>\n",
       "      <td>105</td>\n",
       "      <td>0</td>\n",
       "      <td>75</td>\n",
       "      <td>2019-07-01 00:00:00+00:00</td>\n",
       "      <td>nan</td>\n",
       "      <td>2019-07-01 04:14:00.000009600+00:00</td>\n",
       "      <td>...</td>\n",
       "      <td>04-01 RECOLETOS</td>\n",
       "      <td>24.0</td>\n",
       "      <td>40.427067</td>\n",
       "      <td>-3.687474</td>\n",
       "      <td>75</td>\n",
       "      <td>03  RETIRO</td>\n",
       "      <td>03-05 JERÓNIMOS</td>\n",
       "      <td>24.0</td>\n",
       "      <td>40.408340</td>\n",
       "      <td>-3.678415</td>\n",
       "    </tr>\n",
       "  </tbody>\n",
       "</table>\n",
       "<p>5 rows × 24 columns</p>\n",
       "</div>"
      ],
      "text/plain": [
       "   idplug_base  user_type  idunplug_base  travel_time  idunplug_station  \\\n",
       "0            5          1             20          154                44   \n",
       "1            8          1             17          184                57   \n",
       "2           15          1             16          282                53   \n",
       "3           18          1             18          388                56   \n",
       "4            1          1             20          254               105   \n",
       "\n",
       "   ageRange  idplug_station            unplug_hourTime zip_code  \\\n",
       "0         5              40  2019-07-01 00:00:00+00:00    28007   \n",
       "1         4             129  2019-07-01 00:00:00+00:00    28045   \n",
       "2         4              43  2019-07-01 00:00:00+00:00      nan   \n",
       "3         0              13  2019-07-01 00:00:00+00:00      nan   \n",
       "4         0              75  2019-07-01 00:00:00+00:00      nan   \n",
       "\n",
       "                           return_date  ...      Barrio_Salida  \\\n",
       "0  2019-07-01 02:33:59.999961600+00:00  ...  01-02 EMBAJADORES   \n",
       "1  2019-07-01 03:04:00.000019200+00:00  ...  01-05 UNIVERSIDAD   \n",
       "2  2019-07-01 04:41:59.999971200+00:00  ...  01-02 EMBAJADORES   \n",
       "3  2019-07-01 06:27:59.999961600+00:00  ...          01-06 SOL   \n",
       "4  2019-07-01 04:14:00.000009600+00:00  ...    04-01 RECOLETOS   \n",
       "\n",
       "  Número de Plazas_Salida  Latitud_Salida Longitud_Salida Número_Llegada  \\\n",
       "0                    21.0       40.409817       -3.703914             40   \n",
       "1                    24.0       40.429638       -3.712818            129   \n",
       "2                    24.0       40.408279       -3.700730             43   \n",
       "3                    24.0       40.418484       -3.703288             13   \n",
       "4                    24.0       40.427067       -3.687474             75   \n",
       "\n",
       "   Distrito_Llegada     Barrio_Llegada  Número de Plazas_Llegada  \\\n",
       "0        01  CENTRO  01-02 EMBAJADORES                      24.0   \n",
       "1      07  CHAMBERÍ   07-05 RÍOS ROSAS                      24.0   \n",
       "2        01  CENTRO  01-02 EMBAJADORES                      24.0   \n",
       "3        01  CENTRO  01-05 UNIVERSIDAD                      24.0   \n",
       "4        03  RETIRO    03-05 JERÓNIMOS                      24.0   \n",
       "\n",
       "   Latitud_Llegada Longitud_Llegada  \n",
       "0        40.413788        -3.704746  \n",
       "1        40.438469        -3.698282  \n",
       "2        40.410088        -3.702545  \n",
       "3        40.427364        -3.710473  \n",
       "4        40.408340        -3.678415  \n",
       "\n",
       "[5 rows x 24 columns]"
      ]
     },
     "execution_count": 4,
     "metadata": {},
     "output_type": "execute_result"
    }
   ],
   "source": [
    "itinerarios_bases.head()"
   ]
  },
  {
   "cell_type": "code",
   "execution_count": null,
   "metadata": {},
   "outputs": [],
   "source": [
    "itinerarios_bases[itinerarios_bases['user_type'].isin([]) ]"
   ]
  },
  {
   "cell_type": "code",
   "execution_count": null,
   "metadata": {},
   "outputs": [],
   "source": [
    "data = [[6, -10]]\n",
    "  \n",
    "# Create the pandas DataFrame\n",
    "df = pd.DataFrame(data, columns=['lat', 'lon'])\n",
    "\n",
    "fig=px.scatter_mapbox(df,lon='lon', lat='lat' ,width = 500, height = 400)\n",
    "\n",
    "fig.update_layout(\n",
    "        title='Rutas más concurridas',\n",
    "        autosize=True,\n",
    "        hovermode='closest',\n",
    "        showlegend=True,\n",
    "        width = 500,\n",
    "        height = 500,\n",
    "        mapbox=dict(\n",
    "            bearing=0,\n",
    "            center=dict(\n",
    "                lat=40.425,\n",
    "                lon=-3.69\n",
    "            ),\n",
    "            zoom=11.3,\n",
    "            style= 'carto-positron' # 'open-street-map'\n",
    "            \n",
    "            )\n",
    "        )\n",
    "fig.show()\n"
   ]
  },
  {
   "cell_type": "code",
   "execution_count": null,
   "metadata": {},
   "outputs": [],
   "source": [
    "import sys\n",
    "print(sys.executable)"
   ]
  },
  {
   "cell_type": "code",
   "execution_count": null,
   "metadata": {},
   "outputs": [],
   "source": [
    "itinerarios[\"travel_time_D\"] = itinerarios[\"travel_time\"]/1440\n",
    "itinerarios[\"travel_time_D\"].astype('timedelta64[D]')\n",
    "itinerarios[\"travel_time_D\"]= pd.to_timedelta(itinerarios[\"travel_time_D\"],'d')\n",
    "itinerarios[\"return_date\"] = itinerarios[\"unplug_hourTime\"] + itinerarios[\"travel_time_D\"]\n",
    "itinerarios.tail()"
   ]
  }
 ],
 "metadata": {
  "kernelspec": {
   "display_name": "Python 3.8.8 ('base')",
   "language": "python",
   "name": "python3"
  },
  "language_info": {
   "codemirror_mode": {
    "name": "ipython",
    "version": 3
   },
   "file_extension": ".py",
   "mimetype": "text/x-python",
   "name": "python",
   "nbconvert_exporter": "python",
   "pygments_lexer": "ipython3",
   "version": "3.8.8"
  },
  "vscode": {
   "interpreter": {
    "hash": "de895c32b6356e3cf494ff1896ba6818a42238a7ce68506969923ba89e01dea3"
   }
  }
 },
 "nbformat": 4,
 "nbformat_minor": 2
}
