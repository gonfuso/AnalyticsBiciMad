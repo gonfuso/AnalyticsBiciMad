{
 "cells": [
  {
   "cell_type": "markdown",
   "metadata": {},
   "source": [
    "# **DATA WRANGLING SITUACIÓN ESTACIONES**\n",
    "This file attemps to gather, collect, and transform the station situations raw dataset from the source attached below in order to analyse the data avilable and proceed with it. Data collected dates July 2019 to December 2019 (pre-covid). The following processes will be dealt with:\n",
    "\n",
    "1. Reading the .json files and transforming variables\n",
    "2. Data exploration\n",
    "3. Reshaping data\n",
    "4. Filtering data\n",
    "\n",
    "<u>Source</u>: https://datos.madrid.es/portal/site/egob/menuitem.c05c1f754a33a9fbe4b2e4b284f1a5a0/?vgnextoid=f4b07e0543815610VgnVCM1000001d4a900aRCRD&vgnextchannel=374512b9ace9f310VgnVCM100000171f5a0aRCRD&vgnextfmt=default\n",
    "\n",
    "<u>Folder</u>: Situación estaciones BiciMAD por día y hora entre julio y diciembre de 2019 "
   ]
  },
  {
   "cell_type": "markdown",
   "metadata": {},
   "source": [
    "#### **LIBRARIES**"
   ]
  },
  {
   "cell_type": "code",
   "execution_count": 1,
   "metadata": {},
   "outputs": [],
   "source": [
    "import pandas as pd \n",
    "import json\n",
    "import plotly.graph_objects as go\n",
    "import matplotlib.pyplot as plt\n",
    "from plotly.subplots import make_subplots"
   ]
  },
  {
   "cell_type": "markdown",
   "metadata": {},
   "source": [
    "#### **1. READ DATA and VARIABLE TRANSFORMATION**\n",
    "**Dataset**: 20190x.json (X stands for the month number)    \n",
    "\n",
    "**Description**: Dataset of the situation of the different stations of BiciMAD by date and time\n",
    "\n",
    "**Dataframe size**: Each month 145,286 timestamps are colected with information on 14 variables. Observations froom july to december total 883,777 timestamps\n",
    "\n",
    "**Variables**:\n",
    "- _id_: Código de la Estación Base\n",
    "- _latitude_: Latitud de la estación en formato WGS84\n",
    "- _longitude_: Longitud de la Estación en formato WGS84\n",
    "- _name_: Nombre de la Estación\n",
    "- _light_: Grado de Ocupación (0=baja, 1=media, 2=alta, 3=inactiva)\n",
    "- _number_: Denominación lógica de la Estación Base\n",
    "- _actívate_: Estación activa (0=No activa, 1=activa)\n",
    "- _no_available_: Disponibilidad de la Estación (0=disponible, 1=no disponible)\n",
    "- _total_bases_: Número de bases de la estación\n",
    "- _dock_bikes_: Número de bicicletas ancladas\n",
    "- _free_bases_: Número de bases libres\n",
    "- _reservations_count_: Número de reservas activas"
   ]
  },
  {
   "cell_type": "code",
   "execution_count": null,
   "metadata": {},
   "outputs": [],
   "source": [
    "situaciones_list = [\"201907\", \"201908\", \"201909\", \"201910\", \"201911\", \"201912\"]\n",
    "\n",
    "situaciones = pd.DataFrame()\n",
    "\n",
    "\n",
    "for i in situaciones_list:\n",
    "    data = []\n",
    "    with open('../Data/SituacionEstaciones/'+i+'.json','r') as f:\n",
    "        for line in f:\n",
    "            data.append(json.loads(line))\n",
    "\n",
    "    df_i = pd.json_normalize(\n",
    "        data, \n",
    "        meta=['_id'],\n",
    "        record_path =['stations']\n",
    "    )\n",
    "    # Convert _id to format date\n",
    "    df_i[\"_id\"] = pd.to_datetime(df_i[\"_id\"])\n",
    "    # Dorp column id of the base\n",
    "    situaciones = pd.concat( [situaciones, df_i.drop(columns=\"id\")], ignore_index=True, axis=0)\n",
    "\n",
    "situaciones.head()"
   ]
  },
  {
   "cell_type": "markdown",
   "metadata": {},
   "source": [
    "#### **2. DATA EXPLORATION**"
   ]
  },
  {
   "cell_type": "code",
   "execution_count": null,
   "metadata": {},
   "outputs": [],
   "source": [
    "situaciones.shape"
   ]
  },
  {
   "cell_type": "code",
   "execution_count": null,
   "metadata": {},
   "outputs": [],
   "source": [
    "situaciones.to_parquet('../Data/SituacionEstaciones/situaciones.parquet')"
   ]
  },
  {
   "cell_type": "code",
   "execution_count": null,
   "metadata": {},
   "outputs": [],
   "source": [
    "situaciones.head(10)"
   ]
  },
  {
   "cell_type": "markdown",
   "metadata": {},
   "source": [
    "**Variables type check**: correct"
   ]
  },
  {
   "cell_type": "code",
   "execution_count": null,
   "metadata": {},
   "outputs": [],
   "source": [
    "situaciones.dtypes"
   ]
  },
  {
   "cell_type": "markdown",
   "metadata": {},
   "source": [
    "**NaN check**: don't exist"
   ]
  },
  {
   "cell_type": "code",
   "execution_count": null,
   "metadata": {},
   "outputs": [],
   "source": [
    "situaciones.isna().sum()"
   ]
  },
  {
   "cell_type": "markdown",
   "metadata": {},
   "source": [
    "All stations are active. Variable **activate** is irrelevant and can be dropped"
   ]
  },
  {
   "cell_type": "code",
   "execution_count": null,
   "metadata": {},
   "outputs": [],
   "source": [
    "situaciones[\"activate\"].value_counts()"
   ]
  },
  {
   "cell_type": "code",
   "execution_count": null,
   "metadata": {},
   "outputs": [],
   "source": [
    "situaciones.value_counts([\"name\", \"number\"])"
   ]
  },
  {
   "cell_type": "markdown",
   "metadata": {},
   "source": [
    "Distribution of **number of reservations** varies across **stations and months**. \n",
    "- December has the lowest number of reservations followed by august. This may beacuase of holidays\n",
    "- San Hermenegildo is the station that gets more reservations (total=and San Juan the Lowest"
   ]
  },
  {
   "cell_type": "code",
   "execution_count": null,
   "metadata": {},
   "outputs": [],
   "source": [
    "fig = go.Figure()\n",
    "fig.add_trace(\n",
    "    go.Bar(\n",
    "        x = situaciones[\"name\"],\n",
    "        y = situaciones.groupby(situaciones[\"name\"])[\"reservations_count\"].sum(),\n",
    "        name = \"Julio\"\n",
    "    )\n",
    ")\n",
    "fig.update_layout(title = \"Número de reservas total de reservas Jul-Dic 2019 por Estación y Mes\", xaxis={'categoryorder':'total descending'})\n",
    "fig.show()"
   ]
  },
  {
   "cell_type": "code",
   "execution_count": 5,
   "metadata": {},
   "outputs": [],
   "source": [
    "\n",
    "situaciones=pd.read_parquet('../Data/SituacionEstaciones/situaciones.parquet')\n",
    "situaciones[['longitude', 'latitude']]=situaciones[['longitude', 'latitude']].apply(pd.to_numeric)\n",
    "situaciones.loc[:,'weekDay']=situaciones['_id'].apply(lambda x: x.dayofweek)\n",
    "situaciones.loc[:,'hour']=situaciones['_id'].apply(lambda x: x.hour)\n",
    "situaciones['number']=situaciones['number'].apply(pd.to_numeric, errors='coerce')\n",
    "situaciones.to_parquet('../Data/SituacionEstaciones/situaciones2.parquet')"
   ]
  },
  {
   "cell_type": "code",
   "execution_count": 7,
   "metadata": {},
   "outputs": [
    {
     "data": {
      "text/html": [
       "<div>\n",
       "<style scoped>\n",
       "    .dataframe tbody tr th:only-of-type {\n",
       "        vertical-align: middle;\n",
       "    }\n",
       "\n",
       "    .dataframe tbody tr th {\n",
       "        vertical-align: top;\n",
       "    }\n",
       "\n",
       "    .dataframe thead th {\n",
       "        text-align: right;\n",
       "    }\n",
       "</style>\n",
       "<table border=\"1\" class=\"dataframe\">\n",
       "  <thead>\n",
       "    <tr style=\"text-align: right;\">\n",
       "      <th></th>\n",
       "      <th>idplug_base</th>\n",
       "      <th>user_type</th>\n",
       "      <th>idunplug_base</th>\n",
       "      <th>travel_time</th>\n",
       "      <th>idunplug_station</th>\n",
       "      <th>ageRange</th>\n",
       "      <th>idplug_station</th>\n",
       "      <th>unplug_hourTime</th>\n",
       "      <th>zip_code</th>\n",
       "      <th>return_date</th>\n",
       "      <th>...</th>\n",
       "      <th>Barrio_Salida</th>\n",
       "      <th>Número de Plazas_Salida</th>\n",
       "      <th>Latitud_Salida</th>\n",
       "      <th>Longitud_Salida</th>\n",
       "      <th>Número_Llegada</th>\n",
       "      <th>Distrito_Llegada</th>\n",
       "      <th>Barrio_Llegada</th>\n",
       "      <th>Número de Plazas_Llegada</th>\n",
       "      <th>Latitud_Llegada</th>\n",
       "      <th>Longitud_Llegada</th>\n",
       "    </tr>\n",
       "  </thead>\n",
       "  <tbody>\n",
       "    <tr>\n",
       "      <th>0</th>\n",
       "      <td>5</td>\n",
       "      <td>1</td>\n",
       "      <td>20</td>\n",
       "      <td>154</td>\n",
       "      <td>44</td>\n",
       "      <td>5</td>\n",
       "      <td>40</td>\n",
       "      <td>2019-07-01 00:00:00+00:00</td>\n",
       "      <td>28007</td>\n",
       "      <td>2019-07-01 02:33:59.999961600+00:00</td>\n",
       "      <td>...</td>\n",
       "      <td>01-02 EMBAJADORES</td>\n",
       "      <td>21.0</td>\n",
       "      <td>40.409817</td>\n",
       "      <td>-3.703914</td>\n",
       "      <td>40</td>\n",
       "      <td>01  CENTRO</td>\n",
       "      <td>01-02 EMBAJADORES</td>\n",
       "      <td>24.0</td>\n",
       "      <td>40.413788</td>\n",
       "      <td>-3.704746</td>\n",
       "    </tr>\n",
       "    <tr>\n",
       "      <th>1</th>\n",
       "      <td>8</td>\n",
       "      <td>1</td>\n",
       "      <td>17</td>\n",
       "      <td>184</td>\n",
       "      <td>57</td>\n",
       "      <td>4</td>\n",
       "      <td>129</td>\n",
       "      <td>2019-07-01 00:00:00+00:00</td>\n",
       "      <td>28045</td>\n",
       "      <td>2019-07-01 03:04:00.000019200+00:00</td>\n",
       "      <td>...</td>\n",
       "      <td>01-05 UNIVERSIDAD</td>\n",
       "      <td>24.0</td>\n",
       "      <td>40.429638</td>\n",
       "      <td>-3.712818</td>\n",
       "      <td>129</td>\n",
       "      <td>07  CHAMBERÍ</td>\n",
       "      <td>07-05 RÍOS ROSAS</td>\n",
       "      <td>24.0</td>\n",
       "      <td>40.438469</td>\n",
       "      <td>-3.698282</td>\n",
       "    </tr>\n",
       "    <tr>\n",
       "      <th>2</th>\n",
       "      <td>15</td>\n",
       "      <td>1</td>\n",
       "      <td>16</td>\n",
       "      <td>282</td>\n",
       "      <td>53</td>\n",
       "      <td>4</td>\n",
       "      <td>43</td>\n",
       "      <td>2019-07-01 00:00:00+00:00</td>\n",
       "      <td>nan</td>\n",
       "      <td>2019-07-01 04:41:59.999971200+00:00</td>\n",
       "      <td>...</td>\n",
       "      <td>01-02 EMBAJADORES</td>\n",
       "      <td>24.0</td>\n",
       "      <td>40.408279</td>\n",
       "      <td>-3.700730</td>\n",
       "      <td>43</td>\n",
       "      <td>01  CENTRO</td>\n",
       "      <td>01-02 EMBAJADORES</td>\n",
       "      <td>24.0</td>\n",
       "      <td>40.410088</td>\n",
       "      <td>-3.702545</td>\n",
       "    </tr>\n",
       "    <tr>\n",
       "      <th>3</th>\n",
       "      <td>18</td>\n",
       "      <td>1</td>\n",
       "      <td>18</td>\n",
       "      <td>388</td>\n",
       "      <td>56</td>\n",
       "      <td>0</td>\n",
       "      <td>13</td>\n",
       "      <td>2019-07-01 00:00:00+00:00</td>\n",
       "      <td>nan</td>\n",
       "      <td>2019-07-01 06:27:59.999961600+00:00</td>\n",
       "      <td>...</td>\n",
       "      <td>01-06 SOL</td>\n",
       "      <td>24.0</td>\n",
       "      <td>40.418484</td>\n",
       "      <td>-3.703288</td>\n",
       "      <td>13</td>\n",
       "      <td>01  CENTRO</td>\n",
       "      <td>01-05 UNIVERSIDAD</td>\n",
       "      <td>24.0</td>\n",
       "      <td>40.427364</td>\n",
       "      <td>-3.710473</td>\n",
       "    </tr>\n",
       "    <tr>\n",
       "      <th>4</th>\n",
       "      <td>1</td>\n",
       "      <td>1</td>\n",
       "      <td>20</td>\n",
       "      <td>254</td>\n",
       "      <td>105</td>\n",
       "      <td>0</td>\n",
       "      <td>75</td>\n",
       "      <td>2019-07-01 00:00:00+00:00</td>\n",
       "      <td>nan</td>\n",
       "      <td>2019-07-01 04:14:00.000009600+00:00</td>\n",
       "      <td>...</td>\n",
       "      <td>04-01 RECOLETOS</td>\n",
       "      <td>24.0</td>\n",
       "      <td>40.427067</td>\n",
       "      <td>-3.687474</td>\n",
       "      <td>75</td>\n",
       "      <td>03  RETIRO</td>\n",
       "      <td>03-05 JERÓNIMOS</td>\n",
       "      <td>24.0</td>\n",
       "      <td>40.408340</td>\n",
       "      <td>-3.678415</td>\n",
       "    </tr>\n",
       "  </tbody>\n",
       "</table>\n",
       "<p>5 rows × 24 columns</p>\n",
       "</div>"
      ],
      "text/plain": [
       "   idplug_base  user_type  idunplug_base  travel_time  idunplug_station  \\\n",
       "0            5          1             20          154                44   \n",
       "1            8          1             17          184                57   \n",
       "2           15          1             16          282                53   \n",
       "3           18          1             18          388                56   \n",
       "4            1          1             20          254               105   \n",
       "\n",
       "   ageRange  idplug_station            unplug_hourTime zip_code  \\\n",
       "0         5              40  2019-07-01 00:00:00+00:00    28007   \n",
       "1         4             129  2019-07-01 00:00:00+00:00    28045   \n",
       "2         4              43  2019-07-01 00:00:00+00:00      nan   \n",
       "3         0              13  2019-07-01 00:00:00+00:00      nan   \n",
       "4         0              75  2019-07-01 00:00:00+00:00      nan   \n",
       "\n",
       "                           return_date  ...      Barrio_Salida  \\\n",
       "0  2019-07-01 02:33:59.999961600+00:00  ...  01-02 EMBAJADORES   \n",
       "1  2019-07-01 03:04:00.000019200+00:00  ...  01-05 UNIVERSIDAD   \n",
       "2  2019-07-01 04:41:59.999971200+00:00  ...  01-02 EMBAJADORES   \n",
       "3  2019-07-01 06:27:59.999961600+00:00  ...          01-06 SOL   \n",
       "4  2019-07-01 04:14:00.000009600+00:00  ...    04-01 RECOLETOS   \n",
       "\n",
       "  Número de Plazas_Salida  Latitud_Salida Longitud_Salida Número_Llegada  \\\n",
       "0                    21.0       40.409817       -3.703914             40   \n",
       "1                    24.0       40.429638       -3.712818            129   \n",
       "2                    24.0       40.408279       -3.700730             43   \n",
       "3                    24.0       40.418484       -3.703288             13   \n",
       "4                    24.0       40.427067       -3.687474             75   \n",
       "\n",
       "   Distrito_Llegada     Barrio_Llegada  Número de Plazas_Llegada  \\\n",
       "0        01  CENTRO  01-02 EMBAJADORES                      24.0   \n",
       "1      07  CHAMBERÍ   07-05 RÍOS ROSAS                      24.0   \n",
       "2        01  CENTRO  01-02 EMBAJADORES                      24.0   \n",
       "3        01  CENTRO  01-05 UNIVERSIDAD                      24.0   \n",
       "4        03  RETIRO    03-05 JERÓNIMOS                      24.0   \n",
       "\n",
       "   Latitud_Llegada Longitud_Llegada  \n",
       "0        40.413788        -3.704746  \n",
       "1        40.438469        -3.698282  \n",
       "2        40.410088        -3.702545  \n",
       "3        40.427364        -3.710473  \n",
       "4        40.408340        -3.678415  \n",
       "\n",
       "[5 rows x 24 columns]"
      ]
     },
     "execution_count": 7,
     "metadata": {},
     "output_type": "execute_result"
    }
   ],
   "source": [
    "\n",
    "itinerarios_bases=pd.read_parquet('../Data/Itinerarios/itinerarios_bases.parquet')\n",
    "itinerarios_bases.head()"
   ]
  }
 ],
 "metadata": {
  "kernelspec": {
   "display_name": "Python 3.8.8 ('base')",
   "language": "python",
   "name": "python3"
  },
  "language_info": {
   "codemirror_mode": {
    "name": "ipython",
    "version": 3
   },
   "file_extension": ".py",
   "mimetype": "text/x-python",
   "name": "python",
   "nbconvert_exporter": "python",
   "pygments_lexer": "ipython3",
   "version": "3.8.8"
  },
  "vscode": {
   "interpreter": {
    "hash": "de895c32b6356e3cf494ff1896ba6818a42238a7ce68506969923ba89e01dea3"
   }
  }
 },
 "nbformat": 4,
 "nbformat_minor": 2
}
