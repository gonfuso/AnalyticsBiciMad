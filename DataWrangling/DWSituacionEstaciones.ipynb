{
 "cells": [
  {
   "cell_type": "markdown",
   "metadata": {},
   "source": [
    "# **DATA WRANGLING SITUACIÓN ESTACIONES**\n",
    "This file attemps to gather, collect, and transform the station situations raw dataset from the source attached below in order to analyse the data avilable and proceed with it. Data collected dates July 2019 to December 2019 (pre-covid). The following processes will be dealt with:\n",
    "\n",
    "1. Reading the .json files and transforming variables\n",
    "2. Data exploration\n",
    "3. Reshaping data\n",
    "4. Filtering data\n",
    "\n",
    "<u>Source</u>: https://datos.madrid.es/portal/site/egob/menuitem.c05c1f754a33a9fbe4b2e4b284f1a5a0/?vgnextoid=f4b07e0543815610VgnVCM1000001d4a900aRCRD&vgnextchannel=374512b9ace9f310VgnVCM100000171f5a0aRCRD&vgnextfmt=default\n",
    "\n",
    "<u>Folder</u>: Situación estaciones BiciMAD por día y hora entre julio y diciembre de 2019 "
   ]
  },
  {
   "cell_type": "markdown",
   "metadata": {},
   "source": [
    "#### **LIBRARIES**"
   ]
  },
  {
   "cell_type": "code",
   "execution_count": null,
   "metadata": {},
   "outputs": [],
   "source": [
    "import pandas as pd \n",
    "import json\n",
    "import plotly.graph_objects as go\n",
    "import matplotlib.pyplot as plt\n",
    "from plotly.subplots import make_subplots"
   ]
  },
  {
   "cell_type": "markdown",
   "metadata": {},
   "source": [
    "#### **1. READ DATA and VARIABLE TRANSFORMATION**\n",
    "**Dataset**: 20190x.json (X stands for the month number)    \n",
    "\n",
    "**Description**: Dataset of the situation of the different stations of BiciMAD by date and time\n",
    "\n",
    "**Dataframe size**: Each month 145,286 timestamps are colected with information on 14 variables. Observations froom july to december total 883,777 timestamps\n",
    "\n",
    "**Variables**:\n",
    "- _id_: Código de la Estación Base\n",
    "- _latitude_: Latitud de la estación en formato WGS84\n",
    "- _longitude_: Longitud de la Estación en formato WGS84\n",
    "- _name_: Nombre de la Estación\n",
    "- _light_: Grado de Ocupación (0=baja, 1=media, 2=alta, 3=inactiva)\n",
    "- _number_: Denominación lógica de la Estación Base\n",
    "- _actívate_: Estación activa (0=No activa, 1=activa)\n",
    "- _no_available_: Disponibilidad de la Estación (0=disponible, 1=no disponible)\n",
    "- _total_bases_: Número de bases de la estación\n",
    "- _dock_bikes_: Número de bicicletas ancladas\n",
    "- _free_bases_: Número de bases libres\n",
    "- _reservations_count_: Número de reservas activas"
   ]
  },
  {
   "cell_type": "code",
   "execution_count": null,
   "metadata": {},
   "outputs": [],
   "source": [
    "situaciones_list = [\"201907\", \"201908\", \"201909\", \"201910\", \"201911\", \"201912\"]\n",
    "\n",
    "situaciones = pd.DataFrame()\n",
    "\n",
    "\n",
    "for i in situaciones_list:\n",
    "    data = []\n",
    "    with open('../Data/SituacionEstaciones/'+i+'.json','r') as f:\n",
    "        for line in f:\n",
    "            data.append(json.loads(line))\n",
    "\n",
    "    df_i = pd.json_normalize(\n",
    "        data, \n",
    "        meta=['_id'],\n",
    "        record_path =['stations']\n",
    "    )\n",
    "    # Convert _id to format date\n",
    "    df_i[\"_id\"] = pd.to_datetime(df_i[\"_id\"])\n",
    "    # Dorp column id of the base\n",
    "    situaciones = pd.concat( [situaciones, df_i.drop(columns=\"id\")], ignore_index=True, axis=0)\n",
    "\n",
    "situaciones.head()"
   ]
  },
  {
   "cell_type": "markdown",
   "metadata": {},
   "source": [
    "#### **2. DATA EXPLORATION**"
   ]
  },
  {
   "cell_type": "code",
   "execution_count": null,
   "metadata": {},
   "outputs": [],
   "source": [
    "situaciones.shape"
   ]
  },
  {
   "cell_type": "code",
   "execution_count": null,
   "metadata": {},
   "outputs": [],
   "source": [
    "situaciones.to_parquet('../Data/SituacionEstaciones/situaciones.parquet')"
   ]
  },
  {
   "cell_type": "code",
   "execution_count": null,
   "metadata": {},
   "outputs": [],
   "source": [
    "situaciones.head(10)"
   ]
  },
  {
   "cell_type": "markdown",
   "metadata": {},
   "source": [
    "**Variables type check**: correct"
   ]
  },
  {
   "cell_type": "code",
   "execution_count": null,
   "metadata": {},
   "outputs": [],
   "source": [
    "situaciones.dtypes"
   ]
  },
  {
   "cell_type": "markdown",
   "metadata": {},
   "source": [
    "**NaN check**: don't exist"
   ]
  },
  {
   "cell_type": "code",
   "execution_count": null,
   "metadata": {},
   "outputs": [],
   "source": [
    "situaciones.isna().sum()"
   ]
  },
  {
   "cell_type": "markdown",
   "metadata": {},
   "source": [
    "All stations are active. Variable **activate** is irrelevant and can be dropped"
   ]
  },
  {
   "cell_type": "code",
   "execution_count": null,
   "metadata": {},
   "outputs": [],
   "source": [
    "situaciones[\"activate\"].value_counts()"
   ]
  },
  {
   "cell_type": "code",
   "execution_count": null,
   "metadata": {},
   "outputs": [],
   "source": [
    "situaciones.value_counts([\"name\", \"number\"])"
   ]
  },
  {
   "cell_type": "markdown",
   "metadata": {},
   "source": [
    "Distribution of **number of reservations** varies across **stations and months**. \n",
    "- December has the lowest number of reservations followed by august. This may beacuase of holidays\n",
    "- San Hermenegildo is the station that gets more reservations (total=and San Juan the Lowest"
   ]
  },
  {
   "cell_type": "code",
   "execution_count": null,
   "metadata": {},
   "outputs": [],
   "source": [
    "fig = go.Figure()\n",
    "fig.add_trace(\n",
    "    go.Bar(\n",
    "        x = situaciones[\"name\"],\n",
    "        y = situaciones.groupby(situaciones[\"name\"])[\"reservations_count\"].sum(),\n",
    "        name = \"Julio\"\n",
    "    )\n",
    ")\n",
    "fig.update_layout(title = \"Número de reservas total de reservas Jul-Dic 2019 por Estación y Mes\", xaxis={'categoryorder':'total descending'})\n",
    "fig.show()"
   ]
  },
  {
   "cell_type": "code",
   "execution_count": null,
   "metadata": {},
   "outputs": [],
   "source": [
    "situaciones.head()"
   ]
  },
  {
   "cell_type": "code",
   "execution_count": null,
   "metadata": {},
   "outputs": [],
   "source": [
    "situaciones['number'].unique()"
   ]
  },
  {
   "cell_type": "code",
   "execution_count": null,
   "metadata": {},
   "outputs": [],
   "source": [
    "bases2=pd.read_excel('../Data/Bases/bases_bicimad.xls')\n",
    "bases2['Número'].unique()\n"
   ]
  },
  {
   "cell_type": "code",
   "execution_count": null,
   "metadata": {},
   "outputs": [],
   "source": [
    "bases2['number']=bases2['Número'].apply(lambda x: x.r)"
   ]
  }
 ],
 "metadata": {
  "kernelspec": {
   "display_name": "Python 3",
   "language": "python",
   "name": "python3"
  },
  "language_info": {
   "codemirror_mode": {
    "name": "ipython",
    "version": 3
   },
   "file_extension": ".py",
   "mimetype": "text/x-python",
   "name": "python",
   "nbconvert_exporter": "python",
   "pygments_lexer": "ipython3",
   "version": "3.8.8"
  },
  "vscode": {
   "interpreter": {
    "hash": "9fef7a30f113eaa53eb8b5c309fb488b4423c5d8965bf87e9ef8b3198259acb6"
   }
  }
 },
 "nbformat": 4,
 "nbformat_minor": 2
}
