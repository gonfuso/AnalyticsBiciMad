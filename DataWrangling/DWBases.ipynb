{
 "cells": [
  {
   "cell_type": "markdown",
   "metadata": {},
   "source": [
    "## **DATA WRANGLING BASES**\n",
    "This file attemps to gather, collect, and transform the bases raw dataset from the source attached below in order to analyse the data avilable and proceed with it. The following processes will be dealt with:\n",
    "\n",
    "1. Reading the .csv file and transforming variables\n",
    "2. Data exploration\n",
    "3. Reshaping data\n",
    "4. Filtering data"
   ]
  },
  {
   "cell_type": "markdown",
   "metadata": {},
   "source": [
    "#### **IMPORT LIBRARIES**"
   ]
  },
  {
   "cell_type": "code",
   "execution_count": null,
   "metadata": {},
   "outputs": [],
   "source": [
    "import pandas as pd \n",
    "import plotly.express as px\n",
    "import plotly.graph_objects as go"
   ]
  },
  {
   "cell_type": "markdown",
   "metadata": {},
   "source": [
    "#### **1. READ DATA and VARIABLE TRANSFORMATION**\n",
    "**Dataset**: bases_bicimad.xls     \n",
    "\n",
    "**Description**: Dataset of the existing bases of the BiciMAD service. \n",
    "\n",
    "**Dataframe size**: 269 base stations including extensions and 13 variables."
   ]
  },
  {
   "cell_type": "code",
   "execution_count": null,
   "metadata": {},
   "outputs": [],
   "source": [
    "bases= pd.read_excel(\"../Data/Bases/bases_bicimad.xls\")\n",
    "bases.shape"
   ]
  },
  {
   "cell_type": "code",
   "execution_count": null,
   "metadata": {},
   "outputs": [],
   "source": [
    "bases.head()"
   ]
  },
  {
   "cell_type": "markdown",
   "metadata": {},
   "source": [
    "**Variables type check**: correct"
   ]
  },
  {
   "cell_type": "code",
   "execution_count": null,
   "metadata": {},
   "outputs": [],
   "source": [
    "bases.dtypes"
   ]
  },
  {
   "cell_type": "markdown",
   "metadata": {},
   "source": [
    "**NaN check**: don't exist"
   ]
  },
  {
   "cell_type": "code",
   "execution_count": null,
   "metadata": {},
   "outputs": [],
   "source": [
    "bases.isna().sum()"
   ]
  },
  {
   "cell_type": "markdown",
   "metadata": {},
   "source": [
    "#### **2. DATA EXPLORATION**"
   ]
  },
  {
   "cell_type": "markdown",
   "metadata": {},
   "source": [
    "Variable **\"Tipo de Reserva\"** has only one category: irrelevant"
   ]
  },
  {
   "cell_type": "code",
   "execution_count": null,
   "metadata": {},
   "outputs": [],
   "source": [
    "bases[\"Tipo de Reserva\"].value_counts()"
   ]
  },
  {
   "cell_type": "markdown",
   "metadata": {},
   "source": [
    "**Número de Plazas distribution**:an 81% of bases have 24 docks. "
   ]
  },
  {
   "cell_type": "code",
   "execution_count": null,
   "metadata": {},
   "outputs": [],
   "source": [
    "fig = px.histogram(bases, x=\"Número de Plazas\", nbins = 30, histnorm='probability density')\n",
    "fig.update_traces(marker_color = \"darkorange\")\n",
    "fig.show()"
   ]
  },
  {
   "cell_type": "markdown",
   "metadata": {},
   "source": [
    "**Distrito distribution**: Half the number of stations are concentrated in CENTRO, SALAMANCA and CHAMBERÍ"
   ]
  },
  {
   "cell_type": "code",
   "execution_count": null,
   "metadata": {},
   "outputs": [],
   "source": [
    "count_distrito = bases[\"Distrito\"].value_counts() \n",
    "labels_distrito = count_distrito.index\n",
    "\n",
    "fig = px.pie(bases, values=count_distrito, names=labels_distrito, color=labels_distrito,\n",
    "             color_discrete_sequence=px.colors.sequential.RdBu)\n",
    "\n",
    "fig.update_layout(title = \"Distribución número de bases por distrito\")\n",
    "fig.show()"
   ]
  },
  {
   "cell_type": "markdown",
   "metadata": {},
   "source": [
    "**Barrio distribution**: irregular distribution between neighborhoods. Number of bases range from 1 to 14 by neigborhood "
   ]
  },
  {
   "cell_type": "code",
   "execution_count": null,
   "metadata": {},
   "outputs": [],
   "source": [
    "count_barrio = bases[\"Barrio\"].value_counts() \n",
    "labels_barrio = count_barrio.index\n",
    "\n",
    "fig = go.Figure()\n",
    "fig.add_trace(\n",
    "    go.Bar(\n",
    "        x = labels_barrio,\n",
    "        y = count_barrio,\n",
    "        showlegend = False\n",
    "    )\n",
    ")\n",
    "fig.update_layout(title = \"Distribución Número de número de bases por barrio\",\n",
    "                  xaxis_title = \"Barrio\", yaxis_title = \"Número absoluto de estaciones\")\n",
    "fig.show()"
   ]
  },
  {
   "cell_type": "markdown",
   "metadata": {},
   "source": [
    "**Location of Bases - Latitude and Longitude**: all bases located in Madrid. Correct data."
   ]
  },
  {
   "cell_type": "markdown",
   "metadata": {},
   "source": [
    "#### **3. RESHAPING DATA**"
   ]
  },
  {
   "cell_type": "markdown",
   "metadata": {},
   "source": [
    "1. With the purpose of optimizing space, variables that are irrelevant for the model are deleted - bases_clean\n",
    "\n",
    "** Delete CALLE and Nº de FINCA as these to variables concatenated form variable DIRECCION. "
   ]
  },
  {
   "cell_type": "code",
   "execution_count": null,
   "metadata": {},
   "outputs": [],
   "source": [
    "bases_clean = bases.drop(columns = [\"Gis_X\", \"Gis_Y\", \"Fecha de Alta\", \"Direccion\", \"Tipo de Reserva\"], axis = 1)\n",
    "bases_clean.head()"
   ]
  },
  {
   "cell_type": "code",
   "execution_count": null,
   "metadata": {},
   "outputs": [],
   "source": [
    "bases_clean.head(50)"
   ]
  },
  {
   "cell_type": "markdown",
   "metadata": {},
   "source": [
    "2. Join bases that have two stations (a and b) under the same station. Add the number of docks."
   ]
  },
  {
   "cell_type": "code",
   "execution_count": null,
   "metadata": {},
   "outputs": [],
   "source": [
    "bases_repeat = bases_clean[(bases_clean['Número'].str.len() > 3 )]\n",
    "bases_repeat"
   ]
  },
  {
   "cell_type": "code",
   "execution_count": null,
   "metadata": {},
   "outputs": [],
   "source": [
    "bases_clean.loc[0:1, \"Número\"] = 1\n",
    "bases_clean.loc[21, \"Número\"] = 20\n",
    "bases_clean.loc[25:26, \"Número\"] = 25\n",
    "bases_clean.loc[79:80, \"Número\"] = 80\n",
    "bases_clean.loc[91, \"Número\"] = 90\n",
    "\n",
    "bases_clean.loc[107:108, \"Número\"] = 106\n",
    "bases_clean.loc[113:114, \"Número\"] = 111\n",
    "bases_clean.loc[119:120, \"Número\"] = 116\n",
    "\n",
    "\n",
    "bases_clean.loc[133, \"Número\"] = 128\n",
    "bases_clean.loc[146, \"Número\"] = 140\n",
    "bases_clean.loc[168, \"Número\"] = 161\n",
    "\n",
    "bases_clean.dtypes"
   ]
  },
  {
   "cell_type": "code",
   "execution_count": null,
   "metadata": {},
   "outputs": [],
   "source": [
    "bases_final = bases_clean.groupby([\"Número\", 'Distrito', 'Barrio', 'Calle'], as_index=False).agg({ 'Nº Finca':pd.Series.mode, 'Número de Plazas':'sum', 'Longitud': 'min', 'Latitud': 'min'})"
   ]
  },
  {
   "cell_type": "code",
   "execution_count": null,
   "metadata": {},
   "outputs": [],
   "source": [
    "bases_clean2=bases_clean.copy()\n",
    "bases_clean2.loc[0, \"Número\"] = '1a'\n",
    "bases_clean2.loc[1, \"Número\"] = '1b'\n",
    "bases_clean2.loc[21, \"Número\"] = 20\n",
    "bases_clean2.loc[25, \"Número\"] = '25a'\n",
    "bases_clean2.loc[26, \"Número\"] = '25b'\n",
    "bases_clean2.loc[79, \"Número\"] = '80a'\n",
    "bases_clean2.loc[80, \"Número\"] = '80b'\n",
    "bases_clean2.loc[91, \"Número\"] = 90\n",
    "\n",
    "bases_clean2.loc[107, \"Número\"] = '106a'\n",
    "bases_clean2.loc[108, \"Número\"] = '106b'\n",
    "bases_clean2.loc[113, \"Número\"] = '111a'\n",
    "bases_clean2.loc[114, \"Número\"] = '111b'\n",
    "bases_clean2.loc[119, \"Número\"] = '116a'\n",
    "bases_clean2.loc[120, \"Número\"] = '116b'\n",
    "bases_clean2.loc[133, \"Número\"] = 128\n",
    "bases_clean2.loc[146, \"Número\"] = 140\n",
    "bases_clean2.loc[168, \"Número\"] = 161\n",
    "\n",
    "bases_final2 = bases_clean2.groupby([\"Número\", 'Distrito', 'Barrio', 'Calle'], as_index=False).agg({ 'Nº Finca':pd.Series.mode, 'Número de Plazas':'sum', 'Longitud': 'min', 'Latitud': 'min'})\n",
    "bases_final2=bases_final2.astype({'Número': str, 'Nº Finca': str})"
   ]
  },
  {
   "cell_type": "markdown",
   "metadata": {},
   "source": [
    "#### **Save data**"
   ]
  },
  {
   "cell_type": "code",
   "execution_count": null,
   "metadata": {},
   "outputs": [],
   "source": [
    "bases_final2.to_parquet('../Data/Bases/basesSituaciones.parquet')"
   ]
  },
  {
   "cell_type": "code",
   "execution_count": null,
   "metadata": {},
   "outputs": [],
   "source": [
    "bases_final.to_csv('../Data/Bases/bases.csv')"
   ]
  }
 ],
 "metadata": {
  "kernelspec": {
   "display_name": "Python 3.8.8 ('base')",
   "language": "python",
   "name": "python3"
  },
  "language_info": {
   "codemirror_mode": {
    "name": "ipython",
    "version": 3
   },
   "file_extension": ".py",
   "mimetype": "text/x-python",
   "name": "python",
   "nbconvert_exporter": "python",
   "pygments_lexer": "ipython3",
   "version": "3.8.8"
  },
  "vscode": {
   "interpreter": {
    "hash": "de895c32b6356e3cf494ff1896ba6818a42238a7ce68506969923ba89e01dea3"
   }
  }
 },
 "nbformat": 4,
 "nbformat_minor": 2
}
