{
 "cells": [
  {
   "cell_type": "markdown",
   "metadata": {},
   "source": [
    "# MAP OF STATIONS BY DISTRICT"
   ]
  },
  {
   "cell_type": "markdown",
   "metadata": {},
   "source": [
    "#### **LIBRARIES**"
   ]
  },
  {
   "cell_type": "code",
   "execution_count": 2,
   "metadata": {},
   "outputs": [],
   "source": [
    "import pandas as pd \n",
    "import plotly.express as px\n",
    "import plotly.graph_objects as go"
   ]
  },
  {
   "cell_type": "code",
   "execution_count": 7,
   "metadata": {},
   "outputs": [
    {
     "data": {
      "text/html": [
       "<div>\n",
       "<style scoped>\n",
       "    .dataframe tbody tr th:only-of-type {\n",
       "        vertical-align: middle;\n",
       "    }\n",
       "\n",
       "    .dataframe tbody tr th {\n",
       "        vertical-align: top;\n",
       "    }\n",
       "\n",
       "    .dataframe thead th {\n",
       "        text-align: right;\n",
       "    }\n",
       "</style>\n",
       "<table border=\"1\" class=\"dataframe\">\n",
       "  <thead>\n",
       "    <tr style=\"text-align: right;\">\n",
       "      <th></th>\n",
       "      <th>idplug_base</th>\n",
       "      <th>user_type</th>\n",
       "      <th>idunplug_base</th>\n",
       "      <th>travel_time</th>\n",
       "      <th>idunplug_station</th>\n",
       "      <th>ageRange</th>\n",
       "      <th>idplug_station</th>\n",
       "      <th>unplug_hourTime</th>\n",
       "      <th>zip_code</th>\n",
       "      <th>return_date</th>\n",
       "      <th>status</th>\n",
       "      <th>Origen_destino</th>\n",
       "      <th>Número_Salida</th>\n",
       "      <th>Distrito_Salida</th>\n",
       "      <th>Barrio_Salida</th>\n",
       "      <th>Número de Plazas_Salida</th>\n",
       "      <th>Latitud_Salida</th>\n",
       "      <th>Longitud_Salida</th>\n",
       "      <th>Número_Llegada</th>\n",
       "      <th>Distrito_Llegada</th>\n",
       "      <th>Barrio_Llegada</th>\n",
       "      <th>Número de Plazas_Llegada</th>\n",
       "      <th>Latitud_Llegada</th>\n",
       "      <th>Longitud_Llegada</th>\n",
       "    </tr>\n",
       "  </thead>\n",
       "  <tbody>\n",
       "    <tr>\n",
       "      <th>0</th>\n",
       "      <td>5</td>\n",
       "      <td>1</td>\n",
       "      <td>20</td>\n",
       "      <td>154</td>\n",
       "      <td>44</td>\n",
       "      <td>5</td>\n",
       "      <td>40</td>\n",
       "      <td>2019-07-01 00:00:00+00:00</td>\n",
       "      <td>28007</td>\n",
       "      <td>2019-07-01 02:33:59.999961600+00:00</td>\n",
       "      <td>short_rental</td>\n",
       "      <td>44-40</td>\n",
       "      <td>44</td>\n",
       "      <td>01  CENTRO</td>\n",
       "      <td>01-02 EMBAJADORES</td>\n",
       "      <td>21.0</td>\n",
       "      <td>40.409817</td>\n",
       "      <td>-3.703914</td>\n",
       "      <td>40</td>\n",
       "      <td>01  CENTRO</td>\n",
       "      <td>01-02 EMBAJADORES</td>\n",
       "      <td>24.0</td>\n",
       "      <td>40.413788</td>\n",
       "      <td>-3.704746</td>\n",
       "    </tr>\n",
       "    <tr>\n",
       "      <th>1</th>\n",
       "      <td>8</td>\n",
       "      <td>1</td>\n",
       "      <td>17</td>\n",
       "      <td>184</td>\n",
       "      <td>57</td>\n",
       "      <td>4</td>\n",
       "      <td>129</td>\n",
       "      <td>2019-07-01 00:00:00+00:00</td>\n",
       "      <td>28045</td>\n",
       "      <td>2019-07-01 03:04:00.000019200+00:00</td>\n",
       "      <td>short_rental</td>\n",
       "      <td>57-129</td>\n",
       "      <td>57</td>\n",
       "      <td>01  CENTRO</td>\n",
       "      <td>01-05 UNIVERSIDAD</td>\n",
       "      <td>24.0</td>\n",
       "      <td>40.429638</td>\n",
       "      <td>-3.712818</td>\n",
       "      <td>129</td>\n",
       "      <td>07  CHAMBERÍ</td>\n",
       "      <td>07-05 RÍOS ROSAS</td>\n",
       "      <td>24.0</td>\n",
       "      <td>40.438469</td>\n",
       "      <td>-3.698282</td>\n",
       "    </tr>\n",
       "    <tr>\n",
       "      <th>2</th>\n",
       "      <td>15</td>\n",
       "      <td>1</td>\n",
       "      <td>16</td>\n",
       "      <td>282</td>\n",
       "      <td>53</td>\n",
       "      <td>4</td>\n",
       "      <td>43</td>\n",
       "      <td>2019-07-01 00:00:00+00:00</td>\n",
       "      <td>nan</td>\n",
       "      <td>2019-07-01 04:41:59.999971200+00:00</td>\n",
       "      <td>short_rental</td>\n",
       "      <td>53-43</td>\n",
       "      <td>53</td>\n",
       "      <td>01  CENTRO</td>\n",
       "      <td>01-02 EMBAJADORES</td>\n",
       "      <td>24.0</td>\n",
       "      <td>40.408279</td>\n",
       "      <td>-3.700730</td>\n",
       "      <td>43</td>\n",
       "      <td>01  CENTRO</td>\n",
       "      <td>01-02 EMBAJADORES</td>\n",
       "      <td>24.0</td>\n",
       "      <td>40.410088</td>\n",
       "      <td>-3.702545</td>\n",
       "    </tr>\n",
       "    <tr>\n",
       "      <th>3</th>\n",
       "      <td>18</td>\n",
       "      <td>1</td>\n",
       "      <td>18</td>\n",
       "      <td>388</td>\n",
       "      <td>56</td>\n",
       "      <td>0</td>\n",
       "      <td>13</td>\n",
       "      <td>2019-07-01 00:00:00+00:00</td>\n",
       "      <td>nan</td>\n",
       "      <td>2019-07-01 06:27:59.999961600+00:00</td>\n",
       "      <td>short_rental</td>\n",
       "      <td>56-13</td>\n",
       "      <td>56</td>\n",
       "      <td>01  CENTRO</td>\n",
       "      <td>01-06 SOL</td>\n",
       "      <td>24.0</td>\n",
       "      <td>40.418484</td>\n",
       "      <td>-3.703288</td>\n",
       "      <td>13</td>\n",
       "      <td>01  CENTRO</td>\n",
       "      <td>01-05 UNIVERSIDAD</td>\n",
       "      <td>24.0</td>\n",
       "      <td>40.427364</td>\n",
       "      <td>-3.710473</td>\n",
       "    </tr>\n",
       "    <tr>\n",
       "      <th>4</th>\n",
       "      <td>1</td>\n",
       "      <td>1</td>\n",
       "      <td>20</td>\n",
       "      <td>254</td>\n",
       "      <td>105</td>\n",
       "      <td>0</td>\n",
       "      <td>75</td>\n",
       "      <td>2019-07-01 00:00:00+00:00</td>\n",
       "      <td>nan</td>\n",
       "      <td>2019-07-01 04:14:00.000009600+00:00</td>\n",
       "      <td>short_rental</td>\n",
       "      <td>105-75</td>\n",
       "      <td>105</td>\n",
       "      <td>04  SALAMANCA</td>\n",
       "      <td>04-01 RECOLETOS</td>\n",
       "      <td>24.0</td>\n",
       "      <td>40.427067</td>\n",
       "      <td>-3.687474</td>\n",
       "      <td>75</td>\n",
       "      <td>03  RETIRO</td>\n",
       "      <td>03-05 JERÓNIMOS</td>\n",
       "      <td>24.0</td>\n",
       "      <td>40.408340</td>\n",
       "      <td>-3.678415</td>\n",
       "    </tr>\n",
       "  </tbody>\n",
       "</table>\n",
       "</div>"
      ],
      "text/plain": [
       "   idplug_base  user_type  idunplug_base  travel_time  idunplug_station  \\\n",
       "0            5          1             20          154                44   \n",
       "1            8          1             17          184                57   \n",
       "2           15          1             16          282                53   \n",
       "3           18          1             18          388                56   \n",
       "4            1          1             20          254               105   \n",
       "\n",
       "   ageRange  idplug_station            unplug_hourTime zip_code  \\\n",
       "0         5              40  2019-07-01 00:00:00+00:00    28007   \n",
       "1         4             129  2019-07-01 00:00:00+00:00    28045   \n",
       "2         4              43  2019-07-01 00:00:00+00:00      nan   \n",
       "3         0              13  2019-07-01 00:00:00+00:00      nan   \n",
       "4         0              75  2019-07-01 00:00:00+00:00      nan   \n",
       "\n",
       "                           return_date        status Origen_destino  \\\n",
       "0  2019-07-01 02:33:59.999961600+00:00  short_rental          44-40   \n",
       "1  2019-07-01 03:04:00.000019200+00:00  short_rental         57-129   \n",
       "2  2019-07-01 04:41:59.999971200+00:00  short_rental          53-43   \n",
       "3  2019-07-01 06:27:59.999961600+00:00  short_rental          56-13   \n",
       "4  2019-07-01 04:14:00.000009600+00:00  short_rental         105-75   \n",
       "\n",
       "   Número_Salida Distrito_Salida      Barrio_Salida  Número de Plazas_Salida  \\\n",
       "0             44      01  CENTRO  01-02 EMBAJADORES                     21.0   \n",
       "1             57      01  CENTRO  01-05 UNIVERSIDAD                     24.0   \n",
       "2             53      01  CENTRO  01-02 EMBAJADORES                     24.0   \n",
       "3             56      01  CENTRO          01-06 SOL                     24.0   \n",
       "4            105   04  SALAMANCA    04-01 RECOLETOS                     24.0   \n",
       "\n",
       "   Latitud_Salida  Longitud_Salida  Número_Llegada Distrito_Llegada  \\\n",
       "0       40.409817        -3.703914              40       01  CENTRO   \n",
       "1       40.429638        -3.712818             129     07  CHAMBERÍ   \n",
       "2       40.408279        -3.700730              43       01  CENTRO   \n",
       "3       40.418484        -3.703288              13       01  CENTRO   \n",
       "4       40.427067        -3.687474              75       03  RETIRO   \n",
       "\n",
       "      Barrio_Llegada  Número de Plazas_Llegada  Latitud_Llegada  \\\n",
       "0  01-02 EMBAJADORES                      24.0        40.413788   \n",
       "1   07-05 RÍOS ROSAS                      24.0        40.438469   \n",
       "2  01-02 EMBAJADORES                      24.0        40.410088   \n",
       "3  01-05 UNIVERSIDAD                      24.0        40.427364   \n",
       "4    03-05 JERÓNIMOS                      24.0        40.408340   \n",
       "\n",
       "   Longitud_Llegada  \n",
       "0         -3.704746  \n",
       "1         -3.698282  \n",
       "2         -3.702545  \n",
       "3         -3.710473  \n",
       "4         -3.678415  "
      ]
     },
     "execution_count": 7,
     "metadata": {},
     "output_type": "execute_result"
    }
   ],
   "source": [
    "bases= pd.read_csv(\"../Data/Bases/bases.csv\")\n",
    "itinerarios_bases = pd.read_parquet('../Data/Itinerarios/itinerarios_bases.parquet')\n",
    "pd.set_option('display.max_columns', None)\n",
    "itinerarios_bases.head()"
   ]
  },
  {
   "cell_type": "code",
   "execution_count": 4,
   "metadata": {},
   "outputs": [
    {
     "data": {
      "text/plain": [
       "Unnamed: 0            int64\n",
       "Número                int64\n",
       "Distrito             object\n",
       "Barrio               object\n",
       "Calle                object\n",
       "Nº Finca             object\n",
       "Número de Plazas      int64\n",
       "Longitud            float64\n",
       "Latitud             float64\n",
       "dtype: object"
      ]
     },
     "execution_count": 4,
     "metadata": {},
     "output_type": "execute_result"
    }
   ],
   "source": [
    "bases.dtypes"
   ]
  },
  {
   "cell_type": "code",
   "execution_count": 17,
   "metadata": {},
   "outputs": [
    {
     "data": {
      "text/html": [
       "<div>\n",
       "<style scoped>\n",
       "    .dataframe tbody tr th:only-of-type {\n",
       "        vertical-align: middle;\n",
       "    }\n",
       "\n",
       "    .dataframe tbody tr th {\n",
       "        vertical-align: top;\n",
       "    }\n",
       "\n",
       "    .dataframe thead th {\n",
       "        text-align: right;\n",
       "    }\n",
       "</style>\n",
       "<table border=\"1\" class=\"dataframe\">\n",
       "  <thead>\n",
       "    <tr style=\"text-align: right;\">\n",
       "      <th></th>\n",
       "      <th>idunplug_station</th>\n",
       "      <th>Distrito_Salida</th>\n",
       "      <th>Barrio_Salida</th>\n",
       "      <th>Número de Plazas_Salida</th>\n",
       "      <th>Latitud_Salida</th>\n",
       "      <th>Longitud_Salida</th>\n",
       "      <th>Count</th>\n",
       "    </tr>\n",
       "  </thead>\n",
       "  <tbody>\n",
       "    <tr>\n",
       "      <th>0</th>\n",
       "      <td>1</td>\n",
       "      <td>01  CENTRO</td>\n",
       "      <td>01-06 SOL</td>\n",
       "      <td>60.0</td>\n",
       "      <td>40.417110</td>\n",
       "      <td>-3.701998</td>\n",
       "      <td>10833</td>\n",
       "    </tr>\n",
       "    <tr>\n",
       "      <th>1</th>\n",
       "      <td>2</td>\n",
       "      <td>01  CENTRO</td>\n",
       "      <td>01-05 UNIVERSIDAD</td>\n",
       "      <td>24.0</td>\n",
       "      <td>40.420582</td>\n",
       "      <td>-3.705674</td>\n",
       "      <td>2540</td>\n",
       "    </tr>\n",
       "    <tr>\n",
       "      <th>2</th>\n",
       "      <td>3</td>\n",
       "      <td>07  CHAMBERÍ</td>\n",
       "      <td>07-02 ARAPILES</td>\n",
       "      <td>18.0</td>\n",
       "      <td>40.430321</td>\n",
       "      <td>-3.707212</td>\n",
       "      <td>10524</td>\n",
       "    </tr>\n",
       "    <tr>\n",
       "      <th>3</th>\n",
       "      <td>4</td>\n",
       "      <td>01  CENTRO</td>\n",
       "      <td>01-05 UNIVERSIDAD</td>\n",
       "      <td>24.0</td>\n",
       "      <td>40.428589</td>\n",
       "      <td>-3.702674</td>\n",
       "      <td>7363</td>\n",
       "    </tr>\n",
       "    <tr>\n",
       "      <th>4</th>\n",
       "      <td>5</td>\n",
       "      <td>01  CENTRO</td>\n",
       "      <td>01-04 JUSTICIA</td>\n",
       "      <td>27.0</td>\n",
       "      <td>40.428364</td>\n",
       "      <td>-3.702074</td>\n",
       "      <td>6459</td>\n",
       "    </tr>\n",
       "    <tr>\n",
       "      <th>...</th>\n",
       "      <td>...</td>\n",
       "      <td>...</td>\n",
       "      <td>...</td>\n",
       "      <td>...</td>\n",
       "      <td>...</td>\n",
       "      <td>...</td>\n",
       "      <td>...</td>\n",
       "    </tr>\n",
       "    <tr>\n",
       "      <th>204</th>\n",
       "      <td>215</td>\n",
       "      <td>15  CIUDAD LINEAL</td>\n",
       "      <td>15-02 PUEBLO NUEVO</td>\n",
       "      <td>24.0</td>\n",
       "      <td>40.429691</td>\n",
       "      <td>-3.640970</td>\n",
       "      <td>3822</td>\n",
       "    </tr>\n",
       "    <tr>\n",
       "      <th>205</th>\n",
       "      <td>216</td>\n",
       "      <td>10  LATINA</td>\n",
       "      <td>10-02 PUERTA DEL ÁNGEL</td>\n",
       "      <td>24.0</td>\n",
       "      <td>40.414051</td>\n",
       "      <td>-3.728895</td>\n",
       "      <td>2761</td>\n",
       "    </tr>\n",
       "    <tr>\n",
       "      <th>206</th>\n",
       "      <td>217</td>\n",
       "      <td>08  FUENCARRAL-EL PARDO</td>\n",
       "      <td>08-05 LA PAZ</td>\n",
       "      <td>24.0</td>\n",
       "      <td>40.481003</td>\n",
       "      <td>-3.689109</td>\n",
       "      <td>2655</td>\n",
       "    </tr>\n",
       "    <tr>\n",
       "      <th>207</th>\n",
       "      <td>218</td>\n",
       "      <td>14  MORATALAZ</td>\n",
       "      <td>14-04 MEDIA LEGUA</td>\n",
       "      <td>24.0</td>\n",
       "      <td>40.410553</td>\n",
       "      <td>-3.657400</td>\n",
       "      <td>4642</td>\n",
       "    </tr>\n",
       "    <tr>\n",
       "      <th>208</th>\n",
       "      <td>219</td>\n",
       "      <td>14  MORATALAZ</td>\n",
       "      <td>14-03 MARROQUINA</td>\n",
       "      <td>24.0</td>\n",
       "      <td>40.408398</td>\n",
       "      <td>-3.646778</td>\n",
       "      <td>5832</td>\n",
       "    </tr>\n",
       "  </tbody>\n",
       "</table>\n",
       "<p>209 rows × 7 columns</p>\n",
       "</div>"
      ],
      "text/plain": [
       "     idunplug_station          Distrito_Salida           Barrio_Salida  \\\n",
       "0                   1               01  CENTRO               01-06 SOL   \n",
       "1                   2               01  CENTRO       01-05 UNIVERSIDAD   \n",
       "2                   3             07  CHAMBERÍ          07-02 ARAPILES   \n",
       "3                   4               01  CENTRO       01-05 UNIVERSIDAD   \n",
       "4                   5               01  CENTRO          01-04 JUSTICIA   \n",
       "..                ...                      ...                     ...   \n",
       "204               215        15  CIUDAD LINEAL      15-02 PUEBLO NUEVO   \n",
       "205               216               10  LATINA  10-02 PUERTA DEL ÁNGEL   \n",
       "206               217  08  FUENCARRAL-EL PARDO            08-05 LA PAZ   \n",
       "207               218            14  MORATALAZ       14-04 MEDIA LEGUA   \n",
       "208               219            14  MORATALAZ        14-03 MARROQUINA   \n",
       "\n",
       "     Número de Plazas_Salida  Latitud_Salida  Longitud_Salida  Count  \n",
       "0                       60.0       40.417110        -3.701998  10833  \n",
       "1                       24.0       40.420582        -3.705674   2540  \n",
       "2                       18.0       40.430321        -3.707212  10524  \n",
       "3                       24.0       40.428589        -3.702674   7363  \n",
       "4                       27.0       40.428364        -3.702074   6459  \n",
       "..                       ...             ...              ...    ...  \n",
       "204                     24.0       40.429691        -3.640970   3822  \n",
       "205                     24.0       40.414051        -3.728895   2761  \n",
       "206                     24.0       40.481003        -3.689109   2655  \n",
       "207                     24.0       40.410553        -3.657400   4642  \n",
       "208                     24.0       40.408398        -3.646778   5832  \n",
       "\n",
       "[209 rows x 7 columns]"
      ]
     },
     "execution_count": 17,
     "metadata": {},
     "output_type": "execute_result"
    }
   ],
   "source": [
    "df = itinerarios_bases.groupby([\"idunplug_station\", \"Distrito_Salida\", \"Barrio_Salida\", \"Número de Plazas_Salida\", \"Latitud_Salida\", \"Longitud_Salida\"]).size().reset_index(name='Count')\n",
    "df"
   ]
  },
  {
   "cell_type": "code",
   "execution_count": null,
   "metadata": {},
   "outputs": [],
   "source": [
    "df = itinerarios_bases.groupby([\"idplug_station\", \"Distrito_Salida\", \"Barrio_Salida\", \"Número de Plazas_Salida\", \"Latitud_Salida\", \"Longitud_Salida\"]).size().reset_index(name='Count')\n",
    "df"
   ]
  },
  {
   "cell_type": "code",
   "execution_count": 27,
   "metadata": {},
   "outputs": [
    {
     "data": {
      "application/vnd.plotly.v1+json": {
       "config": {
        "plotlyServerURL": "https://plot.ly"
       },
       "data": [
        {
         "hovertemplate": "Distrito_Salida=01  CENTRO<br>size=%{marker.size}<br>Latitud_Salida=%{lat}<br>Longitud_Salida=%{lon}<extra></extra>",
         "lat": [
          40.417110443115234,
          40.42058181762695,
          40.4285888671875,
          40.42836380004883,
          40.424163818359375,
          40.42521667480469,
          40.41561508178711,
          40.4254035949707,
          40.42705154418945,
          40.42852783203125,
          40.427364349365234,
          40.426292419433594,
          40.422943115234375,
          40.42316818237305,
          40.420921325683594,
          40.421897888183594,
          40.419185638427734,
          40.417259216308594,
          40.423831939697266,
          40.41328430175781,
          40.418067932128906,
          40.41624450683594,
          40.419334411621094,
          40.416343688964844,
          40.41647720336914,
          40.41441345214844,
          40.414180755615234,
          40.41682434082031,
          40.41086196899414,
          40.41129684448242,
          40.4112663269043,
          40.413787841796875,
          40.412227630615234,
          40.410770416259766,
          40.41008758544922,
          40.40981674194336,
          40.40694808959961,
          40.40544891357422,
          40.40604782104492,
          40.40830993652344,
          40.40772247314453,
          40.41451644897461,
          40.40827941894531,
          40.4266242980957,
          40.424072265625,
          40.41848373413086,
          40.42963790893555,
          40.42226028442383,
          40.425479888916016,
          40.41082763671875,
          40.4185791015625,
          40.4139404296875,
          40.41975402832031,
          40.420616149902344
         ],
         "legendgroup": "01  CENTRO",
         "lon": [
          -3.701997995376587,
          -3.705673933029175,
          -3.70267391204834,
          -3.7020742893218994,
          -3.69840931892395,
          -3.697739839553833,
          -3.709409236907959,
          -3.6920816898345947,
          -3.7036192417144775,
          -3.7062201499938965,
          -3.710472583770752,
          -3.7073609828948975,
          -3.7074954509735107,
          -3.704185962677002,
          -3.6995677947998047,
          -3.695394992828369,
          -3.6952900886535645,
          -3.706024408340454,
          -3.694542169570923,
          -3.695580244064331,
          -3.698366165161133,
          -3.69580078125,
          -3.711542844772339,
          -3.706624984741211,
          -3.703209638595581,
          -3.7035043239593506,
          -3.7103676795959473,
          -3.711764097213745,
          -3.714123487472534,
          -3.71144437789917,
          -3.7090044021606445,
          -3.7047462463378906,
          -3.6989898681640625,
          -3.6982293128967285,
          -3.702544689178467,
          -3.703913688659668,
          -3.7111380100250244,
          -3.7020998001098633,
          -3.69924259185791,
          -3.6932199001312256,
          -3.6935935020446777,
          -3.7007837295532227,
          -3.7007296085357666,
          -3.700343608856201,
          -3.7019295692443848,
          -3.7032876014709473,
          -3.712818145751953,
          -3.6979458332061768,
          -3.7041165828704834,
          -3.6931347846984863,
          -3.6933298110961914,
          -3.7133381366729736,
          -3.7026309967041016,
          -3.7025368213653564
         ],
         "marker": {
          "color": "#636efa",
          "size": [
           30,
           12,
           12,
           13.5,
           12,
           10.5,
           12,
           12,
           12,
           12,
           12,
           10.5,
           10.5,
           12,
           12,
           12,
           15,
           24,
           12,
           13.5,
           12,
           12,
           13.5,
           13.5,
           10.5,
           12,
           12,
           12,
           12,
           12,
           13.5,
           12,
           9,
           12,
           12,
           10.5,
           10.5,
           12,
           12,
           12,
           13.5,
           12,
           12,
           10.5,
           12,
           12,
           12,
           12,
           10.5,
           12,
           10.5,
           12,
           13.5,
           12
          ],
          "sizemode": "area",
          "sizeref": 0.075
         },
         "mode": "markers",
         "name": "01  CENTRO",
         "showlegend": true,
         "subplot": "mapbox",
         "type": "scattermapbox"
        },
        {
         "hovertemplate": "Distrito_Salida=07  CHAMBERÍ<br>size=%{marker.size}<br>Latitud_Salida=%{lat}<br>Longitud_Salida=%{lon}<extra></extra>",
         "lat": [
          40.430320739746094,
          40.42771530151367,
          40.43357467651367,
          40.42952346801758,
          40.43063735961914,
          40.430816650390625,
          40.4353141784668,
          40.434566497802734,
          40.43390655517578,
          40.43903350830078,
          40.43846893310547,
          40.44171905517578,
          40.44175338745117,
          40.446388244628906,
          40.444026947021484,
          40.44148635864258,
          40.4456901550293,
          40.4354248046875,
          40.4331169128418,
          40.434326171875,
          40.43366241455078,
          40.4387321472168,
          40.44116973876953,
          40.44175338745117
         ],
         "legendgroup": "07  CHAMBERÍ",
         "lon": [
          -3.707212209701538,
          -3.6953067779541016,
          -3.717778205871582,
          -3.6962625980377197,
          -3.713468551635742,
          -3.6993181705474854,
          -3.694831609725952,
          -3.70174241065979,
          -3.7083988189697266,
          -3.715691566467285,
          -3.698281764984131,
          -3.701707124710083,
          -3.70402193069458,
          -3.7035911083221436,
          -3.6955113410949707,
          -3.692890167236328,
          -3.6915817260742188,
          -3.6892902851104736,
          -3.6915712356567383,
          -3.7148406505584717,
          -3.7046709060668945,
          -3.7038161754608154,
          -3.708096981048584,
          -3.714423894882202
         ],
         "marker": {
          "color": "#EF553B",
          "size": [
           9,
           12,
           24,
           12,
           12,
           12,
           12,
           12,
           12,
           13.5,
           12,
           10,
           12,
           12,
           12,
           12,
           12,
           6,
           12,
           13.5,
           12,
           12,
           12,
           12
          ],
          "sizemode": "area",
          "sizeref": 0.075
         },
         "mode": "markers",
         "name": "07  CHAMBERÍ",
         "showlegend": true,
         "subplot": "mapbox",
         "type": "scattermapbox"
        },
        {
         "hovertemplate": "Distrito_Salida=09  MONCLOA-ARAVACA<br>size=%{marker.size}<br>Latitud_Salida=%{lat}<br>Longitud_Salida=%{lon}<extra></extra>",
         "lat": [
          40.42599105834961,
          40.43476486206055,
          40.43262481689453,
          40.4277458190918,
          40.42782211303711,
          40.42538070678711,
          40.42406463623047,
          40.430904388427734,
          40.42205810546875
         ],
         "legendgroup": "09  MONCLOA-ARAVACA",
         "lon": [
          -3.713376760482788,
          -3.7201316356658936,
          -3.724872589111328,
          -3.720714569091797,
          -3.7174150943756104,
          -3.7169625759124756,
          -3.711845636367798,
          -3.7189152240753174,
          -3.722062349319458
         ],
         "marker": {
          "color": "#00cc96",
          "size": [
           12,
           12,
           12,
           12,
           12,
           12,
           24,
           12,
           13.5
          ],
          "sizemode": "area",
          "sizeref": 0.075
         },
         "mode": "markers",
         "name": "09  MONCLOA-ARAVACA",
         "showlegend": true,
         "subplot": "mapbox",
         "type": "scattermapbox"
        },
        {
         "hovertemplate": "Distrito_Salida=02  ARGANZUELA<br>size=%{marker.size}<br>Latitud_Salida=%{lat}<br>Longitud_Salida=%{lon}<extra></extra>",
         "lat": [
          40.40544891357422,
          40.404624938964844,
          40.407413482666016,
          40.400794982910156,
          40.40145492553711,
          40.403038024902344,
          40.40183639526367,
          40.40351867675781,
          40.40363311767578,
          40.39713668823242,
          40.39288330078125,
          40.413734436035156,
          40.40458297729492,
          40.40157699584961,
          40.40110397338867,
          40.39976119995117,
          40.4008674621582,
          40.39817428588867,
          40.39741516113281,
          40.39626693725586,
          40.39424133300781,
          40.391502380371094,
          40.394126892089844
         ],
         "legendgroup": "02  ARGANZUELA",
         "lon": [
          -3.707117795944214,
          -3.7027549743652344,
          -3.6907238960266113,
          -3.6881349086761475,
          -3.686577796936035,
          -3.69477915763855,
          -3.6986045837402344,
          -3.7107558250427246,
          -3.706437110900879,
          -3.6944851875305176,
          -3.697613477706909,
          -3.7176456451416016,
          -3.695915937423706,
          -3.71384596824646,
          -3.7044029235839844,
          -3.6984457969665527,
          -3.693544864654541,
          -3.702361583709717,
          -3.7063770294189453,
          -3.69830322265625,
          -3.6936302185058594,
          -3.694087028503418,
          -3.675924301147461
         ],
         "marker": {
          "color": "#ab63fa",
          "size": [
           12,
           12,
           25.5,
           12,
           12,
           12,
           12,
           12,
           10.5,
           12,
           13.5,
           12,
           12,
           12,
           12,
           12,
           12,
           12,
           13.5,
           10.5,
           12,
           12,
           12
          ],
          "sizemode": "area",
          "sizeref": 0.075
         },
         "mode": "markers",
         "name": "02  ARGANZUELA",
         "showlegend": true,
         "subplot": "mapbox",
         "type": "scattermapbox"
        },
        {
         "hovertemplate": "Distrito_Salida=03  RETIRO<br>size=%{marker.size}<br>Latitud_Salida=%{lat}<br>Longitud_Salida=%{lon}<extra></extra>",
         "lat": [
          40.41945266723633,
          40.42143630981445,
          40.42129898071289,
          40.41789245605469,
          40.41668701171875,
          40.41006088256836,
          40.4160041809082,
          40.41572189331055,
          40.41146469116211,
          40.41175842285156,
          40.40834045410156,
          40.407283782958984,
          40.406333923339844,
          40.400569915771484,
          40.40504837036133,
          40.409576416015625,
          40.408477783203125,
          40.41325759887695,
          40.40336990356445,
          40.421142578125,
          40.40302276611328,
          40.418174743652344,
          40.4187126159668
         ],
         "legendgroup": "03  RETIRO",
         "lon": [
          -3.688199281692505,
          -3.675205945968628,
          -3.672422409057617,
          -3.6706507205963135,
          -3.689382553100586,
          -3.6888668537139893,
          -3.674021005630493,
          -3.6696228981018066,
          -3.6690990924835205,
          -3.676576852798462,
          -3.678414821624756,
          -3.675154447555542,
          -3.670774221420288,
          -3.6745781898498535,
          -3.6805524826049805,
          -3.6919662952423096,
          -3.6696829795837402,
          -3.6745338439941406,
          -3.67269229888916,
          -3.6799299716949463,
          -3.678893804550171,
          -3.676640033721924,
          -3.6655023097991943
         ],
         "marker": {
          "color": "#FFA15A",
          "size": [
           12,
           12,
           12,
           12,
           12,
           13.5,
           12,
           12,
           12,
           12,
           12,
           12,
           11,
           12,
           12,
           12,
           12,
           12,
           12,
           13.5,
           12,
           13.5,
           12
          ],
          "sizemode": "area",
          "sizeref": 0.075
         },
         "mode": "markers",
         "name": "03  RETIRO",
         "showlegend": true,
         "subplot": "mapbox",
         "type": "scattermapbox"
        },
        {
         "hovertemplate": "Distrito_Salida=04  SALAMANCA<br>size=%{marker.size}<br>Latitud_Salida=%{lat}<br>Longitud_Salida=%{lon}<extra></extra>",
         "lat": [
          40.42767333984375,
          40.431209564208984,
          40.42726135253906,
          40.425079345703125,
          40.42611312866211,
          40.42622375488281,
          40.425697326660156,
          40.423370361328125,
          40.422664642333984,
          40.42205047607422,
          40.4224853515625,
          40.424190521240234,
          40.42610549926758,
          40.42478561401367,
          40.42312240600586,
          40.4211540222168,
          40.43037414550781,
          40.42676544189453,
          40.427066802978516,
          40.42486572265625,
          40.42159652709961,
          40.42744064331055,
          40.43013000488281,
          40.43352508544922,
          40.43461608886719,
          40.43231964111328,
          40.429771423339844,
          40.425636291503906,
          40.426002502441406,
          40.42506790161133,
          40.43013381958008,
          40.43437576293945,
          40.43461608886719,
          40.431854248046875,
          40.43252182006836,
          40.437198638916016
         ],
         "legendgroup": "04  SALAMANCA",
         "lon": [
          -3.683562994003296,
          -3.6837470531463623,
          -3.6751716136932373,
          -3.683729648590088,
          -3.6788203716278076,
          -3.6864821910858154,
          -3.6894123554229736,
          -3.690704345703125,
          -3.6869914531707764,
          -3.682047128677368,
          -3.6801514625549316,
          -3.675407886505127,
          -3.673963785171509,
          -3.673877716064453,
          -3.669424533843994,
          -3.6840806007385254,
          -3.686535120010376,
          -3.6895792484283447,
          -3.687474489212036,
          -3.6878867149353027,
          -3.6884243488311768,
          -3.6706531047821045,
          -3.681525230407715,
          -3.688040256500244,
          -3.6782355308532715,
          -3.6754627227783203,
          -3.671401023864746,
          -3.669450521469116,
          -3.665309429168701,
          -3.6615331172943115,
          -3.6638407707214355,
          -3.683471202850342,
          -3.6740365028381348,
          -3.671431541442871,
          -3.6656439304351807,
          -3.677194595336914
         ],
         "marker": {
          "color": "#19d3f3",
          "size": [
           12,
           12,
           12,
           15,
           12,
           12,
           12,
           10.5,
           12,
           13.5,
           13.5,
           12,
           12,
           12,
           12,
           12,
           12,
           10.5,
           12,
           18,
           12,
           13.5,
           12,
           12,
           12,
           12,
           12,
           12,
           12,
           12,
           12,
           12,
           9,
           13.5,
           12,
           12
          ],
          "sizemode": "area",
          "sizeref": 0.075
         },
         "mode": "markers",
         "name": "04  SALAMANCA",
         "showlegend": true,
         "subplot": "mapbox",
         "type": "scattermapbox"
        },
        {
         "hovertemplate": "Distrito_Salida=06  TETUÁN<br>size=%{marker.size}<br>Latitud_Salida=%{lat}<br>Longitud_Salida=%{lon}<extra></extra>",
         "lat": [
          40.447166442871094,
          40.44886016845703,
          40.45271682739258,
          40.45235061645508,
          40.454776763916016,
          40.4572868347168,
          40.4592399597168,
          40.447662353515625,
          40.4535026550293,
          40.46080017089844,
          40.46302795410156
         ],
         "legendgroup": "06  TETUÁN",
         "lon": [
          -3.700029134750366,
          -3.695202350616455,
          -3.6989498138427734,
          -3.693089485168457,
          -3.694673538208008,
          -3.70086407661438,
          -3.6913228034973145,
          -3.7041702270507812,
          -3.703340768814087,
          -3.699049949645996,
          -3.697399139404297
         ],
         "marker": {
          "color": "#FF6692",
          "size": [
           12,
           12,
           12,
           12,
           12,
           12,
           12,
           12,
           12,
           12,
           9
          ],
          "sizemode": "area",
          "sizeref": 0.075
         },
         "mode": "markers",
         "name": "06  TETUÁN",
         "showlegend": true,
         "subplot": "mapbox",
         "type": "scattermapbox"
        },
        {
         "hovertemplate": "Distrito_Salida=05  CHAMARTÍN<br>size=%{marker.size}<br>Latitud_Salida=%{lat}<br>Longitud_Salida=%{lon}<extra></extra>",
         "lat": [
          40.445281982421875,
          40.44549560546875,
          40.439353942871094,
          40.43851852416992,
          40.44424057006836,
          40.448333740234375,
          40.451019287109375,
          40.44984436035156,
          40.44911193847656,
          40.45928192138672,
          40.4586181640625,
          40.454254150390625,
          40.45719909667969,
          40.439247131347656,
          40.444095611572266,
          40.4515495300293,
          40.46651077270508,
          40.4656867980957
         ],
         "legendgroup": "05  CHAMARTÍN",
         "lon": [
          -3.690812587738037,
          -3.6852924823760986,
          -3.6904494762420654,
          -3.682912588119507,
          -3.6787900924682617,
          -3.6795811653137207,
          -3.681699275970459,
          -3.6878511905670166,
          -3.6905410289764404,
          -3.689330577850342,
          -3.6847050189971924,
          -3.683734893798828,
          -3.6766176223754883,
          -3.6754913330078125,
          -3.6750917434692383,
          -3.678025245666504,
          -3.688685178756714,
          -3.6887874603271484
         ],
         "marker": {
          "color": "#B6E880",
          "size": [
           12,
           12,
           12,
           13.5,
           9,
           12,
           12,
           12,
           12,
           12,
           12,
           12,
           12,
           12,
           12,
           12,
           12,
           12
          ],
          "sizemode": "area",
          "sizeref": 0.075
         },
         "mode": "markers",
         "name": "05  CHAMARTÍN",
         "showlegend": true,
         "subplot": "mapbox",
         "type": "scattermapbox"
        },
        {
         "hovertemplate": "Distrito_Salida=13  PUENTE DE VALLECAS<br>size=%{marker.size}<br>Latitud_Salida=%{lat}<br>Longitud_Salida=%{lon}<extra></extra>",
         "lat": [
          40.39793395996094
         ],
         "legendgroup": "13  PUENTE DE VALLECAS",
         "lon": [
          -3.669060230255127
         ],
         "marker": {
          "color": "#FF97FF",
          "size": [
           12
          ],
          "sizemode": "area",
          "sizeref": 0.075
         },
         "mode": "markers",
         "name": "13  PUENTE DE VALLECAS",
         "showlegend": true,
         "subplot": "mapbox",
         "type": "scattermapbox"
        },
        {
         "hovertemplate": "Distrito_Salida=15  CIUDAD LINEAL<br>size=%{marker.size}<br>Latitud_Salida=%{lat}<br>Longitud_Salida=%{lon}<extra></extra>",
         "lat": [
          40.43116760253906,
          40.435020446777344,
          40.44340133666992,
          40.429691314697266
         ],
         "legendgroup": "15  CIUDAD LINEAL",
         "lon": [
          -3.6589062213897705,
          -3.655543088912964,
          -3.6569597721099854,
          -3.640969753265381
         ],
         "marker": {
          "color": "#FECB52",
          "size": [
           13.5,
           12,
           12,
           12
          ],
          "sizemode": "area",
          "sizeref": 0.075
         },
         "mode": "markers",
         "name": "15  CIUDAD LINEAL",
         "showlegend": true,
         "subplot": "mapbox",
         "type": "scattermapbox"
        },
        {
         "hovertemplate": "Distrito_Salida=11  CARABANCHEL<br>size=%{marker.size}<br>Latitud_Salida=%{lat}<br>Longitud_Salida=%{lon}<extra></extra>",
         "lat": [
          40.39815902709961
         ],
         "legendgroup": "11  CARABANCHEL",
         "lon": [
          -3.716531276702881
         ],
         "marker": {
          "color": "#636efa",
          "size": [
           12
          ],
          "sizemode": "area",
          "sizeref": 0.075
         },
         "mode": "markers",
         "name": "11  CARABANCHEL",
         "showlegend": true,
         "subplot": "mapbox",
         "type": "scattermapbox"
        },
        {
         "hovertemplate": "Distrito_Salida=12  USERA<br>size=%{marker.size}<br>Latitud_Salida=%{lat}<br>Longitud_Salida=%{lon}<extra></extra>",
         "lat": [
          40.38893508911133
         ],
         "legendgroup": "12  USERA",
         "lon": [
          -3.700157403945923
         ],
         "marker": {
          "color": "#EF553B",
          "size": [
           12
          ],
          "sizemode": "area",
          "sizeref": 0.075
         },
         "mode": "markers",
         "name": "12  USERA",
         "showlegend": true,
         "subplot": "mapbox",
         "type": "scattermapbox"
        },
        {
         "hovertemplate": "Distrito_Salida=10  LATINA<br>size=%{marker.size}<br>Latitud_Salida=%{lat}<br>Longitud_Salida=%{lon}<extra></extra>",
         "lat": [
          40.4140510559082
         ],
         "legendgroup": "10  LATINA",
         "lon": [
          -3.7288947105407715
         ],
         "marker": {
          "color": "#00cc96",
          "size": [
           12
          ],
          "sizemode": "area",
          "sizeref": 0.075
         },
         "mode": "markers",
         "name": "10  LATINA",
         "showlegend": true,
         "subplot": "mapbox",
         "type": "scattermapbox"
        },
        {
         "hovertemplate": "Distrito_Salida=08  FUENCARRAL-EL PARDO<br>size=%{marker.size}<br>Latitud_Salida=%{lat}<br>Longitud_Salida=%{lon}<extra></extra>",
         "lat": [
          40.48100280761719
         ],
         "legendgroup": "08  FUENCARRAL-EL PARDO",
         "lon": [
          -3.6891093254089355
         ],
         "marker": {
          "color": "#ab63fa",
          "size": [
           12
          ],
          "sizemode": "area",
          "sizeref": 0.075
         },
         "mode": "markers",
         "name": "08  FUENCARRAL-EL PARDO",
         "showlegend": true,
         "subplot": "mapbox",
         "type": "scattermapbox"
        },
        {
         "hovertemplate": "Distrito_Salida=14  MORATALAZ<br>size=%{marker.size}<br>Latitud_Salida=%{lat}<br>Longitud_Salida=%{lon}<extra></extra>",
         "lat": [
          40.410552978515625,
          40.40839767456055
         ],
         "legendgroup": "14  MORATALAZ",
         "lon": [
          -3.657399892807007,
          -3.6467783451080322
         ],
         "marker": {
          "color": "#FFA15A",
          "size": [
           12,
           12
          ],
          "sizemode": "area",
          "sizeref": 0.075
         },
         "mode": "markers",
         "name": "14  MORATALAZ",
         "showlegend": true,
         "subplot": "mapbox",
         "type": "scattermapbox"
        },
        {
         "hovertemplate": [
          "<b>Estación:1</b><br><b>Distrito: </b>01  CENTRO<br><b>Número de bases:</b> 60.0",
          "<b>Estación:2</b><br><b>Distrito: </b>01  CENTRO<br><b>Número de bases:</b> 24.0",
          "<b>Estación:3</b><br><b>Distrito: </b>07  CHAMBERÍ<br><b>Número de bases:</b> 18.0",
          "<b>Estación:4</b><br><b>Distrito: </b>01  CENTRO<br><b>Número de bases:</b> 24.0",
          "<b>Estación:5</b><br><b>Distrito: </b>01  CENTRO<br><b>Número de bases:</b> 27.0",
          "<b>Estación:6</b><br><b>Distrito: </b>01  CENTRO<br><b>Número de bases:</b> 24.0",
          "<b>Estación:7</b><br><b>Distrito: </b>01  CENTRO<br><b>Número de bases:</b> 21.0",
          "<b>Estación:8</b><br><b>Distrito: </b>07  CHAMBERÍ<br><b>Número de bases:</b> 24.0",
          "<b>Estación:9</b><br><b>Distrito: </b>01  CENTRO<br><b>Número de bases:</b> 24.0",
          "<b>Estación:10</b><br><b>Distrito: </b>01  CENTRO<br><b>Número de bases:</b> 24.0",
          "<b>Estación:11</b><br><b>Distrito: </b>01  CENTRO<br><b>Número de bases:</b> 24.0",
          "<b>Estación:12</b><br><b>Distrito: </b>01  CENTRO<br><b>Número de bases:</b> 24.0",
          "<b>Estación:13</b><br><b>Distrito: </b>01  CENTRO<br><b>Número de bases:</b> 24.0",
          "<b>Estación:14</b><br><b>Distrito: </b>09  MONCLOA-ARAVACA<br><b>Número de bases:</b> 24.0",
          "<b>Estación:15</b><br><b>Distrito: </b>01  CENTRO<br><b>Número de bases:</b> 21.0",
          "<b>Estación:16</b><br><b>Distrito: </b>01  CENTRO<br><b>Número de bases:</b> 21.0",
          "<b>Estación:17</b><br><b>Distrito: </b>01  CENTRO<br><b>Número de bases:</b> 24.0",
          "<b>Estación:18</b><br><b>Distrito: </b>01  CENTRO<br><b>Número de bases:</b> 24.0",
          "<b>Estación:19</b><br><b>Distrito: </b>01  CENTRO<br><b>Número de bases:</b> 24.0",
          "<b>Estación:20</b><br><b>Distrito: </b>01  CENTRO<br><b>Número de bases:</b> 30.0",
          "<b>Estación:25</b><br><b>Distrito: </b>01  CENTRO<br><b>Número de bases:</b> 48.0",
          "<b>Estación:26</b><br><b>Distrito: </b>01  CENTRO<br><b>Número de bases:</b> 24.0",
          "<b>Estación:27</b><br><b>Distrito: </b>01  CENTRO<br><b>Número de bases:</b> 27.0",
          "<b>Estación:28</b><br><b>Distrito: </b>01  CENTRO<br><b>Número de bases:</b> 24.0",
          "<b>Estación:29</b><br><b>Distrito: </b>01  CENTRO<br><b>Número de bases:</b> 24.0",
          "<b>Estación:30</b><br><b>Distrito: </b>01  CENTRO<br><b>Número de bases:</b> 27.0",
          "<b>Estación:31</b><br><b>Distrito: </b>01  CENTRO<br><b>Número de bases:</b> 27.0",
          "<b>Estación:33</b><br><b>Distrito: </b>01  CENTRO<br><b>Número de bases:</b> 21.0",
          "<b>Estación:34</b><br><b>Distrito: </b>01  CENTRO<br><b>Número de bases:</b> 24.0",
          "<b>Estación:35</b><br><b>Distrito: </b>01  CENTRO<br><b>Número de bases:</b> 24.0",
          "<b>Estación:36</b><br><b>Distrito: </b>01  CENTRO<br><b>Número de bases:</b> 24.0",
          "<b>Estación:37</b><br><b>Distrito: </b>01  CENTRO<br><b>Número de bases:</b> 24.0",
          "<b>Estación:38</b><br><b>Distrito: </b>01  CENTRO<br><b>Número de bases:</b> 24.0",
          "<b>Estación:39</b><br><b>Distrito: </b>01  CENTRO<br><b>Número de bases:</b> 27.0",
          "<b>Estación:40</b><br><b>Distrito: </b>01  CENTRO<br><b>Número de bases:</b> 24.0",
          "<b>Estación:41</b><br><b>Distrito: </b>01  CENTRO<br><b>Número de bases:</b> 18.0",
          "<b>Estación:42</b><br><b>Distrito: </b>01  CENTRO<br><b>Número de bases:</b> 24.0",
          "<b>Estación:43</b><br><b>Distrito: </b>01  CENTRO<br><b>Número de bases:</b> 24.0",
          "<b>Estación:44</b><br><b>Distrito: </b>01  CENTRO<br><b>Número de bases:</b> 21.0",
          "<b>Estación:45</b><br><b>Distrito: </b>01  CENTRO<br><b>Número de bases:</b> 21.0",
          "<b>Estación:46</b><br><b>Distrito: </b>02  ARGANZUELA<br><b>Número de bases:</b> 24.0",
          "<b>Estación:47</b><br><b>Distrito: </b>02  ARGANZUELA<br><b>Número de bases:</b> 24.0",
          "<b>Estación:48</b><br><b>Distrito: </b>01  CENTRO<br><b>Número de bases:</b> 24.0",
          "<b>Estación:49</b><br><b>Distrito: </b>01  CENTRO<br><b>Número de bases:</b> 24.0",
          "<b>Estación:50</b><br><b>Distrito: </b>01  CENTRO<br><b>Número de bases:</b> 24.0",
          "<b>Estación:51</b><br><b>Distrito: </b>01  CENTRO<br><b>Número de bases:</b> 27.0",
          "<b>Estación:52</b><br><b>Distrito: </b>01  CENTRO<br><b>Número de bases:</b> 24.0",
          "<b>Estación:53</b><br><b>Distrito: </b>01  CENTRO<br><b>Número de bases:</b> 24.0",
          "<b>Estación:54</b><br><b>Distrito: </b>01  CENTRO<br><b>Número de bases:</b> 21.0",
          "<b>Estación:55</b><br><b>Distrito: </b>01  CENTRO<br><b>Número de bases:</b> 24.0",
          "<b>Estación:56</b><br><b>Distrito: </b>01  CENTRO<br><b>Número de bases:</b> 24.0",
          "<b>Estación:57</b><br><b>Distrito: </b>01  CENTRO<br><b>Número de bases:</b> 24.0",
          "<b>Estación:58</b><br><b>Distrito: </b>01  CENTRO<br><b>Número de bases:</b> 24.0",
          "<b>Estación:59</b><br><b>Distrito: </b>01  CENTRO<br><b>Número de bases:</b> 21.0",
          "<b>Estación:60</b><br><b>Distrito: </b>03  RETIRO<br><b>Número de bases:</b> 24.0",
          "<b>Estación:61</b><br><b>Distrito: </b>03  RETIRO<br><b>Número de bases:</b> 24.0",
          "<b>Estación:62</b><br><b>Distrito: </b>03  RETIRO<br><b>Número de bases:</b> 24.0",
          "<b>Estación:63</b><br><b>Distrito: </b>03  RETIRO<br><b>Número de bases:</b> 24.0",
          "<b>Estación:65</b><br><b>Distrito: </b>03  RETIRO<br><b>Número de bases:</b> 24.0",
          "<b>Estación:67</b><br><b>Distrito: </b>01  CENTRO<br><b>Número de bases:</b> 24.0",
          "<b>Estación:69</b><br><b>Distrito: </b>03  RETIRO<br><b>Número de bases:</b> 27.0",
          "<b>Estación:71</b><br><b>Distrito: </b>03  RETIRO<br><b>Número de bases:</b> 24.0",
          "<b>Estación:72</b><br><b>Distrito: </b>03  RETIRO<br><b>Número de bases:</b> 24.0",
          "<b>Estación:73</b><br><b>Distrito: </b>03  RETIRO<br><b>Número de bases:</b> 24.0",
          "<b>Estación:74</b><br><b>Distrito: </b>03  RETIRO<br><b>Número de bases:</b> 24.0",
          "<b>Estación:75</b><br><b>Distrito: </b>03  RETIRO<br><b>Número de bases:</b> 24.0",
          "<b>Estación:76</b><br><b>Distrito: </b>03  RETIRO<br><b>Número de bases:</b> 24.0",
          "<b>Estación:77</b><br><b>Distrito: </b>03  RETIRO<br><b>Número de bases:</b> 22.0",
          "<b>Estación:78</b><br><b>Distrito: </b>03  RETIRO<br><b>Número de bases:</b> 24.0",
          "<b>Estación:79</b><br><b>Distrito: </b>03  RETIRO<br><b>Número de bases:</b> 24.0",
          "<b>Estación:80</b><br><b>Distrito: </b>02  ARGANZUELA<br><b>Número de bases:</b> 51.0",
          "<b>Estación:81</b><br><b>Distrito: </b>03  RETIRO<br><b>Número de bases:</b> 24.0",
          "<b>Estación:82</b><br><b>Distrito: </b>03  RETIRO<br><b>Número de bases:</b> 24.0",
          "<b>Estación:83</b><br><b>Distrito: </b>03  RETIRO<br><b>Número de bases:</b> 24.0",
          "<b>Estación:84</b><br><b>Distrito: </b>03  RETIRO<br><b>Número de bases:</b> 24.0",
          "<b>Estación:85</b><br><b>Distrito: </b>03  RETIRO<br><b>Número de bases:</b> 27.0",
          "<b>Estación:86</b><br><b>Distrito: </b>01  CENTRO<br><b>Número de bases:</b> 21.0",
          "<b>Estación:87</b><br><b>Distrito: </b>04  SALAMANCA<br><b>Número de bases:</b> 24.0",
          "<b>Estación:88</b><br><b>Distrito: </b>04  SALAMANCA<br><b>Número de bases:</b> 24.0",
          "<b>Estación:89</b><br><b>Distrito: </b>04  SALAMANCA<br><b>Número de bases:</b> 24.0",
          "<b>Estación:90</b><br><b>Distrito: </b>04  SALAMANCA<br><b>Número de bases:</b> 30.0",
          "<b>Estación:91</b><br><b>Distrito: </b>04  SALAMANCA<br><b>Número de bases:</b> 24.0",
          "<b>Estación:92</b><br><b>Distrito: </b>04  SALAMANCA<br><b>Número de bases:</b> 24.0",
          "<b>Estación:93</b><br><b>Distrito: </b>04  SALAMANCA<br><b>Número de bases:</b> 24.0",
          "<b>Estación:94</b><br><b>Distrito: </b>04  SALAMANCA<br><b>Número de bases:</b> 21.0",
          "<b>Estación:95</b><br><b>Distrito: </b>04  SALAMANCA<br><b>Número de bases:</b> 24.0",
          "<b>Estación:96</b><br><b>Distrito: </b>04  SALAMANCA<br><b>Número de bases:</b> 27.0",
          "<b>Estación:97</b><br><b>Distrito: </b>04  SALAMANCA<br><b>Número de bases:</b> 27.0",
          "<b>Estación:98</b><br><b>Distrito: </b>04  SALAMANCA<br><b>Número de bases:</b> 24.0",
          "<b>Estación:99</b><br><b>Distrito: </b>04  SALAMANCA<br><b>Número de bases:</b> 24.0",
          "<b>Estación:100</b><br><b>Distrito: </b>04  SALAMANCA<br><b>Número de bases:</b> 24.0",
          "<b>Estación:101</b><br><b>Distrito: </b>04  SALAMANCA<br><b>Número de bases:</b> 24.0",
          "<b>Estación:102</b><br><b>Distrito: </b>04  SALAMANCA<br><b>Número de bases:</b> 24.0",
          "<b>Estación:103</b><br><b>Distrito: </b>04  SALAMANCA<br><b>Número de bases:</b> 24.0",
          "<b>Estación:104</b><br><b>Distrito: </b>04  SALAMANCA<br><b>Número de bases:</b> 21.0",
          "<b>Estación:105</b><br><b>Distrito: </b>04  SALAMANCA<br><b>Número de bases:</b> 24.0",
          "<b>Estación:106</b><br><b>Distrito: </b>04  SALAMANCA<br><b>Número de bases:</b> 36.0",
          "<b>Estación:107</b><br><b>Distrito: </b>04  SALAMANCA<br><b>Número de bases:</b> 24.0",
          "<b>Estación:108</b><br><b>Distrito: </b>04  SALAMANCA<br><b>Número de bases:</b> 27.0",
          "<b>Estación:109</b><br><b>Distrito: </b>04  SALAMANCA<br><b>Número de bases:</b> 24.0",
          "<b>Estación:110</b><br><b>Distrito: </b>09  MONCLOA-ARAVACA<br><b>Número de bases:</b> 24.0",
          "<b>Estación:111</b><br><b>Distrito: </b>07  CHAMBERÍ<br><b>Número de bases:</b> 48.0",
          "<b>Estación:112</b><br><b>Distrito: </b>09  MONCLOA-ARAVACA<br><b>Número de bases:</b> 24.0",
          "<b>Estación:113</b><br><b>Distrito: </b>09  MONCLOA-ARAVACA<br><b>Número de bases:</b> 24.0",
          "<b>Estación:114</b><br><b>Distrito: </b>09  MONCLOA-ARAVACA<br><b>Número de bases:</b> 24.0",
          "<b>Estación:115</b><br><b>Distrito: </b>09  MONCLOA-ARAVACA<br><b>Número de bases:</b> 24.0",
          "<b>Estación:116</b><br><b>Distrito: </b>09  MONCLOA-ARAVACA<br><b>Número de bases:</b> 48.0",
          "<b>Estación:117</b><br><b>Distrito: </b>09  MONCLOA-ARAVACA<br><b>Número de bases:</b> 24.0",
          "<b>Estación:118</b><br><b>Distrito: </b>02  ARGANZUELA<br><b>Número de bases:</b> 24.0",
          "<b>Estación:119</b><br><b>Distrito: </b>02  ARGANZUELA<br><b>Número de bases:</b> 24.0",
          "<b>Estación:120</b><br><b>Distrito: </b>02  ARGANZUELA<br><b>Número de bases:</b> 24.0",
          "<b>Estación:121</b><br><b>Distrito: </b>02  ARGANZUELA<br><b>Número de bases:</b> 24.0",
          "<b>Estación:122</b><br><b>Distrito: </b>07  CHAMBERÍ<br><b>Número de bases:</b> 24.0",
          "<b>Estación:123</b><br><b>Distrito: </b>07  CHAMBERÍ<br><b>Número de bases:</b> 24.0",
          "<b>Estación:124</b><br><b>Distrito: </b>07  CHAMBERÍ<br><b>Número de bases:</b> 24.0",
          "<b>Estación:125</b><br><b>Distrito: </b>07  CHAMBERÍ<br><b>Número de bases:</b> 24.0",
          "<b>Estación:126</b><br><b>Distrito: </b>07  CHAMBERÍ<br><b>Número de bases:</b> 24.0",
          "<b>Estación:127</b><br><b>Distrito: </b>07  CHAMBERÍ<br><b>Número de bases:</b> 24.0",
          "<b>Estación:128</b><br><b>Distrito: </b>07  CHAMBERÍ<br><b>Número de bases:</b> 27.0",
          "<b>Estación:129</b><br><b>Distrito: </b>07  CHAMBERÍ<br><b>Número de bases:</b> 24.0",
          "<b>Estación:130</b><br><b>Distrito: </b>07  CHAMBERÍ<br><b>Número de bases:</b> 20.0",
          "<b>Estación:131</b><br><b>Distrito: </b>07  CHAMBERÍ<br><b>Número de bases:</b> 24.0",
          "<b>Estación:132</b><br><b>Distrito: </b>07  CHAMBERÍ<br><b>Número de bases:</b> 24.0",
          "<b>Estación:133</b><br><b>Distrito: </b>06  TETUÁN<br><b>Número de bases:</b> 24.0",
          "<b>Estación:134</b><br><b>Distrito: </b>07  CHAMBERÍ<br><b>Número de bases:</b> 24.0",
          "<b>Estación:135</b><br><b>Distrito: </b>07  CHAMBERÍ<br><b>Número de bases:</b> 24.0",
          "<b>Estación:136</b><br><b>Distrito: </b>05  CHAMARTÍN<br><b>Número de bases:</b> 24.0",
          "<b>Estación:137</b><br><b>Distrito: </b>05  CHAMARTÍN<br><b>Número de bases:</b> 24.0",
          "<b>Estación:138</b><br><b>Distrito: </b>07  CHAMBERÍ<br><b>Número de bases:</b> 24.0",
          "<b>Estación:139</b><br><b>Distrito: </b>05  CHAMARTÍN<br><b>Número de bases:</b> 24.0",
          "<b>Estación:140</b><br><b>Distrito: </b>05  CHAMARTÍN<br><b>Número de bases:</b> 27.0",
          "<b>Estación:141</b><br><b>Distrito: </b>07  CHAMBERÍ<br><b>Número de bases:</b> 12.0",
          "<b>Estación:142</b><br><b>Distrito: </b>04  SALAMANCA<br><b>Número de bases:</b> 24.0",
          "<b>Estación:143</b><br><b>Distrito: </b>04  SALAMANCA<br><b>Número de bases:</b> 24.0",
          "<b>Estación:144</b><br><b>Distrito: </b>04  SALAMANCA<br><b>Número de bases:</b> 24.0",
          "<b>Estación:145</b><br><b>Distrito: </b>04  SALAMANCA<br><b>Número de bases:</b> 24.0",
          "<b>Estación:146</b><br><b>Distrito: </b>05  CHAMARTÍN<br><b>Número de bases:</b> 18.0",
          "<b>Estación:147</b><br><b>Distrito: </b>05  CHAMARTÍN<br><b>Número de bases:</b> 24.0",
          "<b>Estación:148</b><br><b>Distrito: </b>05  CHAMARTÍN<br><b>Número de bases:</b> 24.0",
          "<b>Estación:149</b><br><b>Distrito: </b>05  CHAMARTÍN<br><b>Número de bases:</b> 24.0",
          "<b>Estación:150</b><br><b>Distrito: </b>05  CHAMARTÍN<br><b>Número de bases:</b> 24.0",
          "<b>Estación:151</b><br><b>Distrito: </b>06  TETUÁN<br><b>Número de bases:</b> 24.0",
          "<b>Estación:152</b><br><b>Distrito: </b>06  TETUÁN<br><b>Número de bases:</b> 24.0",
          "<b>Estación:153</b><br><b>Distrito: </b>06  TETUÁN<br><b>Número de bases:</b> 24.0",
          "<b>Estación:154</b><br><b>Distrito: </b>06  TETUÁN<br><b>Número de bases:</b> 24.0",
          "<b>Estación:155</b><br><b>Distrito: </b>06  TETUÁN<br><b>Número de bases:</b> 24.0",
          "<b>Estación:156</b><br><b>Distrito: </b>06  TETUÁN<br><b>Número de bases:</b> 24.0",
          "<b>Estación:157</b><br><b>Distrito: </b>05  CHAMARTÍN<br><b>Número de bases:</b> 24.0",
          "<b>Estación:158</b><br><b>Distrito: </b>05  CHAMARTÍN<br><b>Número de bases:</b> 24.0",
          "<b>Estación:159</b><br><b>Distrito: </b>05  CHAMARTÍN<br><b>Número de bases:</b> 24.0",
          "<b>Estación:160</b><br><b>Distrito: </b>05  CHAMARTÍN<br><b>Número de bases:</b> 24.0",
          "<b>Estación:161</b><br><b>Distrito: </b>09  MONCLOA-ARAVACA<br><b>Número de bases:</b> 27.0",
          "<b>Estación:162</b><br><b>Distrito: </b>02  ARGANZUELA<br><b>Número de bases:</b> 24.0",
          "<b>Estación:163</b><br><b>Distrito: </b>02  ARGANZUELA<br><b>Número de bases:</b> 21.0",
          "<b>Estación:164</b><br><b>Distrito: </b>02  ARGANZUELA<br><b>Número de bases:</b> 24.0",
          "<b>Estación:165</b><br><b>Distrito: </b>02  ARGANZUELA<br><b>Número de bases:</b> 27.0",
          "<b>Estación:166</b><br><b>Distrito: </b>01  CENTRO<br><b>Número de bases:</b> 24.0",
          "<b>Estación:167</b><br><b>Distrito: </b>02  ARGANZUELA<br><b>Número de bases:</b> 24.0",
          "<b>Estación:168</b><br><b>Distrito: </b>02  ARGANZUELA<br><b>Número de bases:</b> 24.0",
          "<b>Estación:169</b><br><b>Distrito: </b>02  ARGANZUELA<br><b>Número de bases:</b> 24.0",
          "<b>Estación:170</b><br><b>Distrito: </b>02  ARGANZUELA<br><b>Número de bases:</b> 24.0",
          "<b>Estación:171</b><br><b>Distrito: </b>02  ARGANZUELA<br><b>Número de bases:</b> 24.0",
          "<b>Estación:172</b><br><b>Distrito: </b>02  ARGANZUELA<br><b>Número de bases:</b> 24.0",
          "<b>Estación:173</b><br><b>Distrito: </b>02  ARGANZUELA<br><b>Número de bases:</b> 24.0",
          "<b>Estación:174</b><br><b>Distrito: </b>02  ARGANZUELA<br><b>Número de bases:</b> 27.0",
          "<b>Estación:175</b><br><b>Distrito: </b>02  ARGANZUELA<br><b>Número de bases:</b> 21.0",
          "<b>Estación:176</b><br><b>Distrito: </b>02  ARGANZUELA<br><b>Número de bases:</b> 24.0",
          "<b>Estación:177</b><br><b>Distrito: </b>02  ARGANZUELA<br><b>Número de bases:</b> 24.0",
          "<b>Estación:178</b><br><b>Distrito: </b>03  RETIRO<br><b>Número de bases:</b> 24.0",
          "<b>Estación:179</b><br><b>Distrito: </b>13  PUENTE DE VALLECAS<br><b>Número de bases:</b> 24.0",
          "<b>Estación:180</b><br><b>Distrito: </b>02  ARGANZUELA<br><b>Número de bases:</b> 24.0",
          "<b>Estación:181</b><br><b>Distrito: </b>03  RETIRO<br><b>Número de bases:</b> 27.0",
          "<b>Estación:182</b><br><b>Distrito: </b>03  RETIRO<br><b>Número de bases:</b> 24.0",
          "<b>Estación:183</b><br><b>Distrito: </b>04  SALAMANCA<br><b>Número de bases:</b> 24.0",
          "<b>Estación:184</b><br><b>Distrito: </b>04  SALAMANCA<br><b>Número de bases:</b> 24.0",
          "<b>Estación:185</b><br><b>Distrito: </b>04  SALAMANCA<br><b>Número de bases:</b> 24.0",
          "<b>Estación:187</b><br><b>Distrito: </b>04  SALAMANCA<br><b>Número de bases:</b> 24.0",
          "<b>Estación:188</b><br><b>Distrito: </b>15  CIUDAD LINEAL<br><b>Número de bases:</b> 27.0",
          "<b>Estación:189</b><br><b>Distrito: </b>15  CIUDAD LINEAL<br><b>Número de bases:</b> 24.0",
          "<b>Estación:190</b><br><b>Distrito: </b>04  SALAMANCA<br><b>Número de bases:</b> 24.0",
          "<b>Estación:191</b><br><b>Distrito: </b>04  SALAMANCA<br><b>Número de bases:</b> 18.0",
          "<b>Estación:192</b><br><b>Distrito: </b>04  SALAMANCA<br><b>Número de bases:</b> 27.0",
          "<b>Estación:193</b><br><b>Distrito: </b>04  SALAMANCA<br><b>Número de bases:</b> 24.0",
          "<b>Estación:194</b><br><b>Distrito: </b>04  SALAMANCA<br><b>Número de bases:</b> 24.0",
          "<b>Estación:195</b><br><b>Distrito: </b>05  CHAMARTÍN<br><b>Número de bases:</b> 24.0",
          "<b>Estación:196</b><br><b>Distrito: </b>05  CHAMARTÍN<br><b>Número de bases:</b> 24.0",
          "<b>Estación:197</b><br><b>Distrito: </b>05  CHAMARTÍN<br><b>Número de bases:</b> 24.0",
          "<b>Estación:198</b><br><b>Distrito: </b>07  CHAMBERÍ<br><b>Número de bases:</b> 24.0",
          "<b>Estación:199</b><br><b>Distrito: </b>07  CHAMBERÍ<br><b>Número de bases:</b> 27.0",
          "<b>Estación:200</b><br><b>Distrito: </b>07  CHAMBERÍ<br><b>Número de bases:</b> 24.0",
          "<b>Estación:201</b><br><b>Distrito: </b>07  CHAMBERÍ<br><b>Número de bases:</b> 24.0",
          "<b>Estación:202</b><br><b>Distrito: </b>07  CHAMBERÍ<br><b>Número de bases:</b> 24.0",
          "<b>Estación:203</b><br><b>Distrito: </b>07  CHAMBERÍ<br><b>Número de bases:</b> 24.0",
          "<b>Estación:204</b><br><b>Distrito: </b>06  TETUÁN<br><b>Número de bases:</b> 24.0",
          "<b>Estación:205</b><br><b>Distrito: </b>06  TETUÁN<br><b>Número de bases:</b> 24.0",
          "<b>Estación:206</b><br><b>Distrito: </b>06  TETUÁN<br><b>Número de bases:</b> 24.0",
          "<b>Estación:207</b><br><b>Distrito: </b>06  TETUÁN<br><b>Número de bases:</b> 18.0",
          "<b>Estación:208</b><br><b>Distrito: </b>05  CHAMARTÍN<br><b>Número de bases:</b> 24.0",
          "<b>Estación:209</b><br><b>Distrito: </b>05  CHAMARTÍN<br><b>Número de bases:</b> 24.0",
          "<b>Estación:210</b><br><b>Distrito: </b>01  CENTRO<br><b>Número de bases:</b> 27.0",
          "<b>Estación:211</b><br><b>Distrito: </b>01  CENTRO<br><b>Número de bases:</b> 24.0",
          "<b>Estación:212</b><br><b>Distrito: </b>11  CARABANCHEL<br><b>Número de bases:</b> 24.0",
          "<b>Estación:213</b><br><b>Distrito: </b>12  USERA<br><b>Número de bases:</b> 24.0",
          "<b>Estación:214</b><br><b>Distrito: </b>15  CIUDAD LINEAL<br><b>Número de bases:</b> 24.0",
          "<b>Estación:215</b><br><b>Distrito: </b>15  CIUDAD LINEAL<br><b>Número de bases:</b> 24.0",
          "<b>Estación:216</b><br><b>Distrito: </b>10  LATINA<br><b>Número de bases:</b> 24.0",
          "<b>Estación:217</b><br><b>Distrito: </b>08  FUENCARRAL-EL PARDO<br><b>Número de bases:</b> 24.0",
          "<b>Estación:218</b><br><b>Distrito: </b>14  MORATALAZ<br><b>Número de bases:</b> 24.0",
          "<b>Estación:219</b><br><b>Distrito: </b>14  MORATALAZ<br><b>Número de bases:</b> 24.0"
         ],
         "lat": [
          40.417110443115234,
          40.42058181762695,
          40.430320739746094,
          40.4285888671875,
          40.42836380004883,
          40.424163818359375,
          40.42521667480469,
          40.42771530151367,
          40.41561508178711,
          40.4254035949707,
          40.42705154418945,
          40.42852783203125,
          40.427364349365234,
          40.42599105834961,
          40.426292419433594,
          40.422943115234375,
          40.42316818237305,
          40.420921325683594,
          40.421897888183594,
          40.419185638427734,
          40.417259216308594,
          40.423831939697266,
          40.41328430175781,
          40.418067932128906,
          40.41624450683594,
          40.419334411621094,
          40.416343688964844,
          40.41647720336914,
          40.41441345214844,
          40.414180755615234,
          40.41682434082031,
          40.41086196899414,
          40.41129684448242,
          40.4112663269043,
          40.413787841796875,
          40.412227630615234,
          40.410770416259766,
          40.41008758544922,
          40.40981674194336,
          40.40694808959961,
          40.40544891357422,
          40.404624938964844,
          40.40544891357422,
          40.40604782104492,
          40.40830993652344,
          40.40772247314453,
          40.41451644897461,
          40.40827941894531,
          40.4266242980957,
          40.424072265625,
          40.41848373413086,
          40.42963790893555,
          40.42226028442383,
          40.425479888916016,
          40.41945266723633,
          40.42143630981445,
          40.42129898071289,
          40.41789245605469,
          40.41668701171875,
          40.41082763671875,
          40.41006088256836,
          40.4160041809082,
          40.41572189331055,
          40.41146469116211,
          40.41175842285156,
          40.40834045410156,
          40.407283782958984,
          40.406333923339844,
          40.400569915771484,
          40.40504837036133,
          40.407413482666016,
          40.409576416015625,
          40.408477783203125,
          40.41325759887695,
          40.40336990356445,
          40.421142578125,
          40.4185791015625,
          40.42767333984375,
          40.431209564208984,
          40.42726135253906,
          40.425079345703125,
          40.42611312866211,
          40.42622375488281,
          40.425697326660156,
          40.423370361328125,
          40.422664642333984,
          40.42205047607422,
          40.4224853515625,
          40.424190521240234,
          40.42610549926758,
          40.42478561401367,
          40.42312240600586,
          40.4211540222168,
          40.43037414550781,
          40.42676544189453,
          40.427066802978516,
          40.42486572265625,
          40.42159652709961,
          40.42744064331055,
          40.43013000488281,
          40.43476486206055,
          40.43357467651367,
          40.43262481689453,
          40.4277458190918,
          40.42782211303711,
          40.42538070678711,
          40.42406463623047,
          40.430904388427734,
          40.400794982910156,
          40.40145492553711,
          40.403038024902344,
          40.40183639526367,
          40.42952346801758,
          40.43063735961914,
          40.430816650390625,
          40.4353141784668,
          40.434566497802734,
          40.43390655517578,
          40.43903350830078,
          40.43846893310547,
          40.44171905517578,
          40.44175338745117,
          40.446388244628906,
          40.447166442871094,
          40.444026947021484,
          40.44148635864258,
          40.445281982421875,
          40.44549560546875,
          40.4456901550293,
          40.439353942871094,
          40.43851852416992,
          40.4354248046875,
          40.43352508544922,
          40.43461608886719,
          40.43231964111328,
          40.429771423339844,
          40.44424057006836,
          40.448333740234375,
          40.451019287109375,
          40.44984436035156,
          40.44911193847656,
          40.44886016845703,
          40.45271682739258,
          40.45235061645508,
          40.454776763916016,
          40.4572868347168,
          40.4592399597168,
          40.45928192138672,
          40.4586181640625,
          40.454254150390625,
          40.45719909667969,
          40.42205810546875,
          40.40351867675781,
          40.40363311767578,
          40.39713668823242,
          40.39288330078125,
          40.4139404296875,
          40.413734436035156,
          40.40458297729492,
          40.40157699584961,
          40.40110397338867,
          40.39976119995117,
          40.4008674621582,
          40.39817428588867,
          40.39741516113281,
          40.39626693725586,
          40.39424133300781,
          40.391502380371094,
          40.40302276611328,
          40.39793395996094,
          40.394126892089844,
          40.418174743652344,
          40.4187126159668,
          40.425636291503906,
          40.426002502441406,
          40.42506790161133,
          40.43013381958008,
          40.43116760253906,
          40.435020446777344,
          40.43437576293945,
          40.43461608886719,
          40.431854248046875,
          40.43252182006836,
          40.437198638916016,
          40.439247131347656,
          40.444095611572266,
          40.4515495300293,
          40.4331169128418,
          40.434326171875,
          40.43366241455078,
          40.4387321472168,
          40.44116973876953,
          40.44175338745117,
          40.447662353515625,
          40.4535026550293,
          40.46080017089844,
          40.46302795410156,
          40.46651077270508,
          40.4656867980957,
          40.41975402832031,
          40.420616149902344,
          40.39815902709961,
          40.38893508911133,
          40.44340133666992,
          40.429691314697266,
          40.4140510559082,
          40.48100280761719,
          40.410552978515625,
          40.40839767456055
         ],
         "lon": [
          -3.701997995376587,
          -3.705673933029175,
          -3.707212209701538,
          -3.70267391204834,
          -3.7020742893218994,
          -3.69840931892395,
          -3.697739839553833,
          -3.6953067779541016,
          -3.709409236907959,
          -3.6920816898345947,
          -3.7036192417144775,
          -3.7062201499938965,
          -3.710472583770752,
          -3.713376760482788,
          -3.7073609828948975,
          -3.7074954509735107,
          -3.704185962677002,
          -3.6995677947998047,
          -3.695394992828369,
          -3.6952900886535645,
          -3.706024408340454,
          -3.694542169570923,
          -3.695580244064331,
          -3.698366165161133,
          -3.69580078125,
          -3.711542844772339,
          -3.706624984741211,
          -3.703209638595581,
          -3.7035043239593506,
          -3.7103676795959473,
          -3.711764097213745,
          -3.714123487472534,
          -3.71144437789917,
          -3.7090044021606445,
          -3.7047462463378906,
          -3.6989898681640625,
          -3.6982293128967285,
          -3.702544689178467,
          -3.703913688659668,
          -3.7111380100250244,
          -3.707117795944214,
          -3.7027549743652344,
          -3.7020998001098633,
          -3.69924259185791,
          -3.6932199001312256,
          -3.6935935020446777,
          -3.7007837295532227,
          -3.7007296085357666,
          -3.700343608856201,
          -3.7019295692443848,
          -3.7032876014709473,
          -3.712818145751953,
          -3.6979458332061768,
          -3.7041165828704834,
          -3.688199281692505,
          -3.675205945968628,
          -3.672422409057617,
          -3.6706507205963135,
          -3.689382553100586,
          -3.6931347846984863,
          -3.6888668537139893,
          -3.674021005630493,
          -3.6696228981018066,
          -3.6690990924835205,
          -3.676576852798462,
          -3.678414821624756,
          -3.675154447555542,
          -3.670774221420288,
          -3.6745781898498535,
          -3.6805524826049805,
          -3.6907238960266113,
          -3.6919662952423096,
          -3.6696829795837402,
          -3.6745338439941406,
          -3.67269229888916,
          -3.6799299716949463,
          -3.6933298110961914,
          -3.683562994003296,
          -3.6837470531463623,
          -3.6751716136932373,
          -3.683729648590088,
          -3.6788203716278076,
          -3.6864821910858154,
          -3.6894123554229736,
          -3.690704345703125,
          -3.6869914531707764,
          -3.682047128677368,
          -3.6801514625549316,
          -3.675407886505127,
          -3.673963785171509,
          -3.673877716064453,
          -3.669424533843994,
          -3.6840806007385254,
          -3.686535120010376,
          -3.6895792484283447,
          -3.687474489212036,
          -3.6878867149353027,
          -3.6884243488311768,
          -3.6706531047821045,
          -3.681525230407715,
          -3.7201316356658936,
          -3.717778205871582,
          -3.724872589111328,
          -3.720714569091797,
          -3.7174150943756104,
          -3.7169625759124756,
          -3.711845636367798,
          -3.7189152240753174,
          -3.6881349086761475,
          -3.686577796936035,
          -3.69477915763855,
          -3.6986045837402344,
          -3.6962625980377197,
          -3.713468551635742,
          -3.6993181705474854,
          -3.694831609725952,
          -3.70174241065979,
          -3.7083988189697266,
          -3.715691566467285,
          -3.698281764984131,
          -3.701707124710083,
          -3.70402193069458,
          -3.7035911083221436,
          -3.700029134750366,
          -3.6955113410949707,
          -3.692890167236328,
          -3.690812587738037,
          -3.6852924823760986,
          -3.6915817260742188,
          -3.6904494762420654,
          -3.682912588119507,
          -3.6892902851104736,
          -3.688040256500244,
          -3.6782355308532715,
          -3.6754627227783203,
          -3.671401023864746,
          -3.6787900924682617,
          -3.6795811653137207,
          -3.681699275970459,
          -3.6878511905670166,
          -3.6905410289764404,
          -3.695202350616455,
          -3.6989498138427734,
          -3.693089485168457,
          -3.694673538208008,
          -3.70086407661438,
          -3.6913228034973145,
          -3.689330577850342,
          -3.6847050189971924,
          -3.683734893798828,
          -3.6766176223754883,
          -3.722062349319458,
          -3.7107558250427246,
          -3.706437110900879,
          -3.6944851875305176,
          -3.697613477706909,
          -3.7133381366729736,
          -3.7176456451416016,
          -3.695915937423706,
          -3.71384596824646,
          -3.7044029235839844,
          -3.6984457969665527,
          -3.693544864654541,
          -3.702361583709717,
          -3.7063770294189453,
          -3.69830322265625,
          -3.6936302185058594,
          -3.694087028503418,
          -3.678893804550171,
          -3.669060230255127,
          -3.675924301147461,
          -3.676640033721924,
          -3.6655023097991943,
          -3.669450521469116,
          -3.665309429168701,
          -3.6615331172943115,
          -3.6638407707214355,
          -3.6589062213897705,
          -3.655543088912964,
          -3.683471202850342,
          -3.6740365028381348,
          -3.671431541442871,
          -3.6656439304351807,
          -3.677194595336914,
          -3.6754913330078125,
          -3.6750917434692383,
          -3.678025245666504,
          -3.6915712356567383,
          -3.7148406505584717,
          -3.7046709060668945,
          -3.7038161754608154,
          -3.708096981048584,
          -3.714423894882202,
          -3.7041702270507812,
          -3.703340768814087,
          -3.699049949645996,
          -3.697399139404297,
          -3.688685178756714,
          -3.6887874603271484,
          -3.7026309967041016,
          -3.7025368213653564,
          -3.716531276702881,
          -3.700157403945923,
          -3.6569597721099854,
          -3.640969753265381,
          -3.7288947105407715,
          -3.6891093254089355,
          -3.657399892807007,
          -3.6467783451080322
         ],
         "marker": {
          "color": "white",
          "opacity": 0.7,
          "size": [
           30,
           12,
           9,
           12,
           13.5,
           12,
           10.5,
           12,
           12,
           12,
           12,
           12,
           12,
           12,
           10.5,
           10.5,
           12,
           12,
           12,
           15,
           24,
           12,
           13.5,
           12,
           12,
           13.5,
           13.5,
           10.5,
           12,
           12,
           12,
           12,
           12,
           13.5,
           12,
           9,
           12,
           12,
           10.5,
           10.5,
           12,
           12,
           12,
           12,
           12,
           13.5,
           12,
           12,
           10.5,
           12,
           12,
           12,
           12,
           10.5,
           12,
           12,
           12,
           12,
           12,
           12,
           13.5,
           12,
           12,
           12,
           12,
           12,
           12,
           11,
           12,
           12,
           25.5,
           12,
           12,
           12,
           12,
           13.5,
           10.5,
           12,
           12,
           12,
           15,
           12,
           12,
           12,
           10.5,
           12,
           13.5,
           13.5,
           12,
           12,
           12,
           12,
           12,
           12,
           10.5,
           12,
           18,
           12,
           13.5,
           12,
           12,
           24,
           12,
           12,
           12,
           12,
           24,
           12,
           12,
           12,
           12,
           12,
           12,
           12,
           12,
           12,
           12,
           12,
           13.5,
           12,
           10,
           12,
           12,
           12,
           12,
           12,
           12,
           12,
           12,
           12,
           13.5,
           6,
           12,
           12,
           12,
           12,
           9,
           12,
           12,
           12,
           12,
           12,
           12,
           12,
           12,
           12,
           12,
           12,
           12,
           12,
           12,
           13.5,
           12,
           10.5,
           12,
           13.5,
           12,
           12,
           12,
           12,
           12,
           12,
           12,
           12,
           13.5,
           10.5,
           12,
           12,
           12,
           12,
           12,
           13.5,
           12,
           12,
           12,
           12,
           12,
           13.5,
           12,
           12,
           9,
           13.5,
           12,
           12,
           12,
           12,
           12,
           12,
           13.5,
           12,
           12,
           12,
           12,
           12,
           12,
           12,
           9,
           12,
           12,
           13.5,
           12,
           12,
           12,
           12,
           12,
           12,
           12,
           12,
           12
          ]
         },
         "mode": "markers",
         "showlegend": false,
         "type": "scattermapbox"
        }
       ],
       "layout": {
        "autosize": true,
        "height": 1000,
        "hoverlabel": {
         "align": "right"
        },
        "legend": {
         "itemsizing": "constant",
         "title": {
          "text": "Distrito_Salida"
         },
         "tracegroupgap": 0
        },
        "mapbox": {
         "bearing": 0,
         "center": {
          "lat": 40.435,
          "lon": -3.69
         },
         "domain": {
          "x": [
           0,
           1
          ],
          "y": [
           0,
           1
          ]
         },
         "style": "carto-positron",
         "zoom": 12
        },
        "margin": {
         "t": 60
        },
        "showlegend": true,
        "template": {
         "data": {
          "bar": [
           {
            "error_x": {
             "color": "#2a3f5f"
            },
            "error_y": {
             "color": "#2a3f5f"
            },
            "marker": {
             "line": {
              "color": "#E5ECF6",
              "width": 0.5
             },
             "pattern": {
              "fillmode": "overlay",
              "size": 10,
              "solidity": 0.2
             }
            },
            "type": "bar"
           }
          ],
          "barpolar": [
           {
            "marker": {
             "line": {
              "color": "#E5ECF6",
              "width": 0.5
             },
             "pattern": {
              "fillmode": "overlay",
              "size": 10,
              "solidity": 0.2
             }
            },
            "type": "barpolar"
           }
          ],
          "carpet": [
           {
            "aaxis": {
             "endlinecolor": "#2a3f5f",
             "gridcolor": "white",
             "linecolor": "white",
             "minorgridcolor": "white",
             "startlinecolor": "#2a3f5f"
            },
            "baxis": {
             "endlinecolor": "#2a3f5f",
             "gridcolor": "white",
             "linecolor": "white",
             "minorgridcolor": "white",
             "startlinecolor": "#2a3f5f"
            },
            "type": "carpet"
           }
          ],
          "choropleth": [
           {
            "colorbar": {
             "outlinewidth": 0,
             "ticks": ""
            },
            "type": "choropleth"
           }
          ],
          "contour": [
           {
            "colorbar": {
             "outlinewidth": 0,
             "ticks": ""
            },
            "colorscale": [
             [
              0,
              "#0d0887"
             ],
             [
              0.1111111111111111,
              "#46039f"
             ],
             [
              0.2222222222222222,
              "#7201a8"
             ],
             [
              0.3333333333333333,
              "#9c179e"
             ],
             [
              0.4444444444444444,
              "#bd3786"
             ],
             [
              0.5555555555555556,
              "#d8576b"
             ],
             [
              0.6666666666666666,
              "#ed7953"
             ],
             [
              0.7777777777777778,
              "#fb9f3a"
             ],
             [
              0.8888888888888888,
              "#fdca26"
             ],
             [
              1,
              "#f0f921"
             ]
            ],
            "type": "contour"
           }
          ],
          "contourcarpet": [
           {
            "colorbar": {
             "outlinewidth": 0,
             "ticks": ""
            },
            "type": "contourcarpet"
           }
          ],
          "heatmap": [
           {
            "colorbar": {
             "outlinewidth": 0,
             "ticks": ""
            },
            "colorscale": [
             [
              0,
              "#0d0887"
             ],
             [
              0.1111111111111111,
              "#46039f"
             ],
             [
              0.2222222222222222,
              "#7201a8"
             ],
             [
              0.3333333333333333,
              "#9c179e"
             ],
             [
              0.4444444444444444,
              "#bd3786"
             ],
             [
              0.5555555555555556,
              "#d8576b"
             ],
             [
              0.6666666666666666,
              "#ed7953"
             ],
             [
              0.7777777777777778,
              "#fb9f3a"
             ],
             [
              0.8888888888888888,
              "#fdca26"
             ],
             [
              1,
              "#f0f921"
             ]
            ],
            "type": "heatmap"
           }
          ],
          "heatmapgl": [
           {
            "colorbar": {
             "outlinewidth": 0,
             "ticks": ""
            },
            "colorscale": [
             [
              0,
              "#0d0887"
             ],
             [
              0.1111111111111111,
              "#46039f"
             ],
             [
              0.2222222222222222,
              "#7201a8"
             ],
             [
              0.3333333333333333,
              "#9c179e"
             ],
             [
              0.4444444444444444,
              "#bd3786"
             ],
             [
              0.5555555555555556,
              "#d8576b"
             ],
             [
              0.6666666666666666,
              "#ed7953"
             ],
             [
              0.7777777777777778,
              "#fb9f3a"
             ],
             [
              0.8888888888888888,
              "#fdca26"
             ],
             [
              1,
              "#f0f921"
             ]
            ],
            "type": "heatmapgl"
           }
          ],
          "histogram": [
           {
            "marker": {
             "pattern": {
              "fillmode": "overlay",
              "size": 10,
              "solidity": 0.2
             }
            },
            "type": "histogram"
           }
          ],
          "histogram2d": [
           {
            "colorbar": {
             "outlinewidth": 0,
             "ticks": ""
            },
            "colorscale": [
             [
              0,
              "#0d0887"
             ],
             [
              0.1111111111111111,
              "#46039f"
             ],
             [
              0.2222222222222222,
              "#7201a8"
             ],
             [
              0.3333333333333333,
              "#9c179e"
             ],
             [
              0.4444444444444444,
              "#bd3786"
             ],
             [
              0.5555555555555556,
              "#d8576b"
             ],
             [
              0.6666666666666666,
              "#ed7953"
             ],
             [
              0.7777777777777778,
              "#fb9f3a"
             ],
             [
              0.8888888888888888,
              "#fdca26"
             ],
             [
              1,
              "#f0f921"
             ]
            ],
            "type": "histogram2d"
           }
          ],
          "histogram2dcontour": [
           {
            "colorbar": {
             "outlinewidth": 0,
             "ticks": ""
            },
            "colorscale": [
             [
              0,
              "#0d0887"
             ],
             [
              0.1111111111111111,
              "#46039f"
             ],
             [
              0.2222222222222222,
              "#7201a8"
             ],
             [
              0.3333333333333333,
              "#9c179e"
             ],
             [
              0.4444444444444444,
              "#bd3786"
             ],
             [
              0.5555555555555556,
              "#d8576b"
             ],
             [
              0.6666666666666666,
              "#ed7953"
             ],
             [
              0.7777777777777778,
              "#fb9f3a"
             ],
             [
              0.8888888888888888,
              "#fdca26"
             ],
             [
              1,
              "#f0f921"
             ]
            ],
            "type": "histogram2dcontour"
           }
          ],
          "mesh3d": [
           {
            "colorbar": {
             "outlinewidth": 0,
             "ticks": ""
            },
            "type": "mesh3d"
           }
          ],
          "parcoords": [
           {
            "line": {
             "colorbar": {
              "outlinewidth": 0,
              "ticks": ""
             }
            },
            "type": "parcoords"
           }
          ],
          "pie": [
           {
            "automargin": true,
            "type": "pie"
           }
          ],
          "scatter": [
           {
            "fillpattern": {
             "fillmode": "overlay",
             "size": 10,
             "solidity": 0.2
            },
            "type": "scatter"
           }
          ],
          "scatter3d": [
           {
            "line": {
             "colorbar": {
              "outlinewidth": 0,
              "ticks": ""
             }
            },
            "marker": {
             "colorbar": {
              "outlinewidth": 0,
              "ticks": ""
             }
            },
            "type": "scatter3d"
           }
          ],
          "scattercarpet": [
           {
            "marker": {
             "colorbar": {
              "outlinewidth": 0,
              "ticks": ""
             }
            },
            "type": "scattercarpet"
           }
          ],
          "scattergeo": [
           {
            "marker": {
             "colorbar": {
              "outlinewidth": 0,
              "ticks": ""
             }
            },
            "type": "scattergeo"
           }
          ],
          "scattergl": [
           {
            "marker": {
             "colorbar": {
              "outlinewidth": 0,
              "ticks": ""
             }
            },
            "type": "scattergl"
           }
          ],
          "scattermapbox": [
           {
            "marker": {
             "colorbar": {
              "outlinewidth": 0,
              "ticks": ""
             }
            },
            "type": "scattermapbox"
           }
          ],
          "scatterpolar": [
           {
            "marker": {
             "colorbar": {
              "outlinewidth": 0,
              "ticks": ""
             }
            },
            "type": "scatterpolar"
           }
          ],
          "scatterpolargl": [
           {
            "marker": {
             "colorbar": {
              "outlinewidth": 0,
              "ticks": ""
             }
            },
            "type": "scatterpolargl"
           }
          ],
          "scatterternary": [
           {
            "marker": {
             "colorbar": {
              "outlinewidth": 0,
              "ticks": ""
             }
            },
            "type": "scatterternary"
           }
          ],
          "surface": [
           {
            "colorbar": {
             "outlinewidth": 0,
             "ticks": ""
            },
            "colorscale": [
             [
              0,
              "#0d0887"
             ],
             [
              0.1111111111111111,
              "#46039f"
             ],
             [
              0.2222222222222222,
              "#7201a8"
             ],
             [
              0.3333333333333333,
              "#9c179e"
             ],
             [
              0.4444444444444444,
              "#bd3786"
             ],
             [
              0.5555555555555556,
              "#d8576b"
             ],
             [
              0.6666666666666666,
              "#ed7953"
             ],
             [
              0.7777777777777778,
              "#fb9f3a"
             ],
             [
              0.8888888888888888,
              "#fdca26"
             ],
             [
              1,
              "#f0f921"
             ]
            ],
            "type": "surface"
           }
          ],
          "table": [
           {
            "cells": {
             "fill": {
              "color": "#EBF0F8"
             },
             "line": {
              "color": "white"
             }
            },
            "header": {
             "fill": {
              "color": "#C8D4E3"
             },
             "line": {
              "color": "white"
             }
            },
            "type": "table"
           }
          ]
         },
         "layout": {
          "annotationdefaults": {
           "arrowcolor": "#2a3f5f",
           "arrowhead": 0,
           "arrowwidth": 1
          },
          "autotypenumbers": "strict",
          "coloraxis": {
           "colorbar": {
            "outlinewidth": 0,
            "ticks": ""
           }
          },
          "colorscale": {
           "diverging": [
            [
             0,
             "#8e0152"
            ],
            [
             0.1,
             "#c51b7d"
            ],
            [
             0.2,
             "#de77ae"
            ],
            [
             0.3,
             "#f1b6da"
            ],
            [
             0.4,
             "#fde0ef"
            ],
            [
             0.5,
             "#f7f7f7"
            ],
            [
             0.6,
             "#e6f5d0"
            ],
            [
             0.7,
             "#b8e186"
            ],
            [
             0.8,
             "#7fbc41"
            ],
            [
             0.9,
             "#4d9221"
            ],
            [
             1,
             "#276419"
            ]
           ],
           "sequential": [
            [
             0,
             "#0d0887"
            ],
            [
             0.1111111111111111,
             "#46039f"
            ],
            [
             0.2222222222222222,
             "#7201a8"
            ],
            [
             0.3333333333333333,
             "#9c179e"
            ],
            [
             0.4444444444444444,
             "#bd3786"
            ],
            [
             0.5555555555555556,
             "#d8576b"
            ],
            [
             0.6666666666666666,
             "#ed7953"
            ],
            [
             0.7777777777777778,
             "#fb9f3a"
            ],
            [
             0.8888888888888888,
             "#fdca26"
            ],
            [
             1,
             "#f0f921"
            ]
           ],
           "sequentialminus": [
            [
             0,
             "#0d0887"
            ],
            [
             0.1111111111111111,
             "#46039f"
            ],
            [
             0.2222222222222222,
             "#7201a8"
            ],
            [
             0.3333333333333333,
             "#9c179e"
            ],
            [
             0.4444444444444444,
             "#bd3786"
            ],
            [
             0.5555555555555556,
             "#d8576b"
            ],
            [
             0.6666666666666666,
             "#ed7953"
            ],
            [
             0.7777777777777778,
             "#fb9f3a"
            ],
            [
             0.8888888888888888,
             "#fdca26"
            ],
            [
             1,
             "#f0f921"
            ]
           ]
          },
          "colorway": [
           "#636efa",
           "#EF553B",
           "#00cc96",
           "#ab63fa",
           "#FFA15A",
           "#19d3f3",
           "#FF6692",
           "#B6E880",
           "#FF97FF",
           "#FECB52"
          ],
          "font": {
           "color": "#2a3f5f"
          },
          "geo": {
           "bgcolor": "white",
           "lakecolor": "white",
           "landcolor": "#E5ECF6",
           "showlakes": true,
           "showland": true,
           "subunitcolor": "white"
          },
          "hoverlabel": {
           "align": "left"
          },
          "hovermode": "closest",
          "mapbox": {
           "style": "light"
          },
          "paper_bgcolor": "white",
          "plot_bgcolor": "#E5ECF6",
          "polar": {
           "angularaxis": {
            "gridcolor": "white",
            "linecolor": "white",
            "ticks": ""
           },
           "bgcolor": "#E5ECF6",
           "radialaxis": {
            "gridcolor": "white",
            "linecolor": "white",
            "ticks": ""
           }
          },
          "scene": {
           "xaxis": {
            "backgroundcolor": "#E5ECF6",
            "gridcolor": "white",
            "gridwidth": 2,
            "linecolor": "white",
            "showbackground": true,
            "ticks": "",
            "zerolinecolor": "white"
           },
           "yaxis": {
            "backgroundcolor": "#E5ECF6",
            "gridcolor": "white",
            "gridwidth": 2,
            "linecolor": "white",
            "showbackground": true,
            "ticks": "",
            "zerolinecolor": "white"
           },
           "zaxis": {
            "backgroundcolor": "#E5ECF6",
            "gridcolor": "white",
            "gridwidth": 2,
            "linecolor": "white",
            "showbackground": true,
            "ticks": "",
            "zerolinecolor": "white"
           }
          },
          "shapedefaults": {
           "line": {
            "color": "#2a3f5f"
           }
          },
          "ternary": {
           "aaxis": {
            "gridcolor": "white",
            "linecolor": "white",
            "ticks": ""
           },
           "baxis": {
            "gridcolor": "white",
            "linecolor": "white",
            "ticks": ""
           },
           "bgcolor": "#E5ECF6",
           "caxis": {
            "gridcolor": "white",
            "linecolor": "white",
            "ticks": ""
           }
          },
          "title": {
           "x": 0.05
          },
          "xaxis": {
           "automargin": true,
           "gridcolor": "white",
           "linecolor": "white",
           "ticks": "",
           "title": {
            "standoff": 15
           },
           "zerolinecolor": "white",
           "zerolinewidth": 2
          },
          "yaxis": {
           "automargin": true,
           "gridcolor": "white",
           "linecolor": "white",
           "ticks": "",
           "title": {
            "standoff": 15
           },
           "zerolinecolor": "white",
           "zerolinewidth": 2
          }
         }
        },
        "title": {
         "text": "Bases BiciMad por Distrito"
        },
        "width": 1000
       }
      },
      "text/html": [
       "<div>                            <div id=\"3851e71b-1667-44d8-8f34-ef9f02f5da36\" class=\"plotly-graph-div\" style=\"height:1000px; width:1000px;\"></div>            <script type=\"text/javascript\">                require([\"plotly\"], function(Plotly) {                    window.PLOTLYENV=window.PLOTLYENV || {};                                    if (document.getElementById(\"3851e71b-1667-44d8-8f34-ef9f02f5da36\")) {                    Plotly.newPlot(                        \"3851e71b-1667-44d8-8f34-ef9f02f5da36\",                        [{\"hovertemplate\":\"Distrito_Salida=01 \\u00a0CENTRO<br>size=%{marker.size}<br>Latitud_Salida=%{lat}<br>Longitud_Salida=%{lon}<extra></extra>\",\"lat\":[40.417110443115234,40.42058181762695,40.4285888671875,40.42836380004883,40.424163818359375,40.42521667480469,40.41561508178711,40.4254035949707,40.42705154418945,40.42852783203125,40.427364349365234,40.426292419433594,40.422943115234375,40.42316818237305,40.420921325683594,40.421897888183594,40.419185638427734,40.417259216308594,40.423831939697266,40.41328430175781,40.418067932128906,40.41624450683594,40.419334411621094,40.416343688964844,40.41647720336914,40.41441345214844,40.414180755615234,40.41682434082031,40.41086196899414,40.41129684448242,40.4112663269043,40.413787841796875,40.412227630615234,40.410770416259766,40.41008758544922,40.40981674194336,40.40694808959961,40.40544891357422,40.40604782104492,40.40830993652344,40.40772247314453,40.41451644897461,40.40827941894531,40.4266242980957,40.424072265625,40.41848373413086,40.42963790893555,40.42226028442383,40.425479888916016,40.41082763671875,40.4185791015625,40.4139404296875,40.41975402832031,40.420616149902344],\"legendgroup\":\"01 \\u00a0CENTRO\",\"lon\":[-3.701997995376587,-3.705673933029175,-3.70267391204834,-3.7020742893218994,-3.69840931892395,-3.697739839553833,-3.709409236907959,-3.6920816898345947,-3.7036192417144775,-3.7062201499938965,-3.710472583770752,-3.7073609828948975,-3.7074954509735107,-3.704185962677002,-3.6995677947998047,-3.695394992828369,-3.6952900886535645,-3.706024408340454,-3.694542169570923,-3.695580244064331,-3.698366165161133,-3.69580078125,-3.711542844772339,-3.706624984741211,-3.703209638595581,-3.7035043239593506,-3.7103676795959473,-3.711764097213745,-3.714123487472534,-3.71144437789917,-3.7090044021606445,-3.7047462463378906,-3.6989898681640625,-3.6982293128967285,-3.702544689178467,-3.703913688659668,-3.7111380100250244,-3.7020998001098633,-3.69924259185791,-3.6932199001312256,-3.6935935020446777,-3.7007837295532227,-3.7007296085357666,-3.700343608856201,-3.7019295692443848,-3.7032876014709473,-3.712818145751953,-3.6979458332061768,-3.7041165828704834,-3.6931347846984863,-3.6933298110961914,-3.7133381366729736,-3.7026309967041016,-3.7025368213653564],\"marker\":{\"color\":\"#636efa\",\"size\":[30.0,12.0,12.0,13.5,12.0,10.5,12.0,12.0,12.0,12.0,12.0,10.5,10.5,12.0,12.0,12.0,15.0,24.0,12.0,13.5,12.0,12.0,13.5,13.5,10.5,12.0,12.0,12.0,12.0,12.0,13.5,12.0,9.0,12.0,12.0,10.5,10.5,12.0,12.0,12.0,13.5,12.0,12.0,10.5,12.0,12.0,12.0,12.0,10.5,12.0,10.5,12.0,13.5,12.0],\"sizemode\":\"area\",\"sizeref\":0.075},\"mode\":\"markers\",\"name\":\"01 \\u00a0CENTRO\",\"showlegend\":true,\"subplot\":\"mapbox\",\"type\":\"scattermapbox\"},{\"hovertemplate\":\"Distrito_Salida=07 \\u00a0CHAMBER\\u00cd<br>size=%{marker.size}<br>Latitud_Salida=%{lat}<br>Longitud_Salida=%{lon}<extra></extra>\",\"lat\":[40.430320739746094,40.42771530151367,40.43357467651367,40.42952346801758,40.43063735961914,40.430816650390625,40.4353141784668,40.434566497802734,40.43390655517578,40.43903350830078,40.43846893310547,40.44171905517578,40.44175338745117,40.446388244628906,40.444026947021484,40.44148635864258,40.4456901550293,40.4354248046875,40.4331169128418,40.434326171875,40.43366241455078,40.4387321472168,40.44116973876953,40.44175338745117],\"legendgroup\":\"07 \\u00a0CHAMBER\\u00cd\",\"lon\":[-3.707212209701538,-3.6953067779541016,-3.717778205871582,-3.6962625980377197,-3.713468551635742,-3.6993181705474854,-3.694831609725952,-3.70174241065979,-3.7083988189697266,-3.715691566467285,-3.698281764984131,-3.701707124710083,-3.70402193069458,-3.7035911083221436,-3.6955113410949707,-3.692890167236328,-3.6915817260742188,-3.6892902851104736,-3.6915712356567383,-3.7148406505584717,-3.7046709060668945,-3.7038161754608154,-3.708096981048584,-3.714423894882202],\"marker\":{\"color\":\"#EF553B\",\"size\":[9.0,12.0,24.0,12.0,12.0,12.0,12.0,12.0,12.0,13.5,12.0,10.0,12.0,12.0,12.0,12.0,12.0,6.0,12.0,13.5,12.0,12.0,12.0,12.0],\"sizemode\":\"area\",\"sizeref\":0.075},\"mode\":\"markers\",\"name\":\"07 \\u00a0CHAMBER\\u00cd\",\"showlegend\":true,\"subplot\":\"mapbox\",\"type\":\"scattermapbox\"},{\"hovertemplate\":\"Distrito_Salida=09 \\u00a0MONCLOA-ARAVACA<br>size=%{marker.size}<br>Latitud_Salida=%{lat}<br>Longitud_Salida=%{lon}<extra></extra>\",\"lat\":[40.42599105834961,40.43476486206055,40.43262481689453,40.4277458190918,40.42782211303711,40.42538070678711,40.42406463623047,40.430904388427734,40.42205810546875],\"legendgroup\":\"09 \\u00a0MONCLOA-ARAVACA\",\"lon\":[-3.713376760482788,-3.7201316356658936,-3.724872589111328,-3.720714569091797,-3.7174150943756104,-3.7169625759124756,-3.711845636367798,-3.7189152240753174,-3.722062349319458],\"marker\":{\"color\":\"#00cc96\",\"size\":[12.0,12.0,12.0,12.0,12.0,12.0,24.0,12.0,13.5],\"sizemode\":\"area\",\"sizeref\":0.075},\"mode\":\"markers\",\"name\":\"09 \\u00a0MONCLOA-ARAVACA\",\"showlegend\":true,\"subplot\":\"mapbox\",\"type\":\"scattermapbox\"},{\"hovertemplate\":\"Distrito_Salida=02 \\u00a0ARGANZUELA<br>size=%{marker.size}<br>Latitud_Salida=%{lat}<br>Longitud_Salida=%{lon}<extra></extra>\",\"lat\":[40.40544891357422,40.404624938964844,40.407413482666016,40.400794982910156,40.40145492553711,40.403038024902344,40.40183639526367,40.40351867675781,40.40363311767578,40.39713668823242,40.39288330078125,40.413734436035156,40.40458297729492,40.40157699584961,40.40110397338867,40.39976119995117,40.4008674621582,40.39817428588867,40.39741516113281,40.39626693725586,40.39424133300781,40.391502380371094,40.394126892089844],\"legendgroup\":\"02 \\u00a0ARGANZUELA\",\"lon\":[-3.707117795944214,-3.7027549743652344,-3.6907238960266113,-3.6881349086761475,-3.686577796936035,-3.69477915763855,-3.6986045837402344,-3.7107558250427246,-3.706437110900879,-3.6944851875305176,-3.697613477706909,-3.7176456451416016,-3.695915937423706,-3.71384596824646,-3.7044029235839844,-3.6984457969665527,-3.693544864654541,-3.702361583709717,-3.7063770294189453,-3.69830322265625,-3.6936302185058594,-3.694087028503418,-3.675924301147461],\"marker\":{\"color\":\"#ab63fa\",\"size\":[12.0,12.0,25.5,12.0,12.0,12.0,12.0,12.0,10.5,12.0,13.5,12.0,12.0,12.0,12.0,12.0,12.0,12.0,13.5,10.5,12.0,12.0,12.0],\"sizemode\":\"area\",\"sizeref\":0.075},\"mode\":\"markers\",\"name\":\"02 \\u00a0ARGANZUELA\",\"showlegend\":true,\"subplot\":\"mapbox\",\"type\":\"scattermapbox\"},{\"hovertemplate\":\"Distrito_Salida=03 \\u00a0RETIRO<br>size=%{marker.size}<br>Latitud_Salida=%{lat}<br>Longitud_Salida=%{lon}<extra></extra>\",\"lat\":[40.41945266723633,40.42143630981445,40.42129898071289,40.41789245605469,40.41668701171875,40.41006088256836,40.4160041809082,40.41572189331055,40.41146469116211,40.41175842285156,40.40834045410156,40.407283782958984,40.406333923339844,40.400569915771484,40.40504837036133,40.409576416015625,40.408477783203125,40.41325759887695,40.40336990356445,40.421142578125,40.40302276611328,40.418174743652344,40.4187126159668],\"legendgroup\":\"03 \\u00a0RETIRO\",\"lon\":[-3.688199281692505,-3.675205945968628,-3.672422409057617,-3.6706507205963135,-3.689382553100586,-3.6888668537139893,-3.674021005630493,-3.6696228981018066,-3.6690990924835205,-3.676576852798462,-3.678414821624756,-3.675154447555542,-3.670774221420288,-3.6745781898498535,-3.6805524826049805,-3.6919662952423096,-3.6696829795837402,-3.6745338439941406,-3.67269229888916,-3.6799299716949463,-3.678893804550171,-3.676640033721924,-3.6655023097991943],\"marker\":{\"color\":\"#FFA15A\",\"size\":[12.0,12.0,12.0,12.0,12.0,13.5,12.0,12.0,12.0,12.0,12.0,12.0,11.0,12.0,12.0,12.0,12.0,12.0,12.0,13.5,12.0,13.5,12.0],\"sizemode\":\"area\",\"sizeref\":0.075},\"mode\":\"markers\",\"name\":\"03 \\u00a0RETIRO\",\"showlegend\":true,\"subplot\":\"mapbox\",\"type\":\"scattermapbox\"},{\"hovertemplate\":\"Distrito_Salida=04 \\u00a0SALAMANCA<br>size=%{marker.size}<br>Latitud_Salida=%{lat}<br>Longitud_Salida=%{lon}<extra></extra>\",\"lat\":[40.42767333984375,40.431209564208984,40.42726135253906,40.425079345703125,40.42611312866211,40.42622375488281,40.425697326660156,40.423370361328125,40.422664642333984,40.42205047607422,40.4224853515625,40.424190521240234,40.42610549926758,40.42478561401367,40.42312240600586,40.4211540222168,40.43037414550781,40.42676544189453,40.427066802978516,40.42486572265625,40.42159652709961,40.42744064331055,40.43013000488281,40.43352508544922,40.43461608886719,40.43231964111328,40.429771423339844,40.425636291503906,40.426002502441406,40.42506790161133,40.43013381958008,40.43437576293945,40.43461608886719,40.431854248046875,40.43252182006836,40.437198638916016],\"legendgroup\":\"04 \\u00a0SALAMANCA\",\"lon\":[-3.683562994003296,-3.6837470531463623,-3.6751716136932373,-3.683729648590088,-3.6788203716278076,-3.6864821910858154,-3.6894123554229736,-3.690704345703125,-3.6869914531707764,-3.682047128677368,-3.6801514625549316,-3.675407886505127,-3.673963785171509,-3.673877716064453,-3.669424533843994,-3.6840806007385254,-3.686535120010376,-3.6895792484283447,-3.687474489212036,-3.6878867149353027,-3.6884243488311768,-3.6706531047821045,-3.681525230407715,-3.688040256500244,-3.6782355308532715,-3.6754627227783203,-3.671401023864746,-3.669450521469116,-3.665309429168701,-3.6615331172943115,-3.6638407707214355,-3.683471202850342,-3.6740365028381348,-3.671431541442871,-3.6656439304351807,-3.677194595336914],\"marker\":{\"color\":\"#19d3f3\",\"size\":[12.0,12.0,12.0,15.0,12.0,12.0,12.0,10.5,12.0,13.5,13.5,12.0,12.0,12.0,12.0,12.0,12.0,10.5,12.0,18.0,12.0,13.5,12.0,12.0,12.0,12.0,12.0,12.0,12.0,12.0,12.0,12.0,9.0,13.5,12.0,12.0],\"sizemode\":\"area\",\"sizeref\":0.075},\"mode\":\"markers\",\"name\":\"04 \\u00a0SALAMANCA\",\"showlegend\":true,\"subplot\":\"mapbox\",\"type\":\"scattermapbox\"},{\"hovertemplate\":\"Distrito_Salida=06 \\u00a0TETU\\u00c1N<br>size=%{marker.size}<br>Latitud_Salida=%{lat}<br>Longitud_Salida=%{lon}<extra></extra>\",\"lat\":[40.447166442871094,40.44886016845703,40.45271682739258,40.45235061645508,40.454776763916016,40.4572868347168,40.4592399597168,40.447662353515625,40.4535026550293,40.46080017089844,40.46302795410156],\"legendgroup\":\"06 \\u00a0TETU\\u00c1N\",\"lon\":[-3.700029134750366,-3.695202350616455,-3.6989498138427734,-3.693089485168457,-3.694673538208008,-3.70086407661438,-3.6913228034973145,-3.7041702270507812,-3.703340768814087,-3.699049949645996,-3.697399139404297],\"marker\":{\"color\":\"#FF6692\",\"size\":[12.0,12.0,12.0,12.0,12.0,12.0,12.0,12.0,12.0,12.0,9.0],\"sizemode\":\"area\",\"sizeref\":0.075},\"mode\":\"markers\",\"name\":\"06 \\u00a0TETU\\u00c1N\",\"showlegend\":true,\"subplot\":\"mapbox\",\"type\":\"scattermapbox\"},{\"hovertemplate\":\"Distrito_Salida=05 \\u00a0CHAMART\\u00cdN<br>size=%{marker.size}<br>Latitud_Salida=%{lat}<br>Longitud_Salida=%{lon}<extra></extra>\",\"lat\":[40.445281982421875,40.44549560546875,40.439353942871094,40.43851852416992,40.44424057006836,40.448333740234375,40.451019287109375,40.44984436035156,40.44911193847656,40.45928192138672,40.4586181640625,40.454254150390625,40.45719909667969,40.439247131347656,40.444095611572266,40.4515495300293,40.46651077270508,40.4656867980957],\"legendgroup\":\"05 \\u00a0CHAMART\\u00cdN\",\"lon\":[-3.690812587738037,-3.6852924823760986,-3.6904494762420654,-3.682912588119507,-3.6787900924682617,-3.6795811653137207,-3.681699275970459,-3.6878511905670166,-3.6905410289764404,-3.689330577850342,-3.6847050189971924,-3.683734893798828,-3.6766176223754883,-3.6754913330078125,-3.6750917434692383,-3.678025245666504,-3.688685178756714,-3.6887874603271484],\"marker\":{\"color\":\"#B6E880\",\"size\":[12.0,12.0,12.0,13.5,9.0,12.0,12.0,12.0,12.0,12.0,12.0,12.0,12.0,12.0,12.0,12.0,12.0,12.0],\"sizemode\":\"area\",\"sizeref\":0.075},\"mode\":\"markers\",\"name\":\"05 \\u00a0CHAMART\\u00cdN\",\"showlegend\":true,\"subplot\":\"mapbox\",\"type\":\"scattermapbox\"},{\"hovertemplate\":\"Distrito_Salida=13 \\u00a0PUENTE DE VALLECAS<br>size=%{marker.size}<br>Latitud_Salida=%{lat}<br>Longitud_Salida=%{lon}<extra></extra>\",\"lat\":[40.39793395996094],\"legendgroup\":\"13 \\u00a0PUENTE DE VALLECAS\",\"lon\":[-3.669060230255127],\"marker\":{\"color\":\"#FF97FF\",\"size\":[12.0],\"sizemode\":\"area\",\"sizeref\":0.075},\"mode\":\"markers\",\"name\":\"13 \\u00a0PUENTE DE VALLECAS\",\"showlegend\":true,\"subplot\":\"mapbox\",\"type\":\"scattermapbox\"},{\"hovertemplate\":\"Distrito_Salida=15 \\u00a0CIUDAD LINEAL<br>size=%{marker.size}<br>Latitud_Salida=%{lat}<br>Longitud_Salida=%{lon}<extra></extra>\",\"lat\":[40.43116760253906,40.435020446777344,40.44340133666992,40.429691314697266],\"legendgroup\":\"15 \\u00a0CIUDAD LINEAL\",\"lon\":[-3.6589062213897705,-3.655543088912964,-3.6569597721099854,-3.640969753265381],\"marker\":{\"color\":\"#FECB52\",\"size\":[13.5,12.0,12.0,12.0],\"sizemode\":\"area\",\"sizeref\":0.075},\"mode\":\"markers\",\"name\":\"15 \\u00a0CIUDAD LINEAL\",\"showlegend\":true,\"subplot\":\"mapbox\",\"type\":\"scattermapbox\"},{\"hovertemplate\":\"Distrito_Salida=11 \\u00a0CARABANCHEL<br>size=%{marker.size}<br>Latitud_Salida=%{lat}<br>Longitud_Salida=%{lon}<extra></extra>\",\"lat\":[40.39815902709961],\"legendgroup\":\"11 \\u00a0CARABANCHEL\",\"lon\":[-3.716531276702881],\"marker\":{\"color\":\"#636efa\",\"size\":[12.0],\"sizemode\":\"area\",\"sizeref\":0.075},\"mode\":\"markers\",\"name\":\"11 \\u00a0CARABANCHEL\",\"showlegend\":true,\"subplot\":\"mapbox\",\"type\":\"scattermapbox\"},{\"hovertemplate\":\"Distrito_Salida=12 \\u00a0USERA<br>size=%{marker.size}<br>Latitud_Salida=%{lat}<br>Longitud_Salida=%{lon}<extra></extra>\",\"lat\":[40.38893508911133],\"legendgroup\":\"12 \\u00a0USERA\",\"lon\":[-3.700157403945923],\"marker\":{\"color\":\"#EF553B\",\"size\":[12.0],\"sizemode\":\"area\",\"sizeref\":0.075},\"mode\":\"markers\",\"name\":\"12 \\u00a0USERA\",\"showlegend\":true,\"subplot\":\"mapbox\",\"type\":\"scattermapbox\"},{\"hovertemplate\":\"Distrito_Salida=10 \\u00a0LATINA<br>size=%{marker.size}<br>Latitud_Salida=%{lat}<br>Longitud_Salida=%{lon}<extra></extra>\",\"lat\":[40.4140510559082],\"legendgroup\":\"10 \\u00a0LATINA\",\"lon\":[-3.7288947105407715],\"marker\":{\"color\":\"#00cc96\",\"size\":[12.0],\"sizemode\":\"area\",\"sizeref\":0.075},\"mode\":\"markers\",\"name\":\"10 \\u00a0LATINA\",\"showlegend\":true,\"subplot\":\"mapbox\",\"type\":\"scattermapbox\"},{\"hovertemplate\":\"Distrito_Salida=08 \\u00a0FUENCARRAL-EL PARDO<br>size=%{marker.size}<br>Latitud_Salida=%{lat}<br>Longitud_Salida=%{lon}<extra></extra>\",\"lat\":[40.48100280761719],\"legendgroup\":\"08 \\u00a0FUENCARRAL-EL PARDO\",\"lon\":[-3.6891093254089355],\"marker\":{\"color\":\"#ab63fa\",\"size\":[12.0],\"sizemode\":\"area\",\"sizeref\":0.075},\"mode\":\"markers\",\"name\":\"08 \\u00a0FUENCARRAL-EL PARDO\",\"showlegend\":true,\"subplot\":\"mapbox\",\"type\":\"scattermapbox\"},{\"hovertemplate\":\"Distrito_Salida=14 \\u00a0MORATALAZ<br>size=%{marker.size}<br>Latitud_Salida=%{lat}<br>Longitud_Salida=%{lon}<extra></extra>\",\"lat\":[40.410552978515625,40.40839767456055],\"legendgroup\":\"14 \\u00a0MORATALAZ\",\"lon\":[-3.657399892807007,-3.6467783451080322],\"marker\":{\"color\":\"#FFA15A\",\"size\":[12.0,12.0],\"sizemode\":\"area\",\"sizeref\":0.075},\"mode\":\"markers\",\"name\":\"14 \\u00a0MORATALAZ\",\"showlegend\":true,\"subplot\":\"mapbox\",\"type\":\"scattermapbox\"},{\"hovertemplate\":[\"<b>Estaci\\u00f3n:1</b><br><b>Distrito: </b>01 \\u00a0CENTRO<br><b>N\\u00famero de bases:</b> 60.0\",\"<b>Estaci\\u00f3n:2</b><br><b>Distrito: </b>01 \\u00a0CENTRO<br><b>N\\u00famero de bases:</b> 24.0\",\"<b>Estaci\\u00f3n:3</b><br><b>Distrito: </b>07 \\u00a0CHAMBER\\u00cd<br><b>N\\u00famero de bases:</b> 18.0\",\"<b>Estaci\\u00f3n:4</b><br><b>Distrito: </b>01 \\u00a0CENTRO<br><b>N\\u00famero de bases:</b> 24.0\",\"<b>Estaci\\u00f3n:5</b><br><b>Distrito: </b>01 \\u00a0CENTRO<br><b>N\\u00famero de bases:</b> 27.0\",\"<b>Estaci\\u00f3n:6</b><br><b>Distrito: </b>01 \\u00a0CENTRO<br><b>N\\u00famero de bases:</b> 24.0\",\"<b>Estaci\\u00f3n:7</b><br><b>Distrito: </b>01 \\u00a0CENTRO<br><b>N\\u00famero de bases:</b> 21.0\",\"<b>Estaci\\u00f3n:8</b><br><b>Distrito: </b>07 \\u00a0CHAMBER\\u00cd<br><b>N\\u00famero de bases:</b> 24.0\",\"<b>Estaci\\u00f3n:9</b><br><b>Distrito: </b>01 \\u00a0CENTRO<br><b>N\\u00famero de bases:</b> 24.0\",\"<b>Estaci\\u00f3n:10</b><br><b>Distrito: </b>01 \\u00a0CENTRO<br><b>N\\u00famero de bases:</b> 24.0\",\"<b>Estaci\\u00f3n:11</b><br><b>Distrito: </b>01 \\u00a0CENTRO<br><b>N\\u00famero de bases:</b> 24.0\",\"<b>Estaci\\u00f3n:12</b><br><b>Distrito: </b>01 \\u00a0CENTRO<br><b>N\\u00famero de bases:</b> 24.0\",\"<b>Estaci\\u00f3n:13</b><br><b>Distrito: </b>01 \\u00a0CENTRO<br><b>N\\u00famero de bases:</b> 24.0\",\"<b>Estaci\\u00f3n:14</b><br><b>Distrito: </b>09 \\u00a0MONCLOA-ARAVACA<br><b>N\\u00famero de bases:</b> 24.0\",\"<b>Estaci\\u00f3n:15</b><br><b>Distrito: </b>01 \\u00a0CENTRO<br><b>N\\u00famero de bases:</b> 21.0\",\"<b>Estaci\\u00f3n:16</b><br><b>Distrito: </b>01 \\u00a0CENTRO<br><b>N\\u00famero de bases:</b> 21.0\",\"<b>Estaci\\u00f3n:17</b><br><b>Distrito: </b>01 \\u00a0CENTRO<br><b>N\\u00famero de bases:</b> 24.0\",\"<b>Estaci\\u00f3n:18</b><br><b>Distrito: </b>01 \\u00a0CENTRO<br><b>N\\u00famero de bases:</b> 24.0\",\"<b>Estaci\\u00f3n:19</b><br><b>Distrito: </b>01 \\u00a0CENTRO<br><b>N\\u00famero de bases:</b> 24.0\",\"<b>Estaci\\u00f3n:20</b><br><b>Distrito: </b>01 \\u00a0CENTRO<br><b>N\\u00famero de bases:</b> 30.0\",\"<b>Estaci\\u00f3n:25</b><br><b>Distrito: </b>01 \\u00a0CENTRO<br><b>N\\u00famero de bases:</b> 48.0\",\"<b>Estaci\\u00f3n:26</b><br><b>Distrito: </b>01 \\u00a0CENTRO<br><b>N\\u00famero de bases:</b> 24.0\",\"<b>Estaci\\u00f3n:27</b><br><b>Distrito: </b>01 \\u00a0CENTRO<br><b>N\\u00famero de bases:</b> 27.0\",\"<b>Estaci\\u00f3n:28</b><br><b>Distrito: </b>01 \\u00a0CENTRO<br><b>N\\u00famero de bases:</b> 24.0\",\"<b>Estaci\\u00f3n:29</b><br><b>Distrito: </b>01 \\u00a0CENTRO<br><b>N\\u00famero de bases:</b> 24.0\",\"<b>Estaci\\u00f3n:30</b><br><b>Distrito: </b>01 \\u00a0CENTRO<br><b>N\\u00famero de bases:</b> 27.0\",\"<b>Estaci\\u00f3n:31</b><br><b>Distrito: </b>01 \\u00a0CENTRO<br><b>N\\u00famero de bases:</b> 27.0\",\"<b>Estaci\\u00f3n:33</b><br><b>Distrito: </b>01 \\u00a0CENTRO<br><b>N\\u00famero de bases:</b> 21.0\",\"<b>Estaci\\u00f3n:34</b><br><b>Distrito: </b>01 \\u00a0CENTRO<br><b>N\\u00famero de bases:</b> 24.0\",\"<b>Estaci\\u00f3n:35</b><br><b>Distrito: </b>01 \\u00a0CENTRO<br><b>N\\u00famero de bases:</b> 24.0\",\"<b>Estaci\\u00f3n:36</b><br><b>Distrito: </b>01 \\u00a0CENTRO<br><b>N\\u00famero de bases:</b> 24.0\",\"<b>Estaci\\u00f3n:37</b><br><b>Distrito: </b>01 \\u00a0CENTRO<br><b>N\\u00famero de bases:</b> 24.0\",\"<b>Estaci\\u00f3n:38</b><br><b>Distrito: </b>01 \\u00a0CENTRO<br><b>N\\u00famero de bases:</b> 24.0\",\"<b>Estaci\\u00f3n:39</b><br><b>Distrito: </b>01 \\u00a0CENTRO<br><b>N\\u00famero de bases:</b> 27.0\",\"<b>Estaci\\u00f3n:40</b><br><b>Distrito: </b>01 \\u00a0CENTRO<br><b>N\\u00famero de bases:</b> 24.0\",\"<b>Estaci\\u00f3n:41</b><br><b>Distrito: </b>01 \\u00a0CENTRO<br><b>N\\u00famero de bases:</b> 18.0\",\"<b>Estaci\\u00f3n:42</b><br><b>Distrito: </b>01 \\u00a0CENTRO<br><b>N\\u00famero de bases:</b> 24.0\",\"<b>Estaci\\u00f3n:43</b><br><b>Distrito: </b>01 \\u00a0CENTRO<br><b>N\\u00famero de bases:</b> 24.0\",\"<b>Estaci\\u00f3n:44</b><br><b>Distrito: </b>01 \\u00a0CENTRO<br><b>N\\u00famero de bases:</b> 21.0\",\"<b>Estaci\\u00f3n:45</b><br><b>Distrito: </b>01 \\u00a0CENTRO<br><b>N\\u00famero de bases:</b> 21.0\",\"<b>Estaci\\u00f3n:46</b><br><b>Distrito: </b>02 \\u00a0ARGANZUELA<br><b>N\\u00famero de bases:</b> 24.0\",\"<b>Estaci\\u00f3n:47</b><br><b>Distrito: </b>02 \\u00a0ARGANZUELA<br><b>N\\u00famero de bases:</b> 24.0\",\"<b>Estaci\\u00f3n:48</b><br><b>Distrito: </b>01 \\u00a0CENTRO<br><b>N\\u00famero de bases:</b> 24.0\",\"<b>Estaci\\u00f3n:49</b><br><b>Distrito: </b>01 \\u00a0CENTRO<br><b>N\\u00famero de bases:</b> 24.0\",\"<b>Estaci\\u00f3n:50</b><br><b>Distrito: </b>01 \\u00a0CENTRO<br><b>N\\u00famero de bases:</b> 24.0\",\"<b>Estaci\\u00f3n:51</b><br><b>Distrito: </b>01 \\u00a0CENTRO<br><b>N\\u00famero de bases:</b> 27.0\",\"<b>Estaci\\u00f3n:52</b><br><b>Distrito: </b>01 \\u00a0CENTRO<br><b>N\\u00famero de bases:</b> 24.0\",\"<b>Estaci\\u00f3n:53</b><br><b>Distrito: </b>01 \\u00a0CENTRO<br><b>N\\u00famero de bases:</b> 24.0\",\"<b>Estaci\\u00f3n:54</b><br><b>Distrito: </b>01 \\u00a0CENTRO<br><b>N\\u00famero de bases:</b> 21.0\",\"<b>Estaci\\u00f3n:55</b><br><b>Distrito: </b>01 \\u00a0CENTRO<br><b>N\\u00famero de bases:</b> 24.0\",\"<b>Estaci\\u00f3n:56</b><br><b>Distrito: </b>01 \\u00a0CENTRO<br><b>N\\u00famero de bases:</b> 24.0\",\"<b>Estaci\\u00f3n:57</b><br><b>Distrito: </b>01 \\u00a0CENTRO<br><b>N\\u00famero de bases:</b> 24.0\",\"<b>Estaci\\u00f3n:58</b><br><b>Distrito: </b>01 \\u00a0CENTRO<br><b>N\\u00famero de bases:</b> 24.0\",\"<b>Estaci\\u00f3n:59</b><br><b>Distrito: </b>01 \\u00a0CENTRO<br><b>N\\u00famero de bases:</b> 21.0\",\"<b>Estaci\\u00f3n:60</b><br><b>Distrito: </b>03 \\u00a0RETIRO<br><b>N\\u00famero de bases:</b> 24.0\",\"<b>Estaci\\u00f3n:61</b><br><b>Distrito: </b>03 \\u00a0RETIRO<br><b>N\\u00famero de bases:</b> 24.0\",\"<b>Estaci\\u00f3n:62</b><br><b>Distrito: </b>03 \\u00a0RETIRO<br><b>N\\u00famero de bases:</b> 24.0\",\"<b>Estaci\\u00f3n:63</b><br><b>Distrito: </b>03 \\u00a0RETIRO<br><b>N\\u00famero de bases:</b> 24.0\",\"<b>Estaci\\u00f3n:65</b><br><b>Distrito: </b>03 \\u00a0RETIRO<br><b>N\\u00famero de bases:</b> 24.0\",\"<b>Estaci\\u00f3n:67</b><br><b>Distrito: </b>01 \\u00a0CENTRO<br><b>N\\u00famero de bases:</b> 24.0\",\"<b>Estaci\\u00f3n:69</b><br><b>Distrito: </b>03 \\u00a0RETIRO<br><b>N\\u00famero de bases:</b> 27.0\",\"<b>Estaci\\u00f3n:71</b><br><b>Distrito: </b>03 \\u00a0RETIRO<br><b>N\\u00famero de bases:</b> 24.0\",\"<b>Estaci\\u00f3n:72</b><br><b>Distrito: </b>03 \\u00a0RETIRO<br><b>N\\u00famero de bases:</b> 24.0\",\"<b>Estaci\\u00f3n:73</b><br><b>Distrito: </b>03 \\u00a0RETIRO<br><b>N\\u00famero de bases:</b> 24.0\",\"<b>Estaci\\u00f3n:74</b><br><b>Distrito: </b>03 \\u00a0RETIRO<br><b>N\\u00famero de bases:</b> 24.0\",\"<b>Estaci\\u00f3n:75</b><br><b>Distrito: </b>03 \\u00a0RETIRO<br><b>N\\u00famero de bases:</b> 24.0\",\"<b>Estaci\\u00f3n:76</b><br><b>Distrito: </b>03 \\u00a0RETIRO<br><b>N\\u00famero de bases:</b> 24.0\",\"<b>Estaci\\u00f3n:77</b><br><b>Distrito: </b>03 \\u00a0RETIRO<br><b>N\\u00famero de bases:</b> 22.0\",\"<b>Estaci\\u00f3n:78</b><br><b>Distrito: </b>03 \\u00a0RETIRO<br><b>N\\u00famero de bases:</b> 24.0\",\"<b>Estaci\\u00f3n:79</b><br><b>Distrito: </b>03 \\u00a0RETIRO<br><b>N\\u00famero de bases:</b> 24.0\",\"<b>Estaci\\u00f3n:80</b><br><b>Distrito: </b>02 \\u00a0ARGANZUELA<br><b>N\\u00famero de bases:</b> 51.0\",\"<b>Estaci\\u00f3n:81</b><br><b>Distrito: </b>03 \\u00a0RETIRO<br><b>N\\u00famero de bases:</b> 24.0\",\"<b>Estaci\\u00f3n:82</b><br><b>Distrito: </b>03 \\u00a0RETIRO<br><b>N\\u00famero de bases:</b> 24.0\",\"<b>Estaci\\u00f3n:83</b><br><b>Distrito: </b>03 \\u00a0RETIRO<br><b>N\\u00famero de bases:</b> 24.0\",\"<b>Estaci\\u00f3n:84</b><br><b>Distrito: </b>03 \\u00a0RETIRO<br><b>N\\u00famero de bases:</b> 24.0\",\"<b>Estaci\\u00f3n:85</b><br><b>Distrito: </b>03 \\u00a0RETIRO<br><b>N\\u00famero de bases:</b> 27.0\",\"<b>Estaci\\u00f3n:86</b><br><b>Distrito: </b>01 \\u00a0CENTRO<br><b>N\\u00famero de bases:</b> 21.0\",\"<b>Estaci\\u00f3n:87</b><br><b>Distrito: </b>04 \\u00a0SALAMANCA<br><b>N\\u00famero de bases:</b> 24.0\",\"<b>Estaci\\u00f3n:88</b><br><b>Distrito: </b>04 \\u00a0SALAMANCA<br><b>N\\u00famero de bases:</b> 24.0\",\"<b>Estaci\\u00f3n:89</b><br><b>Distrito: </b>04 \\u00a0SALAMANCA<br><b>N\\u00famero de bases:</b> 24.0\",\"<b>Estaci\\u00f3n:90</b><br><b>Distrito: </b>04 \\u00a0SALAMANCA<br><b>N\\u00famero de bases:</b> 30.0\",\"<b>Estaci\\u00f3n:91</b><br><b>Distrito: </b>04 \\u00a0SALAMANCA<br><b>N\\u00famero de bases:</b> 24.0\",\"<b>Estaci\\u00f3n:92</b><br><b>Distrito: </b>04 \\u00a0SALAMANCA<br><b>N\\u00famero de bases:</b> 24.0\",\"<b>Estaci\\u00f3n:93</b><br><b>Distrito: </b>04 \\u00a0SALAMANCA<br><b>N\\u00famero de bases:</b> 24.0\",\"<b>Estaci\\u00f3n:94</b><br><b>Distrito: </b>04 \\u00a0SALAMANCA<br><b>N\\u00famero de bases:</b> 21.0\",\"<b>Estaci\\u00f3n:95</b><br><b>Distrito: </b>04 \\u00a0SALAMANCA<br><b>N\\u00famero de bases:</b> 24.0\",\"<b>Estaci\\u00f3n:96</b><br><b>Distrito: </b>04 \\u00a0SALAMANCA<br><b>N\\u00famero de bases:</b> 27.0\",\"<b>Estaci\\u00f3n:97</b><br><b>Distrito: </b>04 \\u00a0SALAMANCA<br><b>N\\u00famero de bases:</b> 27.0\",\"<b>Estaci\\u00f3n:98</b><br><b>Distrito: </b>04 \\u00a0SALAMANCA<br><b>N\\u00famero de bases:</b> 24.0\",\"<b>Estaci\\u00f3n:99</b><br><b>Distrito: </b>04 \\u00a0SALAMANCA<br><b>N\\u00famero de bases:</b> 24.0\",\"<b>Estaci\\u00f3n:100</b><br><b>Distrito: </b>04 \\u00a0SALAMANCA<br><b>N\\u00famero de bases:</b> 24.0\",\"<b>Estaci\\u00f3n:101</b><br><b>Distrito: </b>04 \\u00a0SALAMANCA<br><b>N\\u00famero de bases:</b> 24.0\",\"<b>Estaci\\u00f3n:102</b><br><b>Distrito: </b>04 \\u00a0SALAMANCA<br><b>N\\u00famero de bases:</b> 24.0\",\"<b>Estaci\\u00f3n:103</b><br><b>Distrito: </b>04 \\u00a0SALAMANCA<br><b>N\\u00famero de bases:</b> 24.0\",\"<b>Estaci\\u00f3n:104</b><br><b>Distrito: </b>04 \\u00a0SALAMANCA<br><b>N\\u00famero de bases:</b> 21.0\",\"<b>Estaci\\u00f3n:105</b><br><b>Distrito: </b>04 \\u00a0SALAMANCA<br><b>N\\u00famero de bases:</b> 24.0\",\"<b>Estaci\\u00f3n:106</b><br><b>Distrito: </b>04 \\u00a0SALAMANCA<br><b>N\\u00famero de bases:</b> 36.0\",\"<b>Estaci\\u00f3n:107</b><br><b>Distrito: </b>04 \\u00a0SALAMANCA<br><b>N\\u00famero de bases:</b> 24.0\",\"<b>Estaci\\u00f3n:108</b><br><b>Distrito: </b>04 \\u00a0SALAMANCA<br><b>N\\u00famero de bases:</b> 27.0\",\"<b>Estaci\\u00f3n:109</b><br><b>Distrito: </b>04 \\u00a0SALAMANCA<br><b>N\\u00famero de bases:</b> 24.0\",\"<b>Estaci\\u00f3n:110</b><br><b>Distrito: </b>09 \\u00a0MONCLOA-ARAVACA<br><b>N\\u00famero de bases:</b> 24.0\",\"<b>Estaci\\u00f3n:111</b><br><b>Distrito: </b>07 \\u00a0CHAMBER\\u00cd<br><b>N\\u00famero de bases:</b> 48.0\",\"<b>Estaci\\u00f3n:112</b><br><b>Distrito: </b>09 \\u00a0MONCLOA-ARAVACA<br><b>N\\u00famero de bases:</b> 24.0\",\"<b>Estaci\\u00f3n:113</b><br><b>Distrito: </b>09 \\u00a0MONCLOA-ARAVACA<br><b>N\\u00famero de bases:</b> 24.0\",\"<b>Estaci\\u00f3n:114</b><br><b>Distrito: </b>09 \\u00a0MONCLOA-ARAVACA<br><b>N\\u00famero de bases:</b> 24.0\",\"<b>Estaci\\u00f3n:115</b><br><b>Distrito: </b>09 \\u00a0MONCLOA-ARAVACA<br><b>N\\u00famero de bases:</b> 24.0\",\"<b>Estaci\\u00f3n:116</b><br><b>Distrito: </b>09 \\u00a0MONCLOA-ARAVACA<br><b>N\\u00famero de bases:</b> 48.0\",\"<b>Estaci\\u00f3n:117</b><br><b>Distrito: </b>09 \\u00a0MONCLOA-ARAVACA<br><b>N\\u00famero de bases:</b> 24.0\",\"<b>Estaci\\u00f3n:118</b><br><b>Distrito: </b>02 \\u00a0ARGANZUELA<br><b>N\\u00famero de bases:</b> 24.0\",\"<b>Estaci\\u00f3n:119</b><br><b>Distrito: </b>02 \\u00a0ARGANZUELA<br><b>N\\u00famero de bases:</b> 24.0\",\"<b>Estaci\\u00f3n:120</b><br><b>Distrito: </b>02 \\u00a0ARGANZUELA<br><b>N\\u00famero de bases:</b> 24.0\",\"<b>Estaci\\u00f3n:121</b><br><b>Distrito: </b>02 \\u00a0ARGANZUELA<br><b>N\\u00famero de bases:</b> 24.0\",\"<b>Estaci\\u00f3n:122</b><br><b>Distrito: </b>07 \\u00a0CHAMBER\\u00cd<br><b>N\\u00famero de bases:</b> 24.0\",\"<b>Estaci\\u00f3n:123</b><br><b>Distrito: </b>07 \\u00a0CHAMBER\\u00cd<br><b>N\\u00famero de bases:</b> 24.0\",\"<b>Estaci\\u00f3n:124</b><br><b>Distrito: </b>07 \\u00a0CHAMBER\\u00cd<br><b>N\\u00famero de bases:</b> 24.0\",\"<b>Estaci\\u00f3n:125</b><br><b>Distrito: </b>07 \\u00a0CHAMBER\\u00cd<br><b>N\\u00famero de bases:</b> 24.0\",\"<b>Estaci\\u00f3n:126</b><br><b>Distrito: </b>07 \\u00a0CHAMBER\\u00cd<br><b>N\\u00famero de bases:</b> 24.0\",\"<b>Estaci\\u00f3n:127</b><br><b>Distrito: </b>07 \\u00a0CHAMBER\\u00cd<br><b>N\\u00famero de bases:</b> 24.0\",\"<b>Estaci\\u00f3n:128</b><br><b>Distrito: </b>07 \\u00a0CHAMBER\\u00cd<br><b>N\\u00famero de bases:</b> 27.0\",\"<b>Estaci\\u00f3n:129</b><br><b>Distrito: </b>07 \\u00a0CHAMBER\\u00cd<br><b>N\\u00famero de bases:</b> 24.0\",\"<b>Estaci\\u00f3n:130</b><br><b>Distrito: </b>07 \\u00a0CHAMBER\\u00cd<br><b>N\\u00famero de bases:</b> 20.0\",\"<b>Estaci\\u00f3n:131</b><br><b>Distrito: </b>07 \\u00a0CHAMBER\\u00cd<br><b>N\\u00famero de bases:</b> 24.0\",\"<b>Estaci\\u00f3n:132</b><br><b>Distrito: </b>07 \\u00a0CHAMBER\\u00cd<br><b>N\\u00famero de bases:</b> 24.0\",\"<b>Estaci\\u00f3n:133</b><br><b>Distrito: </b>06 \\u00a0TETU\\u00c1N<br><b>N\\u00famero de bases:</b> 24.0\",\"<b>Estaci\\u00f3n:134</b><br><b>Distrito: </b>07 \\u00a0CHAMBER\\u00cd<br><b>N\\u00famero de bases:</b> 24.0\",\"<b>Estaci\\u00f3n:135</b><br><b>Distrito: </b>07 \\u00a0CHAMBER\\u00cd<br><b>N\\u00famero de bases:</b> 24.0\",\"<b>Estaci\\u00f3n:136</b><br><b>Distrito: </b>05 \\u00a0CHAMART\\u00cdN<br><b>N\\u00famero de bases:</b> 24.0\",\"<b>Estaci\\u00f3n:137</b><br><b>Distrito: </b>05 \\u00a0CHAMART\\u00cdN<br><b>N\\u00famero de bases:</b> 24.0\",\"<b>Estaci\\u00f3n:138</b><br><b>Distrito: </b>07 \\u00a0CHAMBER\\u00cd<br><b>N\\u00famero de bases:</b> 24.0\",\"<b>Estaci\\u00f3n:139</b><br><b>Distrito: </b>05 \\u00a0CHAMART\\u00cdN<br><b>N\\u00famero de bases:</b> 24.0\",\"<b>Estaci\\u00f3n:140</b><br><b>Distrito: </b>05 \\u00a0CHAMART\\u00cdN<br><b>N\\u00famero de bases:</b> 27.0\",\"<b>Estaci\\u00f3n:141</b><br><b>Distrito: </b>07 \\u00a0CHAMBER\\u00cd<br><b>N\\u00famero de bases:</b> 12.0\",\"<b>Estaci\\u00f3n:142</b><br><b>Distrito: </b>04 \\u00a0SALAMANCA<br><b>N\\u00famero de bases:</b> 24.0\",\"<b>Estaci\\u00f3n:143</b><br><b>Distrito: </b>04 \\u00a0SALAMANCA<br><b>N\\u00famero de bases:</b> 24.0\",\"<b>Estaci\\u00f3n:144</b><br><b>Distrito: </b>04 \\u00a0SALAMANCA<br><b>N\\u00famero de bases:</b> 24.0\",\"<b>Estaci\\u00f3n:145</b><br><b>Distrito: </b>04 \\u00a0SALAMANCA<br><b>N\\u00famero de bases:</b> 24.0\",\"<b>Estaci\\u00f3n:146</b><br><b>Distrito: </b>05 \\u00a0CHAMART\\u00cdN<br><b>N\\u00famero de bases:</b> 18.0\",\"<b>Estaci\\u00f3n:147</b><br><b>Distrito: </b>05 \\u00a0CHAMART\\u00cdN<br><b>N\\u00famero de bases:</b> 24.0\",\"<b>Estaci\\u00f3n:148</b><br><b>Distrito: </b>05 \\u00a0CHAMART\\u00cdN<br><b>N\\u00famero de bases:</b> 24.0\",\"<b>Estaci\\u00f3n:149</b><br><b>Distrito: </b>05 \\u00a0CHAMART\\u00cdN<br><b>N\\u00famero de bases:</b> 24.0\",\"<b>Estaci\\u00f3n:150</b><br><b>Distrito: </b>05 \\u00a0CHAMART\\u00cdN<br><b>N\\u00famero de bases:</b> 24.0\",\"<b>Estaci\\u00f3n:151</b><br><b>Distrito: </b>06 \\u00a0TETU\\u00c1N<br><b>N\\u00famero de bases:</b> 24.0\",\"<b>Estaci\\u00f3n:152</b><br><b>Distrito: </b>06 \\u00a0TETU\\u00c1N<br><b>N\\u00famero de bases:</b> 24.0\",\"<b>Estaci\\u00f3n:153</b><br><b>Distrito: </b>06 \\u00a0TETU\\u00c1N<br><b>N\\u00famero de bases:</b> 24.0\",\"<b>Estaci\\u00f3n:154</b><br><b>Distrito: </b>06 \\u00a0TETU\\u00c1N<br><b>N\\u00famero de bases:</b> 24.0\",\"<b>Estaci\\u00f3n:155</b><br><b>Distrito: </b>06 \\u00a0TETU\\u00c1N<br><b>N\\u00famero de bases:</b> 24.0\",\"<b>Estaci\\u00f3n:156</b><br><b>Distrito: </b>06 \\u00a0TETU\\u00c1N<br><b>N\\u00famero de bases:</b> 24.0\",\"<b>Estaci\\u00f3n:157</b><br><b>Distrito: </b>05 \\u00a0CHAMART\\u00cdN<br><b>N\\u00famero de bases:</b> 24.0\",\"<b>Estaci\\u00f3n:158</b><br><b>Distrito: </b>05 \\u00a0CHAMART\\u00cdN<br><b>N\\u00famero de bases:</b> 24.0\",\"<b>Estaci\\u00f3n:159</b><br><b>Distrito: </b>05 \\u00a0CHAMART\\u00cdN<br><b>N\\u00famero de bases:</b> 24.0\",\"<b>Estaci\\u00f3n:160</b><br><b>Distrito: </b>05 \\u00a0CHAMART\\u00cdN<br><b>N\\u00famero de bases:</b> 24.0\",\"<b>Estaci\\u00f3n:161</b><br><b>Distrito: </b>09 \\u00a0MONCLOA-ARAVACA<br><b>N\\u00famero de bases:</b> 27.0\",\"<b>Estaci\\u00f3n:162</b><br><b>Distrito: </b>02 \\u00a0ARGANZUELA<br><b>N\\u00famero de bases:</b> 24.0\",\"<b>Estaci\\u00f3n:163</b><br><b>Distrito: </b>02 \\u00a0ARGANZUELA<br><b>N\\u00famero de bases:</b> 21.0\",\"<b>Estaci\\u00f3n:164</b><br><b>Distrito: </b>02 \\u00a0ARGANZUELA<br><b>N\\u00famero de bases:</b> 24.0\",\"<b>Estaci\\u00f3n:165</b><br><b>Distrito: </b>02 \\u00a0ARGANZUELA<br><b>N\\u00famero de bases:</b> 27.0\",\"<b>Estaci\\u00f3n:166</b><br><b>Distrito: </b>01 \\u00a0CENTRO<br><b>N\\u00famero de bases:</b> 24.0\",\"<b>Estaci\\u00f3n:167</b><br><b>Distrito: </b>02 \\u00a0ARGANZUELA<br><b>N\\u00famero de bases:</b> 24.0\",\"<b>Estaci\\u00f3n:168</b><br><b>Distrito: </b>02 \\u00a0ARGANZUELA<br><b>N\\u00famero de bases:</b> 24.0\",\"<b>Estaci\\u00f3n:169</b><br><b>Distrito: </b>02 \\u00a0ARGANZUELA<br><b>N\\u00famero de bases:</b> 24.0\",\"<b>Estaci\\u00f3n:170</b><br><b>Distrito: </b>02 \\u00a0ARGANZUELA<br><b>N\\u00famero de bases:</b> 24.0\",\"<b>Estaci\\u00f3n:171</b><br><b>Distrito: </b>02 \\u00a0ARGANZUELA<br><b>N\\u00famero de bases:</b> 24.0\",\"<b>Estaci\\u00f3n:172</b><br><b>Distrito: </b>02 \\u00a0ARGANZUELA<br><b>N\\u00famero de bases:</b> 24.0\",\"<b>Estaci\\u00f3n:173</b><br><b>Distrito: </b>02 \\u00a0ARGANZUELA<br><b>N\\u00famero de bases:</b> 24.0\",\"<b>Estaci\\u00f3n:174</b><br><b>Distrito: </b>02 \\u00a0ARGANZUELA<br><b>N\\u00famero de bases:</b> 27.0\",\"<b>Estaci\\u00f3n:175</b><br><b>Distrito: </b>02 \\u00a0ARGANZUELA<br><b>N\\u00famero de bases:</b> 21.0\",\"<b>Estaci\\u00f3n:176</b><br><b>Distrito: </b>02 \\u00a0ARGANZUELA<br><b>N\\u00famero de bases:</b> 24.0\",\"<b>Estaci\\u00f3n:177</b><br><b>Distrito: </b>02 \\u00a0ARGANZUELA<br><b>N\\u00famero de bases:</b> 24.0\",\"<b>Estaci\\u00f3n:178</b><br><b>Distrito: </b>03 \\u00a0RETIRO<br><b>N\\u00famero de bases:</b> 24.0\",\"<b>Estaci\\u00f3n:179</b><br><b>Distrito: </b>13 \\u00a0PUENTE DE VALLECAS<br><b>N\\u00famero de bases:</b> 24.0\",\"<b>Estaci\\u00f3n:180</b><br><b>Distrito: </b>02 \\u00a0ARGANZUELA<br><b>N\\u00famero de bases:</b> 24.0\",\"<b>Estaci\\u00f3n:181</b><br><b>Distrito: </b>03 \\u00a0RETIRO<br><b>N\\u00famero de bases:</b> 27.0\",\"<b>Estaci\\u00f3n:182</b><br><b>Distrito: </b>03 \\u00a0RETIRO<br><b>N\\u00famero de bases:</b> 24.0\",\"<b>Estaci\\u00f3n:183</b><br><b>Distrito: </b>04 \\u00a0SALAMANCA<br><b>N\\u00famero de bases:</b> 24.0\",\"<b>Estaci\\u00f3n:184</b><br><b>Distrito: </b>04 \\u00a0SALAMANCA<br><b>N\\u00famero de bases:</b> 24.0\",\"<b>Estaci\\u00f3n:185</b><br><b>Distrito: </b>04 \\u00a0SALAMANCA<br><b>N\\u00famero de bases:</b> 24.0\",\"<b>Estaci\\u00f3n:187</b><br><b>Distrito: </b>04 \\u00a0SALAMANCA<br><b>N\\u00famero de bases:</b> 24.0\",\"<b>Estaci\\u00f3n:188</b><br><b>Distrito: </b>15 \\u00a0CIUDAD LINEAL<br><b>N\\u00famero de bases:</b> 27.0\",\"<b>Estaci\\u00f3n:189</b><br><b>Distrito: </b>15 \\u00a0CIUDAD LINEAL<br><b>N\\u00famero de bases:</b> 24.0\",\"<b>Estaci\\u00f3n:190</b><br><b>Distrito: </b>04 \\u00a0SALAMANCA<br><b>N\\u00famero de bases:</b> 24.0\",\"<b>Estaci\\u00f3n:191</b><br><b>Distrito: </b>04 \\u00a0SALAMANCA<br><b>N\\u00famero de bases:</b> 18.0\",\"<b>Estaci\\u00f3n:192</b><br><b>Distrito: </b>04 \\u00a0SALAMANCA<br><b>N\\u00famero de bases:</b> 27.0\",\"<b>Estaci\\u00f3n:193</b><br><b>Distrito: </b>04 \\u00a0SALAMANCA<br><b>N\\u00famero de bases:</b> 24.0\",\"<b>Estaci\\u00f3n:194</b><br><b>Distrito: </b>04 \\u00a0SALAMANCA<br><b>N\\u00famero de bases:</b> 24.0\",\"<b>Estaci\\u00f3n:195</b><br><b>Distrito: </b>05 \\u00a0CHAMART\\u00cdN<br><b>N\\u00famero de bases:</b> 24.0\",\"<b>Estaci\\u00f3n:196</b><br><b>Distrito: </b>05 \\u00a0CHAMART\\u00cdN<br><b>N\\u00famero de bases:</b> 24.0\",\"<b>Estaci\\u00f3n:197</b><br><b>Distrito: </b>05 \\u00a0CHAMART\\u00cdN<br><b>N\\u00famero de bases:</b> 24.0\",\"<b>Estaci\\u00f3n:198</b><br><b>Distrito: </b>07 \\u00a0CHAMBER\\u00cd<br><b>N\\u00famero de bases:</b> 24.0\",\"<b>Estaci\\u00f3n:199</b><br><b>Distrito: </b>07 \\u00a0CHAMBER\\u00cd<br><b>N\\u00famero de bases:</b> 27.0\",\"<b>Estaci\\u00f3n:200</b><br><b>Distrito: </b>07 \\u00a0CHAMBER\\u00cd<br><b>N\\u00famero de bases:</b> 24.0\",\"<b>Estaci\\u00f3n:201</b><br><b>Distrito: </b>07 \\u00a0CHAMBER\\u00cd<br><b>N\\u00famero de bases:</b> 24.0\",\"<b>Estaci\\u00f3n:202</b><br><b>Distrito: </b>07 \\u00a0CHAMBER\\u00cd<br><b>N\\u00famero de bases:</b> 24.0\",\"<b>Estaci\\u00f3n:203</b><br><b>Distrito: </b>07 \\u00a0CHAMBER\\u00cd<br><b>N\\u00famero de bases:</b> 24.0\",\"<b>Estaci\\u00f3n:204</b><br><b>Distrito: </b>06 \\u00a0TETU\\u00c1N<br><b>N\\u00famero de bases:</b> 24.0\",\"<b>Estaci\\u00f3n:205</b><br><b>Distrito: </b>06 \\u00a0TETU\\u00c1N<br><b>N\\u00famero de bases:</b> 24.0\",\"<b>Estaci\\u00f3n:206</b><br><b>Distrito: </b>06 \\u00a0TETU\\u00c1N<br><b>N\\u00famero de bases:</b> 24.0\",\"<b>Estaci\\u00f3n:207</b><br><b>Distrito: </b>06 \\u00a0TETU\\u00c1N<br><b>N\\u00famero de bases:</b> 18.0\",\"<b>Estaci\\u00f3n:208</b><br><b>Distrito: </b>05 \\u00a0CHAMART\\u00cdN<br><b>N\\u00famero de bases:</b> 24.0\",\"<b>Estaci\\u00f3n:209</b><br><b>Distrito: </b>05 \\u00a0CHAMART\\u00cdN<br><b>N\\u00famero de bases:</b> 24.0\",\"<b>Estaci\\u00f3n:210</b><br><b>Distrito: </b>01 \\u00a0CENTRO<br><b>N\\u00famero de bases:</b> 27.0\",\"<b>Estaci\\u00f3n:211</b><br><b>Distrito: </b>01 \\u00a0CENTRO<br><b>N\\u00famero de bases:</b> 24.0\",\"<b>Estaci\\u00f3n:212</b><br><b>Distrito: </b>11 \\u00a0CARABANCHEL<br><b>N\\u00famero de bases:</b> 24.0\",\"<b>Estaci\\u00f3n:213</b><br><b>Distrito: </b>12 \\u00a0USERA<br><b>N\\u00famero de bases:</b> 24.0\",\"<b>Estaci\\u00f3n:214</b><br><b>Distrito: </b>15 \\u00a0CIUDAD LINEAL<br><b>N\\u00famero de bases:</b> 24.0\",\"<b>Estaci\\u00f3n:215</b><br><b>Distrito: </b>15 \\u00a0CIUDAD LINEAL<br><b>N\\u00famero de bases:</b> 24.0\",\"<b>Estaci\\u00f3n:216</b><br><b>Distrito: </b>10 \\u00a0LATINA<br><b>N\\u00famero de bases:</b> 24.0\",\"<b>Estaci\\u00f3n:217</b><br><b>Distrito: </b>08 \\u00a0FUENCARRAL-EL PARDO<br><b>N\\u00famero de bases:</b> 24.0\",\"<b>Estaci\\u00f3n:218</b><br><b>Distrito: </b>14 \\u00a0MORATALAZ<br><b>N\\u00famero de bases:</b> 24.0\",\"<b>Estaci\\u00f3n:219</b><br><b>Distrito: </b>14 \\u00a0MORATALAZ<br><b>N\\u00famero de bases:</b> 24.0\"],\"lat\":[40.417110443115234,40.42058181762695,40.430320739746094,40.4285888671875,40.42836380004883,40.424163818359375,40.42521667480469,40.42771530151367,40.41561508178711,40.4254035949707,40.42705154418945,40.42852783203125,40.427364349365234,40.42599105834961,40.426292419433594,40.422943115234375,40.42316818237305,40.420921325683594,40.421897888183594,40.419185638427734,40.417259216308594,40.423831939697266,40.41328430175781,40.418067932128906,40.41624450683594,40.419334411621094,40.416343688964844,40.41647720336914,40.41441345214844,40.414180755615234,40.41682434082031,40.41086196899414,40.41129684448242,40.4112663269043,40.413787841796875,40.412227630615234,40.410770416259766,40.41008758544922,40.40981674194336,40.40694808959961,40.40544891357422,40.404624938964844,40.40544891357422,40.40604782104492,40.40830993652344,40.40772247314453,40.41451644897461,40.40827941894531,40.4266242980957,40.424072265625,40.41848373413086,40.42963790893555,40.42226028442383,40.425479888916016,40.41945266723633,40.42143630981445,40.42129898071289,40.41789245605469,40.41668701171875,40.41082763671875,40.41006088256836,40.4160041809082,40.41572189331055,40.41146469116211,40.41175842285156,40.40834045410156,40.407283782958984,40.406333923339844,40.400569915771484,40.40504837036133,40.407413482666016,40.409576416015625,40.408477783203125,40.41325759887695,40.40336990356445,40.421142578125,40.4185791015625,40.42767333984375,40.431209564208984,40.42726135253906,40.425079345703125,40.42611312866211,40.42622375488281,40.425697326660156,40.423370361328125,40.422664642333984,40.42205047607422,40.4224853515625,40.424190521240234,40.42610549926758,40.42478561401367,40.42312240600586,40.4211540222168,40.43037414550781,40.42676544189453,40.427066802978516,40.42486572265625,40.42159652709961,40.42744064331055,40.43013000488281,40.43476486206055,40.43357467651367,40.43262481689453,40.4277458190918,40.42782211303711,40.42538070678711,40.42406463623047,40.430904388427734,40.400794982910156,40.40145492553711,40.403038024902344,40.40183639526367,40.42952346801758,40.43063735961914,40.430816650390625,40.4353141784668,40.434566497802734,40.43390655517578,40.43903350830078,40.43846893310547,40.44171905517578,40.44175338745117,40.446388244628906,40.447166442871094,40.444026947021484,40.44148635864258,40.445281982421875,40.44549560546875,40.4456901550293,40.439353942871094,40.43851852416992,40.4354248046875,40.43352508544922,40.43461608886719,40.43231964111328,40.429771423339844,40.44424057006836,40.448333740234375,40.451019287109375,40.44984436035156,40.44911193847656,40.44886016845703,40.45271682739258,40.45235061645508,40.454776763916016,40.4572868347168,40.4592399597168,40.45928192138672,40.4586181640625,40.454254150390625,40.45719909667969,40.42205810546875,40.40351867675781,40.40363311767578,40.39713668823242,40.39288330078125,40.4139404296875,40.413734436035156,40.40458297729492,40.40157699584961,40.40110397338867,40.39976119995117,40.4008674621582,40.39817428588867,40.39741516113281,40.39626693725586,40.39424133300781,40.391502380371094,40.40302276611328,40.39793395996094,40.394126892089844,40.418174743652344,40.4187126159668,40.425636291503906,40.426002502441406,40.42506790161133,40.43013381958008,40.43116760253906,40.435020446777344,40.43437576293945,40.43461608886719,40.431854248046875,40.43252182006836,40.437198638916016,40.439247131347656,40.444095611572266,40.4515495300293,40.4331169128418,40.434326171875,40.43366241455078,40.4387321472168,40.44116973876953,40.44175338745117,40.447662353515625,40.4535026550293,40.46080017089844,40.46302795410156,40.46651077270508,40.4656867980957,40.41975402832031,40.420616149902344,40.39815902709961,40.38893508911133,40.44340133666992,40.429691314697266,40.4140510559082,40.48100280761719,40.410552978515625,40.40839767456055],\"lon\":[-3.701997995376587,-3.705673933029175,-3.707212209701538,-3.70267391204834,-3.7020742893218994,-3.69840931892395,-3.697739839553833,-3.6953067779541016,-3.709409236907959,-3.6920816898345947,-3.7036192417144775,-3.7062201499938965,-3.710472583770752,-3.713376760482788,-3.7073609828948975,-3.7074954509735107,-3.704185962677002,-3.6995677947998047,-3.695394992828369,-3.6952900886535645,-3.706024408340454,-3.694542169570923,-3.695580244064331,-3.698366165161133,-3.69580078125,-3.711542844772339,-3.706624984741211,-3.703209638595581,-3.7035043239593506,-3.7103676795959473,-3.711764097213745,-3.714123487472534,-3.71144437789917,-3.7090044021606445,-3.7047462463378906,-3.6989898681640625,-3.6982293128967285,-3.702544689178467,-3.703913688659668,-3.7111380100250244,-3.707117795944214,-3.7027549743652344,-3.7020998001098633,-3.69924259185791,-3.6932199001312256,-3.6935935020446777,-3.7007837295532227,-3.7007296085357666,-3.700343608856201,-3.7019295692443848,-3.7032876014709473,-3.712818145751953,-3.6979458332061768,-3.7041165828704834,-3.688199281692505,-3.675205945968628,-3.672422409057617,-3.6706507205963135,-3.689382553100586,-3.6931347846984863,-3.6888668537139893,-3.674021005630493,-3.6696228981018066,-3.6690990924835205,-3.676576852798462,-3.678414821624756,-3.675154447555542,-3.670774221420288,-3.6745781898498535,-3.6805524826049805,-3.6907238960266113,-3.6919662952423096,-3.6696829795837402,-3.6745338439941406,-3.67269229888916,-3.6799299716949463,-3.6933298110961914,-3.683562994003296,-3.6837470531463623,-3.6751716136932373,-3.683729648590088,-3.6788203716278076,-3.6864821910858154,-3.6894123554229736,-3.690704345703125,-3.6869914531707764,-3.682047128677368,-3.6801514625549316,-3.675407886505127,-3.673963785171509,-3.673877716064453,-3.669424533843994,-3.6840806007385254,-3.686535120010376,-3.6895792484283447,-3.687474489212036,-3.6878867149353027,-3.6884243488311768,-3.6706531047821045,-3.681525230407715,-3.7201316356658936,-3.717778205871582,-3.724872589111328,-3.720714569091797,-3.7174150943756104,-3.7169625759124756,-3.711845636367798,-3.7189152240753174,-3.6881349086761475,-3.686577796936035,-3.69477915763855,-3.6986045837402344,-3.6962625980377197,-3.713468551635742,-3.6993181705474854,-3.694831609725952,-3.70174241065979,-3.7083988189697266,-3.715691566467285,-3.698281764984131,-3.701707124710083,-3.70402193069458,-3.7035911083221436,-3.700029134750366,-3.6955113410949707,-3.692890167236328,-3.690812587738037,-3.6852924823760986,-3.6915817260742188,-3.6904494762420654,-3.682912588119507,-3.6892902851104736,-3.688040256500244,-3.6782355308532715,-3.6754627227783203,-3.671401023864746,-3.6787900924682617,-3.6795811653137207,-3.681699275970459,-3.6878511905670166,-3.6905410289764404,-3.695202350616455,-3.6989498138427734,-3.693089485168457,-3.694673538208008,-3.70086407661438,-3.6913228034973145,-3.689330577850342,-3.6847050189971924,-3.683734893798828,-3.6766176223754883,-3.722062349319458,-3.7107558250427246,-3.706437110900879,-3.6944851875305176,-3.697613477706909,-3.7133381366729736,-3.7176456451416016,-3.695915937423706,-3.71384596824646,-3.7044029235839844,-3.6984457969665527,-3.693544864654541,-3.702361583709717,-3.7063770294189453,-3.69830322265625,-3.6936302185058594,-3.694087028503418,-3.678893804550171,-3.669060230255127,-3.675924301147461,-3.676640033721924,-3.6655023097991943,-3.669450521469116,-3.665309429168701,-3.6615331172943115,-3.6638407707214355,-3.6589062213897705,-3.655543088912964,-3.683471202850342,-3.6740365028381348,-3.671431541442871,-3.6656439304351807,-3.677194595336914,-3.6754913330078125,-3.6750917434692383,-3.678025245666504,-3.6915712356567383,-3.7148406505584717,-3.7046709060668945,-3.7038161754608154,-3.708096981048584,-3.714423894882202,-3.7041702270507812,-3.703340768814087,-3.699049949645996,-3.697399139404297,-3.688685178756714,-3.6887874603271484,-3.7026309967041016,-3.7025368213653564,-3.716531276702881,-3.700157403945923,-3.6569597721099854,-3.640969753265381,-3.7288947105407715,-3.6891093254089355,-3.657399892807007,-3.6467783451080322],\"marker\":{\"color\":\"white\",\"opacity\":0.7,\"size\":[30.0,12.0,9.0,12.0,13.5,12.0,10.5,12.0,12.0,12.0,12.0,12.0,12.0,12.0,10.5,10.5,12.0,12.0,12.0,15.0,24.0,12.0,13.5,12.0,12.0,13.5,13.5,10.5,12.0,12.0,12.0,12.0,12.0,13.5,12.0,9.0,12.0,12.0,10.5,10.5,12.0,12.0,12.0,12.0,12.0,13.5,12.0,12.0,10.5,12.0,12.0,12.0,12.0,10.5,12.0,12.0,12.0,12.0,12.0,12.0,13.5,12.0,12.0,12.0,12.0,12.0,12.0,11.0,12.0,12.0,25.5,12.0,12.0,12.0,12.0,13.5,10.5,12.0,12.0,12.0,15.0,12.0,12.0,12.0,10.5,12.0,13.5,13.5,12.0,12.0,12.0,12.0,12.0,12.0,10.5,12.0,18.0,12.0,13.5,12.0,12.0,24.0,12.0,12.0,12.0,12.0,24.0,12.0,12.0,12.0,12.0,12.0,12.0,12.0,12.0,12.0,12.0,12.0,13.5,12.0,10.0,12.0,12.0,12.0,12.0,12.0,12.0,12.0,12.0,12.0,13.5,6.0,12.0,12.0,12.0,12.0,9.0,12.0,12.0,12.0,12.0,12.0,12.0,12.0,12.0,12.0,12.0,12.0,12.0,12.0,12.0,13.5,12.0,10.5,12.0,13.5,12.0,12.0,12.0,12.0,12.0,12.0,12.0,12.0,13.5,10.5,12.0,12.0,12.0,12.0,12.0,13.5,12.0,12.0,12.0,12.0,12.0,13.5,12.0,12.0,9.0,13.5,12.0,12.0,12.0,12.0,12.0,12.0,13.5,12.0,12.0,12.0,12.0,12.0,12.0,12.0,9.0,12.0,12.0,13.5,12.0,12.0,12.0,12.0,12.0,12.0,12.0,12.0,12.0]},\"mode\":\"markers\",\"showlegend\":false,\"type\":\"scattermapbox\"}],                        {\"template\":{\"data\":{\"histogram2dcontour\":[{\"type\":\"histogram2dcontour\",\"colorbar\":{\"outlinewidth\":0,\"ticks\":\"\"},\"colorscale\":[[0.0,\"#0d0887\"],[0.1111111111111111,\"#46039f\"],[0.2222222222222222,\"#7201a8\"],[0.3333333333333333,\"#9c179e\"],[0.4444444444444444,\"#bd3786\"],[0.5555555555555556,\"#d8576b\"],[0.6666666666666666,\"#ed7953\"],[0.7777777777777778,\"#fb9f3a\"],[0.8888888888888888,\"#fdca26\"],[1.0,\"#f0f921\"]]}],\"choropleth\":[{\"type\":\"choropleth\",\"colorbar\":{\"outlinewidth\":0,\"ticks\":\"\"}}],\"histogram2d\":[{\"type\":\"histogram2d\",\"colorbar\":{\"outlinewidth\":0,\"ticks\":\"\"},\"colorscale\":[[0.0,\"#0d0887\"],[0.1111111111111111,\"#46039f\"],[0.2222222222222222,\"#7201a8\"],[0.3333333333333333,\"#9c179e\"],[0.4444444444444444,\"#bd3786\"],[0.5555555555555556,\"#d8576b\"],[0.6666666666666666,\"#ed7953\"],[0.7777777777777778,\"#fb9f3a\"],[0.8888888888888888,\"#fdca26\"],[1.0,\"#f0f921\"]]}],\"heatmap\":[{\"type\":\"heatmap\",\"colorbar\":{\"outlinewidth\":0,\"ticks\":\"\"},\"colorscale\":[[0.0,\"#0d0887\"],[0.1111111111111111,\"#46039f\"],[0.2222222222222222,\"#7201a8\"],[0.3333333333333333,\"#9c179e\"],[0.4444444444444444,\"#bd3786\"],[0.5555555555555556,\"#d8576b\"],[0.6666666666666666,\"#ed7953\"],[0.7777777777777778,\"#fb9f3a\"],[0.8888888888888888,\"#fdca26\"],[1.0,\"#f0f921\"]]}],\"heatmapgl\":[{\"type\":\"heatmapgl\",\"colorbar\":{\"outlinewidth\":0,\"ticks\":\"\"},\"colorscale\":[[0.0,\"#0d0887\"],[0.1111111111111111,\"#46039f\"],[0.2222222222222222,\"#7201a8\"],[0.3333333333333333,\"#9c179e\"],[0.4444444444444444,\"#bd3786\"],[0.5555555555555556,\"#d8576b\"],[0.6666666666666666,\"#ed7953\"],[0.7777777777777778,\"#fb9f3a\"],[0.8888888888888888,\"#fdca26\"],[1.0,\"#f0f921\"]]}],\"contourcarpet\":[{\"type\":\"contourcarpet\",\"colorbar\":{\"outlinewidth\":0,\"ticks\":\"\"}}],\"contour\":[{\"type\":\"contour\",\"colorbar\":{\"outlinewidth\":0,\"ticks\":\"\"},\"colorscale\":[[0.0,\"#0d0887\"],[0.1111111111111111,\"#46039f\"],[0.2222222222222222,\"#7201a8\"],[0.3333333333333333,\"#9c179e\"],[0.4444444444444444,\"#bd3786\"],[0.5555555555555556,\"#d8576b\"],[0.6666666666666666,\"#ed7953\"],[0.7777777777777778,\"#fb9f3a\"],[0.8888888888888888,\"#fdca26\"],[1.0,\"#f0f921\"]]}],\"surface\":[{\"type\":\"surface\",\"colorbar\":{\"outlinewidth\":0,\"ticks\":\"\"},\"colorscale\":[[0.0,\"#0d0887\"],[0.1111111111111111,\"#46039f\"],[0.2222222222222222,\"#7201a8\"],[0.3333333333333333,\"#9c179e\"],[0.4444444444444444,\"#bd3786\"],[0.5555555555555556,\"#d8576b\"],[0.6666666666666666,\"#ed7953\"],[0.7777777777777778,\"#fb9f3a\"],[0.8888888888888888,\"#fdca26\"],[1.0,\"#f0f921\"]]}],\"mesh3d\":[{\"type\":\"mesh3d\",\"colorbar\":{\"outlinewidth\":0,\"ticks\":\"\"}}],\"scatter\":[{\"fillpattern\":{\"fillmode\":\"overlay\",\"size\":10,\"solidity\":0.2},\"type\":\"scatter\"}],\"parcoords\":[{\"type\":\"parcoords\",\"line\":{\"colorbar\":{\"outlinewidth\":0,\"ticks\":\"\"}}}],\"scatterpolargl\":[{\"type\":\"scatterpolargl\",\"marker\":{\"colorbar\":{\"outlinewidth\":0,\"ticks\":\"\"}}}],\"bar\":[{\"error_x\":{\"color\":\"#2a3f5f\"},\"error_y\":{\"color\":\"#2a3f5f\"},\"marker\":{\"line\":{\"color\":\"#E5ECF6\",\"width\":0.5},\"pattern\":{\"fillmode\":\"overlay\",\"size\":10,\"solidity\":0.2}},\"type\":\"bar\"}],\"scattergeo\":[{\"type\":\"scattergeo\",\"marker\":{\"colorbar\":{\"outlinewidth\":0,\"ticks\":\"\"}}}],\"scatterpolar\":[{\"type\":\"scatterpolar\",\"marker\":{\"colorbar\":{\"outlinewidth\":0,\"ticks\":\"\"}}}],\"histogram\":[{\"marker\":{\"pattern\":{\"fillmode\":\"overlay\",\"size\":10,\"solidity\":0.2}},\"type\":\"histogram\"}],\"scattergl\":[{\"type\":\"scattergl\",\"marker\":{\"colorbar\":{\"outlinewidth\":0,\"ticks\":\"\"}}}],\"scatter3d\":[{\"type\":\"scatter3d\",\"line\":{\"colorbar\":{\"outlinewidth\":0,\"ticks\":\"\"}},\"marker\":{\"colorbar\":{\"outlinewidth\":0,\"ticks\":\"\"}}}],\"scattermapbox\":[{\"type\":\"scattermapbox\",\"marker\":{\"colorbar\":{\"outlinewidth\":0,\"ticks\":\"\"}}}],\"scatterternary\":[{\"type\":\"scatterternary\",\"marker\":{\"colorbar\":{\"outlinewidth\":0,\"ticks\":\"\"}}}],\"scattercarpet\":[{\"type\":\"scattercarpet\",\"marker\":{\"colorbar\":{\"outlinewidth\":0,\"ticks\":\"\"}}}],\"carpet\":[{\"aaxis\":{\"endlinecolor\":\"#2a3f5f\",\"gridcolor\":\"white\",\"linecolor\":\"white\",\"minorgridcolor\":\"white\",\"startlinecolor\":\"#2a3f5f\"},\"baxis\":{\"endlinecolor\":\"#2a3f5f\",\"gridcolor\":\"white\",\"linecolor\":\"white\",\"minorgridcolor\":\"white\",\"startlinecolor\":\"#2a3f5f\"},\"type\":\"carpet\"}],\"table\":[{\"cells\":{\"fill\":{\"color\":\"#EBF0F8\"},\"line\":{\"color\":\"white\"}},\"header\":{\"fill\":{\"color\":\"#C8D4E3\"},\"line\":{\"color\":\"white\"}},\"type\":\"table\"}],\"barpolar\":[{\"marker\":{\"line\":{\"color\":\"#E5ECF6\",\"width\":0.5},\"pattern\":{\"fillmode\":\"overlay\",\"size\":10,\"solidity\":0.2}},\"type\":\"barpolar\"}],\"pie\":[{\"automargin\":true,\"type\":\"pie\"}]},\"layout\":{\"autotypenumbers\":\"strict\",\"colorway\":[\"#636efa\",\"#EF553B\",\"#00cc96\",\"#ab63fa\",\"#FFA15A\",\"#19d3f3\",\"#FF6692\",\"#B6E880\",\"#FF97FF\",\"#FECB52\"],\"font\":{\"color\":\"#2a3f5f\"},\"hovermode\":\"closest\",\"hoverlabel\":{\"align\":\"left\"},\"paper_bgcolor\":\"white\",\"plot_bgcolor\":\"#E5ECF6\",\"polar\":{\"bgcolor\":\"#E5ECF6\",\"angularaxis\":{\"gridcolor\":\"white\",\"linecolor\":\"white\",\"ticks\":\"\"},\"radialaxis\":{\"gridcolor\":\"white\",\"linecolor\":\"white\",\"ticks\":\"\"}},\"ternary\":{\"bgcolor\":\"#E5ECF6\",\"aaxis\":{\"gridcolor\":\"white\",\"linecolor\":\"white\",\"ticks\":\"\"},\"baxis\":{\"gridcolor\":\"white\",\"linecolor\":\"white\",\"ticks\":\"\"},\"caxis\":{\"gridcolor\":\"white\",\"linecolor\":\"white\",\"ticks\":\"\"}},\"coloraxis\":{\"colorbar\":{\"outlinewidth\":0,\"ticks\":\"\"}},\"colorscale\":{\"sequential\":[[0.0,\"#0d0887\"],[0.1111111111111111,\"#46039f\"],[0.2222222222222222,\"#7201a8\"],[0.3333333333333333,\"#9c179e\"],[0.4444444444444444,\"#bd3786\"],[0.5555555555555556,\"#d8576b\"],[0.6666666666666666,\"#ed7953\"],[0.7777777777777778,\"#fb9f3a\"],[0.8888888888888888,\"#fdca26\"],[1.0,\"#f0f921\"]],\"sequentialminus\":[[0.0,\"#0d0887\"],[0.1111111111111111,\"#46039f\"],[0.2222222222222222,\"#7201a8\"],[0.3333333333333333,\"#9c179e\"],[0.4444444444444444,\"#bd3786\"],[0.5555555555555556,\"#d8576b\"],[0.6666666666666666,\"#ed7953\"],[0.7777777777777778,\"#fb9f3a\"],[0.8888888888888888,\"#fdca26\"],[1.0,\"#f0f921\"]],\"diverging\":[[0,\"#8e0152\"],[0.1,\"#c51b7d\"],[0.2,\"#de77ae\"],[0.3,\"#f1b6da\"],[0.4,\"#fde0ef\"],[0.5,\"#f7f7f7\"],[0.6,\"#e6f5d0\"],[0.7,\"#b8e186\"],[0.8,\"#7fbc41\"],[0.9,\"#4d9221\"],[1,\"#276419\"]]},\"xaxis\":{\"gridcolor\":\"white\",\"linecolor\":\"white\",\"ticks\":\"\",\"title\":{\"standoff\":15},\"zerolinecolor\":\"white\",\"automargin\":true,\"zerolinewidth\":2},\"yaxis\":{\"gridcolor\":\"white\",\"linecolor\":\"white\",\"ticks\":\"\",\"title\":{\"standoff\":15},\"zerolinecolor\":\"white\",\"automargin\":true,\"zerolinewidth\":2},\"scene\":{\"xaxis\":{\"backgroundcolor\":\"#E5ECF6\",\"gridcolor\":\"white\",\"linecolor\":\"white\",\"showbackground\":true,\"ticks\":\"\",\"zerolinecolor\":\"white\",\"gridwidth\":2},\"yaxis\":{\"backgroundcolor\":\"#E5ECF6\",\"gridcolor\":\"white\",\"linecolor\":\"white\",\"showbackground\":true,\"ticks\":\"\",\"zerolinecolor\":\"white\",\"gridwidth\":2},\"zaxis\":{\"backgroundcolor\":\"#E5ECF6\",\"gridcolor\":\"white\",\"linecolor\":\"white\",\"showbackground\":true,\"ticks\":\"\",\"zerolinecolor\":\"white\",\"gridwidth\":2}},\"shapedefaults\":{\"line\":{\"color\":\"#2a3f5f\"}},\"annotationdefaults\":{\"arrowcolor\":\"#2a3f5f\",\"arrowhead\":0,\"arrowwidth\":1},\"geo\":{\"bgcolor\":\"white\",\"landcolor\":\"#E5ECF6\",\"subunitcolor\":\"white\",\"showland\":true,\"showlakes\":true,\"lakecolor\":\"white\"},\"title\":{\"x\":0.05},\"mapbox\":{\"style\":\"light\"}}},\"mapbox\":{\"domain\":{\"x\":[0.0,1.0],\"y\":[0.0,1.0]},\"center\":{\"lat\":40.435,\"lon\":-3.69},\"zoom\":12,\"bearing\":0,\"style\":\"carto-positron\"},\"legend\":{\"title\":{\"text\":\"Distrito_Salida\"},\"tracegroupgap\":0,\"itemsizing\":\"constant\"},\"margin\":{\"t\":60},\"height\":1000,\"width\":1000,\"hoverlabel\":{\"align\":\"right\"},\"title\":{\"text\":\"Bases BiciMad por Distrito\"},\"autosize\":true,\"showlegend\":true},                        {\"responsive\": true}                    ).then(function(){\n",
       "                            \n",
       "var gd = document.getElementById('3851e71b-1667-44d8-8f34-ef9f02f5da36');\n",
       "var x = new MutationObserver(function (mutations, observer) {{\n",
       "        var display = window.getComputedStyle(gd).display;\n",
       "        if (!display || display === 'none') {{\n",
       "            console.log([gd, 'removed!']);\n",
       "            Plotly.purge(gd);\n",
       "            observer.disconnect();\n",
       "        }}\n",
       "}});\n",
       "\n",
       "// Listen for the removal of the full notebook cells\n",
       "var notebookContainer = gd.closest('#notebook-container');\n",
       "if (notebookContainer) {{\n",
       "    x.observe(notebookContainer, {childList: true});\n",
       "}}\n",
       "\n",
       "// Listen for the clearing of the current output cell\n",
       "var outputEl = gd.closest('.output');\n",
       "if (outputEl) {{\n",
       "    x.observe(outputEl, {childList: true});\n",
       "}}\n",
       "\n",
       "                        })                };                });            </script>        </div>"
      ]
     },
     "metadata": {},
     "output_type": "display_data"
    }
   ],
   "source": [
    "#bases['text'] = 'hola'\n",
    "#bases['text'] = 'Estación:<b>' + bases['Número'].astype(str) + '</b>.\\n Pertenece al barrio <b>' + bases['Barrio'] + ', ' + bases['Distrito'] + '</b>. Plazas: ' + bases['Número de Plazas'].astype(str)\n",
    "\n",
    "fig = px.scatter_mapbox(df, lat=\"Latitud_Salida\", lon=\"Longitud_Salida\",  color = \"Distrito_Salida\", size=df[\"Número de Plazas_Salida\"]*0.5, width = 1000, height = 900, zoom = 12, color_continuous_scale=px.colors.diverging.BrBG)\n",
    "# fig.update_traces(hovertemplate=None)\n",
    "fig.add_trace(go.Scattermapbox(\n",
    "        lat = df[\"Latitud_Salida\"],\n",
    "        lon = df[\"Longitud_Salida\"],\n",
    "        mode='markers',\n",
    "        showlegend=False,\n",
    "        marker=go.scattermapbox.Marker(\n",
    "            size=df[\"Número de Plazas_Salida\"]*0.5,\n",
    "            opacity=0.7  ,\n",
    "            color = \"white\"\n",
    "            ),     \n",
    "       hovertemplate = \n",
    "        '<b>Estación:'+df['idunplug_station'].astype(str)+'</b>'+\n",
    "        '<br><b>Distrito: </b>'+df['Distrito_Salida']+'<br>'+\n",
    "        '<b>Número de bases:</b> '+df[\"Número de Plazas_Salida\"].astype(str)\n",
    "    ))\n",
    "\n",
    "fig.update_layout(\n",
    "    title='Bases BiciMad por Distrito',\n",
    "    autosize=True,\n",
    "    showlegend=True,\n",
    "    width = 1000,\n",
    "    height = 1000,\n",
    "    mapbox=dict(\n",
    "        bearing=0,\n",
    "        center=dict(\n",
    "            lat=40.435,\n",
    "            lon=-3.69\n",
    "        ),\n",
    "        zoom=12,\n",
    "        style= 'carto-positron' # 'open-street-map'\n",
    "        \n",
    "    ),\n",
    "    hoverlabel_align = 'right'\n",
    ")\n",
    "fig.show()"
   ]
  },
  {
   "cell_type": "code",
   "execution_count": 55,
   "metadata": {},
   "outputs": [
    {
     "data": {
      "application/vnd.plotly.v1+json": {
       "config": {
        "plotlyServerURL": "https://plot.ly"
       },
       "data": [
        {
         "hovertemplate": "Distrito_Salida=01  CENTRO<br>Count=%{marker.size}<br>Latitud_Salida=%{lat}<br>Longitud_Salida=%{lon}<extra></extra>",
         "lat": [
          40.417110443115234,
          40.42058181762695,
          40.4285888671875,
          40.42836380004883,
          40.424163818359375,
          40.42521667480469,
          40.41561508178711,
          40.4254035949707,
          40.42705154418945,
          40.42852783203125,
          40.427364349365234,
          40.426292419433594,
          40.422943115234375,
          40.42316818237305,
          40.420921325683594,
          40.421897888183594,
          40.419185638427734,
          40.417259216308594,
          40.423831939697266,
          40.41328430175781,
          40.418067932128906,
          40.41624450683594,
          40.419334411621094,
          40.416343688964844,
          40.41647720336914,
          40.41441345214844,
          40.414180755615234,
          40.41682434082031,
          40.41086196899414,
          40.41129684448242,
          40.4112663269043,
          40.413787841796875,
          40.412227630615234,
          40.410770416259766,
          40.41008758544922,
          40.40981674194336,
          40.40694808959961,
          40.40544891357422,
          40.40604782104492,
          40.40830993652344,
          40.40772247314453,
          40.41451644897461,
          40.40827941894531,
          40.4266242980957,
          40.424072265625,
          40.41848373413086,
          40.42963790893555,
          40.42226028442383,
          40.425479888916016,
          40.41082763671875,
          40.4185791015625,
          40.4139404296875,
          40.41975402832031,
          40.420616149902344
         ],
         "legendgroup": "01  CENTRO",
         "lon": [
          -3.701997995376587,
          -3.705673933029175,
          -3.70267391204834,
          -3.7020742893218994,
          -3.69840931892395,
          -3.697739839553833,
          -3.709409236907959,
          -3.6920816898345947,
          -3.7036192417144775,
          -3.7062201499938965,
          -3.710472583770752,
          -3.7073609828948975,
          -3.7074954509735107,
          -3.704185962677002,
          -3.6995677947998047,
          -3.695394992828369,
          -3.6952900886535645,
          -3.706024408340454,
          -3.694542169570923,
          -3.695580244064331,
          -3.698366165161133,
          -3.69580078125,
          -3.711542844772339,
          -3.706624984741211,
          -3.703209638595581,
          -3.7035043239593506,
          -3.7103676795959473,
          -3.711764097213745,
          -3.714123487472534,
          -3.71144437789917,
          -3.7090044021606445,
          -3.7047462463378906,
          -3.6989898681640625,
          -3.6982293128967285,
          -3.702544689178467,
          -3.703913688659668,
          -3.7111380100250244,
          -3.7020998001098633,
          -3.69924259185791,
          -3.6932199001312256,
          -3.6935935020446777,
          -3.7007837295532227,
          -3.7007296085357666,
          -3.700343608856201,
          -3.7019295692443848,
          -3.7032876014709473,
          -3.712818145751953,
          -3.6979458332061768,
          -3.7041165828704834,
          -3.6931347846984863,
          -3.6933298110961914,
          -3.7133381366729736,
          -3.7026309967041016,
          -3.7025368213653564
         ],
         "marker": {
          "color": "rgb(95, 70, 144)",
          "size": [
           10833,
           2540,
           7363,
           6459,
           13773,
           7921,
           17144,
           8060,
           5822,
           8267,
           15715,
           5536,
           2294,
           11439,
           8493,
           15612,
           7975,
           8190,
           13071,
           7322,
           1439,
           2557,
           11682,
           11034,
           9437,
           5824,
           5269,
           5139,
           6976,
           15122,
           5721,
           5730,
           14759,
           12699,
           22072,
           8860,
           15776,
           10443,
           17545,
           9735,
           8600,
           13228,
           13436,
           9077,
           11885,
           12949,
           21486,
           16859,
           14694,
           8189,
           9866,
           9227,
           3171,
           5998
          ],
          "sizemode": "area",
          "sizeref": 65.1175
         },
         "mode": "markers",
         "name": "01  CENTRO",
         "showlegend": true,
         "subplot": "mapbox",
         "type": "scattermapbox"
        },
        {
         "hovertemplate": "Distrito_Salida=07  CHAMBERÍ<br>Count=%{marker.size}<br>Latitud_Salida=%{lat}<br>Longitud_Salida=%{lon}<extra></extra>",
         "lat": [
          40.430320739746094,
          40.42771530151367,
          40.43357467651367,
          40.42952346801758,
          40.43063735961914,
          40.430816650390625,
          40.4353141784668,
          40.434566497802734,
          40.43390655517578,
          40.43903350830078,
          40.43846893310547,
          40.44171905517578,
          40.44175338745117,
          40.446388244628906,
          40.444026947021484,
          40.44148635864258,
          40.4456901550293,
          40.4354248046875,
          40.4331169128418,
          40.434326171875,
          40.43366241455078,
          40.4387321472168,
          40.44116973876953,
          40.44175338745117
         ],
         "legendgroup": "07  CHAMBERÍ",
         "lon": [
          -3.707212209701538,
          -3.6953067779541016,
          -3.717778205871582,
          -3.6962625980377197,
          -3.713468551635742,
          -3.6993181705474854,
          -3.694831609725952,
          -3.70174241065979,
          -3.7083988189697266,
          -3.715691566467285,
          -3.698281764984131,
          -3.701707124710083,
          -3.70402193069458,
          -3.7035911083221436,
          -3.6955113410949707,
          -3.692890167236328,
          -3.6915817260742188,
          -3.6892902851104736,
          -3.6915712356567383,
          -3.7148406505584717,
          -3.7046709060668945,
          -3.7038161754608154,
          -3.708096981048584,
          -3.714423894882202
         ],
         "marker": {
          "color": "rgb(29, 105, 150)",
          "size": [
           10524,
           9069,
           4659,
           6042,
           9046,
           6611,
           7035,
           9588,
           7458,
           14732,
           17125,
           9395,
           11323,
           16773,
           8805,
           18504,
           4748,
           5785,
           5648,
           3985,
           6454,
           5536,
           4716,
           1874
          ],
          "sizemode": "area",
          "sizeref": 65.1175
         },
         "mode": "markers",
         "name": "07  CHAMBERÍ",
         "showlegend": true,
         "subplot": "mapbox",
         "type": "scattermapbox"
        },
        {
         "hovertemplate": "Distrito_Salida=09  MONCLOA-ARAVACA<br>Count=%{marker.size}<br>Latitud_Salida=%{lat}<br>Longitud_Salida=%{lon}<extra></extra>",
         "lat": [
          40.42599105834961,
          40.43476486206055,
          40.43262481689453,
          40.4277458190918,
          40.42782211303711,
          40.42538070678711,
          40.42406463623047,
          40.430904388427734,
          40.42205810546875
         ],
         "legendgroup": "09  MONCLOA-ARAVACA",
         "lon": [
          -3.713376760482788,
          -3.7201316356658936,
          -3.724872589111328,
          -3.720714569091797,
          -3.7174150943756104,
          -3.7169625759124756,
          -3.711845636367798,
          -3.7189152240753174,
          -3.722062349319458
         ],
         "marker": {
          "color": "rgb(56, 166, 165)",
          "size": [
           10403,
           7411,
           5652,
           9668,
           8421,
           9134,
           7208,
           5565,
           15047
          ],
          "sizemode": "area",
          "sizeref": 65.1175
         },
         "mode": "markers",
         "name": "09  MONCLOA-ARAVACA",
         "showlegend": true,
         "subplot": "mapbox",
         "type": "scattermapbox"
        },
        {
         "hovertemplate": "Distrito_Salida=02  ARGANZUELA<br>Count=%{marker.size}<br>Latitud_Salida=%{lat}<br>Longitud_Salida=%{lon}<extra></extra>",
         "lat": [
          40.40544891357422,
          40.404624938964844,
          40.407413482666016,
          40.400794982910156,
          40.40145492553711,
          40.403038024902344,
          40.40183639526367,
          40.40351867675781,
          40.40363311767578,
          40.39713668823242,
          40.39288330078125,
          40.413734436035156,
          40.40458297729492,
          40.40157699584961,
          40.40110397338867,
          40.39976119995117,
          40.4008674621582,
          40.39817428588867,
          40.39741516113281,
          40.39626693725586,
          40.39424133300781,
          40.391502380371094,
          40.394126892089844
         ],
         "legendgroup": "02  ARGANZUELA",
         "lon": [
          -3.707117795944214,
          -3.7027549743652344,
          -3.6907238960266113,
          -3.6881349086761475,
          -3.686577796936035,
          -3.69477915763855,
          -3.6986045837402344,
          -3.7107558250427246,
          -3.706437110900879,
          -3.6944851875305176,
          -3.697613477706909,
          -3.7176456451416016,
          -3.695915937423706,
          -3.71384596824646,
          -3.7044029235839844,
          -3.6984457969665527,
          -3.693544864654541,
          -3.702361583709717,
          -3.7063770294189453,
          -3.69830322265625,
          -3.6936302185058594,
          -3.694087028503418,
          -3.675924301147461
         ],
         "marker": {
          "color": "rgb(15, 133, 84)",
          "size": [
           12233,
           8294,
           7883,
           10354,
           3240,
           3801,
           7474,
           13617,
           22635,
           12990,
           4926,
           8042,
           16633,
           15112,
           12009,
           7441,
           9064,
           2939,
           4956,
           26047,
           3635,
           7147,
           3550
          ],
          "sizemode": "area",
          "sizeref": 65.1175
         },
         "mode": "markers",
         "name": "02  ARGANZUELA",
         "showlegend": true,
         "subplot": "mapbox",
         "type": "scattermapbox"
        },
        {
         "hovertemplate": "Distrito_Salida=03  RETIRO<br>Count=%{marker.size}<br>Latitud_Salida=%{lat}<br>Longitud_Salida=%{lon}<extra></extra>",
         "lat": [
          40.41945266723633,
          40.42143630981445,
          40.42129898071289,
          40.41789245605469,
          40.41668701171875,
          40.41006088256836,
          40.4160041809082,
          40.41572189331055,
          40.41146469116211,
          40.41175842285156,
          40.40834045410156,
          40.407283782958984,
          40.406333923339844,
          40.400569915771484,
          40.40504837036133,
          40.409576416015625,
          40.408477783203125,
          40.41325759887695,
          40.40336990356445,
          40.421142578125,
          40.40302276611328,
          40.418174743652344,
          40.4187126159668
         ],
         "legendgroup": "03  RETIRO",
         "lon": [
          -3.688199281692505,
          -3.675205945968628,
          -3.672422409057617,
          -3.6706507205963135,
          -3.689382553100586,
          -3.6888668537139893,
          -3.674021005630493,
          -3.6696228981018066,
          -3.6690990924835205,
          -3.676576852798462,
          -3.678414821624756,
          -3.675154447555542,
          -3.670774221420288,
          -3.6745781898498535,
          -3.6805524826049805,
          -3.6919662952423096,
          -3.6696829795837402,
          -3.6745338439941406,
          -3.67269229888916,
          -3.6799299716949463,
          -3.678893804550171,
          -3.676640033721924,
          -3.6655023097991943
         ],
         "marker": {
          "color": "rgb(115, 175, 72)",
          "size": [
           5405,
           4062,
           12861,
           7838,
           10232,
           8313,
           10072,
           5953,
           9405,
           10844,
           9943,
           9444,
           9757,
           11461,
           13925,
           9623,
           12051,
           19602,
           14594,
           6161,
           8441,
           6457,
           5637
          ],
          "sizemode": "area",
          "sizeref": 65.1175
         },
         "mode": "markers",
         "name": "03  RETIRO",
         "showlegend": true,
         "subplot": "mapbox",
         "type": "scattermapbox"
        },
        {
         "hovertemplate": "Distrito_Salida=04  SALAMANCA<br>Count=%{marker.size}<br>Latitud_Salida=%{lat}<br>Longitud_Salida=%{lon}<extra></extra>",
         "lat": [
          40.42767333984375,
          40.431209564208984,
          40.42726135253906,
          40.425079345703125,
          40.42611312866211,
          40.42622375488281,
          40.425697326660156,
          40.423370361328125,
          40.422664642333984,
          40.42205047607422,
          40.4224853515625,
          40.424190521240234,
          40.42610549926758,
          40.42478561401367,
          40.42312240600586,
          40.4211540222168,
          40.43037414550781,
          40.42676544189453,
          40.427066802978516,
          40.42486572265625,
          40.42159652709961,
          40.42744064331055,
          40.43013000488281,
          40.43352508544922,
          40.43461608886719,
          40.43231964111328,
          40.429771423339844,
          40.425636291503906,
          40.426002502441406,
          40.42506790161133,
          40.43013381958008,
          40.43437576293945,
          40.43461608886719,
          40.431854248046875,
          40.43252182006836,
          40.437198638916016
         ],
         "legendgroup": "04  SALAMANCA",
         "lon": [
          -3.683562994003296,
          -3.6837470531463623,
          -3.6751716136932373,
          -3.683729648590088,
          -3.6788203716278076,
          -3.6864821910858154,
          -3.6894123554229736,
          -3.690704345703125,
          -3.6869914531707764,
          -3.682047128677368,
          -3.6801514625549316,
          -3.675407886505127,
          -3.673963785171509,
          -3.673877716064453,
          -3.669424533843994,
          -3.6840806007385254,
          -3.686535120010376,
          -3.6895792484283447,
          -3.687474489212036,
          -3.6878867149353027,
          -3.6884243488311768,
          -3.6706531047821045,
          -3.681525230407715,
          -3.688040256500244,
          -3.6782355308532715,
          -3.6754627227783203,
          -3.671401023864746,
          -3.669450521469116,
          -3.665309429168701,
          -3.6615331172943115,
          -3.6638407707214355,
          -3.683471202850342,
          -3.6740365028381348,
          -3.671431541442871,
          -3.6656439304351807,
          -3.677194595336914
         ],
         "marker": {
          "color": "rgb(237, 173, 8)",
          "size": [
           6123,
           4011,
           7758,
           18393,
           11974,
           6495,
           6499,
           7320,
           11556,
           7950,
           4721,
           4859,
           8020,
           5418,
           6629,
           7203,
           10321,
           5249,
           5704,
           7203,
           4933,
           13451,
           6638,
           8117,
           7201,
           2602,
           11175,
           9993,
           5690,
           9382,
           6903,
           6053,
           2874,
           4956,
           3352,
           2643
          ],
          "sizemode": "area",
          "sizeref": 65.1175
         },
         "mode": "markers",
         "name": "04  SALAMANCA",
         "showlegend": true,
         "subplot": "mapbox",
         "type": "scattermapbox"
        },
        {
         "hovertemplate": "Distrito_Salida=06  TETUÁN<br>Count=%{marker.size}<br>Latitud_Salida=%{lat}<br>Longitud_Salida=%{lon}<extra></extra>",
         "lat": [
          40.447166442871094,
          40.44886016845703,
          40.45271682739258,
          40.45235061645508,
          40.454776763916016,
          40.4572868347168,
          40.4592399597168,
          40.447662353515625,
          40.4535026550293,
          40.46080017089844,
          40.46302795410156
         ],
         "legendgroup": "06  TETUÁN",
         "lon": [
          -3.700029134750366,
          -3.695202350616455,
          -3.6989498138427734,
          -3.693089485168457,
          -3.694673538208008,
          -3.70086407661438,
          -3.6913228034973145,
          -3.7041702270507812,
          -3.703340768814087,
          -3.699049949645996,
          -3.697399139404297
         ],
         "marker": {
          "color": "rgb(225, 124, 5)",
          "size": [
           11350,
           4860,
           4523,
           8625,
           8807,
           9967,
           9748,
           3862,
           3624,
           2839,
           7513
          ],
          "sizemode": "area",
          "sizeref": 65.1175
         },
         "mode": "markers",
         "name": "06  TETUÁN",
         "showlegend": true,
         "subplot": "mapbox",
         "type": "scattermapbox"
        },
        {
         "hovertemplate": "Distrito_Salida=05  CHAMARTÍN<br>Count=%{marker.size}<br>Latitud_Salida=%{lat}<br>Longitud_Salida=%{lon}<extra></extra>",
         "lat": [
          40.445281982421875,
          40.44549560546875,
          40.439353942871094,
          40.43851852416992,
          40.44424057006836,
          40.448333740234375,
          40.451019287109375,
          40.44984436035156,
          40.44911193847656,
          40.45928192138672,
          40.4586181640625,
          40.454254150390625,
          40.45719909667969,
          40.439247131347656,
          40.444095611572266,
          40.4515495300293,
          40.46651077270508,
          40.4656867980957
         ],
         "legendgroup": "05  CHAMARTÍN",
         "lon": [
          -3.690812587738037,
          -3.6852924823760986,
          -3.6904494762420654,
          -3.682912588119507,
          -3.6787900924682617,
          -3.6795811653137207,
          -3.681699275970459,
          -3.6878511905670166,
          -3.6905410289764404,
          -3.689330577850342,
          -3.6847050189971924,
          -3.683734893798828,
          -3.6766176223754883,
          -3.6754913330078125,
          -3.6750917434692383,
          -3.678025245666504,
          -3.688685178756714,
          -3.6887874603271484
         ],
         "marker": {
          "color": "rgb(204, 80, 62)",
          "size": [
           10382,
           6838,
           10269,
           6169,
           4458,
           5357,
           5353,
           17522,
           3932,
           15273,
           6108,
           5466,
           14040,
           5336,
           2941,
           2158,
           9929,
           1702
          ],
          "sizemode": "area",
          "sizeref": 65.1175
         },
         "mode": "markers",
         "name": "05  CHAMARTÍN",
         "showlegend": true,
         "subplot": "mapbox",
         "type": "scattermapbox"
        },
        {
         "hovertemplate": "Distrito_Salida=13  PUENTE DE VALLECAS<br>Count=%{marker.size}<br>Latitud_Salida=%{lat}<br>Longitud_Salida=%{lon}<extra></extra>",
         "lat": [
          40.39793395996094
         ],
         "legendgroup": "13  PUENTE DE VALLECAS",
         "lon": [
          -3.669060230255127
         ],
         "marker": {
          "color": "rgb(148, 52, 110)",
          "size": [
           7535
          ],
          "sizemode": "area",
          "sizeref": 65.1175
         },
         "mode": "markers",
         "name": "13  PUENTE DE VALLECAS",
         "showlegend": true,
         "subplot": "mapbox",
         "type": "scattermapbox"
        },
        {
         "hovertemplate": "Distrito_Salida=15  CIUDAD LINEAL<br>Count=%{marker.size}<br>Latitud_Salida=%{lat}<br>Longitud_Salida=%{lon}<extra></extra>",
         "lat": [
          40.43116760253906,
          40.435020446777344,
          40.44340133666992,
          40.429691314697266
         ],
         "legendgroup": "15  CIUDAD LINEAL",
         "lon": [
          -3.6589062213897705,
          -3.655543088912964,
          -3.6569597721099854,
          -3.640969753265381
         ],
         "marker": {
          "color": "rgb(111, 64, 112)",
          "size": [
           2288,
           10878,
           2732,
           3822
          ],
          "sizemode": "area",
          "sizeref": 65.1175
         },
         "mode": "markers",
         "name": "15  CIUDAD LINEAL",
         "showlegend": true,
         "subplot": "mapbox",
         "type": "scattermapbox"
        },
        {
         "hovertemplate": "Distrito_Salida=11  CARABANCHEL<br>Count=%{marker.size}<br>Latitud_Salida=%{lat}<br>Longitud_Salida=%{lon}<extra></extra>",
         "lat": [
          40.39815902709961
         ],
         "legendgroup": "11  CARABANCHEL",
         "lon": [
          -3.716531276702881
         ],
         "marker": {
          "color": "rgb(102, 102, 102)",
          "size": [
           6226
          ],
          "sizemode": "area",
          "sizeref": 65.1175
         },
         "mode": "markers",
         "name": "11  CARABANCHEL",
         "showlegend": true,
         "subplot": "mapbox",
         "type": "scattermapbox"
        },
        {
         "hovertemplate": "Distrito_Salida=12  USERA<br>Count=%{marker.size}<br>Latitud_Salida=%{lat}<br>Longitud_Salida=%{lon}<extra></extra>",
         "lat": [
          40.38893508911133
         ],
         "legendgroup": "12  USERA",
         "lon": [
          -3.700157403945923
         ],
         "marker": {
          "color": "rgb(95, 70, 144)",
          "size": [
           8779
          ],
          "sizemode": "area",
          "sizeref": 65.1175
         },
         "mode": "markers",
         "name": "12  USERA",
         "showlegend": true,
         "subplot": "mapbox",
         "type": "scattermapbox"
        },
        {
         "hovertemplate": "Distrito_Salida=10  LATINA<br>Count=%{marker.size}<br>Latitud_Salida=%{lat}<br>Longitud_Salida=%{lon}<extra></extra>",
         "lat": [
          40.4140510559082
         ],
         "legendgroup": "10  LATINA",
         "lon": [
          -3.7288947105407715
         ],
         "marker": {
          "color": "rgb(29, 105, 150)",
          "size": [
           2761
          ],
          "sizemode": "area",
          "sizeref": 65.1175
         },
         "mode": "markers",
         "name": "10  LATINA",
         "showlegend": true,
         "subplot": "mapbox",
         "type": "scattermapbox"
        },
        {
         "hovertemplate": "Distrito_Salida=08  FUENCARRAL-EL PARDO<br>Count=%{marker.size}<br>Latitud_Salida=%{lat}<br>Longitud_Salida=%{lon}<extra></extra>",
         "lat": [
          40.48100280761719
         ],
         "legendgroup": "08  FUENCARRAL-EL PARDO",
         "lon": [
          -3.6891093254089355
         ],
         "marker": {
          "color": "rgb(56, 166, 165)",
          "size": [
           2655
          ],
          "sizemode": "area",
          "sizeref": 65.1175
         },
         "mode": "markers",
         "name": "08  FUENCARRAL-EL PARDO",
         "showlegend": true,
         "subplot": "mapbox",
         "type": "scattermapbox"
        },
        {
         "hovertemplate": "Distrito_Salida=14  MORATALAZ<br>Count=%{marker.size}<br>Latitud_Salida=%{lat}<br>Longitud_Salida=%{lon}<extra></extra>",
         "lat": [
          40.410552978515625,
          40.40839767456055
         ],
         "legendgroup": "14  MORATALAZ",
         "lon": [
          -3.657399892807007,
          -3.6467783451080322
         ],
         "marker": {
          "color": "rgb(15, 133, 84)",
          "size": [
           4642,
           5832
          ],
          "sizemode": "area",
          "sizeref": 65.1175
         },
         "mode": "markers",
         "name": "14  MORATALAZ",
         "showlegend": true,
         "subplot": "mapbox",
         "type": "scattermapbox"
        }
       ],
       "layout": {
        "autosize": true,
        "height": 1000,
        "hoverlabel": {
         "align": "right"
        },
        "legend": {
         "itemsizing": "constant",
         "title": {
          "text": "Distrito_Salida"
         },
         "tracegroupgap": 0
        },
        "mapbox": {
         "bearing": 0,
         "center": {
          "lat": 40.435,
          "lon": -3.69
         },
         "domain": {
          "x": [
           0,
           1
          ],
          "y": [
           0,
           1
          ]
         },
         "style": "carto-positron",
         "zoom": 12
        },
        "margin": {
         "t": 60
        },
        "showlegend": true,
        "template": {
         "data": {
          "bar": [
           {
            "error_x": {
             "color": "#2a3f5f"
            },
            "error_y": {
             "color": "#2a3f5f"
            },
            "marker": {
             "line": {
              "color": "#E5ECF6",
              "width": 0.5
             },
             "pattern": {
              "fillmode": "overlay",
              "size": 10,
              "solidity": 0.2
             }
            },
            "type": "bar"
           }
          ],
          "barpolar": [
           {
            "marker": {
             "line": {
              "color": "#E5ECF6",
              "width": 0.5
             },
             "pattern": {
              "fillmode": "overlay",
              "size": 10,
              "solidity": 0.2
             }
            },
            "type": "barpolar"
           }
          ],
          "carpet": [
           {
            "aaxis": {
             "endlinecolor": "#2a3f5f",
             "gridcolor": "white",
             "linecolor": "white",
             "minorgridcolor": "white",
             "startlinecolor": "#2a3f5f"
            },
            "baxis": {
             "endlinecolor": "#2a3f5f",
             "gridcolor": "white",
             "linecolor": "white",
             "minorgridcolor": "white",
             "startlinecolor": "#2a3f5f"
            },
            "type": "carpet"
           }
          ],
          "choropleth": [
           {
            "colorbar": {
             "outlinewidth": 0,
             "ticks": ""
            },
            "type": "choropleth"
           }
          ],
          "contour": [
           {
            "colorbar": {
             "outlinewidth": 0,
             "ticks": ""
            },
            "colorscale": [
             [
              0,
              "#0d0887"
             ],
             [
              0.1111111111111111,
              "#46039f"
             ],
             [
              0.2222222222222222,
              "#7201a8"
             ],
             [
              0.3333333333333333,
              "#9c179e"
             ],
             [
              0.4444444444444444,
              "#bd3786"
             ],
             [
              0.5555555555555556,
              "#d8576b"
             ],
             [
              0.6666666666666666,
              "#ed7953"
             ],
             [
              0.7777777777777778,
              "#fb9f3a"
             ],
             [
              0.8888888888888888,
              "#fdca26"
             ],
             [
              1,
              "#f0f921"
             ]
            ],
            "type": "contour"
           }
          ],
          "contourcarpet": [
           {
            "colorbar": {
             "outlinewidth": 0,
             "ticks": ""
            },
            "type": "contourcarpet"
           }
          ],
          "heatmap": [
           {
            "colorbar": {
             "outlinewidth": 0,
             "ticks": ""
            },
            "colorscale": [
             [
              0,
              "#0d0887"
             ],
             [
              0.1111111111111111,
              "#46039f"
             ],
             [
              0.2222222222222222,
              "#7201a8"
             ],
             [
              0.3333333333333333,
              "#9c179e"
             ],
             [
              0.4444444444444444,
              "#bd3786"
             ],
             [
              0.5555555555555556,
              "#d8576b"
             ],
             [
              0.6666666666666666,
              "#ed7953"
             ],
             [
              0.7777777777777778,
              "#fb9f3a"
             ],
             [
              0.8888888888888888,
              "#fdca26"
             ],
             [
              1,
              "#f0f921"
             ]
            ],
            "type": "heatmap"
           }
          ],
          "heatmapgl": [
           {
            "colorbar": {
             "outlinewidth": 0,
             "ticks": ""
            },
            "colorscale": [
             [
              0,
              "#0d0887"
             ],
             [
              0.1111111111111111,
              "#46039f"
             ],
             [
              0.2222222222222222,
              "#7201a8"
             ],
             [
              0.3333333333333333,
              "#9c179e"
             ],
             [
              0.4444444444444444,
              "#bd3786"
             ],
             [
              0.5555555555555556,
              "#d8576b"
             ],
             [
              0.6666666666666666,
              "#ed7953"
             ],
             [
              0.7777777777777778,
              "#fb9f3a"
             ],
             [
              0.8888888888888888,
              "#fdca26"
             ],
             [
              1,
              "#f0f921"
             ]
            ],
            "type": "heatmapgl"
           }
          ],
          "histogram": [
           {
            "marker": {
             "pattern": {
              "fillmode": "overlay",
              "size": 10,
              "solidity": 0.2
             }
            },
            "type": "histogram"
           }
          ],
          "histogram2d": [
           {
            "colorbar": {
             "outlinewidth": 0,
             "ticks": ""
            },
            "colorscale": [
             [
              0,
              "#0d0887"
             ],
             [
              0.1111111111111111,
              "#46039f"
             ],
             [
              0.2222222222222222,
              "#7201a8"
             ],
             [
              0.3333333333333333,
              "#9c179e"
             ],
             [
              0.4444444444444444,
              "#bd3786"
             ],
             [
              0.5555555555555556,
              "#d8576b"
             ],
             [
              0.6666666666666666,
              "#ed7953"
             ],
             [
              0.7777777777777778,
              "#fb9f3a"
             ],
             [
              0.8888888888888888,
              "#fdca26"
             ],
             [
              1,
              "#f0f921"
             ]
            ],
            "type": "histogram2d"
           }
          ],
          "histogram2dcontour": [
           {
            "colorbar": {
             "outlinewidth": 0,
             "ticks": ""
            },
            "colorscale": [
             [
              0,
              "#0d0887"
             ],
             [
              0.1111111111111111,
              "#46039f"
             ],
             [
              0.2222222222222222,
              "#7201a8"
             ],
             [
              0.3333333333333333,
              "#9c179e"
             ],
             [
              0.4444444444444444,
              "#bd3786"
             ],
             [
              0.5555555555555556,
              "#d8576b"
             ],
             [
              0.6666666666666666,
              "#ed7953"
             ],
             [
              0.7777777777777778,
              "#fb9f3a"
             ],
             [
              0.8888888888888888,
              "#fdca26"
             ],
             [
              1,
              "#f0f921"
             ]
            ],
            "type": "histogram2dcontour"
           }
          ],
          "mesh3d": [
           {
            "colorbar": {
             "outlinewidth": 0,
             "ticks": ""
            },
            "type": "mesh3d"
           }
          ],
          "parcoords": [
           {
            "line": {
             "colorbar": {
              "outlinewidth": 0,
              "ticks": ""
             }
            },
            "type": "parcoords"
           }
          ],
          "pie": [
           {
            "automargin": true,
            "type": "pie"
           }
          ],
          "scatter": [
           {
            "fillpattern": {
             "fillmode": "overlay",
             "size": 10,
             "solidity": 0.2
            },
            "type": "scatter"
           }
          ],
          "scatter3d": [
           {
            "line": {
             "colorbar": {
              "outlinewidth": 0,
              "ticks": ""
             }
            },
            "marker": {
             "colorbar": {
              "outlinewidth": 0,
              "ticks": ""
             }
            },
            "type": "scatter3d"
           }
          ],
          "scattercarpet": [
           {
            "marker": {
             "colorbar": {
              "outlinewidth": 0,
              "ticks": ""
             }
            },
            "type": "scattercarpet"
           }
          ],
          "scattergeo": [
           {
            "marker": {
             "colorbar": {
              "outlinewidth": 0,
              "ticks": ""
             }
            },
            "type": "scattergeo"
           }
          ],
          "scattergl": [
           {
            "marker": {
             "colorbar": {
              "outlinewidth": 0,
              "ticks": ""
             }
            },
            "type": "scattergl"
           }
          ],
          "scattermapbox": [
           {
            "marker": {
             "colorbar": {
              "outlinewidth": 0,
              "ticks": ""
             }
            },
            "type": "scattermapbox"
           }
          ],
          "scatterpolar": [
           {
            "marker": {
             "colorbar": {
              "outlinewidth": 0,
              "ticks": ""
             }
            },
            "type": "scatterpolar"
           }
          ],
          "scatterpolargl": [
           {
            "marker": {
             "colorbar": {
              "outlinewidth": 0,
              "ticks": ""
             }
            },
            "type": "scatterpolargl"
           }
          ],
          "scatterternary": [
           {
            "marker": {
             "colorbar": {
              "outlinewidth": 0,
              "ticks": ""
             }
            },
            "type": "scatterternary"
           }
          ],
          "surface": [
           {
            "colorbar": {
             "outlinewidth": 0,
             "ticks": ""
            },
            "colorscale": [
             [
              0,
              "#0d0887"
             ],
             [
              0.1111111111111111,
              "#46039f"
             ],
             [
              0.2222222222222222,
              "#7201a8"
             ],
             [
              0.3333333333333333,
              "#9c179e"
             ],
             [
              0.4444444444444444,
              "#bd3786"
             ],
             [
              0.5555555555555556,
              "#d8576b"
             ],
             [
              0.6666666666666666,
              "#ed7953"
             ],
             [
              0.7777777777777778,
              "#fb9f3a"
             ],
             [
              0.8888888888888888,
              "#fdca26"
             ],
             [
              1,
              "#f0f921"
             ]
            ],
            "type": "surface"
           }
          ],
          "table": [
           {
            "cells": {
             "fill": {
              "color": "#EBF0F8"
             },
             "line": {
              "color": "white"
             }
            },
            "header": {
             "fill": {
              "color": "#C8D4E3"
             },
             "line": {
              "color": "white"
             }
            },
            "type": "table"
           }
          ]
         },
         "layout": {
          "annotationdefaults": {
           "arrowcolor": "#2a3f5f",
           "arrowhead": 0,
           "arrowwidth": 1
          },
          "autotypenumbers": "strict",
          "coloraxis": {
           "colorbar": {
            "outlinewidth": 0,
            "ticks": ""
           }
          },
          "colorscale": {
           "diverging": [
            [
             0,
             "#8e0152"
            ],
            [
             0.1,
             "#c51b7d"
            ],
            [
             0.2,
             "#de77ae"
            ],
            [
             0.3,
             "#f1b6da"
            ],
            [
             0.4,
             "#fde0ef"
            ],
            [
             0.5,
             "#f7f7f7"
            ],
            [
             0.6,
             "#e6f5d0"
            ],
            [
             0.7,
             "#b8e186"
            ],
            [
             0.8,
             "#7fbc41"
            ],
            [
             0.9,
             "#4d9221"
            ],
            [
             1,
             "#276419"
            ]
           ],
           "sequential": [
            [
             0,
             "#0d0887"
            ],
            [
             0.1111111111111111,
             "#46039f"
            ],
            [
             0.2222222222222222,
             "#7201a8"
            ],
            [
             0.3333333333333333,
             "#9c179e"
            ],
            [
             0.4444444444444444,
             "#bd3786"
            ],
            [
             0.5555555555555556,
             "#d8576b"
            ],
            [
             0.6666666666666666,
             "#ed7953"
            ],
            [
             0.7777777777777778,
             "#fb9f3a"
            ],
            [
             0.8888888888888888,
             "#fdca26"
            ],
            [
             1,
             "#f0f921"
            ]
           ],
           "sequentialminus": [
            [
             0,
             "#0d0887"
            ],
            [
             0.1111111111111111,
             "#46039f"
            ],
            [
             0.2222222222222222,
             "#7201a8"
            ],
            [
             0.3333333333333333,
             "#9c179e"
            ],
            [
             0.4444444444444444,
             "#bd3786"
            ],
            [
             0.5555555555555556,
             "#d8576b"
            ],
            [
             0.6666666666666666,
             "#ed7953"
            ],
            [
             0.7777777777777778,
             "#fb9f3a"
            ],
            [
             0.8888888888888888,
             "#fdca26"
            ],
            [
             1,
             "#f0f921"
            ]
           ]
          },
          "colorway": [
           "#636efa",
           "#EF553B",
           "#00cc96",
           "#ab63fa",
           "#FFA15A",
           "#19d3f3",
           "#FF6692",
           "#B6E880",
           "#FF97FF",
           "#FECB52"
          ],
          "font": {
           "color": "#2a3f5f"
          },
          "geo": {
           "bgcolor": "white",
           "lakecolor": "white",
           "landcolor": "#E5ECF6",
           "showlakes": true,
           "showland": true,
           "subunitcolor": "white"
          },
          "hoverlabel": {
           "align": "left"
          },
          "hovermode": "closest",
          "mapbox": {
           "style": "light"
          },
          "paper_bgcolor": "white",
          "plot_bgcolor": "#E5ECF6",
          "polar": {
           "angularaxis": {
            "gridcolor": "white",
            "linecolor": "white",
            "ticks": ""
           },
           "bgcolor": "#E5ECF6",
           "radialaxis": {
            "gridcolor": "white",
            "linecolor": "white",
            "ticks": ""
           }
          },
          "scene": {
           "xaxis": {
            "backgroundcolor": "#E5ECF6",
            "gridcolor": "white",
            "gridwidth": 2,
            "linecolor": "white",
            "showbackground": true,
            "ticks": "",
            "zerolinecolor": "white"
           },
           "yaxis": {
            "backgroundcolor": "#E5ECF6",
            "gridcolor": "white",
            "gridwidth": 2,
            "linecolor": "white",
            "showbackground": true,
            "ticks": "",
            "zerolinecolor": "white"
           },
           "zaxis": {
            "backgroundcolor": "#E5ECF6",
            "gridcolor": "white",
            "gridwidth": 2,
            "linecolor": "white",
            "showbackground": true,
            "ticks": "",
            "zerolinecolor": "white"
           }
          },
          "shapedefaults": {
           "line": {
            "color": "#2a3f5f"
           }
          },
          "ternary": {
           "aaxis": {
            "gridcolor": "white",
            "linecolor": "white",
            "ticks": ""
           },
           "baxis": {
            "gridcolor": "white",
            "linecolor": "white",
            "ticks": ""
           },
           "bgcolor": "#E5ECF6",
           "caxis": {
            "gridcolor": "white",
            "linecolor": "white",
            "ticks": ""
           }
          },
          "title": {
           "x": 0.05
          },
          "xaxis": {
           "automargin": true,
           "gridcolor": "white",
           "linecolor": "white",
           "ticks": "",
           "title": {
            "standoff": 15
           },
           "zerolinecolor": "white",
           "zerolinewidth": 2
          },
          "yaxis": {
           "automargin": true,
           "gridcolor": "white",
           "linecolor": "white",
           "ticks": "",
           "title": {
            "standoff": 15
           },
           "zerolinecolor": "white",
           "zerolinewidth": 2
          }
         }
        },
        "title": {
         "text": "Bases BiciMad por Distrito"
        },
        "width": 1000
       }
      },
      "text/html": [
       "<div>                            <div id=\"7a837f84-247c-44af-b8d1-b803099393b4\" class=\"plotly-graph-div\" style=\"height:1000px; width:1000px;\"></div>            <script type=\"text/javascript\">                require([\"plotly\"], function(Plotly) {                    window.PLOTLYENV=window.PLOTLYENV || {};                                    if (document.getElementById(\"7a837f84-247c-44af-b8d1-b803099393b4\")) {                    Plotly.newPlot(                        \"7a837f84-247c-44af-b8d1-b803099393b4\",                        [{\"hovertemplate\":\"Distrito_Salida=01 \\u00a0CENTRO<br>Count=%{marker.size}<br>Latitud_Salida=%{lat}<br>Longitud_Salida=%{lon}<extra></extra>\",\"lat\":[40.417110443115234,40.42058181762695,40.4285888671875,40.42836380004883,40.424163818359375,40.42521667480469,40.41561508178711,40.4254035949707,40.42705154418945,40.42852783203125,40.427364349365234,40.426292419433594,40.422943115234375,40.42316818237305,40.420921325683594,40.421897888183594,40.419185638427734,40.417259216308594,40.423831939697266,40.41328430175781,40.418067932128906,40.41624450683594,40.419334411621094,40.416343688964844,40.41647720336914,40.41441345214844,40.414180755615234,40.41682434082031,40.41086196899414,40.41129684448242,40.4112663269043,40.413787841796875,40.412227630615234,40.410770416259766,40.41008758544922,40.40981674194336,40.40694808959961,40.40544891357422,40.40604782104492,40.40830993652344,40.40772247314453,40.41451644897461,40.40827941894531,40.4266242980957,40.424072265625,40.41848373413086,40.42963790893555,40.42226028442383,40.425479888916016,40.41082763671875,40.4185791015625,40.4139404296875,40.41975402832031,40.420616149902344],\"legendgroup\":\"01 \\u00a0CENTRO\",\"lon\":[-3.701997995376587,-3.705673933029175,-3.70267391204834,-3.7020742893218994,-3.69840931892395,-3.697739839553833,-3.709409236907959,-3.6920816898345947,-3.7036192417144775,-3.7062201499938965,-3.710472583770752,-3.7073609828948975,-3.7074954509735107,-3.704185962677002,-3.6995677947998047,-3.695394992828369,-3.6952900886535645,-3.706024408340454,-3.694542169570923,-3.695580244064331,-3.698366165161133,-3.69580078125,-3.711542844772339,-3.706624984741211,-3.703209638595581,-3.7035043239593506,-3.7103676795959473,-3.711764097213745,-3.714123487472534,-3.71144437789917,-3.7090044021606445,-3.7047462463378906,-3.6989898681640625,-3.6982293128967285,-3.702544689178467,-3.703913688659668,-3.7111380100250244,-3.7020998001098633,-3.69924259185791,-3.6932199001312256,-3.6935935020446777,-3.7007837295532227,-3.7007296085357666,-3.700343608856201,-3.7019295692443848,-3.7032876014709473,-3.712818145751953,-3.6979458332061768,-3.7041165828704834,-3.6931347846984863,-3.6933298110961914,-3.7133381366729736,-3.7026309967041016,-3.7025368213653564],\"marker\":{\"color\":\"rgb(95, 70, 144)\",\"size\":[10833,2540,7363,6459,13773,7921,17144,8060,5822,8267,15715,5536,2294,11439,8493,15612,7975,8190,13071,7322,1439,2557,11682,11034,9437,5824,5269,5139,6976,15122,5721,5730,14759,12699,22072,8860,15776,10443,17545,9735,8600,13228,13436,9077,11885,12949,21486,16859,14694,8189,9866,9227,3171,5998],\"sizemode\":\"area\",\"sizeref\":65.1175},\"mode\":\"markers\",\"name\":\"01 \\u00a0CENTRO\",\"showlegend\":true,\"subplot\":\"mapbox\",\"type\":\"scattermapbox\"},{\"hovertemplate\":\"Distrito_Salida=07 \\u00a0CHAMBER\\u00cd<br>Count=%{marker.size}<br>Latitud_Salida=%{lat}<br>Longitud_Salida=%{lon}<extra></extra>\",\"lat\":[40.430320739746094,40.42771530151367,40.43357467651367,40.42952346801758,40.43063735961914,40.430816650390625,40.4353141784668,40.434566497802734,40.43390655517578,40.43903350830078,40.43846893310547,40.44171905517578,40.44175338745117,40.446388244628906,40.444026947021484,40.44148635864258,40.4456901550293,40.4354248046875,40.4331169128418,40.434326171875,40.43366241455078,40.4387321472168,40.44116973876953,40.44175338745117],\"legendgroup\":\"07 \\u00a0CHAMBER\\u00cd\",\"lon\":[-3.707212209701538,-3.6953067779541016,-3.717778205871582,-3.6962625980377197,-3.713468551635742,-3.6993181705474854,-3.694831609725952,-3.70174241065979,-3.7083988189697266,-3.715691566467285,-3.698281764984131,-3.701707124710083,-3.70402193069458,-3.7035911083221436,-3.6955113410949707,-3.692890167236328,-3.6915817260742188,-3.6892902851104736,-3.6915712356567383,-3.7148406505584717,-3.7046709060668945,-3.7038161754608154,-3.708096981048584,-3.714423894882202],\"marker\":{\"color\":\"rgb(29, 105, 150)\",\"size\":[10524,9069,4659,6042,9046,6611,7035,9588,7458,14732,17125,9395,11323,16773,8805,18504,4748,5785,5648,3985,6454,5536,4716,1874],\"sizemode\":\"area\",\"sizeref\":65.1175},\"mode\":\"markers\",\"name\":\"07 \\u00a0CHAMBER\\u00cd\",\"showlegend\":true,\"subplot\":\"mapbox\",\"type\":\"scattermapbox\"},{\"hovertemplate\":\"Distrito_Salida=09 \\u00a0MONCLOA-ARAVACA<br>Count=%{marker.size}<br>Latitud_Salida=%{lat}<br>Longitud_Salida=%{lon}<extra></extra>\",\"lat\":[40.42599105834961,40.43476486206055,40.43262481689453,40.4277458190918,40.42782211303711,40.42538070678711,40.42406463623047,40.430904388427734,40.42205810546875],\"legendgroup\":\"09 \\u00a0MONCLOA-ARAVACA\",\"lon\":[-3.713376760482788,-3.7201316356658936,-3.724872589111328,-3.720714569091797,-3.7174150943756104,-3.7169625759124756,-3.711845636367798,-3.7189152240753174,-3.722062349319458],\"marker\":{\"color\":\"rgb(56, 166, 165)\",\"size\":[10403,7411,5652,9668,8421,9134,7208,5565,15047],\"sizemode\":\"area\",\"sizeref\":65.1175},\"mode\":\"markers\",\"name\":\"09 \\u00a0MONCLOA-ARAVACA\",\"showlegend\":true,\"subplot\":\"mapbox\",\"type\":\"scattermapbox\"},{\"hovertemplate\":\"Distrito_Salida=02 \\u00a0ARGANZUELA<br>Count=%{marker.size}<br>Latitud_Salida=%{lat}<br>Longitud_Salida=%{lon}<extra></extra>\",\"lat\":[40.40544891357422,40.404624938964844,40.407413482666016,40.400794982910156,40.40145492553711,40.403038024902344,40.40183639526367,40.40351867675781,40.40363311767578,40.39713668823242,40.39288330078125,40.413734436035156,40.40458297729492,40.40157699584961,40.40110397338867,40.39976119995117,40.4008674621582,40.39817428588867,40.39741516113281,40.39626693725586,40.39424133300781,40.391502380371094,40.394126892089844],\"legendgroup\":\"02 \\u00a0ARGANZUELA\",\"lon\":[-3.707117795944214,-3.7027549743652344,-3.6907238960266113,-3.6881349086761475,-3.686577796936035,-3.69477915763855,-3.6986045837402344,-3.7107558250427246,-3.706437110900879,-3.6944851875305176,-3.697613477706909,-3.7176456451416016,-3.695915937423706,-3.71384596824646,-3.7044029235839844,-3.6984457969665527,-3.693544864654541,-3.702361583709717,-3.7063770294189453,-3.69830322265625,-3.6936302185058594,-3.694087028503418,-3.675924301147461],\"marker\":{\"color\":\"rgb(15, 133, 84)\",\"size\":[12233,8294,7883,10354,3240,3801,7474,13617,22635,12990,4926,8042,16633,15112,12009,7441,9064,2939,4956,26047,3635,7147,3550],\"sizemode\":\"area\",\"sizeref\":65.1175},\"mode\":\"markers\",\"name\":\"02 \\u00a0ARGANZUELA\",\"showlegend\":true,\"subplot\":\"mapbox\",\"type\":\"scattermapbox\"},{\"hovertemplate\":\"Distrito_Salida=03 \\u00a0RETIRO<br>Count=%{marker.size}<br>Latitud_Salida=%{lat}<br>Longitud_Salida=%{lon}<extra></extra>\",\"lat\":[40.41945266723633,40.42143630981445,40.42129898071289,40.41789245605469,40.41668701171875,40.41006088256836,40.4160041809082,40.41572189331055,40.41146469116211,40.41175842285156,40.40834045410156,40.407283782958984,40.406333923339844,40.400569915771484,40.40504837036133,40.409576416015625,40.408477783203125,40.41325759887695,40.40336990356445,40.421142578125,40.40302276611328,40.418174743652344,40.4187126159668],\"legendgroup\":\"03 \\u00a0RETIRO\",\"lon\":[-3.688199281692505,-3.675205945968628,-3.672422409057617,-3.6706507205963135,-3.689382553100586,-3.6888668537139893,-3.674021005630493,-3.6696228981018066,-3.6690990924835205,-3.676576852798462,-3.678414821624756,-3.675154447555542,-3.670774221420288,-3.6745781898498535,-3.6805524826049805,-3.6919662952423096,-3.6696829795837402,-3.6745338439941406,-3.67269229888916,-3.6799299716949463,-3.678893804550171,-3.676640033721924,-3.6655023097991943],\"marker\":{\"color\":\"rgb(115, 175, 72)\",\"size\":[5405,4062,12861,7838,10232,8313,10072,5953,9405,10844,9943,9444,9757,11461,13925,9623,12051,19602,14594,6161,8441,6457,5637],\"sizemode\":\"area\",\"sizeref\":65.1175},\"mode\":\"markers\",\"name\":\"03 \\u00a0RETIRO\",\"showlegend\":true,\"subplot\":\"mapbox\",\"type\":\"scattermapbox\"},{\"hovertemplate\":\"Distrito_Salida=04 \\u00a0SALAMANCA<br>Count=%{marker.size}<br>Latitud_Salida=%{lat}<br>Longitud_Salida=%{lon}<extra></extra>\",\"lat\":[40.42767333984375,40.431209564208984,40.42726135253906,40.425079345703125,40.42611312866211,40.42622375488281,40.425697326660156,40.423370361328125,40.422664642333984,40.42205047607422,40.4224853515625,40.424190521240234,40.42610549926758,40.42478561401367,40.42312240600586,40.4211540222168,40.43037414550781,40.42676544189453,40.427066802978516,40.42486572265625,40.42159652709961,40.42744064331055,40.43013000488281,40.43352508544922,40.43461608886719,40.43231964111328,40.429771423339844,40.425636291503906,40.426002502441406,40.42506790161133,40.43013381958008,40.43437576293945,40.43461608886719,40.431854248046875,40.43252182006836,40.437198638916016],\"legendgroup\":\"04 \\u00a0SALAMANCA\",\"lon\":[-3.683562994003296,-3.6837470531463623,-3.6751716136932373,-3.683729648590088,-3.6788203716278076,-3.6864821910858154,-3.6894123554229736,-3.690704345703125,-3.6869914531707764,-3.682047128677368,-3.6801514625549316,-3.675407886505127,-3.673963785171509,-3.673877716064453,-3.669424533843994,-3.6840806007385254,-3.686535120010376,-3.6895792484283447,-3.687474489212036,-3.6878867149353027,-3.6884243488311768,-3.6706531047821045,-3.681525230407715,-3.688040256500244,-3.6782355308532715,-3.6754627227783203,-3.671401023864746,-3.669450521469116,-3.665309429168701,-3.6615331172943115,-3.6638407707214355,-3.683471202850342,-3.6740365028381348,-3.671431541442871,-3.6656439304351807,-3.677194595336914],\"marker\":{\"color\":\"rgb(237, 173, 8)\",\"size\":[6123,4011,7758,18393,11974,6495,6499,7320,11556,7950,4721,4859,8020,5418,6629,7203,10321,5249,5704,7203,4933,13451,6638,8117,7201,2602,11175,9993,5690,9382,6903,6053,2874,4956,3352,2643],\"sizemode\":\"area\",\"sizeref\":65.1175},\"mode\":\"markers\",\"name\":\"04 \\u00a0SALAMANCA\",\"showlegend\":true,\"subplot\":\"mapbox\",\"type\":\"scattermapbox\"},{\"hovertemplate\":\"Distrito_Salida=06 \\u00a0TETU\\u00c1N<br>Count=%{marker.size}<br>Latitud_Salida=%{lat}<br>Longitud_Salida=%{lon}<extra></extra>\",\"lat\":[40.447166442871094,40.44886016845703,40.45271682739258,40.45235061645508,40.454776763916016,40.4572868347168,40.4592399597168,40.447662353515625,40.4535026550293,40.46080017089844,40.46302795410156],\"legendgroup\":\"06 \\u00a0TETU\\u00c1N\",\"lon\":[-3.700029134750366,-3.695202350616455,-3.6989498138427734,-3.693089485168457,-3.694673538208008,-3.70086407661438,-3.6913228034973145,-3.7041702270507812,-3.703340768814087,-3.699049949645996,-3.697399139404297],\"marker\":{\"color\":\"rgb(225, 124, 5)\",\"size\":[11350,4860,4523,8625,8807,9967,9748,3862,3624,2839,7513],\"sizemode\":\"area\",\"sizeref\":65.1175},\"mode\":\"markers\",\"name\":\"06 \\u00a0TETU\\u00c1N\",\"showlegend\":true,\"subplot\":\"mapbox\",\"type\":\"scattermapbox\"},{\"hovertemplate\":\"Distrito_Salida=05 \\u00a0CHAMART\\u00cdN<br>Count=%{marker.size}<br>Latitud_Salida=%{lat}<br>Longitud_Salida=%{lon}<extra></extra>\",\"lat\":[40.445281982421875,40.44549560546875,40.439353942871094,40.43851852416992,40.44424057006836,40.448333740234375,40.451019287109375,40.44984436035156,40.44911193847656,40.45928192138672,40.4586181640625,40.454254150390625,40.45719909667969,40.439247131347656,40.444095611572266,40.4515495300293,40.46651077270508,40.4656867980957],\"legendgroup\":\"05 \\u00a0CHAMART\\u00cdN\",\"lon\":[-3.690812587738037,-3.6852924823760986,-3.6904494762420654,-3.682912588119507,-3.6787900924682617,-3.6795811653137207,-3.681699275970459,-3.6878511905670166,-3.6905410289764404,-3.689330577850342,-3.6847050189971924,-3.683734893798828,-3.6766176223754883,-3.6754913330078125,-3.6750917434692383,-3.678025245666504,-3.688685178756714,-3.6887874603271484],\"marker\":{\"color\":\"rgb(204, 80, 62)\",\"size\":[10382,6838,10269,6169,4458,5357,5353,17522,3932,15273,6108,5466,14040,5336,2941,2158,9929,1702],\"sizemode\":\"area\",\"sizeref\":65.1175},\"mode\":\"markers\",\"name\":\"05 \\u00a0CHAMART\\u00cdN\",\"showlegend\":true,\"subplot\":\"mapbox\",\"type\":\"scattermapbox\"},{\"hovertemplate\":\"Distrito_Salida=13 \\u00a0PUENTE DE VALLECAS<br>Count=%{marker.size}<br>Latitud_Salida=%{lat}<br>Longitud_Salida=%{lon}<extra></extra>\",\"lat\":[40.39793395996094],\"legendgroup\":\"13 \\u00a0PUENTE DE VALLECAS\",\"lon\":[-3.669060230255127],\"marker\":{\"color\":\"rgb(148, 52, 110)\",\"size\":[7535],\"sizemode\":\"area\",\"sizeref\":65.1175},\"mode\":\"markers\",\"name\":\"13 \\u00a0PUENTE DE VALLECAS\",\"showlegend\":true,\"subplot\":\"mapbox\",\"type\":\"scattermapbox\"},{\"hovertemplate\":\"Distrito_Salida=15 \\u00a0CIUDAD LINEAL<br>Count=%{marker.size}<br>Latitud_Salida=%{lat}<br>Longitud_Salida=%{lon}<extra></extra>\",\"lat\":[40.43116760253906,40.435020446777344,40.44340133666992,40.429691314697266],\"legendgroup\":\"15 \\u00a0CIUDAD LINEAL\",\"lon\":[-3.6589062213897705,-3.655543088912964,-3.6569597721099854,-3.640969753265381],\"marker\":{\"color\":\"rgb(111, 64, 112)\",\"size\":[2288,10878,2732,3822],\"sizemode\":\"area\",\"sizeref\":65.1175},\"mode\":\"markers\",\"name\":\"15 \\u00a0CIUDAD LINEAL\",\"showlegend\":true,\"subplot\":\"mapbox\",\"type\":\"scattermapbox\"},{\"hovertemplate\":\"Distrito_Salida=11 \\u00a0CARABANCHEL<br>Count=%{marker.size}<br>Latitud_Salida=%{lat}<br>Longitud_Salida=%{lon}<extra></extra>\",\"lat\":[40.39815902709961],\"legendgroup\":\"11 \\u00a0CARABANCHEL\",\"lon\":[-3.716531276702881],\"marker\":{\"color\":\"rgb(102, 102, 102)\",\"size\":[6226],\"sizemode\":\"area\",\"sizeref\":65.1175},\"mode\":\"markers\",\"name\":\"11 \\u00a0CARABANCHEL\",\"showlegend\":true,\"subplot\":\"mapbox\",\"type\":\"scattermapbox\"},{\"hovertemplate\":\"Distrito_Salida=12 \\u00a0USERA<br>Count=%{marker.size}<br>Latitud_Salida=%{lat}<br>Longitud_Salida=%{lon}<extra></extra>\",\"lat\":[40.38893508911133],\"legendgroup\":\"12 \\u00a0USERA\",\"lon\":[-3.700157403945923],\"marker\":{\"color\":\"rgb(95, 70, 144)\",\"size\":[8779],\"sizemode\":\"area\",\"sizeref\":65.1175},\"mode\":\"markers\",\"name\":\"12 \\u00a0USERA\",\"showlegend\":true,\"subplot\":\"mapbox\",\"type\":\"scattermapbox\"},{\"hovertemplate\":\"Distrito_Salida=10 \\u00a0LATINA<br>Count=%{marker.size}<br>Latitud_Salida=%{lat}<br>Longitud_Salida=%{lon}<extra></extra>\",\"lat\":[40.4140510559082],\"legendgroup\":\"10 \\u00a0LATINA\",\"lon\":[-3.7288947105407715],\"marker\":{\"color\":\"rgb(29, 105, 150)\",\"size\":[2761],\"sizemode\":\"area\",\"sizeref\":65.1175},\"mode\":\"markers\",\"name\":\"10 \\u00a0LATINA\",\"showlegend\":true,\"subplot\":\"mapbox\",\"type\":\"scattermapbox\"},{\"hovertemplate\":\"Distrito_Salida=08 \\u00a0FUENCARRAL-EL PARDO<br>Count=%{marker.size}<br>Latitud_Salida=%{lat}<br>Longitud_Salida=%{lon}<extra></extra>\",\"lat\":[40.48100280761719],\"legendgroup\":\"08 \\u00a0FUENCARRAL-EL PARDO\",\"lon\":[-3.6891093254089355],\"marker\":{\"color\":\"rgb(56, 166, 165)\",\"size\":[2655],\"sizemode\":\"area\",\"sizeref\":65.1175},\"mode\":\"markers\",\"name\":\"08 \\u00a0FUENCARRAL-EL PARDO\",\"showlegend\":true,\"subplot\":\"mapbox\",\"type\":\"scattermapbox\"},{\"hovertemplate\":\"Distrito_Salida=14 \\u00a0MORATALAZ<br>Count=%{marker.size}<br>Latitud_Salida=%{lat}<br>Longitud_Salida=%{lon}<extra></extra>\",\"lat\":[40.410552978515625,40.40839767456055],\"legendgroup\":\"14 \\u00a0MORATALAZ\",\"lon\":[-3.657399892807007,-3.6467783451080322],\"marker\":{\"color\":\"rgb(15, 133, 84)\",\"size\":[4642,5832],\"sizemode\":\"area\",\"sizeref\":65.1175},\"mode\":\"markers\",\"name\":\"14 \\u00a0MORATALAZ\",\"showlegend\":true,\"subplot\":\"mapbox\",\"type\":\"scattermapbox\"}],                        {\"template\":{\"data\":{\"histogram2dcontour\":[{\"type\":\"histogram2dcontour\",\"colorbar\":{\"outlinewidth\":0,\"ticks\":\"\"},\"colorscale\":[[0.0,\"#0d0887\"],[0.1111111111111111,\"#46039f\"],[0.2222222222222222,\"#7201a8\"],[0.3333333333333333,\"#9c179e\"],[0.4444444444444444,\"#bd3786\"],[0.5555555555555556,\"#d8576b\"],[0.6666666666666666,\"#ed7953\"],[0.7777777777777778,\"#fb9f3a\"],[0.8888888888888888,\"#fdca26\"],[1.0,\"#f0f921\"]]}],\"choropleth\":[{\"type\":\"choropleth\",\"colorbar\":{\"outlinewidth\":0,\"ticks\":\"\"}}],\"histogram2d\":[{\"type\":\"histogram2d\",\"colorbar\":{\"outlinewidth\":0,\"ticks\":\"\"},\"colorscale\":[[0.0,\"#0d0887\"],[0.1111111111111111,\"#46039f\"],[0.2222222222222222,\"#7201a8\"],[0.3333333333333333,\"#9c179e\"],[0.4444444444444444,\"#bd3786\"],[0.5555555555555556,\"#d8576b\"],[0.6666666666666666,\"#ed7953\"],[0.7777777777777778,\"#fb9f3a\"],[0.8888888888888888,\"#fdca26\"],[1.0,\"#f0f921\"]]}],\"heatmap\":[{\"type\":\"heatmap\",\"colorbar\":{\"outlinewidth\":0,\"ticks\":\"\"},\"colorscale\":[[0.0,\"#0d0887\"],[0.1111111111111111,\"#46039f\"],[0.2222222222222222,\"#7201a8\"],[0.3333333333333333,\"#9c179e\"],[0.4444444444444444,\"#bd3786\"],[0.5555555555555556,\"#d8576b\"],[0.6666666666666666,\"#ed7953\"],[0.7777777777777778,\"#fb9f3a\"],[0.8888888888888888,\"#fdca26\"],[1.0,\"#f0f921\"]]}],\"heatmapgl\":[{\"type\":\"heatmapgl\",\"colorbar\":{\"outlinewidth\":0,\"ticks\":\"\"},\"colorscale\":[[0.0,\"#0d0887\"],[0.1111111111111111,\"#46039f\"],[0.2222222222222222,\"#7201a8\"],[0.3333333333333333,\"#9c179e\"],[0.4444444444444444,\"#bd3786\"],[0.5555555555555556,\"#d8576b\"],[0.6666666666666666,\"#ed7953\"],[0.7777777777777778,\"#fb9f3a\"],[0.8888888888888888,\"#fdca26\"],[1.0,\"#f0f921\"]]}],\"contourcarpet\":[{\"type\":\"contourcarpet\",\"colorbar\":{\"outlinewidth\":0,\"ticks\":\"\"}}],\"contour\":[{\"type\":\"contour\",\"colorbar\":{\"outlinewidth\":0,\"ticks\":\"\"},\"colorscale\":[[0.0,\"#0d0887\"],[0.1111111111111111,\"#46039f\"],[0.2222222222222222,\"#7201a8\"],[0.3333333333333333,\"#9c179e\"],[0.4444444444444444,\"#bd3786\"],[0.5555555555555556,\"#d8576b\"],[0.6666666666666666,\"#ed7953\"],[0.7777777777777778,\"#fb9f3a\"],[0.8888888888888888,\"#fdca26\"],[1.0,\"#f0f921\"]]}],\"surface\":[{\"type\":\"surface\",\"colorbar\":{\"outlinewidth\":0,\"ticks\":\"\"},\"colorscale\":[[0.0,\"#0d0887\"],[0.1111111111111111,\"#46039f\"],[0.2222222222222222,\"#7201a8\"],[0.3333333333333333,\"#9c179e\"],[0.4444444444444444,\"#bd3786\"],[0.5555555555555556,\"#d8576b\"],[0.6666666666666666,\"#ed7953\"],[0.7777777777777778,\"#fb9f3a\"],[0.8888888888888888,\"#fdca26\"],[1.0,\"#f0f921\"]]}],\"mesh3d\":[{\"type\":\"mesh3d\",\"colorbar\":{\"outlinewidth\":0,\"ticks\":\"\"}}],\"scatter\":[{\"fillpattern\":{\"fillmode\":\"overlay\",\"size\":10,\"solidity\":0.2},\"type\":\"scatter\"}],\"parcoords\":[{\"type\":\"parcoords\",\"line\":{\"colorbar\":{\"outlinewidth\":0,\"ticks\":\"\"}}}],\"scatterpolargl\":[{\"type\":\"scatterpolargl\",\"marker\":{\"colorbar\":{\"outlinewidth\":0,\"ticks\":\"\"}}}],\"bar\":[{\"error_x\":{\"color\":\"#2a3f5f\"},\"error_y\":{\"color\":\"#2a3f5f\"},\"marker\":{\"line\":{\"color\":\"#E5ECF6\",\"width\":0.5},\"pattern\":{\"fillmode\":\"overlay\",\"size\":10,\"solidity\":0.2}},\"type\":\"bar\"}],\"scattergeo\":[{\"type\":\"scattergeo\",\"marker\":{\"colorbar\":{\"outlinewidth\":0,\"ticks\":\"\"}}}],\"scatterpolar\":[{\"type\":\"scatterpolar\",\"marker\":{\"colorbar\":{\"outlinewidth\":0,\"ticks\":\"\"}}}],\"histogram\":[{\"marker\":{\"pattern\":{\"fillmode\":\"overlay\",\"size\":10,\"solidity\":0.2}},\"type\":\"histogram\"}],\"scattergl\":[{\"type\":\"scattergl\",\"marker\":{\"colorbar\":{\"outlinewidth\":0,\"ticks\":\"\"}}}],\"scatter3d\":[{\"type\":\"scatter3d\",\"line\":{\"colorbar\":{\"outlinewidth\":0,\"ticks\":\"\"}},\"marker\":{\"colorbar\":{\"outlinewidth\":0,\"ticks\":\"\"}}}],\"scattermapbox\":[{\"type\":\"scattermapbox\",\"marker\":{\"colorbar\":{\"outlinewidth\":0,\"ticks\":\"\"}}}],\"scatterternary\":[{\"type\":\"scatterternary\",\"marker\":{\"colorbar\":{\"outlinewidth\":0,\"ticks\":\"\"}}}],\"scattercarpet\":[{\"type\":\"scattercarpet\",\"marker\":{\"colorbar\":{\"outlinewidth\":0,\"ticks\":\"\"}}}],\"carpet\":[{\"aaxis\":{\"endlinecolor\":\"#2a3f5f\",\"gridcolor\":\"white\",\"linecolor\":\"white\",\"minorgridcolor\":\"white\",\"startlinecolor\":\"#2a3f5f\"},\"baxis\":{\"endlinecolor\":\"#2a3f5f\",\"gridcolor\":\"white\",\"linecolor\":\"white\",\"minorgridcolor\":\"white\",\"startlinecolor\":\"#2a3f5f\"},\"type\":\"carpet\"}],\"table\":[{\"cells\":{\"fill\":{\"color\":\"#EBF0F8\"},\"line\":{\"color\":\"white\"}},\"header\":{\"fill\":{\"color\":\"#C8D4E3\"},\"line\":{\"color\":\"white\"}},\"type\":\"table\"}],\"barpolar\":[{\"marker\":{\"line\":{\"color\":\"#E5ECF6\",\"width\":0.5},\"pattern\":{\"fillmode\":\"overlay\",\"size\":10,\"solidity\":0.2}},\"type\":\"barpolar\"}],\"pie\":[{\"automargin\":true,\"type\":\"pie\"}]},\"layout\":{\"autotypenumbers\":\"strict\",\"colorway\":[\"#636efa\",\"#EF553B\",\"#00cc96\",\"#ab63fa\",\"#FFA15A\",\"#19d3f3\",\"#FF6692\",\"#B6E880\",\"#FF97FF\",\"#FECB52\"],\"font\":{\"color\":\"#2a3f5f\"},\"hovermode\":\"closest\",\"hoverlabel\":{\"align\":\"left\"},\"paper_bgcolor\":\"white\",\"plot_bgcolor\":\"#E5ECF6\",\"polar\":{\"bgcolor\":\"#E5ECF6\",\"angularaxis\":{\"gridcolor\":\"white\",\"linecolor\":\"white\",\"ticks\":\"\"},\"radialaxis\":{\"gridcolor\":\"white\",\"linecolor\":\"white\",\"ticks\":\"\"}},\"ternary\":{\"bgcolor\":\"#E5ECF6\",\"aaxis\":{\"gridcolor\":\"white\",\"linecolor\":\"white\",\"ticks\":\"\"},\"baxis\":{\"gridcolor\":\"white\",\"linecolor\":\"white\",\"ticks\":\"\"},\"caxis\":{\"gridcolor\":\"white\",\"linecolor\":\"white\",\"ticks\":\"\"}},\"coloraxis\":{\"colorbar\":{\"outlinewidth\":0,\"ticks\":\"\"}},\"colorscale\":{\"sequential\":[[0.0,\"#0d0887\"],[0.1111111111111111,\"#46039f\"],[0.2222222222222222,\"#7201a8\"],[0.3333333333333333,\"#9c179e\"],[0.4444444444444444,\"#bd3786\"],[0.5555555555555556,\"#d8576b\"],[0.6666666666666666,\"#ed7953\"],[0.7777777777777778,\"#fb9f3a\"],[0.8888888888888888,\"#fdca26\"],[1.0,\"#f0f921\"]],\"sequentialminus\":[[0.0,\"#0d0887\"],[0.1111111111111111,\"#46039f\"],[0.2222222222222222,\"#7201a8\"],[0.3333333333333333,\"#9c179e\"],[0.4444444444444444,\"#bd3786\"],[0.5555555555555556,\"#d8576b\"],[0.6666666666666666,\"#ed7953\"],[0.7777777777777778,\"#fb9f3a\"],[0.8888888888888888,\"#fdca26\"],[1.0,\"#f0f921\"]],\"diverging\":[[0,\"#8e0152\"],[0.1,\"#c51b7d\"],[0.2,\"#de77ae\"],[0.3,\"#f1b6da\"],[0.4,\"#fde0ef\"],[0.5,\"#f7f7f7\"],[0.6,\"#e6f5d0\"],[0.7,\"#b8e186\"],[0.8,\"#7fbc41\"],[0.9,\"#4d9221\"],[1,\"#276419\"]]},\"xaxis\":{\"gridcolor\":\"white\",\"linecolor\":\"white\",\"ticks\":\"\",\"title\":{\"standoff\":15},\"zerolinecolor\":\"white\",\"automargin\":true,\"zerolinewidth\":2},\"yaxis\":{\"gridcolor\":\"white\",\"linecolor\":\"white\",\"ticks\":\"\",\"title\":{\"standoff\":15},\"zerolinecolor\":\"white\",\"automargin\":true,\"zerolinewidth\":2},\"scene\":{\"xaxis\":{\"backgroundcolor\":\"#E5ECF6\",\"gridcolor\":\"white\",\"linecolor\":\"white\",\"showbackground\":true,\"ticks\":\"\",\"zerolinecolor\":\"white\",\"gridwidth\":2},\"yaxis\":{\"backgroundcolor\":\"#E5ECF6\",\"gridcolor\":\"white\",\"linecolor\":\"white\",\"showbackground\":true,\"ticks\":\"\",\"zerolinecolor\":\"white\",\"gridwidth\":2},\"zaxis\":{\"backgroundcolor\":\"#E5ECF6\",\"gridcolor\":\"white\",\"linecolor\":\"white\",\"showbackground\":true,\"ticks\":\"\",\"zerolinecolor\":\"white\",\"gridwidth\":2}},\"shapedefaults\":{\"line\":{\"color\":\"#2a3f5f\"}},\"annotationdefaults\":{\"arrowcolor\":\"#2a3f5f\",\"arrowhead\":0,\"arrowwidth\":1},\"geo\":{\"bgcolor\":\"white\",\"landcolor\":\"#E5ECF6\",\"subunitcolor\":\"white\",\"showland\":true,\"showlakes\":true,\"lakecolor\":\"white\"},\"title\":{\"x\":0.05},\"mapbox\":{\"style\":\"light\"}}},\"mapbox\":{\"domain\":{\"x\":[0.0,1.0],\"y\":[0.0,1.0]},\"center\":{\"lat\":40.435,\"lon\":-3.69},\"zoom\":12,\"bearing\":0,\"style\":\"carto-positron\"},\"legend\":{\"title\":{\"text\":\"Distrito_Salida\"},\"tracegroupgap\":0,\"itemsizing\":\"constant\"},\"margin\":{\"t\":60},\"height\":1000,\"width\":1000,\"hoverlabel\":{\"align\":\"right\"},\"title\":{\"text\":\"Bases BiciMad por Distrito\"},\"autosize\":true,\"showlegend\":true},                        {\"responsive\": true}                    ).then(function(){\n",
       "                            \n",
       "var gd = document.getElementById('7a837f84-247c-44af-b8d1-b803099393b4');\n",
       "var x = new MutationObserver(function (mutations, observer) {{\n",
       "        var display = window.getComputedStyle(gd).display;\n",
       "        if (!display || display === 'none') {{\n",
       "            console.log([gd, 'removed!']);\n",
       "            Plotly.purge(gd);\n",
       "            observer.disconnect();\n",
       "        }}\n",
       "}});\n",
       "\n",
       "// Listen for the removal of the full notebook cells\n",
       "var notebookContainer = gd.closest('#notebook-container');\n",
       "if (notebookContainer) {{\n",
       "    x.observe(notebookContainer, {childList: true});\n",
       "}}\n",
       "\n",
       "// Listen for the clearing of the current output cell\n",
       "var outputEl = gd.closest('.output');\n",
       "if (outputEl) {{\n",
       "    x.observe(outputEl, {childList: true});\n",
       "}}\n",
       "\n",
       "                        })                };                });            </script>        </div>"
      ]
     },
     "metadata": {},
     "output_type": "display_data"
    }
   ],
   "source": [
    "#bases['text'] = 'hola'\n",
    "#bases['text'] = 'Estación:<b>' + bases['Número'].astype(str) + '</b>.\\n Pertenece al barrio <b>' + bases['Barrio'] + ', ' + bases['Distrito'] + '</b>. Plazas: ' + bases['Número de Plazas'].astype(str)\n",
    "from matplotlib.colors import to_hex\n",
    "import seaborn as sns\n",
    "fig = px.scatter_mapbox(df, lat=\"Latitud_Salida\", lon=\"Longitud_Salida\",  color = \"Distrito_Salida\", size=df[\"Count\"], \n",
    "                        width = 1000, height = 900, zoom = 12, \n",
    "                        color_discrete_sequence=px.colors.qualitative.Prism, )\n",
    "                       #color_discrete_sequence=[to_hex(c) for c in sns.color_palette('colorblind', 15)])\n",
    "# fig.update_traces(hovertemplate=None)\n",
    "\n",
    "\n",
    "fig.update_layout(\n",
    "    title='Bases BiciMad por Distrito',\n",
    "    autosize=True,\n",
    "    showlegend=True,\n",
    "    width = 1000,\n",
    "    height = 1000,\n",
    "    mapbox=dict(\n",
    "        bearing=0,\n",
    "        center=dict(\n",
    "            lat=40.435,\n",
    "            lon=-3.69\n",
    "        ),\n",
    "        zoom=12,\n",
    "        style= 'carto-positron' # 'open-street-map'\n",
    "        \n",
    "    ),\n",
    "    hoverlabel_align = 'right'\n",
    ")\n",
    "fig.show()"
   ]
  },
  {
   "cell_type": "code",
   "execution_count": null,
   "metadata": {},
   "outputs": [],
   "source": []
  }
 ],
 "metadata": {
  "kernelspec": {
   "display_name": "Python 3 (ipykernel)",
   "language": "python",
   "name": "python3"
  },
  "language_info": {
   "codemirror_mode": {
    "name": "ipython",
    "version": 3
   },
   "file_extension": ".py",
   "mimetype": "text/x-python",
   "name": "python",
   "nbconvert_exporter": "python",
   "pygments_lexer": "ipython3",
   "version": "3.9.13"
  },
  "vscode": {
   "interpreter": {
    "hash": "9fef7a30f113eaa53eb8b5c309fb488b4423c5d8965bf87e9ef8b3198259acb6"
   }
  }
 },
 "nbformat": 4,
 "nbformat_minor": 2
}
