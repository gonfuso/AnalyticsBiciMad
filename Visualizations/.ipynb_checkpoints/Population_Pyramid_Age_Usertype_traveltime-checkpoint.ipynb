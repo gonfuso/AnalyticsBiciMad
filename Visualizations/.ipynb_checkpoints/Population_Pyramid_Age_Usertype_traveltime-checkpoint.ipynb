{
 "cells": [
  {
   "cell_type": "code",
   "execution_count": 1,
   "id": "a4538ad8",
   "metadata": {},
   "outputs": [],
   "source": [
    "import plotly.graph_objects as go\n",
    "from datetime import date, datetime, timedelta\n",
    "import pandas as pd"
   ]
  },
  {
   "cell_type": "code",
   "execution_count": 72,
   "id": "19b13357",
   "metadata": {},
   "outputs": [],
   "source": [
    "itinerarios_bases = pd.read_parquet('../Data/Itinerarios/itinerarios_bases.parquet')\n",
    "itinerarios_bases[\"unplug_hourTime\"] = pd.to_datetime(itinerarios_bases[\"unplug_hourTime\"])\n",
    "itinerarios_bases = itinerarios_bases[itinerarios_bases[\"unplug_hourTime\"].dt.tz_localize(None)>pd.to_datetime(\"20190801\")]"
   ]
  },
  {
   "cell_type": "code",
   "execution_count": 73,
   "id": "7b9d48cd",
   "metadata": {},
   "outputs": [
    {
     "data": {
      "text/html": [
       "<div>\n",
       "<style scoped>\n",
       "    .dataframe tbody tr th:only-of-type {\n",
       "        vertical-align: middle;\n",
       "    }\n",
       "\n",
       "    .dataframe tbody tr th {\n",
       "        vertical-align: top;\n",
       "    }\n",
       "\n",
       "    .dataframe thead th {\n",
       "        text-align: right;\n",
       "    }\n",
       "</style>\n",
       "<table border=\"1\" class=\"dataframe\">\n",
       "  <thead>\n",
       "    <tr style=\"text-align: right;\">\n",
       "      <th></th>\n",
       "      <th>idplug_base</th>\n",
       "      <th>user_type</th>\n",
       "      <th>idunplug_base</th>\n",
       "      <th>travel_time</th>\n",
       "      <th>idunplug_station</th>\n",
       "      <th>ageRange</th>\n",
       "      <th>idplug_station</th>\n",
       "      <th>unplug_hourTime</th>\n",
       "      <th>zip_code</th>\n",
       "      <th>return_date</th>\n",
       "      <th>...</th>\n",
       "      <th>Barrio_Salida</th>\n",
       "      <th>Número de Plazas_Salida</th>\n",
       "      <th>Latitud_Salida</th>\n",
       "      <th>Longitud_Salida</th>\n",
       "      <th>Número_Llegada</th>\n",
       "      <th>Distrito_Llegada</th>\n",
       "      <th>Barrio_Llegada</th>\n",
       "      <th>Número de Plazas_Llegada</th>\n",
       "      <th>Latitud_Llegada</th>\n",
       "      <th>Longitud_Llegada</th>\n",
       "    </tr>\n",
       "  </thead>\n",
       "  <tbody>\n",
       "    <tr>\n",
       "      <th>131987</th>\n",
       "      <td>2</td>\n",
       "      <td>1</td>\n",
       "      <td>20</td>\n",
       "      <td>328</td>\n",
       "      <td>3</td>\n",
       "      <td>Indeterminado</td>\n",
       "      <td>43</td>\n",
       "      <td>2019-08-01 01:00:00+00:00</td>\n",
       "      <td>nan</td>\n",
       "      <td>2019-08-01 06:28:00.000019200+00:00</td>\n",
       "      <td>...</td>\n",
       "      <td>07-02 ARAPILES</td>\n",
       "      <td>18.0</td>\n",
       "      <td>40.430321</td>\n",
       "      <td>-3.707212</td>\n",
       "      <td>43</td>\n",
       "      <td>01  CENTRO</td>\n",
       "      <td>01-02 EMBAJADORES</td>\n",
       "      <td>24.0</td>\n",
       "      <td>40.410088</td>\n",
       "      <td>-3.702545</td>\n",
       "    </tr>\n",
       "    <tr>\n",
       "      <th>131988</th>\n",
       "      <td>10</td>\n",
       "      <td>1</td>\n",
       "      <td>23</td>\n",
       "      <td>263</td>\n",
       "      <td>55</td>\n",
       "      <td>Indeterminado</td>\n",
       "      <td>133</td>\n",
       "      <td>2019-08-01 01:00:00+00:00</td>\n",
       "      <td>nan</td>\n",
       "      <td>2019-08-01 05:23:00.000009600+00:00</td>\n",
       "      <td>...</td>\n",
       "      <td>01-05 UNIVERSIDAD</td>\n",
       "      <td>24.0</td>\n",
       "      <td>40.424072</td>\n",
       "      <td>-3.701930</td>\n",
       "      <td>133</td>\n",
       "      <td>06  TETUÁN</td>\n",
       "      <td>06-02 CUATRO CAMINOS</td>\n",
       "      <td>24.0</td>\n",
       "      <td>40.447166</td>\n",
       "      <td>-3.700029</td>\n",
       "    </tr>\n",
       "    <tr>\n",
       "      <th>131989</th>\n",
       "      <td>5</td>\n",
       "      <td>1</td>\n",
       "      <td>7</td>\n",
       "      <td>446</td>\n",
       "      <td>16</td>\n",
       "      <td>Indeterminado</td>\n",
       "      <td>60</td>\n",
       "      <td>2019-08-01 01:00:00+00:00</td>\n",
       "      <td>nan</td>\n",
       "      <td>2019-08-01 08:25:59.999980800+00:00</td>\n",
       "      <td>...</td>\n",
       "      <td>01-05 UNIVERSIDAD</td>\n",
       "      <td>21.0</td>\n",
       "      <td>40.422943</td>\n",
       "      <td>-3.707495</td>\n",
       "      <td>60</td>\n",
       "      <td>03  RETIRO</td>\n",
       "      <td>03-05 JERÓNIMOS</td>\n",
       "      <td>24.0</td>\n",
       "      <td>40.419453</td>\n",
       "      <td>-3.688199</td>\n",
       "    </tr>\n",
       "    <tr>\n",
       "      <th>131990</th>\n",
       "      <td>22</td>\n",
       "      <td>1</td>\n",
       "      <td>20</td>\n",
       "      <td>245</td>\n",
       "      <td>29</td>\n",
       "      <td>27-40</td>\n",
       "      <td>33</td>\n",
       "      <td>2019-08-01 01:00:00+00:00</td>\n",
       "      <td>28014</td>\n",
       "      <td>2019-08-01 05:05:00.000009599+00:00</td>\n",
       "      <td>...</td>\n",
       "      <td>01-03 CORTES</td>\n",
       "      <td>24.0</td>\n",
       "      <td>40.416245</td>\n",
       "      <td>-3.695801</td>\n",
       "      <td>33</td>\n",
       "      <td>01  CENTRO</td>\n",
       "      <td>01-06 SOL</td>\n",
       "      <td>21.0</td>\n",
       "      <td>40.416477</td>\n",
       "      <td>-3.703210</td>\n",
       "    </tr>\n",
       "    <tr>\n",
       "      <th>131991</th>\n",
       "      <td>22</td>\n",
       "      <td>1</td>\n",
       "      <td>15</td>\n",
       "      <td>297</td>\n",
       "      <td>4</td>\n",
       "      <td>Indeterminado</td>\n",
       "      <td>163</td>\n",
       "      <td>2019-08-01 01:00:00+00:00</td>\n",
       "      <td>nan</td>\n",
       "      <td>2019-08-01 05:57:00+00:00</td>\n",
       "      <td>...</td>\n",
       "      <td>01-05 UNIVERSIDAD</td>\n",
       "      <td>24.0</td>\n",
       "      <td>40.428589</td>\n",
       "      <td>-3.702674</td>\n",
       "      <td>163</td>\n",
       "      <td>02  ARGANZUELA</td>\n",
       "      <td>02-02 ACACIAS</td>\n",
       "      <td>21.0</td>\n",
       "      <td>40.403633</td>\n",
       "      <td>-3.706437</td>\n",
       "    </tr>\n",
       "    <tr>\n",
       "      <th>...</th>\n",
       "      <td>...</td>\n",
       "      <td>...</td>\n",
       "      <td>...</td>\n",
       "      <td>...</td>\n",
       "      <td>...</td>\n",
       "      <td>...</td>\n",
       "      <td>...</td>\n",
       "      <td>...</td>\n",
       "      <td>...</td>\n",
       "      <td>...</td>\n",
       "      <td>...</td>\n",
       "      <td>...</td>\n",
       "      <td>...</td>\n",
       "      <td>...</td>\n",
       "      <td>...</td>\n",
       "      <td>...</td>\n",
       "      <td>...</td>\n",
       "      <td>...</td>\n",
       "      <td>...</td>\n",
       "      <td>...</td>\n",
       "      <td>...</td>\n",
       "    </tr>\n",
       "    <tr>\n",
       "      <th>1796825</th>\n",
       "      <td>17</td>\n",
       "      <td>1</td>\n",
       "      <td>24</td>\n",
       "      <td>1433</td>\n",
       "      <td>204</td>\n",
       "      <td>27-40</td>\n",
       "      <td>180</td>\n",
       "      <td>2019-12-31 23:00:00+00:00</td>\n",
       "      <td>28045</td>\n",
       "      <td>2020-01-01 22:53:00.000009600+00:00</td>\n",
       "      <td>...</td>\n",
       "      <td>06-01 BELLAS VISTAS</td>\n",
       "      <td>24.0</td>\n",
       "      <td>40.447662</td>\n",
       "      <td>-3.704170</td>\n",
       "      <td>180</td>\n",
       "      <td>02  ARGANZUELA</td>\n",
       "      <td>02-07 ATOCHA</td>\n",
       "      <td>24.0</td>\n",
       "      <td>40.394127</td>\n",
       "      <td>-3.675924</td>\n",
       "    </tr>\n",
       "    <tr>\n",
       "      <th>1796826</th>\n",
       "      <td>1</td>\n",
       "      <td>1</td>\n",
       "      <td>8</td>\n",
       "      <td>2727</td>\n",
       "      <td>4</td>\n",
       "      <td>Indeterminado</td>\n",
       "      <td>99</td>\n",
       "      <td>2019-12-31 23:00:00+00:00</td>\n",
       "      <td>nan</td>\n",
       "      <td>2020-01-02 20:27:00+00:00</td>\n",
       "      <td>...</td>\n",
       "      <td>01-05 UNIVERSIDAD</td>\n",
       "      <td>24.0</td>\n",
       "      <td>40.428589</td>\n",
       "      <td>-3.702674</td>\n",
       "      <td>99</td>\n",
       "      <td>04  SALAMANCA</td>\n",
       "      <td>04-02 GOYA</td>\n",
       "      <td>24.0</td>\n",
       "      <td>40.426105</td>\n",
       "      <td>-3.673964</td>\n",
       "    </tr>\n",
       "    <tr>\n",
       "      <th>1796827</th>\n",
       "      <td>6</td>\n",
       "      <td>1</td>\n",
       "      <td>9</td>\n",
       "      <td>898</td>\n",
       "      <td>77</td>\n",
       "      <td>27-40</td>\n",
       "      <td>174</td>\n",
       "      <td>2019-12-31 23:00:00+00:00</td>\n",
       "      <td>28012</td>\n",
       "      <td>2020-01-01 13:57:59.999990400+00:00</td>\n",
       "      <td>...</td>\n",
       "      <td>03-01 PACÍFICO</td>\n",
       "      <td>22.0</td>\n",
       "      <td>40.406334</td>\n",
       "      <td>-3.670774</td>\n",
       "      <td>174</td>\n",
       "      <td>02  ARGANZUELA</td>\n",
       "      <td>02-02 ACACIAS</td>\n",
       "      <td>27.0</td>\n",
       "      <td>40.397415</td>\n",
       "      <td>-3.706377</td>\n",
       "    </tr>\n",
       "    <tr>\n",
       "      <th>1796828</th>\n",
       "      <td>24</td>\n",
       "      <td>1</td>\n",
       "      <td>18</td>\n",
       "      <td>15890</td>\n",
       "      <td>216</td>\n",
       "      <td>27-40</td>\n",
       "      <td>216</td>\n",
       "      <td>2019-12-31 23:00:00+00:00</td>\n",
       "      <td>28005</td>\n",
       "      <td>2020-01-11 23:49:59.999980799+00:00</td>\n",
       "      <td>...</td>\n",
       "      <td>10-02 PUERTA DEL ÁNGEL</td>\n",
       "      <td>24.0</td>\n",
       "      <td>40.414051</td>\n",
       "      <td>-3.728895</td>\n",
       "      <td>216</td>\n",
       "      <td>10  LATINA</td>\n",
       "      <td>10-02 PUERTA DEL ÁNGEL</td>\n",
       "      <td>24.0</td>\n",
       "      <td>40.414051</td>\n",
       "      <td>-3.728895</td>\n",
       "    </tr>\n",
       "    <tr>\n",
       "      <th>1796829</th>\n",
       "      <td>17</td>\n",
       "      <td>1</td>\n",
       "      <td>24</td>\n",
       "      <td>452</td>\n",
       "      <td>170</td>\n",
       "      <td>Indeterminado</td>\n",
       "      <td>208</td>\n",
       "      <td>2019-12-31 23:00:00+00:00</td>\n",
       "      <td>nan</td>\n",
       "      <td>2020-01-01 06:32:00.000009600+00:00</td>\n",
       "      <td>...</td>\n",
       "      <td>02-02 ACACIAS</td>\n",
       "      <td>24.0</td>\n",
       "      <td>40.401104</td>\n",
       "      <td>-3.704403</td>\n",
       "      <td>208</td>\n",
       "      <td>05  CHAMARTÍN</td>\n",
       "      <td>05-06 CASTILLA</td>\n",
       "      <td>24.0</td>\n",
       "      <td>40.466511</td>\n",
       "      <td>-3.688685</td>\n",
       "    </tr>\n",
       "  </tbody>\n",
       "</table>\n",
       "<p>1664843 rows × 24 columns</p>\n",
       "</div>"
      ],
      "text/plain": [
       "         idplug_base  user_type  idunplug_base  travel_time  idunplug_station  \\\n",
       "131987             2          1             20          328                 3   \n",
       "131988            10          1             23          263                55   \n",
       "131989             5          1              7          446                16   \n",
       "131990            22          1             20          245                29   \n",
       "131991            22          1             15          297                 4   \n",
       "...              ...        ...            ...          ...               ...   \n",
       "1796825           17          1             24         1433               204   \n",
       "1796826            1          1              8         2727                 4   \n",
       "1796827            6          1              9          898                77   \n",
       "1796828           24          1             18        15890               216   \n",
       "1796829           17          1             24          452               170   \n",
       "\n",
       "              ageRange  idplug_station           unplug_hourTime zip_code  \\\n",
       "131987   Indeterminado              43 2019-08-01 01:00:00+00:00      nan   \n",
       "131988   Indeterminado             133 2019-08-01 01:00:00+00:00      nan   \n",
       "131989   Indeterminado              60 2019-08-01 01:00:00+00:00      nan   \n",
       "131990           27-40              33 2019-08-01 01:00:00+00:00    28014   \n",
       "131991   Indeterminado             163 2019-08-01 01:00:00+00:00      nan   \n",
       "...                ...             ...                       ...      ...   \n",
       "1796825          27-40             180 2019-12-31 23:00:00+00:00    28045   \n",
       "1796826  Indeterminado              99 2019-12-31 23:00:00+00:00      nan   \n",
       "1796827          27-40             174 2019-12-31 23:00:00+00:00    28012   \n",
       "1796828          27-40             216 2019-12-31 23:00:00+00:00    28005   \n",
       "1796829  Indeterminado             208 2019-12-31 23:00:00+00:00      nan   \n",
       "\n",
       "                                 return_date  ...           Barrio_Salida  \\\n",
       "131987   2019-08-01 06:28:00.000019200+00:00  ...          07-02 ARAPILES   \n",
       "131988   2019-08-01 05:23:00.000009600+00:00  ...       01-05 UNIVERSIDAD   \n",
       "131989   2019-08-01 08:25:59.999980800+00:00  ...       01-05 UNIVERSIDAD   \n",
       "131990   2019-08-01 05:05:00.000009599+00:00  ...            01-03 CORTES   \n",
       "131991             2019-08-01 05:57:00+00:00  ...       01-05 UNIVERSIDAD   \n",
       "...                                      ...  ...                     ...   \n",
       "1796825  2020-01-01 22:53:00.000009600+00:00  ...     06-01 BELLAS VISTAS   \n",
       "1796826            2020-01-02 20:27:00+00:00  ...       01-05 UNIVERSIDAD   \n",
       "1796827  2020-01-01 13:57:59.999990400+00:00  ...          03-01 PACÍFICO   \n",
       "1796828  2020-01-11 23:49:59.999980799+00:00  ...  10-02 PUERTA DEL ÁNGEL   \n",
       "1796829  2020-01-01 06:32:00.000009600+00:00  ...           02-02 ACACIAS   \n",
       "\n",
       "        Número de Plazas_Salida  Latitud_Salida Longitud_Salida  \\\n",
       "131987                     18.0       40.430321       -3.707212   \n",
       "131988                     24.0       40.424072       -3.701930   \n",
       "131989                     21.0       40.422943       -3.707495   \n",
       "131990                     24.0       40.416245       -3.695801   \n",
       "131991                     24.0       40.428589       -3.702674   \n",
       "...                         ...             ...             ...   \n",
       "1796825                    24.0       40.447662       -3.704170   \n",
       "1796826                    24.0       40.428589       -3.702674   \n",
       "1796827                    22.0       40.406334       -3.670774   \n",
       "1796828                    24.0       40.414051       -3.728895   \n",
       "1796829                    24.0       40.401104       -3.704403   \n",
       "\n",
       "        Número_Llegada  Distrito_Llegada          Barrio_Llegada  \\\n",
       "131987              43        01  CENTRO       01-02 EMBAJADORES   \n",
       "131988             133        06  TETUÁN    06-02 CUATRO CAMINOS   \n",
       "131989              60        03  RETIRO         03-05 JERÓNIMOS   \n",
       "131990              33        01  CENTRO               01-06 SOL   \n",
       "131991             163    02  ARGANZUELA           02-02 ACACIAS   \n",
       "...                ...               ...                     ...   \n",
       "1796825            180    02  ARGANZUELA            02-07 ATOCHA   \n",
       "1796826             99     04  SALAMANCA              04-02 GOYA   \n",
       "1796827            174    02  ARGANZUELA           02-02 ACACIAS   \n",
       "1796828            216        10  LATINA  10-02 PUERTA DEL ÁNGEL   \n",
       "1796829            208     05  CHAMARTÍN          05-06 CASTILLA   \n",
       "\n",
       "         Número de Plazas_Llegada  Latitud_Llegada Longitud_Llegada  \n",
       "131987                       24.0        40.410088        -3.702545  \n",
       "131988                       24.0        40.447166        -3.700029  \n",
       "131989                       24.0        40.419453        -3.688199  \n",
       "131990                       21.0        40.416477        -3.703210  \n",
       "131991                       21.0        40.403633        -3.706437  \n",
       "...                           ...              ...              ...  \n",
       "1796825                      24.0        40.394127        -3.675924  \n",
       "1796826                      24.0        40.426105        -3.673964  \n",
       "1796827                      27.0        40.397415        -3.706377  \n",
       "1796828                      24.0        40.414051        -3.728895  \n",
       "1796829                      24.0        40.466511        -3.688685  \n",
       "\n",
       "[1664843 rows x 24 columns]"
      ]
     },
     "execution_count": 73,
     "metadata": {},
     "output_type": "execute_result"
    }
   ],
   "source": [
    "itinerarios_bases[\"ageRange\"] = itinerarios_bases[\"ageRange\"].replace([0,1,2,3,4,5,6],[\"Indeterminado\",\"0-16\",\"17-18\", \"19-26\", \"27-40\", \"41-65\", \"66+\"])\n",
    "itinerarios_bases"
   ]
  },
  {
   "cell_type": "code",
   "execution_count": 74,
   "id": "8421860b",
   "metadata": {},
   "outputs": [],
   "source": [
    "ageRange_1 = itinerarios_bases[itinerarios_bases[\"user_type\"] == 1].groupby(\"ageRange\").size().reset_index(name='Count')\n",
    "ageRange_2 = itinerarios_bases[itinerarios_bases[\"user_type\"] == 2].groupby(\"ageRange\").size().reset_index(name='Count')"
   ]
  },
  {
   "cell_type": "code",
   "execution_count": 75,
   "id": "d4d819b7",
   "metadata": {},
   "outputs": [],
   "source": [
    "ageRange_1 = itinerarios_bases[itinerarios_bases[\"user_type\"] == 1].groupby(\"ageRange\").agg({\"travel_time\":\"mean\"})\n",
    "ageRange_2 = itinerarios_bases[itinerarios_bases[\"user_type\"] == 2].groupby(\"ageRange\").agg({\"travel_time\":\"mean\"})"
   ]
  },
  {
   "cell_type": "code",
   "execution_count": 76,
   "id": "fa3f2f3e",
   "metadata": {},
   "outputs": [
    {
     "data": {
      "text/html": [
       "<div>\n",
       "<style scoped>\n",
       "    .dataframe tbody tr th:only-of-type {\n",
       "        vertical-align: middle;\n",
       "    }\n",
       "\n",
       "    .dataframe tbody tr th {\n",
       "        vertical-align: top;\n",
       "    }\n",
       "\n",
       "    .dataframe thead th {\n",
       "        text-align: right;\n",
       "    }\n",
       "</style>\n",
       "<table border=\"1\" class=\"dataframe\">\n",
       "  <thead>\n",
       "    <tr style=\"text-align: right;\">\n",
       "      <th></th>\n",
       "      <th>travel_time</th>\n",
       "    </tr>\n",
       "    <tr>\n",
       "      <th>ageRange</th>\n",
       "      <th></th>\n",
       "    </tr>\n",
       "  </thead>\n",
       "  <tbody>\n",
       "    <tr>\n",
       "      <th>0-16</th>\n",
       "      <td>2024.500000</td>\n",
       "    </tr>\n",
       "    <tr>\n",
       "      <th>17-18</th>\n",
       "      <td>2689.000000</td>\n",
       "    </tr>\n",
       "    <tr>\n",
       "      <th>19-26</th>\n",
       "      <td>2374.475000</td>\n",
       "    </tr>\n",
       "    <tr>\n",
       "      <th>27-40</th>\n",
       "      <td>1825.108614</td>\n",
       "    </tr>\n",
       "    <tr>\n",
       "      <th>41-65</th>\n",
       "      <td>1769.452991</td>\n",
       "    </tr>\n",
       "    <tr>\n",
       "      <th>66+</th>\n",
       "      <td>15436.000000</td>\n",
       "    </tr>\n",
       "    <tr>\n",
       "      <th>Indeterminado</th>\n",
       "      <td>2390.996792</td>\n",
       "    </tr>\n",
       "  </tbody>\n",
       "</table>\n",
       "</div>"
      ],
      "text/plain": [
       "                travel_time\n",
       "ageRange                   \n",
       "0-16            2024.500000\n",
       "17-18           2689.000000\n",
       "19-26           2374.475000\n",
       "27-40           1825.108614\n",
       "41-65           1769.452991\n",
       "66+            15436.000000\n",
       "Indeterminado   2390.996792"
      ]
     },
     "execution_count": 76,
     "metadata": {},
     "output_type": "execute_result"
    }
   ],
   "source": [
    "ageRange_2"
   ]
  },
  {
   "cell_type": "code",
   "execution_count": 77,
   "id": "34b59cf0",
   "metadata": {},
   "outputs": [
    {
     "data": {
      "application/vnd.plotly.v1+json": {
       "config": {
        "plotlyServerURL": "https://plot.ly"
       },
       "data": [
        {
         "marker": {
          "color": "#18bc9c"
         },
         "name": "Usuarios Anuales",
         "orientation": "h",
         "type": "bar",
         "x": [
          867.2929616087752,
          841.6017877739331,
          883.8445634446713,
          828.445236599713,
          873.5058947465754,
          1140.0983498349835,
          961.2924165278231
         ],
         "y": [
          "0-16",
          "17-18",
          "19-26",
          "27-40",
          "41-65",
          "66+",
          "Indeterminado"
         ]
        },
        {
         "marker": {
          "color": "#395B64"
         },
         "name": "Usuarios Ocasionales",
         "orientation": "h",
         "type": "bar",
         "x": [
          -2024.5,
          -2689,
          -2374.475,
          -1825.1086142322097,
          -1769.4529914529915,
          -15436,
          -2390.9967917630383
         ],
         "y": [
          "0-16",
          "17-18",
          "19-26",
          "27-40",
          "41-65",
          "66+",
          "Indeterminado"
         ]
        }
       ],
       "layout": {
        "bargap": 0,
        "bargroupgap": 0,
        "barmode": "relative",
        "plot_bgcolor": "rgba(0,0,0,0)",
        "template": {
         "data": {
          "bar": [
           {
            "error_x": {
             "color": "#2a3f5f"
            },
            "error_y": {
             "color": "#2a3f5f"
            },
            "marker": {
             "line": {
              "color": "#E5ECF6",
              "width": 0.5
             },
             "pattern": {
              "fillmode": "overlay",
              "size": 10,
              "solidity": 0.2
             }
            },
            "type": "bar"
           }
          ],
          "barpolar": [
           {
            "marker": {
             "line": {
              "color": "#E5ECF6",
              "width": 0.5
             },
             "pattern": {
              "fillmode": "overlay",
              "size": 10,
              "solidity": 0.2
             }
            },
            "type": "barpolar"
           }
          ],
          "carpet": [
           {
            "aaxis": {
             "endlinecolor": "#2a3f5f",
             "gridcolor": "white",
             "linecolor": "white",
             "minorgridcolor": "white",
             "startlinecolor": "#2a3f5f"
            },
            "baxis": {
             "endlinecolor": "#2a3f5f",
             "gridcolor": "white",
             "linecolor": "white",
             "minorgridcolor": "white",
             "startlinecolor": "#2a3f5f"
            },
            "type": "carpet"
           }
          ],
          "choropleth": [
           {
            "colorbar": {
             "outlinewidth": 0,
             "ticks": ""
            },
            "type": "choropleth"
           }
          ],
          "contour": [
           {
            "colorbar": {
             "outlinewidth": 0,
             "ticks": ""
            },
            "colorscale": [
             [
              0,
              "#0d0887"
             ],
             [
              0.1111111111111111,
              "#46039f"
             ],
             [
              0.2222222222222222,
              "#7201a8"
             ],
             [
              0.3333333333333333,
              "#9c179e"
             ],
             [
              0.4444444444444444,
              "#bd3786"
             ],
             [
              0.5555555555555556,
              "#d8576b"
             ],
             [
              0.6666666666666666,
              "#ed7953"
             ],
             [
              0.7777777777777778,
              "#fb9f3a"
             ],
             [
              0.8888888888888888,
              "#fdca26"
             ],
             [
              1,
              "#f0f921"
             ]
            ],
            "type": "contour"
           }
          ],
          "contourcarpet": [
           {
            "colorbar": {
             "outlinewidth": 0,
             "ticks": ""
            },
            "type": "contourcarpet"
           }
          ],
          "heatmap": [
           {
            "colorbar": {
             "outlinewidth": 0,
             "ticks": ""
            },
            "colorscale": [
             [
              0,
              "#0d0887"
             ],
             [
              0.1111111111111111,
              "#46039f"
             ],
             [
              0.2222222222222222,
              "#7201a8"
             ],
             [
              0.3333333333333333,
              "#9c179e"
             ],
             [
              0.4444444444444444,
              "#bd3786"
             ],
             [
              0.5555555555555556,
              "#d8576b"
             ],
             [
              0.6666666666666666,
              "#ed7953"
             ],
             [
              0.7777777777777778,
              "#fb9f3a"
             ],
             [
              0.8888888888888888,
              "#fdca26"
             ],
             [
              1,
              "#f0f921"
             ]
            ],
            "type": "heatmap"
           }
          ],
          "heatmapgl": [
           {
            "colorbar": {
             "outlinewidth": 0,
             "ticks": ""
            },
            "colorscale": [
             [
              0,
              "#0d0887"
             ],
             [
              0.1111111111111111,
              "#46039f"
             ],
             [
              0.2222222222222222,
              "#7201a8"
             ],
             [
              0.3333333333333333,
              "#9c179e"
             ],
             [
              0.4444444444444444,
              "#bd3786"
             ],
             [
              0.5555555555555556,
              "#d8576b"
             ],
             [
              0.6666666666666666,
              "#ed7953"
             ],
             [
              0.7777777777777778,
              "#fb9f3a"
             ],
             [
              0.8888888888888888,
              "#fdca26"
             ],
             [
              1,
              "#f0f921"
             ]
            ],
            "type": "heatmapgl"
           }
          ],
          "histogram": [
           {
            "marker": {
             "pattern": {
              "fillmode": "overlay",
              "size": 10,
              "solidity": 0.2
             }
            },
            "type": "histogram"
           }
          ],
          "histogram2d": [
           {
            "colorbar": {
             "outlinewidth": 0,
             "ticks": ""
            },
            "colorscale": [
             [
              0,
              "#0d0887"
             ],
             [
              0.1111111111111111,
              "#46039f"
             ],
             [
              0.2222222222222222,
              "#7201a8"
             ],
             [
              0.3333333333333333,
              "#9c179e"
             ],
             [
              0.4444444444444444,
              "#bd3786"
             ],
             [
              0.5555555555555556,
              "#d8576b"
             ],
             [
              0.6666666666666666,
              "#ed7953"
             ],
             [
              0.7777777777777778,
              "#fb9f3a"
             ],
             [
              0.8888888888888888,
              "#fdca26"
             ],
             [
              1,
              "#f0f921"
             ]
            ],
            "type": "histogram2d"
           }
          ],
          "histogram2dcontour": [
           {
            "colorbar": {
             "outlinewidth": 0,
             "ticks": ""
            },
            "colorscale": [
             [
              0,
              "#0d0887"
             ],
             [
              0.1111111111111111,
              "#46039f"
             ],
             [
              0.2222222222222222,
              "#7201a8"
             ],
             [
              0.3333333333333333,
              "#9c179e"
             ],
             [
              0.4444444444444444,
              "#bd3786"
             ],
             [
              0.5555555555555556,
              "#d8576b"
             ],
             [
              0.6666666666666666,
              "#ed7953"
             ],
             [
              0.7777777777777778,
              "#fb9f3a"
             ],
             [
              0.8888888888888888,
              "#fdca26"
             ],
             [
              1,
              "#f0f921"
             ]
            ],
            "type": "histogram2dcontour"
           }
          ],
          "mesh3d": [
           {
            "colorbar": {
             "outlinewidth": 0,
             "ticks": ""
            },
            "type": "mesh3d"
           }
          ],
          "parcoords": [
           {
            "line": {
             "colorbar": {
              "outlinewidth": 0,
              "ticks": ""
             }
            },
            "type": "parcoords"
           }
          ],
          "pie": [
           {
            "automargin": true,
            "type": "pie"
           }
          ],
          "scatter": [
           {
            "fillpattern": {
             "fillmode": "overlay",
             "size": 10,
             "solidity": 0.2
            },
            "type": "scatter"
           }
          ],
          "scatter3d": [
           {
            "line": {
             "colorbar": {
              "outlinewidth": 0,
              "ticks": ""
             }
            },
            "marker": {
             "colorbar": {
              "outlinewidth": 0,
              "ticks": ""
             }
            },
            "type": "scatter3d"
           }
          ],
          "scattercarpet": [
           {
            "marker": {
             "colorbar": {
              "outlinewidth": 0,
              "ticks": ""
             }
            },
            "type": "scattercarpet"
           }
          ],
          "scattergeo": [
           {
            "marker": {
             "colorbar": {
              "outlinewidth": 0,
              "ticks": ""
             }
            },
            "type": "scattergeo"
           }
          ],
          "scattergl": [
           {
            "marker": {
             "colorbar": {
              "outlinewidth": 0,
              "ticks": ""
             }
            },
            "type": "scattergl"
           }
          ],
          "scattermapbox": [
           {
            "marker": {
             "colorbar": {
              "outlinewidth": 0,
              "ticks": ""
             }
            },
            "type": "scattermapbox"
           }
          ],
          "scatterpolar": [
           {
            "marker": {
             "colorbar": {
              "outlinewidth": 0,
              "ticks": ""
             }
            },
            "type": "scatterpolar"
           }
          ],
          "scatterpolargl": [
           {
            "marker": {
             "colorbar": {
              "outlinewidth": 0,
              "ticks": ""
             }
            },
            "type": "scatterpolargl"
           }
          ],
          "scatterternary": [
           {
            "marker": {
             "colorbar": {
              "outlinewidth": 0,
              "ticks": ""
             }
            },
            "type": "scatterternary"
           }
          ],
          "surface": [
           {
            "colorbar": {
             "outlinewidth": 0,
             "ticks": ""
            },
            "colorscale": [
             [
              0,
              "#0d0887"
             ],
             [
              0.1111111111111111,
              "#46039f"
             ],
             [
              0.2222222222222222,
              "#7201a8"
             ],
             [
              0.3333333333333333,
              "#9c179e"
             ],
             [
              0.4444444444444444,
              "#bd3786"
             ],
             [
              0.5555555555555556,
              "#d8576b"
             ],
             [
              0.6666666666666666,
              "#ed7953"
             ],
             [
              0.7777777777777778,
              "#fb9f3a"
             ],
             [
              0.8888888888888888,
              "#fdca26"
             ],
             [
              1,
              "#f0f921"
             ]
            ],
            "type": "surface"
           }
          ],
          "table": [
           {
            "cells": {
             "fill": {
              "color": "#EBF0F8"
             },
             "line": {
              "color": "white"
             }
            },
            "header": {
             "fill": {
              "color": "#C8D4E3"
             },
             "line": {
              "color": "white"
             }
            },
            "type": "table"
           }
          ]
         },
         "layout": {
          "annotationdefaults": {
           "arrowcolor": "#2a3f5f",
           "arrowhead": 0,
           "arrowwidth": 1
          },
          "autotypenumbers": "strict",
          "coloraxis": {
           "colorbar": {
            "outlinewidth": 0,
            "ticks": ""
           }
          },
          "colorscale": {
           "diverging": [
            [
             0,
             "#8e0152"
            ],
            [
             0.1,
             "#c51b7d"
            ],
            [
             0.2,
             "#de77ae"
            ],
            [
             0.3,
             "#f1b6da"
            ],
            [
             0.4,
             "#fde0ef"
            ],
            [
             0.5,
             "#f7f7f7"
            ],
            [
             0.6,
             "#e6f5d0"
            ],
            [
             0.7,
             "#b8e186"
            ],
            [
             0.8,
             "#7fbc41"
            ],
            [
             0.9,
             "#4d9221"
            ],
            [
             1,
             "#276419"
            ]
           ],
           "sequential": [
            [
             0,
             "#0d0887"
            ],
            [
             0.1111111111111111,
             "#46039f"
            ],
            [
             0.2222222222222222,
             "#7201a8"
            ],
            [
             0.3333333333333333,
             "#9c179e"
            ],
            [
             0.4444444444444444,
             "#bd3786"
            ],
            [
             0.5555555555555556,
             "#d8576b"
            ],
            [
             0.6666666666666666,
             "#ed7953"
            ],
            [
             0.7777777777777778,
             "#fb9f3a"
            ],
            [
             0.8888888888888888,
             "#fdca26"
            ],
            [
             1,
             "#f0f921"
            ]
           ],
           "sequentialminus": [
            [
             0,
             "#0d0887"
            ],
            [
             0.1111111111111111,
             "#46039f"
            ],
            [
             0.2222222222222222,
             "#7201a8"
            ],
            [
             0.3333333333333333,
             "#9c179e"
            ],
            [
             0.4444444444444444,
             "#bd3786"
            ],
            [
             0.5555555555555556,
             "#d8576b"
            ],
            [
             0.6666666666666666,
             "#ed7953"
            ],
            [
             0.7777777777777778,
             "#fb9f3a"
            ],
            [
             0.8888888888888888,
             "#fdca26"
            ],
            [
             1,
             "#f0f921"
            ]
           ]
          },
          "colorway": [
           "#636efa",
           "#EF553B",
           "#00cc96",
           "#ab63fa",
           "#FFA15A",
           "#19d3f3",
           "#FF6692",
           "#B6E880",
           "#FF97FF",
           "#FECB52"
          ],
          "font": {
           "color": "#2a3f5f"
          },
          "geo": {
           "bgcolor": "white",
           "lakecolor": "white",
           "landcolor": "#E5ECF6",
           "showlakes": true,
           "showland": true,
           "subunitcolor": "white"
          },
          "hoverlabel": {
           "align": "left"
          },
          "hovermode": "closest",
          "mapbox": {
           "style": "light"
          },
          "paper_bgcolor": "white",
          "plot_bgcolor": "#E5ECF6",
          "polar": {
           "angularaxis": {
            "gridcolor": "white",
            "linecolor": "white",
            "ticks": ""
           },
           "bgcolor": "#E5ECF6",
           "radialaxis": {
            "gridcolor": "white",
            "linecolor": "white",
            "ticks": ""
           }
          },
          "scene": {
           "xaxis": {
            "backgroundcolor": "#E5ECF6",
            "gridcolor": "white",
            "gridwidth": 2,
            "linecolor": "white",
            "showbackground": true,
            "ticks": "",
            "zerolinecolor": "white"
           },
           "yaxis": {
            "backgroundcolor": "#E5ECF6",
            "gridcolor": "white",
            "gridwidth": 2,
            "linecolor": "white",
            "showbackground": true,
            "ticks": "",
            "zerolinecolor": "white"
           },
           "zaxis": {
            "backgroundcolor": "#E5ECF6",
            "gridcolor": "white",
            "gridwidth": 2,
            "linecolor": "white",
            "showbackground": true,
            "ticks": "",
            "zerolinecolor": "white"
           }
          },
          "shapedefaults": {
           "line": {
            "color": "#2a3f5f"
           }
          },
          "ternary": {
           "aaxis": {
            "gridcolor": "white",
            "linecolor": "white",
            "ticks": ""
           },
           "baxis": {
            "gridcolor": "white",
            "linecolor": "white",
            "ticks": ""
           },
           "bgcolor": "#E5ECF6",
           "caxis": {
            "gridcolor": "white",
            "linecolor": "white",
            "ticks": ""
           }
          },
          "title": {
           "x": 0.05
          },
          "xaxis": {
           "automargin": true,
           "gridcolor": "white",
           "linecolor": "white",
           "ticks": "",
           "title": {
            "standoff": 15
           },
           "zerolinecolor": "white",
           "zerolinewidth": 2
          },
          "yaxis": {
           "automargin": true,
           "gridcolor": "white",
           "linecolor": "white",
           "ticks": "",
           "title": {
            "standoff": 15
           },
           "zerolinecolor": "white",
           "zerolinewidth": 2
          }
         }
        },
        "title": {
         "text": "Population Pyramid of Ages by user type"
        },
        "xaxis": {
         "gridcolor": "lightgrey",
         "tickvals": [
          -16000,
          -15000,
          -14000,
          -13000,
          -12000,
          -11000,
          -10000,
          -9000,
          -8000,
          -7000,
          -6000,
          -5000,
          -4000,
          -3000,
          -2000,
          -1000,
          0,
          1000,
          2000,
          3000,
          4000,
          5000,
          6000,
          7000,
          8000,
          9000,
          10000,
          11000,
          12000,
          13000,
          14000,
          15000
         ],
         "title": {
          "font": {
           "size": 14
          },
          "text": "Media duración de trayectos"
         }
        },
        "yaxis": {
         "ticktext": [
          "Indeterminado",
          "0-16",
          "17-18",
          "19-26",
          "27-40",
          "41-65",
          "66+"
         ]
        }
       }
      },
      "text/html": [
       "<div>                            <div id=\"245e6b00-23e6-41c5-93bd-3809fa50a1c7\" class=\"plotly-graph-div\" style=\"height:525px; width:100%;\"></div>            <script type=\"text/javascript\">                require([\"plotly\"], function(Plotly) {                    window.PLOTLYENV=window.PLOTLYENV || {};                                    if (document.getElementById(\"245e6b00-23e6-41c5-93bd-3809fa50a1c7\")) {                    Plotly.newPlot(                        \"245e6b00-23e6-41c5-93bd-3809fa50a1c7\",                        [{\"marker\":{\"color\":\"#18bc9c\"},\"name\":\"Usuarios Anuales\",\"orientation\":\"h\",\"x\":[867.2929616087752,841.6017877739331,883.8445634446713,828.445236599713,873.5058947465754,1140.0983498349835,961.2924165278231],\"y\":[\"0-16\",\"17-18\",\"19-26\",\"27-40\",\"41-65\",\"66+\",\"Indeterminado\"],\"type\":\"bar\"},{\"marker\":{\"color\":\"#395B64\"},\"name\":\"Usuarios Ocasionales\",\"orientation\":\"h\",\"x\":[-2024.5,-2689.0,-2374.475,-1825.1086142322097,-1769.4529914529915,-15436.0,-2390.9967917630383],\"y\":[\"0-16\",\"17-18\",\"19-26\",\"27-40\",\"41-65\",\"66+\",\"Indeterminado\"],\"type\":\"bar\"}],                        {\"template\":{\"data\":{\"histogram2dcontour\":[{\"type\":\"histogram2dcontour\",\"colorbar\":{\"outlinewidth\":0,\"ticks\":\"\"},\"colorscale\":[[0.0,\"#0d0887\"],[0.1111111111111111,\"#46039f\"],[0.2222222222222222,\"#7201a8\"],[0.3333333333333333,\"#9c179e\"],[0.4444444444444444,\"#bd3786\"],[0.5555555555555556,\"#d8576b\"],[0.6666666666666666,\"#ed7953\"],[0.7777777777777778,\"#fb9f3a\"],[0.8888888888888888,\"#fdca26\"],[1.0,\"#f0f921\"]]}],\"choropleth\":[{\"type\":\"choropleth\",\"colorbar\":{\"outlinewidth\":0,\"ticks\":\"\"}}],\"histogram2d\":[{\"type\":\"histogram2d\",\"colorbar\":{\"outlinewidth\":0,\"ticks\":\"\"},\"colorscale\":[[0.0,\"#0d0887\"],[0.1111111111111111,\"#46039f\"],[0.2222222222222222,\"#7201a8\"],[0.3333333333333333,\"#9c179e\"],[0.4444444444444444,\"#bd3786\"],[0.5555555555555556,\"#d8576b\"],[0.6666666666666666,\"#ed7953\"],[0.7777777777777778,\"#fb9f3a\"],[0.8888888888888888,\"#fdca26\"],[1.0,\"#f0f921\"]]}],\"heatmap\":[{\"type\":\"heatmap\",\"colorbar\":{\"outlinewidth\":0,\"ticks\":\"\"},\"colorscale\":[[0.0,\"#0d0887\"],[0.1111111111111111,\"#46039f\"],[0.2222222222222222,\"#7201a8\"],[0.3333333333333333,\"#9c179e\"],[0.4444444444444444,\"#bd3786\"],[0.5555555555555556,\"#d8576b\"],[0.6666666666666666,\"#ed7953\"],[0.7777777777777778,\"#fb9f3a\"],[0.8888888888888888,\"#fdca26\"],[1.0,\"#f0f921\"]]}],\"heatmapgl\":[{\"type\":\"heatmapgl\",\"colorbar\":{\"outlinewidth\":0,\"ticks\":\"\"},\"colorscale\":[[0.0,\"#0d0887\"],[0.1111111111111111,\"#46039f\"],[0.2222222222222222,\"#7201a8\"],[0.3333333333333333,\"#9c179e\"],[0.4444444444444444,\"#bd3786\"],[0.5555555555555556,\"#d8576b\"],[0.6666666666666666,\"#ed7953\"],[0.7777777777777778,\"#fb9f3a\"],[0.8888888888888888,\"#fdca26\"],[1.0,\"#f0f921\"]]}],\"contourcarpet\":[{\"type\":\"contourcarpet\",\"colorbar\":{\"outlinewidth\":0,\"ticks\":\"\"}}],\"contour\":[{\"type\":\"contour\",\"colorbar\":{\"outlinewidth\":0,\"ticks\":\"\"},\"colorscale\":[[0.0,\"#0d0887\"],[0.1111111111111111,\"#46039f\"],[0.2222222222222222,\"#7201a8\"],[0.3333333333333333,\"#9c179e\"],[0.4444444444444444,\"#bd3786\"],[0.5555555555555556,\"#d8576b\"],[0.6666666666666666,\"#ed7953\"],[0.7777777777777778,\"#fb9f3a\"],[0.8888888888888888,\"#fdca26\"],[1.0,\"#f0f921\"]]}],\"surface\":[{\"type\":\"surface\",\"colorbar\":{\"outlinewidth\":0,\"ticks\":\"\"},\"colorscale\":[[0.0,\"#0d0887\"],[0.1111111111111111,\"#46039f\"],[0.2222222222222222,\"#7201a8\"],[0.3333333333333333,\"#9c179e\"],[0.4444444444444444,\"#bd3786\"],[0.5555555555555556,\"#d8576b\"],[0.6666666666666666,\"#ed7953\"],[0.7777777777777778,\"#fb9f3a\"],[0.8888888888888888,\"#fdca26\"],[1.0,\"#f0f921\"]]}],\"mesh3d\":[{\"type\":\"mesh3d\",\"colorbar\":{\"outlinewidth\":0,\"ticks\":\"\"}}],\"scatter\":[{\"fillpattern\":{\"fillmode\":\"overlay\",\"size\":10,\"solidity\":0.2},\"type\":\"scatter\"}],\"parcoords\":[{\"type\":\"parcoords\",\"line\":{\"colorbar\":{\"outlinewidth\":0,\"ticks\":\"\"}}}],\"scatterpolargl\":[{\"type\":\"scatterpolargl\",\"marker\":{\"colorbar\":{\"outlinewidth\":0,\"ticks\":\"\"}}}],\"bar\":[{\"error_x\":{\"color\":\"#2a3f5f\"},\"error_y\":{\"color\":\"#2a3f5f\"},\"marker\":{\"line\":{\"color\":\"#E5ECF6\",\"width\":0.5},\"pattern\":{\"fillmode\":\"overlay\",\"size\":10,\"solidity\":0.2}},\"type\":\"bar\"}],\"scattergeo\":[{\"type\":\"scattergeo\",\"marker\":{\"colorbar\":{\"outlinewidth\":0,\"ticks\":\"\"}}}],\"scatterpolar\":[{\"type\":\"scatterpolar\",\"marker\":{\"colorbar\":{\"outlinewidth\":0,\"ticks\":\"\"}}}],\"histogram\":[{\"marker\":{\"pattern\":{\"fillmode\":\"overlay\",\"size\":10,\"solidity\":0.2}},\"type\":\"histogram\"}],\"scattergl\":[{\"type\":\"scattergl\",\"marker\":{\"colorbar\":{\"outlinewidth\":0,\"ticks\":\"\"}}}],\"scatter3d\":[{\"type\":\"scatter3d\",\"line\":{\"colorbar\":{\"outlinewidth\":0,\"ticks\":\"\"}},\"marker\":{\"colorbar\":{\"outlinewidth\":0,\"ticks\":\"\"}}}],\"scattermapbox\":[{\"type\":\"scattermapbox\",\"marker\":{\"colorbar\":{\"outlinewidth\":0,\"ticks\":\"\"}}}],\"scatterternary\":[{\"type\":\"scatterternary\",\"marker\":{\"colorbar\":{\"outlinewidth\":0,\"ticks\":\"\"}}}],\"scattercarpet\":[{\"type\":\"scattercarpet\",\"marker\":{\"colorbar\":{\"outlinewidth\":0,\"ticks\":\"\"}}}],\"carpet\":[{\"aaxis\":{\"endlinecolor\":\"#2a3f5f\",\"gridcolor\":\"white\",\"linecolor\":\"white\",\"minorgridcolor\":\"white\",\"startlinecolor\":\"#2a3f5f\"},\"baxis\":{\"endlinecolor\":\"#2a3f5f\",\"gridcolor\":\"white\",\"linecolor\":\"white\",\"minorgridcolor\":\"white\",\"startlinecolor\":\"#2a3f5f\"},\"type\":\"carpet\"}],\"table\":[{\"cells\":{\"fill\":{\"color\":\"#EBF0F8\"},\"line\":{\"color\":\"white\"}},\"header\":{\"fill\":{\"color\":\"#C8D4E3\"},\"line\":{\"color\":\"white\"}},\"type\":\"table\"}],\"barpolar\":[{\"marker\":{\"line\":{\"color\":\"#E5ECF6\",\"width\":0.5},\"pattern\":{\"fillmode\":\"overlay\",\"size\":10,\"solidity\":0.2}},\"type\":\"barpolar\"}],\"pie\":[{\"automargin\":true,\"type\":\"pie\"}]},\"layout\":{\"autotypenumbers\":\"strict\",\"colorway\":[\"#636efa\",\"#EF553B\",\"#00cc96\",\"#ab63fa\",\"#FFA15A\",\"#19d3f3\",\"#FF6692\",\"#B6E880\",\"#FF97FF\",\"#FECB52\"],\"font\":{\"color\":\"#2a3f5f\"},\"hovermode\":\"closest\",\"hoverlabel\":{\"align\":\"left\"},\"paper_bgcolor\":\"white\",\"plot_bgcolor\":\"#E5ECF6\",\"polar\":{\"bgcolor\":\"#E5ECF6\",\"angularaxis\":{\"gridcolor\":\"white\",\"linecolor\":\"white\",\"ticks\":\"\"},\"radialaxis\":{\"gridcolor\":\"white\",\"linecolor\":\"white\",\"ticks\":\"\"}},\"ternary\":{\"bgcolor\":\"#E5ECF6\",\"aaxis\":{\"gridcolor\":\"white\",\"linecolor\":\"white\",\"ticks\":\"\"},\"baxis\":{\"gridcolor\":\"white\",\"linecolor\":\"white\",\"ticks\":\"\"},\"caxis\":{\"gridcolor\":\"white\",\"linecolor\":\"white\",\"ticks\":\"\"}},\"coloraxis\":{\"colorbar\":{\"outlinewidth\":0,\"ticks\":\"\"}},\"colorscale\":{\"sequential\":[[0.0,\"#0d0887\"],[0.1111111111111111,\"#46039f\"],[0.2222222222222222,\"#7201a8\"],[0.3333333333333333,\"#9c179e\"],[0.4444444444444444,\"#bd3786\"],[0.5555555555555556,\"#d8576b\"],[0.6666666666666666,\"#ed7953\"],[0.7777777777777778,\"#fb9f3a\"],[0.8888888888888888,\"#fdca26\"],[1.0,\"#f0f921\"]],\"sequentialminus\":[[0.0,\"#0d0887\"],[0.1111111111111111,\"#46039f\"],[0.2222222222222222,\"#7201a8\"],[0.3333333333333333,\"#9c179e\"],[0.4444444444444444,\"#bd3786\"],[0.5555555555555556,\"#d8576b\"],[0.6666666666666666,\"#ed7953\"],[0.7777777777777778,\"#fb9f3a\"],[0.8888888888888888,\"#fdca26\"],[1.0,\"#f0f921\"]],\"diverging\":[[0,\"#8e0152\"],[0.1,\"#c51b7d\"],[0.2,\"#de77ae\"],[0.3,\"#f1b6da\"],[0.4,\"#fde0ef\"],[0.5,\"#f7f7f7\"],[0.6,\"#e6f5d0\"],[0.7,\"#b8e186\"],[0.8,\"#7fbc41\"],[0.9,\"#4d9221\"],[1,\"#276419\"]]},\"xaxis\":{\"gridcolor\":\"white\",\"linecolor\":\"white\",\"ticks\":\"\",\"title\":{\"standoff\":15},\"zerolinecolor\":\"white\",\"automargin\":true,\"zerolinewidth\":2},\"yaxis\":{\"gridcolor\":\"white\",\"linecolor\":\"white\",\"ticks\":\"\",\"title\":{\"standoff\":15},\"zerolinecolor\":\"white\",\"automargin\":true,\"zerolinewidth\":2},\"scene\":{\"xaxis\":{\"backgroundcolor\":\"#E5ECF6\",\"gridcolor\":\"white\",\"linecolor\":\"white\",\"showbackground\":true,\"ticks\":\"\",\"zerolinecolor\":\"white\",\"gridwidth\":2},\"yaxis\":{\"backgroundcolor\":\"#E5ECF6\",\"gridcolor\":\"white\",\"linecolor\":\"white\",\"showbackground\":true,\"ticks\":\"\",\"zerolinecolor\":\"white\",\"gridwidth\":2},\"zaxis\":{\"backgroundcolor\":\"#E5ECF6\",\"gridcolor\":\"white\",\"linecolor\":\"white\",\"showbackground\":true,\"ticks\":\"\",\"zerolinecolor\":\"white\",\"gridwidth\":2}},\"shapedefaults\":{\"line\":{\"color\":\"#2a3f5f\"}},\"annotationdefaults\":{\"arrowcolor\":\"#2a3f5f\",\"arrowhead\":0,\"arrowwidth\":1},\"geo\":{\"bgcolor\":\"white\",\"landcolor\":\"#E5ECF6\",\"subunitcolor\":\"white\",\"showland\":true,\"showlakes\":true,\"lakecolor\":\"white\"},\"title\":{\"x\":0.05},\"mapbox\":{\"style\":\"light\"}}},\"xaxis\":{\"title\":{\"text\":\"Media duraci\\u00f3n de trayectos\",\"font\":{\"size\":14}},\"tickvals\":[-16000,-15000,-14000,-13000,-12000,-11000,-10000,-9000,-8000,-7000,-6000,-5000,-4000,-3000,-2000,-1000,0,1000,2000,3000,4000,5000,6000,7000,8000,9000,10000,11000,12000,13000,14000,15000],\"gridcolor\":\"lightgrey\"},\"yaxis\":{\"ticktext\":[\"Indeterminado\",\"0-16\",\"17-18\",\"19-26\",\"27-40\",\"41-65\",\"66+\"]},\"title\":{\"text\":\"Population Pyramid of Ages by user type\"},\"plot_bgcolor\":\"rgba(0,0,0,0)\",\"barmode\":\"relative\",\"bargap\":0.0,\"bargroupgap\":0},                        {\"responsive\": true}                    ).then(function(){\n",
       "                            \n",
       "var gd = document.getElementById('245e6b00-23e6-41c5-93bd-3809fa50a1c7');\n",
       "var x = new MutationObserver(function (mutations, observer) {{\n",
       "        var display = window.getComputedStyle(gd).display;\n",
       "        if (!display || display === 'none') {{\n",
       "            console.log([gd, 'removed!']);\n",
       "            Plotly.purge(gd);\n",
       "            observer.disconnect();\n",
       "        }}\n",
       "}});\n",
       "\n",
       "// Listen for the removal of the full notebook cells\n",
       "var notebookContainer = gd.closest('#notebook-container');\n",
       "if (notebookContainer) {{\n",
       "    x.observe(notebookContainer, {childList: true});\n",
       "}}\n",
       "\n",
       "// Listen for the clearing of the current output cell\n",
       "var outputEl = gd.closest('.output');\n",
       "if (outputEl) {{\n",
       "    x.observe(outputEl, {childList: true});\n",
       "}}\n",
       "\n",
       "                        })                };                });            </script>        </div>"
      ]
     },
     "metadata": {},
     "output_type": "display_data"
    }
   ],
   "source": [
    "# traveltime ticks\n",
    "traveltime_ticks = list(range(int(round(-max(max(ageRange_1[\"travel_time\"]), max(ageRange_2[\"travel_time\"]))-500,-3)), int(round(max(max(ageRange_1[\"travel_time\"]), max(ageRange_2[\"travel_time\"]))+500,-3)), 1000))\n",
    "\n",
    "\n",
    "# Creating instance of the figure\n",
    "fig = go.Figure(go.Bar(y= ageRange_1.index, x = round(ageRange_1[\"travel_time\"]/60), \n",
    "                     name = 'Usuarios Anuales', \n",
    "                     orientation = 'h',\n",
    "                      marker_color = \"#18bc9c\"))\n",
    "\n",
    "  \n",
    "# Adding Male data to the figure\n",
    "fig.add_trace((go.Bar(y= ageRange_2.index, x = round(ageRange_2[\"travel_time\"]*-1/60), \n",
    "                     name = 'Usuarios Ocasionales', \n",
    "                     orientation = 'h',\n",
    "                     marker_color = \"#395B64\")))\n",
    "  \n",
    "# Updating the layout for our graph\n",
    "fig.update_layout(title = 'Population Pyramid of Ages by user type',\n",
    "                  plot_bgcolor='rgba(0,0,0,0)',\n",
    "                 barmode='relative',\n",
    "                bargap = 0.0, bargroupgap = 0,\n",
    "                xaxis = dict(tickvals = traveltime_ticks,    \n",
    "                title = 'Media duración de trayectos',\n",
    "                title_font_size = 14),\n",
    "                  yaxis = dict(ticktext =[\"Indeterminado\",\"0-16\",\"17-18\", \"19-26\", \"27-40\", \"41-65\", \"66+\"])\n",
    "                 )\n",
    "fig.update_xaxes(gridcolor=\"lightgrey\")\n",
    "  \n",
    "fig.show()"
   ]
  }
 ],
 "metadata": {
  "kernelspec": {
   "display_name": "Python 3 (ipykernel)",
   "language": "python",
   "name": "python3"
  },
  "language_info": {
   "codemirror_mode": {
    "name": "ipython",
    "version": 3
   },
   "file_extension": ".py",
   "mimetype": "text/x-python",
   "name": "python",
   "nbconvert_exporter": "python",
   "pygments_lexer": "ipython3",
   "version": "3.9.13"
  }
 },
 "nbformat": 4,
 "nbformat_minor": 5
}
