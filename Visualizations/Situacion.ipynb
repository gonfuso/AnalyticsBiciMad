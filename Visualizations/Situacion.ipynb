{
 "cells": [
  {
   "cell_type": "code",
   "execution_count": 1,
   "metadata": {},
   "outputs": [],
   "source": [
    "import pandas as pd \n",
    "import numpy as np \n",
    "from plotly.subplots import make_subplots\n",
    "import plotly.graph_objects as go\n",
    "import plotly.figure_factory as FF\n",
    "from wordcloud import WordCloud\n",
    "import plotly.express as px\n",
    "pd.set_option('display.max_columns', 50)"
   ]
  },
  {
   "cell_type": "code",
   "execution_count": 2,
   "metadata": {},
   "outputs": [
    {
     "data": {
      "text/html": [
       "<div>\n",
       "<style scoped>\n",
       "    .dataframe tbody tr th:only-of-type {\n",
       "        vertical-align: middle;\n",
       "    }\n",
       "\n",
       "    .dataframe tbody tr th {\n",
       "        vertical-align: top;\n",
       "    }\n",
       "\n",
       "    .dataframe thead th {\n",
       "        text-align: right;\n",
       "    }\n",
       "</style>\n",
       "<table border=\"1\" class=\"dataframe\">\n",
       "  <thead>\n",
       "    <tr style=\"text-align: right;\">\n",
       "      <th></th>\n",
       "      <th>activate</th>\n",
       "      <th>name</th>\n",
       "      <th>reservations_count</th>\n",
       "      <th>light</th>\n",
       "      <th>total_bases</th>\n",
       "      <th>free_bases</th>\n",
       "      <th>number</th>\n",
       "      <th>longitude</th>\n",
       "      <th>no_available</th>\n",
       "      <th>address</th>\n",
       "      <th>latitude</th>\n",
       "      <th>dock_bikes</th>\n",
       "      <th>_id</th>\n",
       "    </tr>\n",
       "  </thead>\n",
       "  <tbody>\n",
       "    <tr>\n",
       "      <th>0</th>\n",
       "      <td>1</td>\n",
       "      <td>Puerta del Sol A</td>\n",
       "      <td>0</td>\n",
       "      <td>2</td>\n",
       "      <td>24</td>\n",
       "      <td>15</td>\n",
       "      <td>1a</td>\n",
       "      <td>-3.7024255</td>\n",
       "      <td>0</td>\n",
       "      <td>Puerta del Sol nº 1</td>\n",
       "      <td>40.4168961</td>\n",
       "      <td>8</td>\n",
       "      <td>2019-07-01 00:29:26.018083</td>\n",
       "    </tr>\n",
       "    <tr>\n",
       "      <th>1</th>\n",
       "      <td>1</td>\n",
       "      <td>Puerta del Sol B</td>\n",
       "      <td>0</td>\n",
       "      <td>2</td>\n",
       "      <td>24</td>\n",
       "      <td>14</td>\n",
       "      <td>1b</td>\n",
       "      <td>-3.7024207</td>\n",
       "      <td>0</td>\n",
       "      <td>Puerta del Sol nº 1</td>\n",
       "      <td>40.4170009</td>\n",
       "      <td>9</td>\n",
       "      <td>2019-07-01 00:29:26.018083</td>\n",
       "    </tr>\n",
       "    <tr>\n",
       "      <th>2</th>\n",
       "      <td>1</td>\n",
       "      <td>Miguel Moya</td>\n",
       "      <td>0</td>\n",
       "      <td>2</td>\n",
       "      <td>24</td>\n",
       "      <td>12</td>\n",
       "      <td>2</td>\n",
       "      <td>-3.7058415</td>\n",
       "      <td>0</td>\n",
       "      <td>Calle Miguel Moya nº 1</td>\n",
       "      <td>40.4205886</td>\n",
       "      <td>10</td>\n",
       "      <td>2019-07-01 00:29:26.018083</td>\n",
       "    </tr>\n",
       "    <tr>\n",
       "      <th>3</th>\n",
       "      <td>1</td>\n",
       "      <td>Plaza Conde Suchil</td>\n",
       "      <td>0</td>\n",
       "      <td>1</td>\n",
       "      <td>18</td>\n",
       "      <td>4</td>\n",
       "      <td>3</td>\n",
       "      <td>-3.7069171</td>\n",
       "      <td>0</td>\n",
       "      <td>Plaza del Conde Suchil nº 2-4</td>\n",
       "      <td>40.4302937</td>\n",
       "      <td>11</td>\n",
       "      <td>2019-07-01 00:29:26.018083</td>\n",
       "    </tr>\n",
       "    <tr>\n",
       "      <th>4</th>\n",
       "      <td>1</td>\n",
       "      <td>Malasaña</td>\n",
       "      <td>0</td>\n",
       "      <td>0</td>\n",
       "      <td>24</td>\n",
       "      <td>17</td>\n",
       "      <td>4</td>\n",
       "      <td>-3.7025875</td>\n",
       "      <td>0</td>\n",
       "      <td>Calle Manuela Malasaña nº 5</td>\n",
       "      <td>40.4285524</td>\n",
       "      <td>3</td>\n",
       "      <td>2019-07-01 00:29:26.018083</td>\n",
       "    </tr>\n",
       "  </tbody>\n",
       "</table>\n",
       "</div>"
      ],
      "text/plain": [
       "   activate                name  reservations_count  light  total_bases  \\\n",
       "0         1    Puerta del Sol A                   0      2           24   \n",
       "1         1    Puerta del Sol B                   0      2           24   \n",
       "2         1         Miguel Moya                   0      2           24   \n",
       "3         1  Plaza Conde Suchil                   0      1           18   \n",
       "4         1            Malasaña                   0      0           24   \n",
       "\n",
       "   free_bases number   longitude  no_available                        address  \\\n",
       "0          15     1a  -3.7024255             0            Puerta del Sol nº 1   \n",
       "1          14     1b  -3.7024207             0            Puerta del Sol nº 1   \n",
       "2          12      2  -3.7058415             0         Calle Miguel Moya nº 1   \n",
       "3           4      3  -3.7069171             0  Plaza del Conde Suchil nº 2-4   \n",
       "4          17      4  -3.7025875             0    Calle Manuela Malasaña nº 5   \n",
       "\n",
       "     latitude  dock_bikes                        _id  \n",
       "0  40.4168961           8 2019-07-01 00:29:26.018083  \n",
       "1  40.4170009           9 2019-07-01 00:29:26.018083  \n",
       "2  40.4205886          10 2019-07-01 00:29:26.018083  \n",
       "3  40.4302937          11 2019-07-01 00:29:26.018083  \n",
       "4  40.4285524           3 2019-07-01 00:29:26.018083  "
      ]
     },
     "execution_count": 2,
     "metadata": {},
     "output_type": "execute_result"
    }
   ],
   "source": [
    "situaciones=pd.read_parquet('../Data/SituacionEstaciones/situaciones.parquet')\n",
    "situaciones.head()\n",
    "\n"
   ]
  },
  {
   "cell_type": "code",
   "execution_count": 25,
   "metadata": {},
   "outputs": [],
   "source": [
    "situaciones[['longitude', 'latitude']]=situaciones[['longitude', 'latitude']].apply(pd.to_numeric)"
   ]
  },
  {
   "cell_type": "code",
   "execution_count": 5,
   "metadata": {},
   "outputs": [
    {
     "data": {
      "text/plain": [
       "<AxesSubplot:>"
      ]
     },
     "execution_count": 5,
     "metadata": {},
     "output_type": "execute_result"
    },
    {
     "data": {
      "image/png": "[encoded data removed]",
      "text/plain": [
       "<Figure size 432x288 with 1 Axes>"
      ]
     },
     "metadata": {
      "needs_background": "light"
     },
     "output_type": "display_data"
    }
   ],
   "source": [
    "situaciones['dock_bikes'].hist()"
   ]
  },
  {
   "cell_type": "code",
   "execution_count": 26,
   "metadata": {},
   "outputs": [],
   "source": [
    "situaciones.loc[:,'weekDay']=situaciones['_id'].apply(lambda x: x.dayofweek)\n",
    "situaciones.loc[:,'hour']=situaciones['_id'].apply(lambda x: x.hour)\n"
   ]
  },
  {
   "cell_type": "code",
   "execution_count": 15,
   "metadata": {},
   "outputs": [
    {
     "data": {
      "text/plain": [
       "21    37108\n",
       "19    37108\n",
       "20    37093\n",
       "22    37088\n",
       "18    37088\n",
       "13    37085\n",
       "15    37080\n",
       "14    37080\n",
       "0     37079\n",
       "11    36902\n",
       "17    36895\n",
       "16    36895\n",
       "23    36895\n",
       "12    36894\n",
       "4     36866\n",
       "8     36699\n",
       "9     36694\n",
       "5     36693\n",
       "6     36500\n",
       "3     36494\n",
       "1     36486\n",
       "10    36486\n",
       "7     36312\n",
       "2     36257\n",
       "Name: hour, dtype: int64"
      ]
     },
     "execution_count": 15,
     "metadata": {},
     "output_type": "execute_result"
    }
   ],
   "source": [
    "situaciones['hour'].value_counts()"
   ]
  },
  {
   "cell_type": "code",
   "execution_count": 41,
   "metadata": {},
   "outputs": [
    {
     "data": {
      "text/html": [
       "<div>\n",
       "<style scoped>\n",
       "    .dataframe tbody tr th:only-of-type {\n",
       "        vertical-align: middle;\n",
       "    }\n",
       "\n",
       "    .dataframe tbody tr th {\n",
       "        vertical-align: top;\n",
       "    }\n",
       "\n",
       "    .dataframe thead th {\n",
       "        text-align: right;\n",
       "    }\n",
       "</style>\n",
       "<table border=\"1\" class=\"dataframe\">\n",
       "  <thead>\n",
       "    <tr style=\"text-align: right;\">\n",
       "      <th></th>\n",
       "      <th>number</th>\n",
       "      <th>longitude</th>\n",
       "      <th>latitude</th>\n",
       "      <th>name</th>\n",
       "      <th>total_bases</th>\n",
       "      <th>free_bases</th>\n",
       "      <th>dock_bikes</th>\n",
       "    </tr>\n",
       "  </thead>\n",
       "  <tbody>\n",
       "    <tr>\n",
       "      <th>0</th>\n",
       "      <td>10</td>\n",
       "      <td>-3.691881</td>\n",
       "      <td>40.425086</td>\n",
       "      <td>Marqués de la Ensenada</td>\n",
       "      <td>24</td>\n",
       "      <td>19.153846</td>\n",
       "      <td>3.769231</td>\n",
       "    </tr>\n",
       "    <tr>\n",
       "      <th>1</th>\n",
       "      <td>100</td>\n",
       "      <td>-3.673863</td>\n",
       "      <td>40.424846</td>\n",
       "      <td>Palacio de Deportes</td>\n",
       "      <td>24</td>\n",
       "      <td>13.615385</td>\n",
       "      <td>9.153846</td>\n",
       "    </tr>\n",
       "    <tr>\n",
       "      <th>2</th>\n",
       "      <td>101</td>\n",
       "      <td>-3.669152</td>\n",
       "      <td>40.423153</td>\n",
       "      <td>Jorge Juan</td>\n",
       "      <td>24</td>\n",
       "      <td>11.576923</td>\n",
       "      <td>10.230769</td>\n",
       "    </tr>\n",
       "    <tr>\n",
       "      <th>3</th>\n",
       "      <td>102</td>\n",
       "      <td>-3.684023</td>\n",
       "      <td>40.421180</td>\n",
       "      <td>Velázquez</td>\n",
       "      <td>24</td>\n",
       "      <td>14.461538</td>\n",
       "      <td>8.269231</td>\n",
       "    </tr>\n",
       "    <tr>\n",
       "      <th>4</th>\n",
       "      <td>103</td>\n",
       "      <td>-3.686565</td>\n",
       "      <td>40.430306</td>\n",
       "      <td>Ortega y Gasset</td>\n",
       "      <td>24</td>\n",
       "      <td>17.076923</td>\n",
       "      <td>6.000000</td>\n",
       "    </tr>\n",
       "    <tr>\n",
       "      <th>...</th>\n",
       "      <td>...</td>\n",
       "      <td>...</td>\n",
       "      <td>...</td>\n",
       "      <td>...</td>\n",
       "      <td>...</td>\n",
       "      <td>...</td>\n",
       "      <td>...</td>\n",
       "    </tr>\n",
       "    <tr>\n",
       "      <th>218</th>\n",
       "      <td>95</td>\n",
       "      <td>-3.687055</td>\n",
       "      <td>40.422658</td>\n",
       "      <td>Villanueva</td>\n",
       "      <td>24</td>\n",
       "      <td>15.307692</td>\n",
       "      <td>7.615385</td>\n",
       "    </tr>\n",
       "    <tr>\n",
       "      <th>219</th>\n",
       "      <td>96</td>\n",
       "      <td>-3.682179</td>\n",
       "      <td>40.422064</td>\n",
       "      <td>Castelló</td>\n",
       "      <td>27</td>\n",
       "      <td>17.000000</td>\n",
       "      <td>8.423077</td>\n",
       "    </tr>\n",
       "    <tr>\n",
       "      <th>220</th>\n",
       "      <td>97</td>\n",
       "      <td>-3.680131</td>\n",
       "      <td>40.422691</td>\n",
       "      <td>Alcalá</td>\n",
       "      <td>27</td>\n",
       "      <td>18.346154</td>\n",
       "      <td>7.384615</td>\n",
       "    </tr>\n",
       "    <tr>\n",
       "      <th>221</th>\n",
       "      <td>98</td>\n",
       "      <td>-3.675357</td>\n",
       "      <td>40.424262</td>\n",
       "      <td>Plaza de Felipe II</td>\n",
       "      <td>24</td>\n",
       "      <td>12.346154</td>\n",
       "      <td>7.807692</td>\n",
       "    </tr>\n",
       "    <tr>\n",
       "      <th>222</th>\n",
       "      <td>99</td>\n",
       "      <td>-3.673871</td>\n",
       "      <td>40.426185</td>\n",
       "      <td>Alcántara</td>\n",
       "      <td>24</td>\n",
       "      <td>14.846154</td>\n",
       "      <td>8.115385</td>\n",
       "    </tr>\n",
       "  </tbody>\n",
       "</table>\n",
       "<p>223 rows × 7 columns</p>\n",
       "</div>"
      ],
      "text/plain": [
       "    number  longitude   latitude                    name  total_bases  \\\n",
       "0       10  -3.691881  40.425086  Marqués de la Ensenada           24   \n",
       "1      100  -3.673863  40.424846     Palacio de Deportes           24   \n",
       "2      101  -3.669152  40.423153              Jorge Juan           24   \n",
       "3      102  -3.684023  40.421180               Velázquez           24   \n",
       "4      103  -3.686565  40.430306         Ortega y Gasset           24   \n",
       "..     ...        ...        ...                     ...          ...   \n",
       "218     95  -3.687055  40.422658              Villanueva           24   \n",
       "219     96  -3.682179  40.422064                Castelló           27   \n",
       "220     97  -3.680131  40.422691                  Alcalá           27   \n",
       "221     98  -3.675357  40.424262      Plaza de Felipe II           24   \n",
       "222     99  -3.673871  40.426185               Alcántara           24   \n",
       "\n",
       "     free_bases  dock_bikes  \n",
       "0     19.153846    3.769231  \n",
       "1     13.615385    9.153846  \n",
       "2     11.576923   10.230769  \n",
       "3     14.461538    8.269231  \n",
       "4     17.076923    6.000000  \n",
       "..          ...         ...  \n",
       "218   15.307692    7.615385  \n",
       "219   17.000000    8.423077  \n",
       "220   18.346154    7.384615  \n",
       "221   12.346154    7.807692  \n",
       "222   14.846154    8.115385  \n",
       "\n",
       "[223 rows x 7 columns]"
      ]
     },
     "execution_count": 41,
     "metadata": {},
     "output_type": "execute_result"
    }
   ],
   "source": [
    "def filtrarHoraDiaSeman(sit, dia, hora): \n",
    "    sit_filt=sit[ (sit['weekDay']==dia) & (sit['hour']==hora)]\n",
    "    cols_grup=['number', 'longitude', 'latitude', 'name', 'total_bases']\n",
    "    sit_filt2=sit_filt.groupby(cols_grup )[['free_bases', 'dock_bikes']].mean()\n",
    "    \n",
    "    return sit_filt2.reset_index()\n",
    "\n",
    "a=filtrarHoraDiaSeman(situaciones,0,19)\n",
    "a"
   ]
  },
  {
   "cell_type": "code",
   "execution_count": 68,
   "metadata": {},
   "outputs": [
    {
     "data": {
      "application/vnd.plotly.v1+json": {
       "config": {
        "plotlyServerURL": "https://plot.ly"
       },
       "data": [
        {
         "customdata": [
          [
           40.4250863,
           -3.6918807,
           "10",
           "Marqués de la Ensenada",
           3.769230769230769,
           24
          ],
          [
           40.4248457,
           -3.6738635,
           "100",
           "Palacio de Deportes",
           9.153846153846153,
           24
          ],
          [
           40.4231526,
           -3.6691523,
           "101",
           "Jorge Juan",
           10.23076923076923,
           24
          ],
          [
           40.4211802,
           -3.6840229,
           "102",
           "Velázquez",
           8.26923076923077,
           24
          ],
          [
           40.4303057,
           -3.6865654,
           "103",
           "Ortega y Gasset",
           6,
           24
          ],
          [
           40.4268331,
           -3.6895336,
           "104",
           "Castellana",
           8.153846153846153,
           21
          ],
          [
           40.4267905,
           -3.6873922,
           "105",
           "Serrano",
           7.961538461538462,
           24
          ],
          [
           40.4251002,
           -3.6877227,
           "106a",
           "Colón A",
           6.5,
           18
          ],
          [
           40.424963,
           -3.687745,
           "106b",
           "Colón B",
           5.5,
           18
          ],
          [
           40.4215246,
           -3.6884369,
           "107",
           "Columela",
           7.615384615384615,
           24
          ],
          [
           40.4273005,
           -3.6706024,
           "108",
           "Mártires Concepcionistas",
           8.5,
           27
          ],
          [
           40.4300481,
           -3.6816402,
           "109",
           "Marqués de Salamanca",
           8.461538461538462,
           24
          ],
          [
           40.4269483,
           -3.7035918,
           "11",
           "San Andrés",
           9.538461538461538,
           24
          ],
          [
           40.4344969,
           -3.7206893,
           "110",
           "Moncloa",
           6.923076923076923,
           24
          ],
          [
           40.4337322,
           -3.7175435,
           "111a",
           "Arcipreste de Hita A",
           7.538461538461538,
           24
          ],
          [
           40.4337036,
           -3.7175115,
           "111b",
           "Arcipreste de Hita B",
           9.423076923076923,
           24
          ],
          [
           40.4325991,
           -3.7246532,
           "112",
           "Paseo de Moret",
           9.192307692307692,
           24
          ],
          [
           40.427657,
           -3.7205129,
           "113",
           "Pintor Rosales",
           7,
           24
          ],
          [
           40.4277456,
           -3.7174158,
           "114",
           "Quintana",
           10.538461538461538,
           24
          ],
          [
           40.4253944,
           -3.7170448,
           "115",
           "Ferraz",
           7.423076923076923,
           24
          ],
          [
           40.42402,
           -3.711603,
           "116a",
           "Plaza de España A",
           8.807692307692308,
           24
          ],
          [
           40.42412,
           -3.711703,
           "116b",
           "Plaza de España B",
           5.653846153846154,
           24
          ],
          [
           40.4309797,
           -3.7188898,
           "117",
           "Altamirano",
           11.192307692307692,
           24
          ],
          [
           40.400781,
           -3.6882407,
           "118",
           "Juan Martín",
           5.923076923076923,
           24
          ],
          [
           40.4013216,
           -3.6863218,
           "119",
           "Méndez Álvaro",
           7.961538461538462,
           24
          ],
          [
           40.4284246,
           -3.7061931,
           "12",
           "San Hermenegildo",
           11.846153846153847,
           24
          ],
          [
           40.4032208,
           -3.6944768,
           "120",
           "Palos de la Frontera",
           12.884615384615385,
           24
          ],
          [
           40.4017926,
           -3.6987665,
           "121",
           "Santa María de la Cabeza",
           12.461538461538462,
           24
          ],
          [
           40.4295863,
           -3.6963983,
           "122",
           "Santa Engracia 14",
           5.3076923076923075,
           24
          ],
          [
           40.4306458,
           -3.7133412,
           "123",
           "Guzmán el Bueno",
           9.076923076923077,
           24
          ],
          [
           40.4309524,
           -3.6993465,
           "124",
           "Manuel Silvela",
           10.538461538461538,
           24
          ],
          [
           40.435285,
           -3.6948626,
           "125",
           "General Martínez Campos ",
           4.884615384615385,
           24
          ],
          [
           40.4344731,
           -3.7015686,
           "126",
           "General Álvarez de Castro",
           7.6923076923076925,
           24
          ],
          [
           40.4338516,
           -3.708439,
           "127",
           "Fernando el Católico",
           14.192307692307692,
           24
          ],
          [
           40.438994,
           -3.7154329,
           "128",
           "Cea Bermúdez",
           9.846153846153847,
           27
          ],
          [
           40.4385316,
           -3.6982209,
           "129",
           "José Abascal",
           13.846153846153847,
           24
          ],
          [
           40.4273264,
           -3.7104417,
           "13",
           "Conde Duque",
           11.423076923076923,
           24
          ],
          [
           40.441386,
           -3.7016321,
           "130",
           "Santa Engracia 127",
           7.923076923076923,
           20
          ],
          [
           40.4412115,
           -3.7039582,
           "131",
           "Bravo Murillo 44",
           12.307692307692308,
           24
          ],
          [
           40.4463667,
           -3.7036675,
           "132",
           "Glorieta de los Cuatro Caminos",
           15.307692307692308,
           24
          ],
          [
           40.447125,
           -3.7001669,
           "133",
           "Raimundo Fernández",
           6.423076923076923,
           24
          ],
          [
           40.4440297,
           -3.6956047,
           "134",
           "Agustín de Betancourt",
           6,
           24
          ],
          [
           40.4415974,
           -3.6927821,
           "135",
           "Plaza de San Juan de la Cruz",
           7.346153846153846,
           24
          ],
          [
           40.4453307,
           -3.690861,
           "136",
           "Castellana 106",
           10.423076923076923,
           24
          ],
          [
           40.445411,
           -3.6853312,
           "137",
           "Plaza de la República Argentina",
           8.73076923076923,
           24
          ],
          [
           40.4457414,
           -3.6917932,
           "138",
           "Paseo de la Castellana con Raimundo Fernández",
           4.076923076923077,
           24
          ],
          [
           40.4396792,
           -3.6907784,
           "139",
           "José Gutiérrez Abascal ",
           5.615384615384615,
           24
          ],
          [
           40.4260957,
           -3.713479,
           "14",
           "Ventura Rodríguez",
           5.153846153846154,
           24
          ],
          [
           40.4379444,
           -3.682862,
           "140",
           "Velázquez 130",
           6.5,
           24
          ],
          [
           40.4355143,
           -3.6892368,
           "141",
           "Pº Castellana - Glorieta de Emilio Castelar",
           2.4615384615384617,
           12
          ],
          [
           40.4334087,
           -3.6879154,
           "142",
           "Castellana 42",
           6.884615384615385,
           24
          ],
          [
           40.4345973,
           -3.678492,
           "143",
           "Diego de León 52",
           6.461538461538462,
           24
          ],
          [
           40.4323655,
           -3.6758555,
           "144",
           "Juan Bravo 50",
           8.461538461538462,
           24
          ],
          [
           40.429887,
           -3.6712823,
           "145",
           "Ortega y Gasset 87",
           8.307692307692308,
           24
          ],
          [
           40.4442258,
           -3.6787169,
           "146",
           "María Francisca 1",
           5.230769230769231,
           18
          ],
          [
           40.4483269,
           -3.6797296,
           "147",
           "Doctor Arce 45",
           7.615384615384615,
           24
          ],
          [
           40.4510188,
           -3.6817962,
           "148",
           "Serrano 210",
           11.73076923076923,
           24
          ],
          [
           40.4498613,
           -3.6881689,
           "149",
           "Paseo de la Habana 42",
           10.692307692307692,
           24
          ],
          [
           40.4261649,
           -3.7073764,
           "15",
           "San Vicente Ferrer",
           1.7692307692307692,
           21
          ],
          [
           40.4488924,
           -3.6905604,
           "150",
           "Castellana frente a Hermanos Pinzón",
           5.038461538461538,
           24
          ],
          [
           40.4480662,
           -3.695286,
           "151",
           "Orense 12",
           4.423076923076923,
           24
          ],
          [
           40.4527164,
           -3.6990077,
           "152",
           "General Perón 1",
           6.5,
           24
          ],
          [
           40.4522938,
           -3.692651,
           "153",
           "General Perón con Poeta Joan Maragall",
           5.153846153846154,
           24
          ],
          [
           40.4548456,
           -3.6946218,
           "154",
           "Orense 36",
           5.769230769230769,
           24
          ],
          [
           40.4572824,
           -3.7009675,
           "155",
           "San Germán",
           13.961538461538462,
           24
          ],
          [
           40.4592351,
           -3.691533,
           "156",
           "Sor Ángela de la Cruz",
           3.6923076923076925,
           24
          ],
          [
           40.4591366,
           -3.6894151,
           "157",
           "Castellana 164",
           5.961538461538462,
           24
          ],
          [
           40.4585318,
           -3.684715,
           "158",
           "Alberto Alcocer",
           9.384615384615385,
           24
          ],
          [
           40.4543852,
           -3.6835926,
           "159",
           "Paseo de la Habana 63",
           12.5,
           24
          ],
          [
           40.4230721,
           -3.7075065,
           "16",
           "San Bernardo",
           6.423076923076923,
           21
          ],
          [
           40.4572466,
           -3.6763439,
           "160",
           "Colombia",
           8,
           24
          ],
          [
           40.4220812,
           -3.7218482,
           "161",
           "Paseo de la Florida",
           12.115384615384615,
           27
          ],
          [
           40.4034076,
           -3.7108108,
           "162",
           "Metro Pirámides",
           11.423076923076923,
           24
          ],
          [
           40.4035988,
           -3.7064516,
           "163",
           "Paseo de la Esperanza",
           10.423076923076923,
           21
          ],
          [
           40.3972616,
           -3.6945025,
           "164",
           "Paseo de las Delicias",
           5.884615384615385,
           24
          ],
          [
           40.3919385,
           -3.6971829,
           "165",
           "Entrada Matadero",
           11.461538461538462,
           27
          ],
          [
           40.4138333,
           -3.7135833,
           "166",
           "Segovia 26",
           5,
           24
          ],
          [
           40.413736,
           -3.717487,
           "167",
           "Segovia 45",
           11.576923076923077,
           24
          ],
          [
           40.4044722,
           -3.6959166,
           "168",
           "Batalla del Salado",
           8.733333333333333,
           24
          ],
          [
           40.4016111,
           -3.7138055,
           "169",
           "Pirámides",
           9.578947368421053,
           24
          ],
          [
           40.4232649,
           -3.7038312,
           "17",
           "Carlos Cambronero",
           6.769230769230769,
           24
          ],
          [
           40.401,
           -3.7043611,
           "170",
           "Paseo de la Esperanza",
           10.538461538461538,
           24
          ],
          [
           40.39975,
           -3.6983888,
           "171",
           "Embajadores-Cáceres",
           8.576923076923077,
           24
          ],
          [
           40.4008888,
           -3.6935833,
           "172",
           "Delicias",
           8,
           24
          ],
          [
           40.3981798,
           -3.7023918,
           "173",
           "Puente Praga",
           7.2105263157894735,
           24
          ],
          [
           40.3974444,
           -3.7065277,
           "174",
           "Madrid Río-Yeserías",
           9.368421052631579,
           27
          ],
          [
           40.3962222,
           -3.6983055,
           "175",
           "Jaime el Conquistador",
           10.538461538461538,
           21
          ],
          [
           40.39425,
           -3.6937222,
           "176",
           "Beata",
           10,
           24
          ],
          [
           40.39425,
           -3.6937222,
           "176",
           "Beata",
           4,
           27
          ],
          [
           40.3914722,
           -3.6941944,
           "177",
           "Legazpi",
           9.307692307692308,
           24
          ],
          [
           40.3979722,
           -3.66925,
           "179",
           "Puente de Vallecas",
           12.375,
           24
          ],
          [
           40.4207773,
           -3.6996502,
           "18",
           "Plaza de Pedro Zerolo",
           5.3076923076923075,
           24
          ],
          [
           40.3941388,
           -3.6758888,
           "180",
           "Méndez Álvaro",
           9.4375,
           24
          ],
          [
           40.41825,
           -3.6766111,
           "181",
           "Retiro-Ibiza",
           13.038461538461538,
           27
          ],
          [
           40.4186666,
           -3.6657777,
           "182",
           "Parque Roma",
           8.038461538461538,
           24
          ],
          [
           40.425635,
           -3.669339,
           "183",
           "Doctor Esquerdo-Hermosilla",
           6.730769230769231,
           24
          ],
          [
           40.426,
           -3.6653055,
           "184",
           "Marqués de Zafra",
           7.590909090909091,
           24
          ],
          [
           40.4250833,
           -3.6615277,
           "185",
           "Quinta Fuente del Berro",
           8.5,
           24
          ],
          [
           40.4290555,
           -3.6782777,
           "186",
           "General Pardiñas",
           7.733333333333333,
           24
          ],
          [
           40.4301666,
           -3.6638888,
           "187",
           "Alcalá-Ventas",
           6.538461538461538,
           24
          ],
          [
           40.4311944,
           -3.6590555,
           "188",
           "Puente de Ventas",
           11.882352941176471,
           27
          ],
          [
           40.4350277,
           -3.6555277,
           "189",
           "Avenida Donostiarra",
           11.166666666666666,
           24
          ],
          [
           40.4218616,
           -3.6954983,
           "19",
           "Prim",
           5.269230769230769,
           24
          ],
          [
           40.4343333,
           -3.6835833,
           "190",
           "Velázquez-Diego de León",
           8.173913043478262,
           24
          ],
          [
           40.4346388,
           -3.674,
           "191",
           "Diego de león",
           4.956521739130435,
           18
          ],
          [
           40.4318611,
           -3.6714166,
           "192",
           "Avenida de los Toreros",
           7.1923076923076925,
           27
          ],
          [
           40.4324722,
           -3.6655555,
           "193",
           "Ventas",
           8.5,
           27
          ],
          [
           40.43725,
           -3.6772222,
           "194",
           "Avenida de América 2",
           6.8125,
           24
          ],
          [
           40.4392222,
           -3.6754444,
           "195",
           "Avenida de América 1",
           7.142857142857143,
           24
          ],
          [
           40.4441388,
           -3.6751388,
           "196",
           "Prosperidad",
           14.307692307692308,
           24
          ],
          [
           40.4515833,
           -3.6780555,
           "197",
           "Parque Berlín",
           10.04,
           24
          ],
          [
           40.4331111,
           -3.6915555,
           "198",
           "Rubén Darío",
           7.846153846153846,
           24
          ],
          [
           40.4343611,
           -3.7149166,
           "199",
           "Fernando el Católico",
           10.461538461538462,
           27
          ],
          [
           40.4168961,
           -3.7024255,
           "1a",
           "Puerta del Sol A",
           8.095238095238095,
           24
          ],
          [
           40.4168961,
           -3.7024255,
           "1a",
           "Puerta del Sol A",
           0,
           30
          ],
          [
           40.41715281,
           -3.70178074,
           "1a",
           "Puerta del Sol A",
           0.25,
           30
          ],
          [
           40.4170009,
           -3.7024207,
           "1b",
           "Puerta del Sol B",
           3.1153846153846154,
           24
          ],
          [
           40.4205886,
           -3.7058415,
           "2",
           "Miguel Moya",
           6,
           24
          ],
          [
           40.4336944,
           -3.7046666,
           "200",
           "Quevedo",
           12.117647058823529,
           24
          ],
          [
           40.4386944,
           -3.7038333,
           "201",
           "Canal",
           7.090909090909091,
           24
          ],
          [
           40.4411388,
           -3.7080833,
           "202",
           "Parque Santander",
           16.923076923076923,
           24
          ],
          [
           40.44175,
           -3.7144722,
           "203",
           "San Francisco de Sales",
           9.807692307692308,
           24
          ],
          [
           40.4476666,
           -3.7041666,
           "204",
           "Cuatro Caminos 2",
           7.739130434782608,
           24
          ],
          [
           40.4535,
           -3.7032777,
           "205",
           "Estrecho",
           6.96,
           24
          ],
          [
           40.4535,
           -3.7032777,
           "205",
           "Estrecho",
           6,
           27
          ],
          [
           40.4607502,
           -3.6989925,
           "206",
           "Metro Tetuán",
           7.8125,
           24
          ],
          [
           40.4630277,
           -3.6973333,
           "207",
           "Remonta",
           4.166666666666667,
           18
          ],
          [
           40.4663611,
           -3.6886388,
           "208",
           "Plaza de Castilla",
           6.1875,
           24
          ],
          [
           40.4659166,
           -3.6884722,
           "209",
           "Plaza de Castilla 2",
           14.25,
           24
          ],
          [
           40.4192342,
           -3.6954615,
           "20a",
           "Banco de España A",
           5.076923076923077,
           30
          ],
          [
           40.419674,
           -3.7026735,
           "210",
           "Tres Cruces",
           4,
           27
          ],
          [
           40.42059,
           -3.70239,
           "211",
           "Desengaño",
           5.476190476190476,
           24
          ],
          [
           40.4197204,
           -3.7015235,
           "21a",
           "Red de San Luis A",
           0,
           24
          ],
          [
           40.4197872,
           -3.7014814,
           "21a",
           "Red de San Luis A",
           0,
           24
          ],
          [
           40.4197204,
           -3.7015235,
           "21b",
           "Red de San Luis B",
           0,
           24
          ],
          [
           40.4200783,
           -3.7065376,
           "22",
           "Jacometrezo",
           6.923076923076923,
           24
          ],
          [
           40.4197429,
           -3.7080733,
           "23",
           "Santo Domingo",
           8.692307692307692,
           24
          ],
          [
           40.417908,
           -3.710692,
           "24",
           "Palacio de Oriente",
           5.230769230769231,
           24
          ],
          [
           40.4173114,
           -3.7064809,
           "25a",
           "Plaza de Celenque A",
           6,
           24
          ],
          [
           40.4172781,
           -3.7063837,
           "25b",
           "Plaza de Celenque B",
           7.153846153846154,
           24
          ],
          [
           40.423855,
           -3.694475,
           "26",
           "Plaza de las Salesas",
           5.653846153846154,
           24
          ],
          [
           40.4132798,
           -3.6956178,
           "27",
           "Huertas",
           6.6923076923076925,
           24
          ],
          [
           40.4181663,
           -3.69926,
           "28",
           "Sevilla",
           0,
           24
          ],
          [
           40.4162619,
           -3.6957355,
           "29",
           "Marqués de Cubas",
           3.8076923076923075,
           24
          ],
          [
           40.4302937,
           -3.7069171,
           "3",
           "Plaza Conde Suchil",
           8.961538461538462,
           18
          ],
          [
           40.4192095,
           -3.711504,
           "30",
           "San Quintín",
           6.5,
           27
          ],
          [
           40.4163638,
           -3.7068969,
           "31",
           "Calle Mayor",
           9.038461538461538,
           27
          ],
          [
           40.4150099,
           -3.7061032,
           "32",
           "Plaza de la Provincia",
           4.153846153846154,
           18
          ],
          [
           40.4157138,
           -3.7031808,
           "33",
           "Carretas",
           7.52,
           21
          ],
          [
           40.4157138,
           -3.7031808,
           "33",
           "Carretas",
           4,
           24
          ],
          [
           40.4146755,
           -3.7036825,
           "34",
           "Jacinto Benavente",
           10.461538461538462,
           24
          ],
          [
           40.4141931,
           -3.7103285,
           "35",
           "Plaza del Cordón",
           5.1923076923076925,
           24
          ],
          [
           40.4167281,
           -3.7124038,
           "36",
           "Plaza de Ramales",
           4.923076923076923,
           24
          ],
          [
           40.4108442,
           -3.7144964,
           "37",
           "Plaza San Francisco",
           10.153846153846153,
           24
          ],
          [
           40.4110406,
           -3.7120734,
           "38",
           "Plaza de los Carros",
           9.346153846153847,
           24
          ],
          [
           40.4112744,
           -3.7088337,
           "39",
           "Plaza de la Cebada",
           14.5,
           27
          ],
          [
           40.4285524,
           -3.7025875,
           "4",
           "Malasaña",
           4.653846153846154,
           24
          ],
          [
           40.4138846,
           -3.7049407,
           "40",
           "Conde de Romanones",
           9.384615384615385,
           24
          ],
          [
           40.4122047,
           -3.6991147,
           "41",
           "Antón Martín",
           8.294117647058824,
           18
          ],
          [
           40.4122047,
           -3.6991147,
           "41",
           "Antón Martín",
           6.888888888888889,
           21
          ],
          [
           40.4107085,
           -3.6982318,
           "42",
           "Santa Isabel",
           10.576923076923077,
           24
          ],
          [
           40.4101564,
           -3.7025024,
           "43",
           "Jesús y María",
           6.3076923076923075,
           24
          ],
          [
           40.4097617,
           -3.7040666,
           "44",
           "Plaza de Nelson Mandela",
           11.5,
           21
          ],
          [
           40.4070358,
           -3.7110513,
           "45",
           "Puerta de Toledo",
           10.846153846153847,
           21
          ],
          [
           40.4053153,
           -3.7071259,
           "46",
           "Ribera de Curtidores",
           10.576923076923077,
           24
          ],
          [
           40.4047851,
           -3.7028265,
           "47",
           "Embajadores 1",
           7,
           24
          ],
          [
           40.4056107,
           -3.7022591,
           "48",
           "Embajadores 2",
           14.346153846153847,
           24
          ],
          [
           40.4060941,
           -3.6992759,
           "49",
           "Casa Encendida",
           11.653846153846153,
           24
          ],
          [
           40.428528,
           -3.7020599,
           "5",
           "Fuencarral",
           7.846153846153846,
           27
          ],
          [
           40.4083684,
           -3.6933463,
           "50",
           "Museo Reina Sofía",
           6.115384615384615,
           24
          ],
          [
           40.4075606,
           -3.6935205,
           "51",
           "Ronda de Atocha",
           8.153846153846153,
           27
          ],
          [
           40.4144226,
           -3.7007164,
           "52",
           "Plaza de Santa Ana",
           11.423076923076923,
           24
          ],
          [
           40.4089282,
           -3.7008803,
           "53",
           "Plaza de Lavapiés",
           15.692307692307692,
           24
          ],
          [
           40.4266828,
           -3.700423,
           "54",
           "Barceló",
           8.192307692307692,
           21
          ],
          [
           40.4239757,
           -3.7020842,
           "55",
           "Plaza de San Ildefonso",
           14.153846153846153,
           24
          ],
          [
           40.4184192,
           -3.7032414,
           "56",
           "Plaza del Carmen ",
           8,
           24
          ],
          [
           40.4295658,
           -3.7126299,
           "57",
           "Santa Cruz del Marcenado",
           5.269230769230769,
           24
          ],
          [
           40.4222862,
           -3.697895,
           "58",
           "Augusto Figueroa",
           8.884615384615385,
           24
          ],
          [
           40.4255495,
           -3.7043418,
           "59",
           "Plaza de Juan Pujol",
           7.615384615384615,
           21
          ],
          [
           40.424148,
           -3.698447,
           "6",
           "Colegio Arquitectos",
           7.038461538461538,
           24
          ],
          [
           40.419752,
           -3.688398,
           "60",
           "Plaza de la Independencia",
           7.653846153846154,
           24
          ],
          [
           40.4213983,
           -3.6752045,
           "61",
           "Narváez",
           7.230769230769231,
           24
          ],
          [
           40.4213148,
           -3.6724968,
           "62",
           "O'Donnell",
           5.769230769230769,
           24
          ],
          [
           40.4179237,
           -3.6708959,
           "63",
           "Ibiza",
           8.26923076923077,
           24
          ],
          [
           40.4165605,
           -3.6904525,
           "65",
           "Antonio Maura",
           6.3076923076923075,
           24
          ],
          [
           40.4108472,
           -3.693225,
           "67",
           "Almadén",
           7.3076923076923075,
           24
          ],
          [
           40.4128372,
           -3.6912023,
           "68",
           "Espalter",
           5.846153846153846,
           21
          ],
          [
           40.409808,
           -3.688822,
           "69",
           "Puerta del Ángel Caído",
           7.923076923076923,
           27
          ],
          [
           40.4251906,
           -3.6977715,
           "7",
           "Hortaleza",
           4.538461538461538,
           21
          ],
          [
           40.4153053,
           -3.6779232,
           "70",
           "Puerta del Doce de Octubre",
           10.923076923076923,
           24
          ],
          [
           40.4159569,
           -3.6738865,
           "71",
           "Doce de Octubre",
           14.615384615384615,
           24
          ],
          [
           40.4157413,
           -3.6691838,
           "72",
           "Sainz de Baranda",
           10.346153846153847,
           24
          ],
          [
           40.4114475,
           -3.6689089,
           "73",
           "Plaza de los Astros",
           11.384615384615385,
           24
          ],
          [
           40.4117627,
           -3.6766813,
           "74",
           "Puerta del Pacífico ",
           11.076923076923077,
           24
          ],
          [
           40.4082805,
           -3.6784838,
           "75",
           "Menéndez Pelayo",
           11.307692307692308,
           24
          ],
          [
           40.4076726,
           -3.6750121,
           "76",
           "Puerta de Mariano de Cavia",
           12.846153846153847,
           24
          ],
          [
           40.40635,
           -3.670422,
           "77",
           "Conde de Casal",
           9.384615384615385,
           22
          ],
          [
           40.4009101,
           -3.6744804,
           "78",
           "Pedro Bosch",
           13.25,
           24
          ],
          [
           40.400789,
           -3.6744,
           "78",
           "Pedro Bosch",
           11.714285714285714,
           24
          ],
          [
           40.4051451,
           -3.6803874,
           "79",
           "Puerta de Granada",
           13.5,
           24
          ],
          [
           40.4278682,
           -3.6954403,
           "8",
           "Alonso Martínez",
           5,
           24
          ],
          [
           40.4075685,
           -3.6902255,
           "80a",
           "Atocha A",
           10.615384615384615,
           24
          ],
          [
           40.4074902,
           -3.6901234,
           "80b",
           "Atocha B",
           12.538461538461538,
           27
          ],
          [
           40.409297,
           -3.691987,
           "81",
           "Cuesta de Moyano",
           8,
           24
          ],
          [
           40.4084556,
           -3.6697526,
           "82",
           "Niño Jesús",
           12.5,
           24
          ],
          [
           40.4130243,
           -3.6751105,
           "83",
           "Pío Baroja",
           7.115384615384615,
           24
          ],
          [
           40.4032501,
           -3.6726019,
           "84",
           "Valderribas",
           11.846153846153847,
           24
          ],
          [
           40.421501,
           -3.680008,
           "85",
           "Puerta de Madrid",
           8.461538461538462,
           27
          ],
          [
           40.4186148,
           -3.6926217,
           "86",
           "Cibeles",
           6.269230769230769,
           21
          ],
          [
           40.427736,
           -3.6832566,
           "87",
           "Ayala",
           5.153846153846154,
           24
          ],
          [
           40.4313576,
           -3.6838303,
           "88",
           "Embajada de Italia",
           8.423076923076923,
           24
          ],
          [
           40.4272582,
           -3.6752024,
           "89",
           "Conde Peñalver",
           5.461538461538462,
           24
          ],
          [
           40.4156057,
           -3.7095084,
           "9",
           "Plaza de San Miguel",
           7.6923076923076925,
           24
          ],
          [
           40.4250361,
           -3.6837876,
           "90",
           "General Pardiñas",
           7.538461538461538,
           30
          ],
          [
           40.426134,
           -3.6787441,
           "91",
           "Príncipe de Vergara",
           8.5,
           24
          ],
          [
           40.4262945,
           -3.6865463,
           "92",
           "Claudio Coello",
           9.115384615384615,
           24
          ],
          [
           40.4257046,
           -3.6893698,
           "93",
           "Plaza de Colón",
           7.5,
           24
          ],
          [
           40.422699,
           -3.6909648,
           "94",
           "Biblioteca Nacional",
           6.076923076923077,
           21
          ],
          [
           40.4226584,
           -3.6870548,
           "95",
           "Villanueva",
           7.615384615384615,
           24
          ],
          [
           40.422064,
           -3.6821793,
           "96",
           "Castelló",
           8.423076923076923,
           27
          ],
          [
           40.4226906,
           -3.6801307,
           "97",
           "Alcalá",
           7.384615384615385,
           27
          ],
          [
           40.4242625,
           -3.6753567,
           "98",
           "Plaza de Felipe II",
           7.8076923076923075,
           24
          ],
          [
           40.4261851,
           -3.6738714,
           "99",
           "Alcántara",
           8.115384615384615,
           24
          ]
         ],
         "hovertemplate": "number=%{customdata[2]}<br>name=%{customdata[3]}<br>dock_bikes=%{marker.color}<br>total_bases=%{customdata[5]}<extra></extra>",
         "lat": [
          40.4250863,
          40.4248457,
          40.4231526,
          40.4211802,
          40.4303057,
          40.4268331,
          40.4267905,
          40.4251002,
          40.424963,
          40.4215246,
          40.4273005,
          40.4300481,
          40.4269483,
          40.4344969,
          40.4337322,
          40.4337036,
          40.4325991,
          40.427657,
          40.4277456,
          40.4253944,
          40.42402,
          40.42412,
          40.4309797,
          40.400781,
          40.4013216,
          40.4284246,
          40.4032208,
          40.4017926,
          40.4295863,
          40.4306458,
          40.4309524,
          40.435285,
          40.4344731,
          40.4338516,
          40.438994,
          40.4385316,
          40.4273264,
          40.441386,
          40.4412115,
          40.4463667,
          40.447125,
          40.4440297,
          40.4415974,
          40.4453307,
          40.445411,
          40.4457414,
          40.4396792,
          40.4260957,
          40.4379444,
          40.4355143,
          40.4334087,
          40.4345973,
          40.4323655,
          40.429887,
          40.4442258,
          40.4483269,
          40.4510188,
          40.4498613,
          40.4261649,
          40.4488924,
          40.4480662,
          40.4527164,
          40.4522938,
          40.4548456,
          40.4572824,
          40.4592351,
          40.4591366,
          40.4585318,
          40.4543852,
          40.4230721,
          40.4572466,
          40.4220812,
          40.4034076,
          40.4035988,
          40.3972616,
          40.3919385,
          40.4138333,
          40.413736,
          40.4044722,
          40.4016111,
          40.4232649,
          40.401,
          40.39975,
          40.4008888,
          40.3981798,
          40.3974444,
          40.3962222,
          40.39425,
          40.39425,
          40.3914722,
          40.3979722,
          40.4207773,
          40.3941388,
          40.41825,
          40.4186666,
          40.425635,
          40.426,
          40.4250833,
          40.4290555,
          40.4301666,
          40.4311944,
          40.4350277,
          40.4218616,
          40.4343333,
          40.4346388,
          40.4318611,
          40.4324722,
          40.43725,
          40.4392222,
          40.4441388,
          40.4515833,
          40.4331111,
          40.4343611,
          40.4168961,
          40.4168961,
          40.41715281,
          40.4170009,
          40.4205886,
          40.4336944,
          40.4386944,
          40.4411388,
          40.44175,
          40.4476666,
          40.4535,
          40.4535,
          40.4607502,
          40.4630277,
          40.4663611,
          40.4659166,
          40.4192342,
          40.419674,
          40.42059,
          40.4197204,
          40.4197872,
          40.4197204,
          40.4200783,
          40.4197429,
          40.417908,
          40.4173114,
          40.4172781,
          40.423855,
          40.4132798,
          40.4181663,
          40.4162619,
          40.4302937,
          40.4192095,
          40.4163638,
          40.4150099,
          40.4157138,
          40.4157138,
          40.4146755,
          40.4141931,
          40.4167281,
          40.4108442,
          40.4110406,
          40.4112744,
          40.4285524,
          40.4138846,
          40.4122047,
          40.4122047,
          40.4107085,
          40.4101564,
          40.4097617,
          40.4070358,
          40.4053153,
          40.4047851,
          40.4056107,
          40.4060941,
          40.428528,
          40.4083684,
          40.4075606,
          40.4144226,
          40.4089282,
          40.4266828,
          40.4239757,
          40.4184192,
          40.4295658,
          40.4222862,
          40.4255495,
          40.424148,
          40.419752,
          40.4213983,
          40.4213148,
          40.4179237,
          40.4165605,
          40.4108472,
          40.4128372,
          40.409808,
          40.4251906,
          40.4153053,
          40.4159569,
          40.4157413,
          40.4114475,
          40.4117627,
          40.4082805,
          40.4076726,
          40.40635,
          40.4009101,
          40.400789,
          40.4051451,
          40.4278682,
          40.4075685,
          40.4074902,
          40.409297,
          40.4084556,
          40.4130243,
          40.4032501,
          40.421501,
          40.4186148,
          40.427736,
          40.4313576,
          40.4272582,
          40.4156057,
          40.4250361,
          40.426134,
          40.4262945,
          40.4257046,
          40.422699,
          40.4226584,
          40.422064,
          40.4226906,
          40.4242625,
          40.4261851
         ],
         "legendgroup": "",
         "lon": [
          -3.6918807,
          -3.6738635,
          -3.6691523,
          -3.6840229,
          -3.6865654,
          -3.6895336,
          -3.6873922,
          -3.6877227,
          -3.687745,
          -3.6884369,
          -3.6706024,
          -3.6816402,
          -3.7035918,
          -3.7206893,
          -3.7175435,
          -3.7175115,
          -3.7246532,
          -3.7205129,
          -3.7174158,
          -3.7170448,
          -3.711603,
          -3.711703,
          -3.7188898,
          -3.6882407,
          -3.6863218,
          -3.7061931,
          -3.6944768,
          -3.6987665,
          -3.6963983,
          -3.7133412,
          -3.6993465,
          -3.6948626,
          -3.7015686,
          -3.708439,
          -3.7154329,
          -3.6982209,
          -3.7104417,
          -3.7016321,
          -3.7039582,
          -3.7036675,
          -3.7001669,
          -3.6956047,
          -3.6927821,
          -3.690861,
          -3.6853312,
          -3.6917932,
          -3.6907784,
          -3.713479,
          -3.682862,
          -3.6892368,
          -3.6879154,
          -3.678492,
          -3.6758555,
          -3.6712823,
          -3.6787169,
          -3.6797296,
          -3.6817962,
          -3.6881689,
          -3.7073764,
          -3.6905604,
          -3.695286,
          -3.6990077,
          -3.692651,
          -3.6946218,
          -3.7009675,
          -3.691533,
          -3.6894151,
          -3.684715,
          -3.6835926,
          -3.7075065,
          -3.6763439,
          -3.7218482,
          -3.7108108,
          -3.7064516,
          -3.6945025,
          -3.6971829,
          -3.7135833,
          -3.717487,
          -3.6959166,
          -3.7138055,
          -3.7038312,
          -3.7043611,
          -3.6983888,
          -3.6935833,
          -3.7023918,
          -3.7065277,
          -3.6983055,
          -3.6937222,
          -3.6937222,
          -3.6941944,
          -3.66925,
          -3.6996502,
          -3.6758888,
          -3.6766111,
          -3.6657777,
          -3.669339,
          -3.6653055,
          -3.6615277,
          -3.6782777,
          -3.6638888,
          -3.6590555,
          -3.6555277,
          -3.6954983,
          -3.6835833,
          -3.674,
          -3.6714166,
          -3.6655555,
          -3.6772222,
          -3.6754444,
          -3.6751388,
          -3.6780555,
          -3.6915555,
          -3.7149166,
          -3.7024255,
          -3.7024255,
          -3.70178074,
          -3.7024207,
          -3.7058415,
          -3.7046666,
          -3.7038333,
          -3.7080833,
          -3.7144722,
          -3.7041666,
          -3.7032777,
          -3.7032777,
          -3.6989925,
          -3.6973333,
          -3.6886388,
          -3.6884722,
          -3.6954615,
          -3.7026735,
          -3.70239,
          -3.7015235,
          -3.7014814,
          -3.7015235,
          -3.7065376,
          -3.7080733,
          -3.710692,
          -3.7064809,
          -3.7063837,
          -3.694475,
          -3.6956178,
          -3.69926,
          -3.6957355,
          -3.7069171,
          -3.711504,
          -3.7068969,
          -3.7061032,
          -3.7031808,
          -3.7031808,
          -3.7036825,
          -3.7103285,
          -3.7124038,
          -3.7144964,
          -3.7120734,
          -3.7088337,
          -3.7025875,
          -3.7049407,
          -3.6991147,
          -3.6991147,
          -3.6982318,
          -3.7025024,
          -3.7040666,
          -3.7110513,
          -3.7071259,
          -3.7028265,
          -3.7022591,
          -3.6992759,
          -3.7020599,
          -3.6933463,
          -3.6935205,
          -3.7007164,
          -3.7008803,
          -3.700423,
          -3.7020842,
          -3.7032414,
          -3.7126299,
          -3.697895,
          -3.7043418,
          -3.698447,
          -3.688398,
          -3.6752045,
          -3.6724968,
          -3.6708959,
          -3.6904525,
          -3.693225,
          -3.6912023,
          -3.688822,
          -3.6977715,
          -3.6779232,
          -3.6738865,
          -3.6691838,
          -3.6689089,
          -3.6766813,
          -3.6784838,
          -3.6750121,
          -3.670422,
          -3.6744804,
          -3.6744,
          -3.6803874,
          -3.6954403,
          -3.6902255,
          -3.6901234,
          -3.691987,
          -3.6697526,
          -3.6751105,
          -3.6726019,
          -3.680008,
          -3.6926217,
          -3.6832566,
          -3.6838303,
          -3.6752024,
          -3.7095084,
          -3.6837876,
          -3.6787441,
          -3.6865463,
          -3.6893698,
          -3.6909648,
          -3.6870548,
          -3.6821793,
          -3.6801307,
          -3.6753567,
          -3.6738714
         ],
         "marker": {
          "color": [
           3.769230769230769,
           9.153846153846153,
           10.23076923076923,
           8.26923076923077,
           6,
           8.153846153846153,
           7.961538461538462,
           6.5,
           5.5,
           7.615384615384615,
           8.5,
           8.461538461538462,
           9.538461538461538,
           6.923076923076923,
           7.538461538461538,
           9.423076923076923,
           9.192307692307692,
           7,
           10.538461538461538,
           7.423076923076923,
           8.807692307692308,
           5.653846153846154,
           11.192307692307692,
           5.923076923076923,
           7.961538461538462,
           11.846153846153847,
           12.884615384615385,
           12.461538461538462,
           5.3076923076923075,
           9.076923076923077,
           10.538461538461538,
           4.884615384615385,
           7.6923076923076925,
           14.192307692307692,
           9.846153846153847,
           13.846153846153847,
           11.423076923076923,
           7.923076923076923,
           12.307692307692308,
           15.307692307692308,
           6.423076923076923,
           6,
           7.346153846153846,
           10.423076923076923,
           8.73076923076923,
           4.076923076923077,
           5.615384615384615,
           5.153846153846154,
           6.5,
           2.4615384615384617,
           6.884615384615385,
           6.461538461538462,
           8.461538461538462,
           8.307692307692308,
           5.230769230769231,
           7.615384615384615,
           11.73076923076923,
           10.692307692307692,
           1.7692307692307692,
           5.038461538461538,
           4.423076923076923,
           6.5,
           5.153846153846154,
           5.769230769230769,
           13.961538461538462,
           3.6923076923076925,
           5.961538461538462,
           9.384615384615385,
           12.5,
           6.423076923076923,
           8,
           12.115384615384615,
           11.423076923076923,
           10.423076923076923,
           5.884615384615385,
           11.461538461538462,
           5,
           11.576923076923077,
           8.733333333333333,
           9.578947368421053,
           6.769230769230769,
           10.538461538461538,
           8.576923076923077,
           8,
           7.2105263157894735,
           9.368421052631579,
           10.538461538461538,
           10,
           4,
           9.307692307692308,
           12.375,
           5.3076923076923075,
           9.4375,
           13.038461538461538,
           8.038461538461538,
           6.730769230769231,
           7.590909090909091,
           8.5,
           7.733333333333333,
           6.538461538461538,
           11.882352941176471,
           11.166666666666666,
           5.269230769230769,
           8.173913043478262,
           4.956521739130435,
           7.1923076923076925,
           8.5,
           6.8125,
           7.142857142857143,
           14.307692307692308,
           10.04,
           7.846153846153846,
           10.461538461538462,
           8.095238095238095,
           0,
           0.25,
           3.1153846153846154,
           6,
           12.117647058823529,
           7.090909090909091,
           16.923076923076923,
           9.807692307692308,
           7.739130434782608,
           6.96,
           6,
           7.8125,
           4.166666666666667,
           6.1875,
           14.25,
           5.076923076923077,
           4,
           5.476190476190476,
           0,
           0,
           0,
           6.923076923076923,
           8.692307692307692,
           5.230769230769231,
           6,
           7.153846153846154,
           5.653846153846154,
           6.6923076923076925,
           0,
           3.8076923076923075,
           8.961538461538462,
           6.5,
           9.038461538461538,
           4.153846153846154,
           7.52,
           4,
           10.461538461538462,
           5.1923076923076925,
           4.923076923076923,
           10.153846153846153,
           9.346153846153847,
           14.5,
           4.653846153846154,
           9.384615384615385,
           8.294117647058824,
           6.888888888888889,
           10.576923076923077,
           6.3076923076923075,
           11.5,
           10.846153846153847,
           10.576923076923077,
           7,
           14.346153846153847,
           11.653846153846153,
           7.846153846153846,
           6.115384615384615,
           8.153846153846153,
           11.423076923076923,
           15.692307692307692,
           8.192307692307692,
           14.153846153846153,
           8,
           5.269230769230769,
           8.884615384615385,
           7.615384615384615,
           7.038461538461538,
           7.653846153846154,
           7.230769230769231,
           5.769230769230769,
           8.26923076923077,
           6.3076923076923075,
           7.3076923076923075,
           5.846153846153846,
           7.923076923076923,
           4.538461538461538,
           10.923076923076923,
           14.615384615384615,
           10.346153846153847,
           11.384615384615385,
           11.076923076923077,
           11.307692307692308,
           12.846153846153847,
           9.384615384615385,
           13.25,
           11.714285714285714,
           13.5,
           5,
           10.615384615384615,
           12.538461538461538,
           8,
           12.5,
           7.115384615384615,
           11.846153846153847,
           8.461538461538462,
           6.269230769230769,
           5.153846153846154,
           8.423076923076923,
           5.461538461538462,
           7.6923076923076925,
           7.538461538461538,
           8.5,
           9.115384615384615,
           7.5,
           6.076923076923077,
           7.615384615384615,
           8.423076923076923,
           7.384615384615385,
           7.8076923076923075,
           8.115384615384615
          ],
          "coloraxis": "coloraxis"
         },
         "mode": "markers",
         "name": "",
         "showlegend": false,
         "subplot": "mapbox",
         "type": "scattermapbox"
        }
       ],
       "layout": {
        "autosize": true,
        "coloraxis": {
         "colorbar": {
          "title": {
           "text": "dock_bikes"
          }
         },
         "colorscale": [
          [
           0,
           "rgb(103,0,31)"
          ],
          [
           0.1,
           "rgb(178,24,43)"
          ],
          [
           0.2,
           "rgb(214,96,77)"
          ],
          [
           0.3,
           "rgb(244,165,130)"
          ],
          [
           0.4,
           "rgb(253,219,199)"
          ],
          [
           0.5,
           "rgb(247,247,247)"
          ],
          [
           0.6,
           "rgb(209,229,240)"
          ],
          [
           0.7,
           "rgb(146,197,222)"
          ],
          [
           0.8,
           "rgb(67,147,195)"
          ],
          [
           0.9,
           "rgb(33,102,172)"
          ],
          [
           1,
           "rgb(5,48,97)"
          ]
         ]
        },
        "height": 500,
        "hoverlabel": {
         "align": "right"
        },
        "hovermode": "x unified",
        "legend": {
         "tracegroupgap": 0
        },
        "mapbox": {
         "bearing": 0,
         "center": {
          "lat": 40.435,
          "lon": -3.69
         },
         "domain": {
          "x": [
           0,
           1
          ],
          "y": [
           0,
           1
          ]
         },
         "style": "carto-positron",
         "zoom": 12
        },
        "margin": {
         "t": 60
        },
        "showlegend": true,
        "template": {
         "data": {
          "bar": [
           {
            "error_x": {
             "color": "#2a3f5f"
            },
            "error_y": {
             "color": "#2a3f5f"
            },
            "marker": {
             "line": {
              "color": "#E5ECF6",
              "width": 0.5
             },
             "pattern": {
              "fillmode": "overlay",
              "size": 10,
              "solidity": 0.2
             }
            },
            "type": "bar"
           }
          ],
          "barpolar": [
           {
            "marker": {
             "line": {
              "color": "#E5ECF6",
              "width": 0.5
             },
             "pattern": {
              "fillmode": "overlay",
              "size": 10,
              "solidity": 0.2
             }
            },
            "type": "barpolar"
           }
          ],
          "carpet": [
           {
            "aaxis": {
             "endlinecolor": "#2a3f5f",
             "gridcolor": "white",
             "linecolor": "white",
             "minorgridcolor": "white",
             "startlinecolor": "#2a3f5f"
            },
            "baxis": {
             "endlinecolor": "#2a3f5f",
             "gridcolor": "white",
             "linecolor": "white",
             "minorgridcolor": "white",
             "startlinecolor": "#2a3f5f"
            },
            "type": "carpet"
           }
          ],
          "choropleth": [
           {
            "colorbar": {
             "outlinewidth": 0,
             "ticks": ""
            },
            "type": "choropleth"
           }
          ],
          "contour": [
           {
            "colorbar": {
             "outlinewidth": 0,
             "ticks": ""
            },
            "colorscale": [
             [
              0,
              "#0d0887"
             ],
             [
              0.1111111111111111,
              "#46039f"
             ],
             [
              0.2222222222222222,
              "#7201a8"
             ],
             [
              0.3333333333333333,
              "#9c179e"
             ],
             [
              0.4444444444444444,
              "#bd3786"
             ],
             [
              0.5555555555555556,
              "#d8576b"
             ],
             [
              0.6666666666666666,
              "#ed7953"
             ],
             [
              0.7777777777777778,
              "#fb9f3a"
             ],
             [
              0.8888888888888888,
              "#fdca26"
             ],
             [
              1,
              "#f0f921"
             ]
            ],
            "type": "contour"
           }
          ],
          "contourcarpet": [
           {
            "colorbar": {
             "outlinewidth": 0,
             "ticks": ""
            },
            "type": "contourcarpet"
           }
          ],
          "heatmap": [
           {
            "colorbar": {
             "outlinewidth": 0,
             "ticks": ""
            },
            "colorscale": [
             [
              0,
              "#0d0887"
             ],
             [
              0.1111111111111111,
              "#46039f"
             ],
             [
              0.2222222222222222,
              "#7201a8"
             ],
             [
              0.3333333333333333,
              "#9c179e"
             ],
             [
              0.4444444444444444,
              "#bd3786"
             ],
             [
              0.5555555555555556,
              "#d8576b"
             ],
             [
              0.6666666666666666,
              "#ed7953"
             ],
             [
              0.7777777777777778,
              "#fb9f3a"
             ],
             [
              0.8888888888888888,
              "#fdca26"
             ],
             [
              1,
              "#f0f921"
             ]
            ],
            "type": "heatmap"
           }
          ],
          "heatmapgl": [
           {
            "colorbar": {
             "outlinewidth": 0,
             "ticks": ""
            },
            "colorscale": [
             [
              0,
              "#0d0887"
             ],
             [
              0.1111111111111111,
              "#46039f"
             ],
             [
              0.2222222222222222,
              "#7201a8"
             ],
             [
              0.3333333333333333,
              "#9c179e"
             ],
             [
              0.4444444444444444,
              "#bd3786"
             ],
             [
              0.5555555555555556,
              "#d8576b"
             ],
             [
              0.6666666666666666,
              "#ed7953"
             ],
             [
              0.7777777777777778,
              "#fb9f3a"
             ],
             [
              0.8888888888888888,
              "#fdca26"
             ],
             [
              1,
              "#f0f921"
             ]
            ],
            "type": "heatmapgl"
           }
          ],
          "histogram": [
           {
            "marker": {
             "pattern": {
              "fillmode": "overlay",
              "size": 10,
              "solidity": 0.2
             }
            },
            "type": "histogram"
           }
          ],
          "histogram2d": [
           {
            "colorbar": {
             "outlinewidth": 0,
             "ticks": ""
            },
            "colorscale": [
             [
              0,
              "#0d0887"
             ],
             [
              0.1111111111111111,
              "#46039f"
             ],
             [
              0.2222222222222222,
              "#7201a8"
             ],
             [
              0.3333333333333333,
              "#9c179e"
             ],
             [
              0.4444444444444444,
              "#bd3786"
             ],
             [
              0.5555555555555556,
              "#d8576b"
             ],
             [
              0.6666666666666666,
              "#ed7953"
             ],
             [
              0.7777777777777778,
              "#fb9f3a"
             ],
             [
              0.8888888888888888,
              "#fdca26"
             ],
             [
              1,
              "#f0f921"
             ]
            ],
            "type": "histogram2d"
           }
          ],
          "histogram2dcontour": [
           {
            "colorbar": {
             "outlinewidth": 0,
             "ticks": ""
            },
            "colorscale": [
             [
              0,
              "#0d0887"
             ],
             [
              0.1111111111111111,
              "#46039f"
             ],
             [
              0.2222222222222222,
              "#7201a8"
             ],
             [
              0.3333333333333333,
              "#9c179e"
             ],
             [
              0.4444444444444444,
              "#bd3786"
             ],
             [
              0.5555555555555556,
              "#d8576b"
             ],
             [
              0.6666666666666666,
              "#ed7953"
             ],
             [
              0.7777777777777778,
              "#fb9f3a"
             ],
             [
              0.8888888888888888,
              "#fdca26"
             ],
             [
              1,
              "#f0f921"
             ]
            ],
            "type": "histogram2dcontour"
           }
          ],
          "mesh3d": [
           {
            "colorbar": {
             "outlinewidth": 0,
             "ticks": ""
            },
            "type": "mesh3d"
           }
          ],
          "parcoords": [
           {
            "line": {
             "colorbar": {
              "outlinewidth": 0,
              "ticks": ""
             }
            },
            "type": "parcoords"
           }
          ],
          "pie": [
           {
            "automargin": true,
            "type": "pie"
           }
          ],
          "scatter": [
           {
            "marker": {
             "colorbar": {
              "outlinewidth": 0,
              "ticks": ""
             }
            },
            "type": "scatter"
           }
          ],
          "scatter3d": [
           {
            "line": {
             "colorbar": {
              "outlinewidth": 0,
              "ticks": ""
             }
            },
            "marker": {
             "colorbar": {
              "outlinewidth": 0,
              "ticks": ""
             }
            },
            "type": "scatter3d"
           }
          ],
          "scattercarpet": [
           {
            "marker": {
             "colorbar": {
              "outlinewidth": 0,
              "ticks": ""
             }
            },
            "type": "scattercarpet"
           }
          ],
          "scattergeo": [
           {
            "marker": {
             "colorbar": {
              "outlinewidth": 0,
              "ticks": ""
             }
            },
            "type": "scattergeo"
           }
          ],
          "scattergl": [
           {
            "marker": {
             "colorbar": {
              "outlinewidth": 0,
              "ticks": ""
             }
            },
            "type": "scattergl"
           }
          ],
          "scattermapbox": [
           {
            "marker": {
             "colorbar": {
              "outlinewidth": 0,
              "ticks": ""
             }
            },
            "type": "scattermapbox"
           }
          ],
          "scatterpolar": [
           {
            "marker": {
             "colorbar": {
              "outlinewidth": 0,
              "ticks": ""
             }
            },
            "type": "scatterpolar"
           }
          ],
          "scatterpolargl": [
           {
            "marker": {
             "colorbar": {
              "outlinewidth": 0,
              "ticks": ""
             }
            },
            "type": "scatterpolargl"
           }
          ],
          "scatterternary": [
           {
            "marker": {
             "colorbar": {
              "outlinewidth": 0,
              "ticks": ""
             }
            },
            "type": "scatterternary"
           }
          ],
          "surface": [
           {
            "colorbar": {
             "outlinewidth": 0,
             "ticks": ""
            },
            "colorscale": [
             [
              0,
              "#0d0887"
             ],
             [
              0.1111111111111111,
              "#46039f"
             ],
             [
              0.2222222222222222,
              "#7201a8"
             ],
             [
              0.3333333333333333,
              "#9c179e"
             ],
             [
              0.4444444444444444,
              "#bd3786"
             ],
             [
              0.5555555555555556,
              "#d8576b"
             ],
             [
              0.6666666666666666,
              "#ed7953"
             ],
             [
              0.7777777777777778,
              "#fb9f3a"
             ],
             [
              0.8888888888888888,
              "#fdca26"
             ],
             [
              1,
              "#f0f921"
             ]
            ],
            "type": "surface"
           }
          ],
          "table": [
           {
            "cells": {
             "fill": {
              "color": "#EBF0F8"
             },
             "line": {
              "color": "white"
             }
            },
            "header": {
             "fill": {
              "color": "#C8D4E3"
             },
             "line": {
              "color": "white"
             }
            },
            "type": "table"
           }
          ]
         },
         "layout": {
          "annotationdefaults": {
           "arrowcolor": "#2a3f5f",
           "arrowhead": 0,
           "arrowwidth": 1
          },
          "autotypenumbers": "strict",
          "coloraxis": {
           "colorbar": {
            "outlinewidth": 0,
            "ticks": ""
           }
          },
          "colorscale": {
           "diverging": [
            [
             0,
             "#8e0152"
            ],
            [
             0.1,
             "#c51b7d"
            ],
            [
             0.2,
             "#de77ae"
            ],
            [
             0.3,
             "#f1b6da"
            ],
            [
             0.4,
             "#fde0ef"
            ],
            [
             0.5,
             "#f7f7f7"
            ],
            [
             0.6,
             "#e6f5d0"
            ],
            [
             0.7,
             "#b8e186"
            ],
            [
             0.8,
             "#7fbc41"
            ],
            [
             0.9,
             "#4d9221"
            ],
            [
             1,
             "#276419"
            ]
           ],
           "sequential": [
            [
             0,
             "#0d0887"
            ],
            [
             0.1111111111111111,
             "#46039f"
            ],
            [
             0.2222222222222222,
             "#7201a8"
            ],
            [
             0.3333333333333333,
             "#9c179e"
            ],
            [
             0.4444444444444444,
             "#bd3786"
            ],
            [
             0.5555555555555556,
             "#d8576b"
            ],
            [
             0.6666666666666666,
             "#ed7953"
            ],
            [
             0.7777777777777778,
             "#fb9f3a"
            ],
            [
             0.8888888888888888,
             "#fdca26"
            ],
            [
             1,
             "#f0f921"
            ]
           ],
           "sequentialminus": [
            [
             0,
             "#0d0887"
            ],
            [
             0.1111111111111111,
             "#46039f"
            ],
            [
             0.2222222222222222,
             "#7201a8"
            ],
            [
             0.3333333333333333,
             "#9c179e"
            ],
            [
             0.4444444444444444,
             "#bd3786"
            ],
            [
             0.5555555555555556,
             "#d8576b"
            ],
            [
             0.6666666666666666,
             "#ed7953"
            ],
            [
             0.7777777777777778,
             "#fb9f3a"
            ],
            [
             0.8888888888888888,
             "#fdca26"
            ],
            [
             1,
             "#f0f921"
            ]
           ]
          },
          "colorway": [
           "#636efa",
           "#EF553B",
           "#00cc96",
           "#ab63fa",
           "#FFA15A",
           "#19d3f3",
           "#FF6692",
           "#B6E880",
           "#FF97FF",
           "#FECB52"
          ],
          "font": {
           "color": "#2a3f5f"
          },
          "geo": {
           "bgcolor": "white",
           "lakecolor": "white",
           "landcolor": "#E5ECF6",
           "showlakes": true,
           "showland": true,
           "subunitcolor": "white"
          },
          "hoverlabel": {
           "align": "left"
          },
          "hovermode": "closest",
          "mapbox": {
           "style": "light"
          },
          "paper_bgcolor": "white",
          "plot_bgcolor": "#E5ECF6",
          "polar": {
           "angularaxis": {
            "gridcolor": "white",
            "linecolor": "white",
            "ticks": ""
           },
           "bgcolor": "#E5ECF6",
           "radialaxis": {
            "gridcolor": "white",
            "linecolor": "white",
            "ticks": ""
           }
          },
          "scene": {
           "xaxis": {
            "backgroundcolor": "#E5ECF6",
            "gridcolor": "white",
            "gridwidth": 2,
            "linecolor": "white",
            "showbackground": true,
            "ticks": "",
            "zerolinecolor": "white"
           },
           "yaxis": {
            "backgroundcolor": "#E5ECF6",
            "gridcolor": "white",
            "gridwidth": 2,
            "linecolor": "white",
            "showbackground": true,
            "ticks": "",
            "zerolinecolor": "white"
           },
           "zaxis": {
            "backgroundcolor": "#E5ECF6",
            "gridcolor": "white",
            "gridwidth": 2,
            "linecolor": "white",
            "showbackground": true,
            "ticks": "",
            "zerolinecolor": "white"
           }
          },
          "shapedefaults": {
           "line": {
            "color": "#2a3f5f"
           }
          },
          "ternary": {
           "aaxis": {
            "gridcolor": "white",
            "linecolor": "white",
            "ticks": ""
           },
           "baxis": {
            "gridcolor": "white",
            "linecolor": "white",
            "ticks": ""
           },
           "bgcolor": "#E5ECF6",
           "caxis": {
            "gridcolor": "white",
            "linecolor": "white",
            "ticks": ""
           }
          },
          "title": {
           "x": 0.05
          },
          "xaxis": {
           "automargin": true,
           "gridcolor": "white",
           "linecolor": "white",
           "ticks": "",
           "title": {
            "standoff": 15
           },
           "zerolinecolor": "white",
           "zerolinewidth": 2
          },
          "yaxis": {
           "automargin": true,
           "gridcolor": "white",
           "linecolor": "white",
           "ticks": "",
           "title": {
            "standoff": 15
           },
           "zerolinecolor": "white",
           "zerolinewidth": 2
          }
         }
        },
        "title": {
         "text": "Bases BiciMad por Distrito"
        },
        "width": 500
       }
      }
     },
     "metadata": {},
     "output_type": "display_data"
    }
   ],
   "source": [
    "# hovertemplate = '<b>Estación:'+bases['Número'].astype(str)+'</b>'\n",
    "# hovertemplate+='<br><b>Distrito: </b>'+bases['Distrito']+'<br>'\n",
    "# hovertemplate+='<b>Número de bases:</b> '+bases[\"Número de Plazas\"].astype(str)\n",
    "\n",
    "fig = px.scatter_mapbox(a, lat=\"latitude\", lon=\"longitude\",  color = \"dock_bikes\",  width = 500, height = 500, zoom = 12, color_continuous_scale=px.colors.diverging.RdBu,\n",
    "                        hover_data={'latitude':False,\n",
    "                                    'longitude':False,\n",
    "                                    'number': True,\n",
    "                                    'name': True, \n",
    "                                    'dock_bikes': True, \n",
    "                                    'total_bases':True\n",
    "                                    })\n",
    "#fig.update_traces(hovertemplate = '<b>Estación: $%{name}''</b>'+'<br><b>Número de bases: {total_bases:str}</b>')\n",
    "    \n",
    "                  \n",
    "# fig.add_trace(go.Scattermapbox(\n",
    "#         lat = bases[\"Latitud\"],\n",
    "#         lon = bases[\"Longitud\"],\n",
    "#         mode='markers',\n",
    "#         showlegend=False,\n",
    "#         marker=go.scattermapbox.Marker(\n",
    "#             size=bases[\"Número de Plazas\"]*0.5,\n",
    "#             opacity=0.7  ,\n",
    "#             color = \"white\"\n",
    "#             ),     \n",
    "#        hovertemplate = \n",
    "#         '<b>Estación:'+bases['Número'].astype(str)+'</b>'+\n",
    "#         '<br><b>Distrito: </b>'+bases['Distrito']+'<br>'+\n",
    "#         '<b>Número de bases:</b> '+bases[\"Número de Plazas\"].astype(str)\n",
    "#     ))\n",
    "fig.update_traces(mode=\"markers\")\n",
    "fig.update_layout(hovermode=\"x unified\")\n",
    "fig.update_layout(\n",
    "    title='Bases BiciMad por Distrito',\n",
    "\n",
    "    autosize=True,\n",
    "    showlegend=True,\n",
    "    width = 500,\n",
    "    height = 500,\n",
    "    mapbox=dict(\n",
    "        bearing=0,\n",
    "        center=dict(\n",
    "            lat=40.435,\n",
    "            lon=-3.69\n",
    "        ),\n",
    "        zoom=12,\n",
    "        style= 'carto-positron' # 'open-street-map'\n",
    "        \n",
    "    ),\n",
    "    hoverlabel_align = 'right'\n",
    ")\n",
    "fig.show()"
   ]
  },
  {
   "cell_type": "code",
   "execution_count": 8,
   "metadata": {},
   "outputs": [
    {
     "data": {
      "text/plain": [
       "<AxesSubplot:>"
      ]
     },
     "execution_count": 8,
     "metadata": {},
     "output_type": "execute_result"
    },
    {
     "data": {
      "image/png": "[encoded data removed]",
      "text/plain": [
       "<Figure size 432x288 with 1 Axes>"
      ]
     },
     "metadata": {
      "needs_background": "light"
     },
     "output_type": "display_data"
    }
   ],
   "source": [
    "situaciones['aux']=situaciones.apply(lambda x:x['dock_bikes']/x['total_bases'], axis=1)\n",
    "situaciones['aux'].hist()"
   ]
  },
  {
   "cell_type": "code",
   "execution_count": 3,
   "metadata": {},
   "outputs": [
    {
     "data": {
      "text/plain": [
       "0    825524\n",
       "1     50127\n",
       "2      6808\n",
       "3      1310\n",
       "4         8\n",
       "Name: reservations_count, dtype: int64"
      ]
     },
     "execution_count": 3,
     "metadata": {},
     "output_type": "execute_result"
    }
   ],
   "source": [
    "\n",
    "def catDock: \n",
    "    \n",
    "situaciones.loc[:,'Bicis Disponibles']=situaciones.dock_bikes.apply(lambda x: )"
   ]
  }
 ],
 "metadata": {
  "kernelspec": {
   "display_name": "Python 3.8.8 ('base')",
   "language": "python",
   "name": "python3"
  },
  "language_info": {
   "codemirror_mode": {
    "name": "ipython",
    "version": 3
   },
   "file_extension": ".py",
   "mimetype": "text/x-python",
   "name": "python",
   "nbconvert_exporter": "python",
   "pygments_lexer": "ipython3",
   "version": "3.8.8"
  },
  "orig_nbformat": 4,
  "vscode": {
   "interpreter": {
    "hash": "9fef7a30f113eaa53eb8b5c309fb488b4423c5d8965bf87e9ef8b3198259acb6"
   }
  }
 },
 "nbformat": 4,
 "nbformat_minor": 2
}
