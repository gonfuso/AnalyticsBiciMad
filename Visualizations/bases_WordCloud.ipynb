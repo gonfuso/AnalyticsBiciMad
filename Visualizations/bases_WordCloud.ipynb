{
 "cells": [
  {
   "cell_type": "code",
   "execution_count": 1,
   "metadata": {},
   "outputs": [],
   "source": [
    "import pandas as pd\n",
    "from collections import Counter \n",
    "from wordcloud import WordCloud\n",
    "import plotly.express as px"
   ]
  },
  {
   "cell_type": "code",
   "execution_count": 2,
   "metadata": {},
   "outputs": [
    {
     "name": "stderr",
     "output_type": "stream",
     "text": [
      "c:\\Users\\visit\\Anaconda3\\lib\\site-packages\\IPython\\core\\interactiveshell.py:3165: DtypeWarning: Columns (9) have mixed types.Specify dtype option on import or set low_memory=False.\n",
      "  has_raised = await self.run_ast_nodes(code_ast.body, cell_name,\n"
     ]
    }
   ],
   "source": [
    "itinerarios_bases= pd.read_csv('../Data/Itinerarios/itinerarios_bases.csv')"
   ]
  },
  {
   "cell_type": "code",
   "execution_count": 3,
   "metadata": {},
   "outputs": [
    {
     "data": {
      "text/html": [
       "<div>\n",
       "<style scoped>\n",
       "    .dataframe tbody tr th:only-of-type {\n",
       "        vertical-align: middle;\n",
       "    }\n",
       "\n",
       "    .dataframe tbody tr th {\n",
       "        vertical-align: top;\n",
       "    }\n",
       "\n",
       "    .dataframe thead th {\n",
       "        text-align: right;\n",
       "    }\n",
       "</style>\n",
       "<table border=\"1\" class=\"dataframe\">\n",
       "  <thead>\n",
       "    <tr style=\"text-align: right;\">\n",
       "      <th></th>\n",
       "      <th>Unnamed: 0</th>\n",
       "      <th>idplug_base</th>\n",
       "      <th>user_type</th>\n",
       "      <th>idunplug_base</th>\n",
       "      <th>travel_time</th>\n",
       "      <th>idunplug_station</th>\n",
       "      <th>ageRange</th>\n",
       "      <th>idplug_station</th>\n",
       "      <th>unplug_hourTime</th>\n",
       "      <th>zip_code</th>\n",
       "      <th>...</th>\n",
       "      <th>Barrio_Salida</th>\n",
       "      <th>Número de Plazas_Salida</th>\n",
       "      <th>Latitud_Salida</th>\n",
       "      <th>Longitud_Salida</th>\n",
       "      <th>Número_Llegada</th>\n",
       "      <th>Distrito_Llegada</th>\n",
       "      <th>Barrio_Llegada</th>\n",
       "      <th>Número de Plazas_Llegada</th>\n",
       "      <th>Latitud_Llegada</th>\n",
       "      <th>Longitud_Llegada</th>\n",
       "    </tr>\n",
       "  </thead>\n",
       "  <tbody>\n",
       "    <tr>\n",
       "      <th>0</th>\n",
       "      <td>0</td>\n",
       "      <td>5</td>\n",
       "      <td>1</td>\n",
       "      <td>20</td>\n",
       "      <td>154</td>\n",
       "      <td>44</td>\n",
       "      <td>5</td>\n",
       "      <td>40</td>\n",
       "      <td>2019-07-01 00:00:00+00:00</td>\n",
       "      <td>28007</td>\n",
       "      <td>...</td>\n",
       "      <td>01-02 EMBAJADORES</td>\n",
       "      <td>21.0</td>\n",
       "      <td>40.409816</td>\n",
       "      <td>-3.703914</td>\n",
       "      <td>40</td>\n",
       "      <td>01  CENTRO</td>\n",
       "      <td>01-02 EMBAJADORES</td>\n",
       "      <td>24.0</td>\n",
       "      <td>40.413787</td>\n",
       "      <td>-3.704746</td>\n",
       "    </tr>\n",
       "    <tr>\n",
       "      <th>1</th>\n",
       "      <td>1</td>\n",
       "      <td>8</td>\n",
       "      <td>1</td>\n",
       "      <td>17</td>\n",
       "      <td>184</td>\n",
       "      <td>57</td>\n",
       "      <td>4</td>\n",
       "      <td>129</td>\n",
       "      <td>2019-07-01 00:00:00+00:00</td>\n",
       "      <td>28045</td>\n",
       "      <td>...</td>\n",
       "      <td>01-05 UNIVERSIDAD</td>\n",
       "      <td>24.0</td>\n",
       "      <td>40.429636</td>\n",
       "      <td>-3.712818</td>\n",
       "      <td>129</td>\n",
       "      <td>07  CHAMBERÍ</td>\n",
       "      <td>07-05 RÍOS ROSAS</td>\n",
       "      <td>24.0</td>\n",
       "      <td>40.438468</td>\n",
       "      <td>-3.698282</td>\n",
       "    </tr>\n",
       "    <tr>\n",
       "      <th>2</th>\n",
       "      <td>2</td>\n",
       "      <td>15</td>\n",
       "      <td>1</td>\n",
       "      <td>16</td>\n",
       "      <td>282</td>\n",
       "      <td>53</td>\n",
       "      <td>4</td>\n",
       "      <td>43</td>\n",
       "      <td>2019-07-01 00:00:00+00:00</td>\n",
       "      <td>NaN</td>\n",
       "      <td>...</td>\n",
       "      <td>01-02 EMBAJADORES</td>\n",
       "      <td>24.0</td>\n",
       "      <td>40.408280</td>\n",
       "      <td>-3.700730</td>\n",
       "      <td>43</td>\n",
       "      <td>01  CENTRO</td>\n",
       "      <td>01-02 EMBAJADORES</td>\n",
       "      <td>24.0</td>\n",
       "      <td>40.410089</td>\n",
       "      <td>-3.702545</td>\n",
       "    </tr>\n",
       "    <tr>\n",
       "      <th>3</th>\n",
       "      <td>3</td>\n",
       "      <td>18</td>\n",
       "      <td>1</td>\n",
       "      <td>18</td>\n",
       "      <td>388</td>\n",
       "      <td>56</td>\n",
       "      <td>0</td>\n",
       "      <td>13</td>\n",
       "      <td>2019-07-01 00:00:00+00:00</td>\n",
       "      <td>NaN</td>\n",
       "      <td>...</td>\n",
       "      <td>01-06 SOL</td>\n",
       "      <td>24.0</td>\n",
       "      <td>40.418484</td>\n",
       "      <td>-3.703288</td>\n",
       "      <td>13</td>\n",
       "      <td>01  CENTRO</td>\n",
       "      <td>01-05 UNIVERSIDAD</td>\n",
       "      <td>24.0</td>\n",
       "      <td>40.427365</td>\n",
       "      <td>-3.710473</td>\n",
       "    </tr>\n",
       "    <tr>\n",
       "      <th>4</th>\n",
       "      <td>4</td>\n",
       "      <td>1</td>\n",
       "      <td>1</td>\n",
       "      <td>20</td>\n",
       "      <td>254</td>\n",
       "      <td>105</td>\n",
       "      <td>0</td>\n",
       "      <td>75</td>\n",
       "      <td>2019-07-01 00:00:00+00:00</td>\n",
       "      <td>NaN</td>\n",
       "      <td>...</td>\n",
       "      <td>04-01 RECOLETOS</td>\n",
       "      <td>24.0</td>\n",
       "      <td>40.427068</td>\n",
       "      <td>-3.687474</td>\n",
       "      <td>75</td>\n",
       "      <td>03  RETIRO</td>\n",
       "      <td>03-05 JERÓNIMOS</td>\n",
       "      <td>24.0</td>\n",
       "      <td>40.408339</td>\n",
       "      <td>-3.678415</td>\n",
       "    </tr>\n",
       "  </tbody>\n",
       "</table>\n",
       "<p>5 rows × 25 columns</p>\n",
       "</div>"
      ],
      "text/plain": [
       "   Unnamed: 0  idplug_base  user_type  idunplug_base  travel_time  \\\n",
       "0           0            5          1             20          154   \n",
       "1           1            8          1             17          184   \n",
       "2           2           15          1             16          282   \n",
       "3           3           18          1             18          388   \n",
       "4           4            1          1             20          254   \n",
       "\n",
       "   idunplug_station  ageRange  idplug_station            unplug_hourTime  \\\n",
       "0                44         5              40  2019-07-01 00:00:00+00:00   \n",
       "1                57         4             129  2019-07-01 00:00:00+00:00   \n",
       "2                53         4              43  2019-07-01 00:00:00+00:00   \n",
       "3                56         0              13  2019-07-01 00:00:00+00:00   \n",
       "4               105         0              75  2019-07-01 00:00:00+00:00   \n",
       "\n",
       "  zip_code  ...      Barrio_Salida Número de Plazas_Salida Latitud_Salida  \\\n",
       "0    28007  ...  01-02 EMBAJADORES                    21.0      40.409816   \n",
       "1    28045  ...  01-05 UNIVERSIDAD                    24.0      40.429636   \n",
       "2      NaN  ...  01-02 EMBAJADORES                    24.0      40.408280   \n",
       "3      NaN  ...          01-06 SOL                    24.0      40.418484   \n",
       "4      NaN  ...    04-01 RECOLETOS                    24.0      40.427068   \n",
       "\n",
       "   Longitud_Salida Número_Llegada Distrito_Llegada     Barrio_Llegada  \\\n",
       "0        -3.703914             40       01  CENTRO  01-02 EMBAJADORES   \n",
       "1        -3.712818            129     07  CHAMBERÍ   07-05 RÍOS ROSAS   \n",
       "2        -3.700730             43       01  CENTRO  01-02 EMBAJADORES   \n",
       "3        -3.703288             13       01  CENTRO  01-05 UNIVERSIDAD   \n",
       "4        -3.687474             75       03  RETIRO    03-05 JERÓNIMOS   \n",
       "\n",
       "   Número de Plazas_Llegada  Latitud_Llegada  Longitud_Llegada  \n",
       "0                      24.0        40.413787         -3.704746  \n",
       "1                      24.0        40.438468         -3.698282  \n",
       "2                      24.0        40.410089         -3.702545  \n",
       "3                      24.0        40.427365         -3.710473  \n",
       "4                      24.0        40.408339         -3.678415  \n",
       "\n",
       "[5 rows x 25 columns]"
      ]
     },
     "execution_count": 3,
     "metadata": {},
     "output_type": "execute_result"
    }
   ],
   "source": [
    "itinerarios_bases.head()\n"
   ]
  },
  {
   "cell_type": "code",
   "execution_count": 4,
   "metadata": {},
   "outputs": [],
   "source": [
    "\n"
   ]
  },
  {
   "cell_type": "code",
   "execution_count": 5,
   "metadata": {},
   "outputs": [
    {
     "data": {
      "application/vnd.plotly.v1+json": {
       "config": {
        "plotlyServerURL": "https://plot.ly"
       },
       "data": [
        {
         "hovertemplate": "x: %{x}<br>y: %{y}<br>color: [%{z[0]}, %{z[1]}, %{z[2]}]<extra></extra>",
         "name": "0",
         "source": "data:image/png;base64,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",
         "type": "image",
         "xaxis": "x",
         "yaxis": "y"
        }
       ],
       "layout": {
        "height": 750,
        "margin": {
         "t": 60
        },
        "template": {
         "data": {
          "bar": [
           {
            "error_x": {
             "color": "#2a3f5f"
            },
            "error_y": {
             "color": "#2a3f5f"
            },
            "marker": {
             "line": {
              "color": "#E5ECF6",
              "width": 0.5
             },
             "pattern": {
              "fillmode": "overlay",
              "size": 10,
              "solidity": 0.2
             }
            },
            "type": "bar"
           }
          ],
          "barpolar": [
           {
            "marker": {
             "line": {
              "color": "#E5ECF6",
              "width": 0.5
             },
             "pattern": {
              "fillmode": "overlay",
              "size": 10,
              "solidity": 0.2
             }
            },
            "type": "barpolar"
           }
          ],
          "carpet": [
           {
            "aaxis": {
             "endlinecolor": "#2a3f5f",
             "gridcolor": "white",
             "linecolor": "white",
             "minorgridcolor": "white",
             "startlinecolor": "#2a3f5f"
            },
            "baxis": {
             "endlinecolor": "#2a3f5f",
             "gridcolor": "white",
             "linecolor": "white",
             "minorgridcolor": "white",
             "startlinecolor": "#2a3f5f"
            },
            "type": "carpet"
           }
          ],
          "choropleth": [
           {
            "colorbar": {
             "outlinewidth": 0,
             "ticks": ""
            },
            "type": "choropleth"
           }
          ],
          "contour": [
           {
            "colorbar": {
             "outlinewidth": 0,
             "ticks": ""
            },
            "colorscale": [
             [
              0,
              "#0d0887"
             ],
             [
              0.1111111111111111,
              "#46039f"
             ],
             [
              0.2222222222222222,
              "#7201a8"
             ],
             [
              0.3333333333333333,
              "#9c179e"
             ],
             [
              0.4444444444444444,
              "#bd3786"
             ],
             [
              0.5555555555555556,
              "#d8576b"
             ],
             [
              0.6666666666666666,
              "#ed7953"
             ],
             [
              0.7777777777777778,
              "#fb9f3a"
             ],
             [
              0.8888888888888888,
              "#fdca26"
             ],
             [
              1,
              "#f0f921"
             ]
            ],
            "type": "contour"
           }
          ],
          "contourcarpet": [
           {
            "colorbar": {
             "outlinewidth": 0,
             "ticks": ""
            },
            "type": "contourcarpet"
           }
          ],
          "heatmap": [
           {
            "colorbar": {
             "outlinewidth": 0,
             "ticks": ""
            },
            "colorscale": [
             [
              0,
              "#0d0887"
             ],
             [
              0.1111111111111111,
              "#46039f"
             ],
             [
              0.2222222222222222,
              "#7201a8"
             ],
             [
              0.3333333333333333,
              "#9c179e"
             ],
             [
              0.4444444444444444,
              "#bd3786"
             ],
             [
              0.5555555555555556,
              "#d8576b"
             ],
             [
              0.6666666666666666,
              "#ed7953"
             ],
             [
              0.7777777777777778,
              "#fb9f3a"
             ],
             [
              0.8888888888888888,
              "#fdca26"
             ],
             [
              1,
              "#f0f921"
             ]
            ],
            "type": "heatmap"
           }
          ],
          "heatmapgl": [
           {
            "colorbar": {
             "outlinewidth": 0,
             "ticks": ""
            },
            "colorscale": [
             [
              0,
              "#0d0887"
             ],
             [
              0.1111111111111111,
              "#46039f"
             ],
             [
              0.2222222222222222,
              "#7201a8"
             ],
             [
              0.3333333333333333,
              "#9c179e"
             ],
             [
              0.4444444444444444,
              "#bd3786"
             ],
             [
              0.5555555555555556,
              "#d8576b"
             ],
             [
              0.6666666666666666,
              "#ed7953"
             ],
             [
              0.7777777777777778,
              "#fb9f3a"
             ],
             [
              0.8888888888888888,
              "#fdca26"
             ],
             [
              1,
              "#f0f921"
             ]
            ],
            "type": "heatmapgl"
           }
          ],
          "histogram": [
           {
            "marker": {
             "pattern": {
              "fillmode": "overlay",
              "size": 10,
              "solidity": 0.2
             }
            },
            "type": "histogram"
           }
          ],
          "histogram2d": [
           {
            "colorbar": {
             "outlinewidth": 0,
             "ticks": ""
            },
            "colorscale": [
             [
              0,
              "#0d0887"
             ],
             [
              0.1111111111111111,
              "#46039f"
             ],
             [
              0.2222222222222222,
              "#7201a8"
             ],
             [
              0.3333333333333333,
              "#9c179e"
             ],
             [
              0.4444444444444444,
              "#bd3786"
             ],
             [
              0.5555555555555556,
              "#d8576b"
             ],
             [
              0.6666666666666666,
              "#ed7953"
             ],
             [
              0.7777777777777778,
              "#fb9f3a"
             ],
             [
              0.8888888888888888,
              "#fdca26"
             ],
             [
              1,
              "#f0f921"
             ]
            ],
            "type": "histogram2d"
           }
          ],
          "histogram2dcontour": [
           {
            "colorbar": {
             "outlinewidth": 0,
             "ticks": ""
            },
            "colorscale": [
             [
              0,
              "#0d0887"
             ],
             [
              0.1111111111111111,
              "#46039f"
             ],
             [
              0.2222222222222222,
              "#7201a8"
             ],
             [
              0.3333333333333333,
              "#9c179e"
             ],
             [
              0.4444444444444444,
              "#bd3786"
             ],
             [
              0.5555555555555556,
              "#d8576b"
             ],
             [
              0.6666666666666666,
              "#ed7953"
             ],
             [
              0.7777777777777778,
              "#fb9f3a"
             ],
             [
              0.8888888888888888,
              "#fdca26"
             ],
             [
              1,
              "#f0f921"
             ]
            ],
            "type": "histogram2dcontour"
           }
          ],
          "mesh3d": [
           {
            "colorbar": {
             "outlinewidth": 0,
             "ticks": ""
            },
            "type": "mesh3d"
           }
          ],
          "parcoords": [
           {
            "line": {
             "colorbar": {
              "outlinewidth": 0,
              "ticks": ""
             }
            },
            "type": "parcoords"
           }
          ],
          "pie": [
           {
            "automargin": true,
            "type": "pie"
           }
          ],
          "scatter": [
           {
            "marker": {
             "colorbar": {
              "outlinewidth": 0,
              "ticks": ""
             }
            },
            "type": "scatter"
           }
          ],
          "scatter3d": [
           {
            "line": {
             "colorbar": {
              "outlinewidth": 0,
              "ticks": ""
             }
            },
            "marker": {
             "colorbar": {
              "outlinewidth": 0,
              "ticks": ""
             }
            },
            "type": "scatter3d"
           }
          ],
          "scattercarpet": [
           {
            "marker": {
             "colorbar": {
              "outlinewidth": 0,
              "ticks": ""
             }
            },
            "type": "scattercarpet"
           }
          ],
          "scattergeo": [
           {
            "marker": {
             "colorbar": {
              "outlinewidth": 0,
              "ticks": ""
             }
            },
            "type": "scattergeo"
           }
          ],
          "scattergl": [
           {
            "marker": {
             "colorbar": {
              "outlinewidth": 0,
              "ticks": ""
             }
            },
            "type": "scattergl"
           }
          ],
          "scattermapbox": [
           {
            "marker": {
             "colorbar": {
              "outlinewidth": 0,
              "ticks": ""
             }
            },
            "type": "scattermapbox"
           }
          ],
          "scatterpolar": [
           {
            "marker": {
             "colorbar": {
              "outlinewidth": 0,
              "ticks": ""
             }
            },
            "type": "scatterpolar"
           }
          ],
          "scatterpolargl": [
           {
            "marker": {
             "colorbar": {
              "outlinewidth": 0,
              "ticks": ""
             }
            },
            "type": "scatterpolargl"
           }
          ],
          "scatterternary": [
           {
            "marker": {
             "colorbar": {
              "outlinewidth": 0,
              "ticks": ""
             }
            },
            "type": "scatterternary"
           }
          ],
          "surface": [
           {
            "colorbar": {
             "outlinewidth": 0,
             "ticks": ""
            },
            "colorscale": [
             [
              0,
              "#0d0887"
             ],
             [
              0.1111111111111111,
              "#46039f"
             ],
             [
              0.2222222222222222,
              "#7201a8"
             ],
             [
              0.3333333333333333,
              "#9c179e"
             ],
             [
              0.4444444444444444,
              "#bd3786"
             ],
             [
              0.5555555555555556,
              "#d8576b"
             ],
             [
              0.6666666666666666,
              "#ed7953"
             ],
             [
              0.7777777777777778,
              "#fb9f3a"
             ],
             [
              0.8888888888888888,
              "#fdca26"
             ],
             [
              1,
              "#f0f921"
             ]
            ],
            "type": "surface"
           }
          ],
          "table": [
           {
            "cells": {
             "fill": {
              "color": "#EBF0F8"
             },
             "line": {
              "color": "white"
             }
            },
            "header": {
             "fill": {
              "color": "#C8D4E3"
             },
             "line": {
              "color": "white"
             }
            },
            "type": "table"
           }
          ]
         },
         "layout": {
          "annotationdefaults": {
           "arrowcolor": "#2a3f5f",
           "arrowhead": 0,
           "arrowwidth": 1
          },
          "autotypenumbers": "strict",
          "coloraxis": {
           "colorbar": {
            "outlinewidth": 0,
            "ticks": ""
           }
          },
          "colorscale": {
           "diverging": [
            [
             0,
             "#8e0152"
            ],
            [
             0.1,
             "#c51b7d"
            ],
            [
             0.2,
             "#de77ae"
            ],
            [
             0.3,
             "#f1b6da"
            ],
            [
             0.4,
             "#fde0ef"
            ],
            [
             0.5,
             "#f7f7f7"
            ],
            [
             0.6,
             "#e6f5d0"
            ],
            [
             0.7,
             "#b8e186"
            ],
            [
             0.8,
             "#7fbc41"
            ],
            [
             0.9,
             "#4d9221"
            ],
            [
             1,
             "#276419"
            ]
           ],
           "sequential": [
            [
             0,
             "#0d0887"
            ],
            [
             0.1111111111111111,
             "#46039f"
            ],
            [
             0.2222222222222222,
             "#7201a8"
            ],
            [
             0.3333333333333333,
             "#9c179e"
            ],
            [
             0.4444444444444444,
             "#bd3786"
            ],
            [
             0.5555555555555556,
             "#d8576b"
            ],
            [
             0.6666666666666666,
             "#ed7953"
            ],
            [
             0.7777777777777778,
             "#fb9f3a"
            ],
            [
             0.8888888888888888,
             "#fdca26"
            ],
            [
             1,
             "#f0f921"
            ]
           ],
           "sequentialminus": [
            [
             0,
             "#0d0887"
            ],
            [
             0.1111111111111111,
             "#46039f"
            ],
            [
             0.2222222222222222,
             "#7201a8"
            ],
            [
             0.3333333333333333,
             "#9c179e"
            ],
            [
             0.4444444444444444,
             "#bd3786"
            ],
            [
             0.5555555555555556,
             "#d8576b"
            ],
            [
             0.6666666666666666,
             "#ed7953"
            ],
            [
             0.7777777777777778,
             "#fb9f3a"
            ],
            [
             0.8888888888888888,
             "#fdca26"
            ],
            [
             1,
             "#f0f921"
            ]
           ]
          },
          "colorway": [
           "#636efa",
           "#EF553B",
           "#00cc96",
           "#ab63fa",
           "#FFA15A",
           "#19d3f3",
           "#FF6692",
           "#B6E880",
           "#FF97FF",
           "#FECB52"
          ],
          "font": {
           "color": "#2a3f5f"
          },
          "geo": {
           "bgcolor": "white",
           "lakecolor": "white",
           "landcolor": "#E5ECF6",
           "showlakes": true,
           "showland": true,
           "subunitcolor": "white"
          },
          "hoverlabel": {
           "align": "left"
          },
          "hovermode": "closest",
          "mapbox": {
           "style": "light"
          },
          "paper_bgcolor": "white",
          "plot_bgcolor": "#E5ECF6",
          "polar": {
           "angularaxis": {
            "gridcolor": "white",
            "linecolor": "white",
            "ticks": ""
           },
           "bgcolor": "#E5ECF6",
           "radialaxis": {
            "gridcolor": "white",
            "linecolor": "white",
            "ticks": ""
           }
          },
          "scene": {
           "xaxis": {
            "backgroundcolor": "#E5ECF6",
            "gridcolor": "white",
            "gridwidth": 2,
            "linecolor": "white",
            "showbackground": true,
            "ticks": "",
            "zerolinecolor": "white"
           },
           "yaxis": {
            "backgroundcolor": "#E5ECF6",
            "gridcolor": "white",
            "gridwidth": 2,
            "linecolor": "white",
            "showbackground": true,
            "ticks": "",
            "zerolinecolor": "white"
           },
           "zaxis": {
            "backgroundcolor": "#E5ECF6",
            "gridcolor": "white",
            "gridwidth": 2,
            "linecolor": "white",
            "showbackground": true,
            "ticks": "",
            "zerolinecolor": "white"
           }
          },
          "shapedefaults": {
           "line": {
            "color": "#2a3f5f"
           }
          },
          "ternary": {
           "aaxis": {
            "gridcolor": "white",
            "linecolor": "white",
            "ticks": ""
           },
           "baxis": {
            "gridcolor": "white",
            "linecolor": "white",
            "ticks": ""
           },
           "bgcolor": "#E5ECF6",
           "caxis": {
            "gridcolor": "white",
            "linecolor": "white",
            "ticks": ""
           }
          },
          "title": {
           "x": 0.05
          },
          "xaxis": {
           "automargin": true,
           "gridcolor": "white",
           "linecolor": "white",
           "ticks": "",
           "title": {
            "standoff": 15
           },
           "zerolinecolor": "white",
           "zerolinewidth": 2
          },
          "yaxis": {
           "automargin": true,
           "gridcolor": "white",
           "linecolor": "white",
           "ticks": "",
           "title": {
            "standoff": 15
           },
           "zerolinecolor": "white",
           "zerolinewidth": 2
          }
         }
        },
        "width": 1000,
        "xaxis": {
         "anchor": "y",
         "domain": [
          0,
          1
         ]
        },
        "yaxis": {
         "anchor": "x",
         "domain": [
          0,
          1
         ]
        }
       }
      }
     },
     "metadata": {},
     "output_type": "display_data"
    }
   ],
   "source": [
    "\n",
    "itinerarios_bases=itinerarios_bases.astype({'Distrito_Llegada': str})\n",
    "itinerarios_bases2=itinerarios_bases\n",
    "itinerarios_bases2['Distrito_Llegada']=itinerarios_bases2['Distrito_Llegada'].apply(lambda x: x.replace('\\xa0', ''))\n",
    "barrios_llegada = itinerarios_bases2['Distrito_Llegada']\n",
    "\n",
    "\n",
    "barrios_llegada_wordcloud=[\"\".join(i for i in palabra if not i.isdigit()) for palabra in barrios_llegada]\n",
    "barrios_frec=Counter(barrios_llegada_wordcloud)\n",
    "\n",
    "\n",
    "wordcloud = WordCloud (\n",
    "                    background_color = 'white',\n",
    "                    width = 1000,\n",
    "                    height = 750,\n",
    "                    collocations=False).generate_from_frequencies(barrios_frec)\n",
    "\n",
    "fig=px.imshow(wordcloud) # image show\n",
    "fig.update_layout(width=1000, height=750)\n",
    "fig.show()"
   ]
  }
 ],
 "metadata": {
  "kernelspec": {
   "display_name": "Python 3.8.8 ('base')",
   "language": "python",
   "name": "python3"
  },
  "language_info": {
   "codemirror_mode": {
    "name": "ipython",
    "version": 3
   },
   "file_extension": ".py",
   "mimetype": "text/x-python",
   "name": "python",
   "nbconvert_exporter": "python",
   "pygments_lexer": "ipython3",
   "version": "3.8.8"
  },
  "vscode": {
   "interpreter": {
    "hash": "9fef7a30f113eaa53eb8b5c309fb488b4423c5d8965bf87e9ef8b3198259acb6"
   }
  }
 },
 "nbformat": 4,
 "nbformat_minor": 4
}
