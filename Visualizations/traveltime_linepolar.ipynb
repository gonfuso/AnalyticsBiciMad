{
 "cells": [
  {
   "cell_type": "markdown",
   "id": "34aa8768",
   "metadata": {},
   "source": [
    "# Line polar of the travel time by station"
   ]
  },
  {
   "cell_type": "markdown",
   "id": "b54c33ed",
   "metadata": {},
   "source": [
    "### Import libraries"
   ]
  },
  {
   "cell_type": "code",
   "execution_count": 5,
   "id": "e98fa3be",
   "metadata": {},
   "outputs": [],
   "source": [
    "import pandas as pd\n",
    "import plotly.express as px\n",
    "pd.set_option('display.max_columns', 50)"
   ]
  },
  {
   "cell_type": "markdown",
   "id": "f9c641cd",
   "metadata": {},
   "source": [
    "### Import data"
   ]
  },
  {
   "cell_type": "code",
   "execution_count": 6,
   "id": "03eafbc7",
   "metadata": {},
   "outputs": [
    {
     "data": {
      "text/html": [
       "<div>\n",
       "<style scoped>\n",
       "    .dataframe tbody tr th:only-of-type {\n",
       "        vertical-align: middle;\n",
       "    }\n",
       "\n",
       "    .dataframe tbody tr th {\n",
       "        vertical-align: top;\n",
       "    }\n",
       "\n",
       "    .dataframe thead th {\n",
       "        text-align: right;\n",
       "    }\n",
       "</style>\n",
       "<table border=\"1\" class=\"dataframe\">\n",
       "  <thead>\n",
       "    <tr style=\"text-align: right;\">\n",
       "      <th></th>\n",
       "      <th>user_type</th>\n",
       "      <th>travel_time</th>\n",
       "      <th>idunplug_station</th>\n",
       "      <th>ageRange</th>\n",
       "      <th>idplug_station</th>\n",
       "      <th>unplug_hourTime</th>\n",
       "      <th>status</th>\n",
       "      <th>Origen_destino</th>\n",
       "      <th>Número_Salida</th>\n",
       "      <th>Distrito_Salida</th>\n",
       "      <th>Barrio_Salida</th>\n",
       "      <th>Número de Plazas_Salida</th>\n",
       "      <th>Latitud_Salida</th>\n",
       "      <th>Longitud_Salida</th>\n",
       "      <th>Número_Llegada</th>\n",
       "      <th>Distrito_Llegada</th>\n",
       "      <th>Barrio_Llegada</th>\n",
       "      <th>Número de Plazas_Llegada</th>\n",
       "      <th>Latitud_Llegada</th>\n",
       "      <th>Longitud_Llegada</th>\n",
       "      <th>name_Salida</th>\n",
       "      <th>address_Salida</th>\n",
       "      <th>name_Llegada</th>\n",
       "      <th>address_Llegada</th>\n",
       "      <th>dayofweek</th>\n",
       "      <th>hour</th>\n",
       "    </tr>\n",
       "  </thead>\n",
       "  <tbody>\n",
       "    <tr>\n",
       "      <th>0</th>\n",
       "      <td>1</td>\n",
       "      <td>154</td>\n",
       "      <td>44</td>\n",
       "      <td>5</td>\n",
       "      <td>40</td>\n",
       "      <td>2019-07-01 00:00:00+00:00</td>\n",
       "      <td>short_rental</td>\n",
       "      <td>44-40</td>\n",
       "      <td>44</td>\n",
       "      <td>01  CENTRO</td>\n",
       "      <td>01-02 EMBAJADORES</td>\n",
       "      <td>21.0</td>\n",
       "      <td>40.409817</td>\n",
       "      <td>-3.703914</td>\n",
       "      <td>40</td>\n",
       "      <td>01  CENTRO</td>\n",
       "      <td>01-02 EMBAJADORES</td>\n",
       "      <td>24.0</td>\n",
       "      <td>40.413788</td>\n",
       "      <td>-3.704746</td>\n",
       "      <td>Plaza de Nelson Mandela</td>\n",
       "      <td>Calle Mesón de Paredes nº 35</td>\n",
       "      <td>Conde de Romanones</td>\n",
       "      <td>Plaza del Conde de Romanones nº 9</td>\n",
       "      <td>0</td>\n",
       "      <td>0</td>\n",
       "    </tr>\n",
       "    <tr>\n",
       "      <th>1</th>\n",
       "      <td>1</td>\n",
       "      <td>184</td>\n",
       "      <td>57</td>\n",
       "      <td>4</td>\n",
       "      <td>129</td>\n",
       "      <td>2019-07-01 00:00:00+00:00</td>\n",
       "      <td>short_rental</td>\n",
       "      <td>57-129</td>\n",
       "      <td>57</td>\n",
       "      <td>01  CENTRO</td>\n",
       "      <td>01-05 UNIVERSIDAD</td>\n",
       "      <td>24.0</td>\n",
       "      <td>40.429638</td>\n",
       "      <td>-3.712818</td>\n",
       "      <td>129</td>\n",
       "      <td>07  CHAMBERÍ</td>\n",
       "      <td>07-05 RÍOS ROSAS</td>\n",
       "      <td>24.0</td>\n",
       "      <td>40.438469</td>\n",
       "      <td>-3.698282</td>\n",
       "      <td>Santa Cruz del Marcenado</td>\n",
       "      <td>Calle Santa Cruz del Marcenado nº 24</td>\n",
       "      <td>José Abascal</td>\n",
       "      <td>Calle José Abascal nº 33</td>\n",
       "      <td>0</td>\n",
       "      <td>0</td>\n",
       "    </tr>\n",
       "    <tr>\n",
       "      <th>2</th>\n",
       "      <td>1</td>\n",
       "      <td>282</td>\n",
       "      <td>53</td>\n",
       "      <td>4</td>\n",
       "      <td>43</td>\n",
       "      <td>2019-07-01 00:00:00+00:00</td>\n",
       "      <td>short_rental</td>\n",
       "      <td>53-43</td>\n",
       "      <td>53</td>\n",
       "      <td>01  CENTRO</td>\n",
       "      <td>01-02 EMBAJADORES</td>\n",
       "      <td>24.0</td>\n",
       "      <td>40.408279</td>\n",
       "      <td>-3.700730</td>\n",
       "      <td>43</td>\n",
       "      <td>01  CENTRO</td>\n",
       "      <td>01-02 EMBAJADORES</td>\n",
       "      <td>24.0</td>\n",
       "      <td>40.410088</td>\n",
       "      <td>-3.702545</td>\n",
       "      <td>Plaza de Lavapiés</td>\n",
       "      <td>Calle Valencia nº 1</td>\n",
       "      <td>Jesús y María</td>\n",
       "      <td>Calle Lavapiés nº 34-36</td>\n",
       "      <td>0</td>\n",
       "      <td>0</td>\n",
       "    </tr>\n",
       "    <tr>\n",
       "      <th>3</th>\n",
       "      <td>1</td>\n",
       "      <td>388</td>\n",
       "      <td>56</td>\n",
       "      <td>0</td>\n",
       "      <td>13</td>\n",
       "      <td>2019-07-01 00:00:00+00:00</td>\n",
       "      <td>short_rental</td>\n",
       "      <td>56-13</td>\n",
       "      <td>56</td>\n",
       "      <td>01  CENTRO</td>\n",
       "      <td>01-06 SOL</td>\n",
       "      <td>24.0</td>\n",
       "      <td>40.418484</td>\n",
       "      <td>-3.703288</td>\n",
       "      <td>13</td>\n",
       "      <td>01  CENTRO</td>\n",
       "      <td>01-05 UNIVERSIDAD</td>\n",
       "      <td>24.0</td>\n",
       "      <td>40.427364</td>\n",
       "      <td>-3.710473</td>\n",
       "      <td>Plaza del Carmen</td>\n",
       "      <td>Plaza del Carmen nº 1</td>\n",
       "      <td>Conde Duque</td>\n",
       "      <td>Calle Conde Duque nº 22</td>\n",
       "      <td>0</td>\n",
       "      <td>0</td>\n",
       "    </tr>\n",
       "    <tr>\n",
       "      <th>4</th>\n",
       "      <td>1</td>\n",
       "      <td>254</td>\n",
       "      <td>105</td>\n",
       "      <td>0</td>\n",
       "      <td>75</td>\n",
       "      <td>2019-07-01 00:00:00+00:00</td>\n",
       "      <td>short_rental</td>\n",
       "      <td>105-75</td>\n",
       "      <td>105</td>\n",
       "      <td>04  SALAMANCA</td>\n",
       "      <td>04-01 RECOLETOS</td>\n",
       "      <td>24.0</td>\n",
       "      <td>40.427067</td>\n",
       "      <td>-3.687474</td>\n",
       "      <td>75</td>\n",
       "      <td>03  RETIRO</td>\n",
       "      <td>03-05 JERÓNIMOS</td>\n",
       "      <td>24.0</td>\n",
       "      <td>40.408340</td>\n",
       "      <td>-3.678415</td>\n",
       "      <td>Serrano</td>\n",
       "      <td>Calle Serrano nº 54</td>\n",
       "      <td>Menéndez Pelayo</td>\n",
       "      <td>Avenida de Menéndez Pelayo nº 90</td>\n",
       "      <td>0</td>\n",
       "      <td>0</td>\n",
       "    </tr>\n",
       "  </tbody>\n",
       "</table>\n",
       "</div>"
      ],
      "text/plain": [
       "   user_type  travel_time  idunplug_station  ageRange  idplug_station  \\\n",
       "0          1          154                44         5              40   \n",
       "1          1          184                57         4             129   \n",
       "2          1          282                53         4              43   \n",
       "3          1          388                56         0              13   \n",
       "4          1          254               105         0              75   \n",
       "\n",
       "            unplug_hourTime        status Origen_destino  Número_Salida  \\\n",
       "0 2019-07-01 00:00:00+00:00  short_rental          44-40             44   \n",
       "1 2019-07-01 00:00:00+00:00  short_rental         57-129             57   \n",
       "2 2019-07-01 00:00:00+00:00  short_rental          53-43             53   \n",
       "3 2019-07-01 00:00:00+00:00  short_rental          56-13             56   \n",
       "4 2019-07-01 00:00:00+00:00  short_rental         105-75            105   \n",
       "\n",
       "  Distrito_Salida      Barrio_Salida  Número de Plazas_Salida  Latitud_Salida  \\\n",
       "0      01  CENTRO  01-02 EMBAJADORES                     21.0       40.409817   \n",
       "1      01  CENTRO  01-05 UNIVERSIDAD                     24.0       40.429638   \n",
       "2      01  CENTRO  01-02 EMBAJADORES                     24.0       40.408279   \n",
       "3      01  CENTRO          01-06 SOL                     24.0       40.418484   \n",
       "4   04  SALAMANCA    04-01 RECOLETOS                     24.0       40.427067   \n",
       "\n",
       "   Longitud_Salida  Número_Llegada Distrito_Llegada     Barrio_Llegada  \\\n",
       "0        -3.703914              40       01  CENTRO  01-02 EMBAJADORES   \n",
       "1        -3.712818             129     07  CHAMBERÍ   07-05 RÍOS ROSAS   \n",
       "2        -3.700730              43       01  CENTRO  01-02 EMBAJADORES   \n",
       "3        -3.703288              13       01  CENTRO  01-05 UNIVERSIDAD   \n",
       "4        -3.687474              75       03  RETIRO    03-05 JERÓNIMOS   \n",
       "\n",
       "   Número de Plazas_Llegada  Latitud_Llegada  Longitud_Llegada  \\\n",
       "0                      24.0        40.413788         -3.704746   \n",
       "1                      24.0        40.438469         -3.698282   \n",
       "2                      24.0        40.410088         -3.702545   \n",
       "3                      24.0        40.427364         -3.710473   \n",
       "4                      24.0        40.408340         -3.678415   \n",
       "\n",
       "                name_Salida                        address_Salida  \\\n",
       "0   Plaza de Nelson Mandela          Calle Mesón de Paredes nº 35   \n",
       "1  Santa Cruz del Marcenado  Calle Santa Cruz del Marcenado nº 24   \n",
       "2         Plaza de Lavapiés                   Calle Valencia nº 1   \n",
       "3         Plaza del Carmen                  Plaza del Carmen nº 1   \n",
       "4                   Serrano                   Calle Serrano nº 54   \n",
       "\n",
       "         name_Llegada                    address_Llegada  dayofweek  hour  \n",
       "0  Conde de Romanones  Plaza del Conde de Romanones nº 9          0     0  \n",
       "1        José Abascal           Calle José Abascal nº 33          0     0  \n",
       "2       Jesús y María            Calle Lavapiés nº 34-36          0     0  \n",
       "3         Conde Duque            Calle Conde Duque nº 22          0     0  \n",
       "4     Menéndez Pelayo   Avenida de Menéndez Pelayo nº 90          0     0  "
      ]
     },
     "execution_count": 6,
     "metadata": {},
     "output_type": "execute_result"
    }
   ],
   "source": [
    "itinerarios_bases = pd.read_parquet('../Data/Itinerarios/itinerarios_bases3.parquet')\n",
    "itinerarios_bases.head()"
   ]
  },
  {
   "cell_type": "code",
   "execution_count": 38,
   "id": "314463a4",
   "metadata": {},
   "outputs": [
    {
     "data": {
      "text/html": [
       "<div>\n",
       "<style scoped>\n",
       "    .dataframe tbody tr th:only-of-type {\n",
       "        vertical-align: middle;\n",
       "    }\n",
       "\n",
       "    .dataframe tbody tr th {\n",
       "        vertical-align: top;\n",
       "    }\n",
       "\n",
       "    .dataframe thead th {\n",
       "        text-align: right;\n",
       "    }\n",
       "</style>\n",
       "<table border=\"1\" class=\"dataframe\">\n",
       "  <thead>\n",
       "    <tr style=\"text-align: right;\">\n",
       "      <th></th>\n",
       "      <th>idplug_base</th>\n",
       "      <th>user_type</th>\n",
       "      <th>idunplug_base</th>\n",
       "      <th>travel_time</th>\n",
       "      <th>idunplug_station</th>\n",
       "      <th>ageRange</th>\n",
       "      <th>idplug_station</th>\n",
       "      <th>unplug_hourTime</th>\n",
       "      <th>zip_code</th>\n",
       "      <th>return_date</th>\n",
       "      <th>status</th>\n",
       "      <th>Origen_destino</th>\n",
       "    </tr>\n",
       "  </thead>\n",
       "  <tbody>\n",
       "    <tr>\n",
       "      <th>0</th>\n",
       "      <td>5</td>\n",
       "      <td>1</td>\n",
       "      <td>20</td>\n",
       "      <td>154</td>\n",
       "      <td>44</td>\n",
       "      <td>5</td>\n",
       "      <td>40</td>\n",
       "      <td>2019-07-01 00:00:00+00:00</td>\n",
       "      <td>28007</td>\n",
       "      <td>2019-07-01 02:33:59.999961600+00:00</td>\n",
       "      <td>short_rental</td>\n",
       "      <td>44-40</td>\n",
       "    </tr>\n",
       "    <tr>\n",
       "      <th>1</th>\n",
       "      <td>8</td>\n",
       "      <td>1</td>\n",
       "      <td>17</td>\n",
       "      <td>184</td>\n",
       "      <td>57</td>\n",
       "      <td>4</td>\n",
       "      <td>129</td>\n",
       "      <td>2019-07-01 00:00:00+00:00</td>\n",
       "      <td>28045</td>\n",
       "      <td>2019-07-01 03:04:00.000019200+00:00</td>\n",
       "      <td>short_rental</td>\n",
       "      <td>57-129</td>\n",
       "    </tr>\n",
       "    <tr>\n",
       "      <th>2</th>\n",
       "      <td>15</td>\n",
       "      <td>1</td>\n",
       "      <td>16</td>\n",
       "      <td>282</td>\n",
       "      <td>53</td>\n",
       "      <td>4</td>\n",
       "      <td>43</td>\n",
       "      <td>2019-07-01 00:00:00+00:00</td>\n",
       "      <td>NaN</td>\n",
       "      <td>2019-07-01 04:41:59.999971200+00:00</td>\n",
       "      <td>short_rental</td>\n",
       "      <td>53-43</td>\n",
       "    </tr>\n",
       "    <tr>\n",
       "      <th>3</th>\n",
       "      <td>18</td>\n",
       "      <td>1</td>\n",
       "      <td>18</td>\n",
       "      <td>388</td>\n",
       "      <td>56</td>\n",
       "      <td>0</td>\n",
       "      <td>13</td>\n",
       "      <td>2019-07-01 00:00:00+00:00</td>\n",
       "      <td>NaN</td>\n",
       "      <td>2019-07-01 06:27:59.999961600+00:00</td>\n",
       "      <td>short_rental</td>\n",
       "      <td>56-13</td>\n",
       "    </tr>\n",
       "    <tr>\n",
       "      <th>4</th>\n",
       "      <td>1</td>\n",
       "      <td>1</td>\n",
       "      <td>20</td>\n",
       "      <td>254</td>\n",
       "      <td>105</td>\n",
       "      <td>0</td>\n",
       "      <td>75</td>\n",
       "      <td>2019-07-01 00:00:00+00:00</td>\n",
       "      <td>NaN</td>\n",
       "      <td>2019-07-01 04:14:00.000009600+00:00</td>\n",
       "      <td>short_rental</td>\n",
       "      <td>105-75</td>\n",
       "    </tr>\n",
       "    <tr>\n",
       "      <th>...</th>\n",
       "      <td>...</td>\n",
       "      <td>...</td>\n",
       "      <td>...</td>\n",
       "      <td>...</td>\n",
       "      <td>...</td>\n",
       "      <td>...</td>\n",
       "      <td>...</td>\n",
       "      <td>...</td>\n",
       "      <td>...</td>\n",
       "      <td>...</td>\n",
       "      <td>...</td>\n",
       "      <td>...</td>\n",
       "    </tr>\n",
       "    <tr>\n",
       "      <th>1862976</th>\n",
       "      <td>17</td>\n",
       "      <td>1</td>\n",
       "      <td>24</td>\n",
       "      <td>1433</td>\n",
       "      <td>204</td>\n",
       "      <td>4</td>\n",
       "      <td>180</td>\n",
       "      <td>2019-12-31 23:00:00+00:00</td>\n",
       "      <td>28045</td>\n",
       "      <td>2020-01-01 22:53:00.000009600+00:00</td>\n",
       "      <td>short_rental</td>\n",
       "      <td>204-180</td>\n",
       "    </tr>\n",
       "    <tr>\n",
       "      <th>1862977</th>\n",
       "      <td>1</td>\n",
       "      <td>1</td>\n",
       "      <td>8</td>\n",
       "      <td>2727</td>\n",
       "      <td>4</td>\n",
       "      <td>0</td>\n",
       "      <td>99</td>\n",
       "      <td>2019-12-31 23:00:00+00:00</td>\n",
       "      <td>NaN</td>\n",
       "      <td>2020-01-02 20:27:00+00:00</td>\n",
       "      <td>long_rental</td>\n",
       "      <td>4-99</td>\n",
       "    </tr>\n",
       "    <tr>\n",
       "      <th>1862978</th>\n",
       "      <td>6</td>\n",
       "      <td>1</td>\n",
       "      <td>9</td>\n",
       "      <td>898</td>\n",
       "      <td>77</td>\n",
       "      <td>4</td>\n",
       "      <td>174</td>\n",
       "      <td>2019-12-31 23:00:00+00:00</td>\n",
       "      <td>28012</td>\n",
       "      <td>2020-01-01 13:57:59.999990400+00:00</td>\n",
       "      <td>short_rental</td>\n",
       "      <td>77-174</td>\n",
       "    </tr>\n",
       "    <tr>\n",
       "      <th>1862979</th>\n",
       "      <td>24</td>\n",
       "      <td>1</td>\n",
       "      <td>18</td>\n",
       "      <td>15890</td>\n",
       "      <td>216</td>\n",
       "      <td>4</td>\n",
       "      <td>216</td>\n",
       "      <td>2019-12-31 23:00:00+00:00</td>\n",
       "      <td>28005</td>\n",
       "      <td>2020-01-11 23:49:59.999980799+00:00</td>\n",
       "      <td>long_rental</td>\n",
       "      <td>216-216</td>\n",
       "    </tr>\n",
       "    <tr>\n",
       "      <th>1862980</th>\n",
       "      <td>17</td>\n",
       "      <td>1</td>\n",
       "      <td>24</td>\n",
       "      <td>452</td>\n",
       "      <td>170</td>\n",
       "      <td>0</td>\n",
       "      <td>208</td>\n",
       "      <td>2019-12-31 23:00:00+00:00</td>\n",
       "      <td>NaN</td>\n",
       "      <td>2020-01-01 06:32:00.000009600+00:00</td>\n",
       "      <td>short_rental</td>\n",
       "      <td>170-208</td>\n",
       "    </tr>\n",
       "  </tbody>\n",
       "</table>\n",
       "<p>1862981 rows × 12 columns</p>\n",
       "</div>"
      ],
      "text/plain": [
       "         idplug_base  user_type  idunplug_base  travel_time  idunplug_station  \\\n",
       "0                  5          1             20          154                44   \n",
       "1                  8          1             17          184                57   \n",
       "2                 15          1             16          282                53   \n",
       "3                 18          1             18          388                56   \n",
       "4                  1          1             20          254               105   \n",
       "...              ...        ...            ...          ...               ...   \n",
       "1862976           17          1             24         1433               204   \n",
       "1862977            1          1              8         2727                 4   \n",
       "1862978            6          1              9          898                77   \n",
       "1862979           24          1             18        15890               216   \n",
       "1862980           17          1             24          452               170   \n",
       "\n",
       "         ageRange  idplug_station            unplug_hourTime zip_code  \\\n",
       "0               5              40  2019-07-01 00:00:00+00:00    28007   \n",
       "1               4             129  2019-07-01 00:00:00+00:00    28045   \n",
       "2               4              43  2019-07-01 00:00:00+00:00      NaN   \n",
       "3               0              13  2019-07-01 00:00:00+00:00      NaN   \n",
       "4               0              75  2019-07-01 00:00:00+00:00      NaN   \n",
       "...           ...             ...                        ...      ...   \n",
       "1862976         4             180  2019-12-31 23:00:00+00:00    28045   \n",
       "1862977         0              99  2019-12-31 23:00:00+00:00      NaN   \n",
       "1862978         4             174  2019-12-31 23:00:00+00:00    28012   \n",
       "1862979         4             216  2019-12-31 23:00:00+00:00    28005   \n",
       "1862980         0             208  2019-12-31 23:00:00+00:00      NaN   \n",
       "\n",
       "                                 return_date        status Origen_destino  \n",
       "0        2019-07-01 02:33:59.999961600+00:00  short_rental          44-40  \n",
       "1        2019-07-01 03:04:00.000019200+00:00  short_rental         57-129  \n",
       "2        2019-07-01 04:41:59.999971200+00:00  short_rental          53-43  \n",
       "3        2019-07-01 06:27:59.999961600+00:00  short_rental          56-13  \n",
       "4        2019-07-01 04:14:00.000009600+00:00  short_rental         105-75  \n",
       "...                                      ...           ...            ...  \n",
       "1862976  2020-01-01 22:53:00.000009600+00:00  short_rental        204-180  \n",
       "1862977            2020-01-02 20:27:00+00:00   long_rental           4-99  \n",
       "1862978  2020-01-01 13:57:59.999990400+00:00  short_rental         77-174  \n",
       "1862979  2020-01-11 23:49:59.999980799+00:00   long_rental        216-216  \n",
       "1862980  2020-01-01 06:32:00.000009600+00:00  short_rental        170-208  \n",
       "\n",
       "[1862981 rows x 12 columns]"
      ]
     },
     "execution_count": 38,
     "metadata": {},
     "output_type": "execute_result"
    }
   ],
   "source": [
    "bases = pd.read_csv('../Data/Itinerarios/itinerarios.csv',index_col=0, dtype={'zip_code': 'str'})\n",
    "bases"
   ]
  },
  {
   "cell_type": "markdown",
   "id": "1562cf0f",
   "metadata": {},
   "source": [
    "### Reshape data"
   ]
  },
  {
   "cell_type": "markdown",
   "id": "cd0752f5",
   "metadata": {},
   "source": [
    "Only take into consideration short rentals (we dont't want to consider lost or erroneous movements) and user_type == 1 or 2 (no bicimad employees movements)"
   ]
  },
  {
   "cell_type": "markdown",
   "id": "3a333f01",
   "metadata": {},
   "source": [
    "Filter station to explore"
   ]
  },
  {
   "cell_type": "code",
   "execution_count": 47,
   "id": "74f7b508",
   "metadata": {},
   "outputs": [
    {
     "data": {
      "text/html": [
       "<div>\n",
       "<style scoped>\n",
       "    .dataframe tbody tr th:only-of-type {\n",
       "        vertical-align: middle;\n",
       "    }\n",
       "\n",
       "    .dataframe tbody tr th {\n",
       "        vertical-align: top;\n",
       "    }\n",
       "\n",
       "    .dataframe thead th {\n",
       "        text-align: right;\n",
       "    }\n",
       "</style>\n",
       "<table border=\"1\" class=\"dataframe\">\n",
       "  <thead>\n",
       "    <tr style=\"text-align: right;\">\n",
       "      <th></th>\n",
       "      <th>user_type</th>\n",
       "      <th>travel_time</th>\n",
       "      <th>idunplug_station</th>\n",
       "      <th>ageRange</th>\n",
       "      <th>idplug_station</th>\n",
       "      <th>unplug_hourTime</th>\n",
       "      <th>status</th>\n",
       "      <th>Origen_destino</th>\n",
       "      <th>Número_Salida</th>\n",
       "      <th>Distrito_Salida</th>\n",
       "      <th>Barrio_Salida</th>\n",
       "      <th>Número de Plazas_Salida</th>\n",
       "      <th>Latitud_Salida</th>\n",
       "      <th>Longitud_Salida</th>\n",
       "      <th>Número_Llegada</th>\n",
       "      <th>Distrito_Llegada</th>\n",
       "      <th>Barrio_Llegada</th>\n",
       "      <th>Número de Plazas_Llegada</th>\n",
       "      <th>Latitud_Llegada</th>\n",
       "      <th>Longitud_Llegada</th>\n",
       "      <th>name_Salida</th>\n",
       "      <th>address_Salida</th>\n",
       "      <th>name_Llegada</th>\n",
       "      <th>address_Llegada</th>\n",
       "      <th>dayofweek</th>\n",
       "      <th>hour</th>\n",
       "    </tr>\n",
       "  </thead>\n",
       "  <tbody>\n",
       "    <tr>\n",
       "      <th>0</th>\n",
       "      <td>1</td>\n",
       "      <td>154</td>\n",
       "      <td>44</td>\n",
       "      <td>5</td>\n",
       "      <td>40</td>\n",
       "      <td>2019-07-01 00:00:00+00:00</td>\n",
       "      <td>short_rental</td>\n",
       "      <td>44-40</td>\n",
       "      <td>44</td>\n",
       "      <td>01  CENTRO</td>\n",
       "      <td>01-02 EMBAJADORES</td>\n",
       "      <td>21.0</td>\n",
       "      <td>40.409817</td>\n",
       "      <td>-3.703914</td>\n",
       "      <td>40</td>\n",
       "      <td>01  CENTRO</td>\n",
       "      <td>01-02 EMBAJADORES</td>\n",
       "      <td>24.0</td>\n",
       "      <td>40.413788</td>\n",
       "      <td>-3.704746</td>\n",
       "      <td>Plaza de Nelson Mandela</td>\n",
       "      <td>Calle Mesón de Paredes nº 35</td>\n",
       "      <td>Conde de Romanones</td>\n",
       "      <td>Plaza del Conde de Romanones nº 9</td>\n",
       "      <td>0</td>\n",
       "      <td>0</td>\n",
       "    </tr>\n",
       "    <tr>\n",
       "      <th>1</th>\n",
       "      <td>1</td>\n",
       "      <td>184</td>\n",
       "      <td>57</td>\n",
       "      <td>4</td>\n",
       "      <td>129</td>\n",
       "      <td>2019-07-01 00:00:00+00:00</td>\n",
       "      <td>short_rental</td>\n",
       "      <td>57-129</td>\n",
       "      <td>57</td>\n",
       "      <td>01  CENTRO</td>\n",
       "      <td>01-05 UNIVERSIDAD</td>\n",
       "      <td>24.0</td>\n",
       "      <td>40.429638</td>\n",
       "      <td>-3.712818</td>\n",
       "      <td>129</td>\n",
       "      <td>07  CHAMBERÍ</td>\n",
       "      <td>07-05 RÍOS ROSAS</td>\n",
       "      <td>24.0</td>\n",
       "      <td>40.438469</td>\n",
       "      <td>-3.698282</td>\n",
       "      <td>Santa Cruz del Marcenado</td>\n",
       "      <td>Calle Santa Cruz del Marcenado nº 24</td>\n",
       "      <td>José Abascal</td>\n",
       "      <td>Calle José Abascal nº 33</td>\n",
       "      <td>0</td>\n",
       "      <td>0</td>\n",
       "    </tr>\n",
       "    <tr>\n",
       "      <th>2</th>\n",
       "      <td>1</td>\n",
       "      <td>282</td>\n",
       "      <td>53</td>\n",
       "      <td>4</td>\n",
       "      <td>43</td>\n",
       "      <td>2019-07-01 00:00:00+00:00</td>\n",
       "      <td>short_rental</td>\n",
       "      <td>53-43</td>\n",
       "      <td>53</td>\n",
       "      <td>01  CENTRO</td>\n",
       "      <td>01-02 EMBAJADORES</td>\n",
       "      <td>24.0</td>\n",
       "      <td>40.408279</td>\n",
       "      <td>-3.700730</td>\n",
       "      <td>43</td>\n",
       "      <td>01  CENTRO</td>\n",
       "      <td>01-02 EMBAJADORES</td>\n",
       "      <td>24.0</td>\n",
       "      <td>40.410088</td>\n",
       "      <td>-3.702545</td>\n",
       "      <td>Plaza de Lavapiés</td>\n",
       "      <td>Calle Valencia nº 1</td>\n",
       "      <td>Jesús y María</td>\n",
       "      <td>Calle Lavapiés nº 34-36</td>\n",
       "      <td>0</td>\n",
       "      <td>0</td>\n",
       "    </tr>\n",
       "    <tr>\n",
       "      <th>3</th>\n",
       "      <td>1</td>\n",
       "      <td>388</td>\n",
       "      <td>56</td>\n",
       "      <td>0</td>\n",
       "      <td>13</td>\n",
       "      <td>2019-07-01 00:00:00+00:00</td>\n",
       "      <td>short_rental</td>\n",
       "      <td>56-13</td>\n",
       "      <td>56</td>\n",
       "      <td>01  CENTRO</td>\n",
       "      <td>01-06 SOL</td>\n",
       "      <td>24.0</td>\n",
       "      <td>40.418484</td>\n",
       "      <td>-3.703288</td>\n",
       "      <td>13</td>\n",
       "      <td>01  CENTRO</td>\n",
       "      <td>01-05 UNIVERSIDAD</td>\n",
       "      <td>24.0</td>\n",
       "      <td>40.427364</td>\n",
       "      <td>-3.710473</td>\n",
       "      <td>Plaza del Carmen</td>\n",
       "      <td>Plaza del Carmen nº 1</td>\n",
       "      <td>Conde Duque</td>\n",
       "      <td>Calle Conde Duque nº 22</td>\n",
       "      <td>0</td>\n",
       "      <td>0</td>\n",
       "    </tr>\n",
       "    <tr>\n",
       "      <th>4</th>\n",
       "      <td>1</td>\n",
       "      <td>254</td>\n",
       "      <td>105</td>\n",
       "      <td>0</td>\n",
       "      <td>75</td>\n",
       "      <td>2019-07-01 00:00:00+00:00</td>\n",
       "      <td>short_rental</td>\n",
       "      <td>105-75</td>\n",
       "      <td>105</td>\n",
       "      <td>04  SALAMANCA</td>\n",
       "      <td>04-01 RECOLETOS</td>\n",
       "      <td>24.0</td>\n",
       "      <td>40.427067</td>\n",
       "      <td>-3.687474</td>\n",
       "      <td>75</td>\n",
       "      <td>03  RETIRO</td>\n",
       "      <td>03-05 JERÓNIMOS</td>\n",
       "      <td>24.0</td>\n",
       "      <td>40.408340</td>\n",
       "      <td>-3.678415</td>\n",
       "      <td>Serrano</td>\n",
       "      <td>Calle Serrano nº 54</td>\n",
       "      <td>Menéndez Pelayo</td>\n",
       "      <td>Avenida de Menéndez Pelayo nº 90</td>\n",
       "      <td>0</td>\n",
       "      <td>0</td>\n",
       "    </tr>\n",
       "  </tbody>\n",
       "</table>\n",
       "</div>"
      ],
      "text/plain": [
       "   user_type  travel_time  idunplug_station  ageRange  idplug_station  \\\n",
       "0          1          154                44         5              40   \n",
       "1          1          184                57         4             129   \n",
       "2          1          282                53         4              43   \n",
       "3          1          388                56         0              13   \n",
       "4          1          254               105         0              75   \n",
       "\n",
       "            unplug_hourTime        status Origen_destino  Número_Salida  \\\n",
       "0 2019-07-01 00:00:00+00:00  short_rental          44-40             44   \n",
       "1 2019-07-01 00:00:00+00:00  short_rental         57-129             57   \n",
       "2 2019-07-01 00:00:00+00:00  short_rental          53-43             53   \n",
       "3 2019-07-01 00:00:00+00:00  short_rental          56-13             56   \n",
       "4 2019-07-01 00:00:00+00:00  short_rental         105-75            105   \n",
       "\n",
       "  Distrito_Salida      Barrio_Salida  Número de Plazas_Salida  Latitud_Salida  \\\n",
       "0      01  CENTRO  01-02 EMBAJADORES                     21.0       40.409817   \n",
       "1      01  CENTRO  01-05 UNIVERSIDAD                     24.0       40.429638   \n",
       "2      01  CENTRO  01-02 EMBAJADORES                     24.0       40.408279   \n",
       "3      01  CENTRO          01-06 SOL                     24.0       40.418484   \n",
       "4   04  SALAMANCA    04-01 RECOLETOS                     24.0       40.427067   \n",
       "\n",
       "   Longitud_Salida  Número_Llegada Distrito_Llegada     Barrio_Llegada  \\\n",
       "0        -3.703914              40       01  CENTRO  01-02 EMBAJADORES   \n",
       "1        -3.712818             129     07  CHAMBERÍ   07-05 RÍOS ROSAS   \n",
       "2        -3.700730              43       01  CENTRO  01-02 EMBAJADORES   \n",
       "3        -3.703288              13       01  CENTRO  01-05 UNIVERSIDAD   \n",
       "4        -3.687474              75       03  RETIRO    03-05 JERÓNIMOS   \n",
       "\n",
       "   Número de Plazas_Llegada  Latitud_Llegada  Longitud_Llegada  \\\n",
       "0                      24.0        40.413788         -3.704746   \n",
       "1                      24.0        40.438469         -3.698282   \n",
       "2                      24.0        40.410088         -3.702545   \n",
       "3                      24.0        40.427364         -3.710473   \n",
       "4                      24.0        40.408340         -3.678415   \n",
       "\n",
       "                name_Salida                        address_Salida  \\\n",
       "0   Plaza de Nelson Mandela          Calle Mesón de Paredes nº 35   \n",
       "1  Santa Cruz del Marcenado  Calle Santa Cruz del Marcenado nº 24   \n",
       "2         Plaza de Lavapiés                   Calle Valencia nº 1   \n",
       "3         Plaza del Carmen                  Plaza del Carmen nº 1   \n",
       "4                   Serrano                   Calle Serrano nº 54   \n",
       "\n",
       "         name_Llegada                    address_Llegada  dayofweek  hour  \n",
       "0  Conde de Romanones  Plaza del Conde de Romanones nº 9          0     0  \n",
       "1        José Abascal           Calle José Abascal nº 33          0     0  \n",
       "2       Jesús y María            Calle Lavapiés nº 34-36          0     0  \n",
       "3         Conde Duque            Calle Conde Duque nº 22          0     0  \n",
       "4     Menéndez Pelayo   Avenida de Menéndez Pelayo nº 90          0     0  "
      ]
     },
     "execution_count": 47,
     "metadata": {},
     "output_type": "execute_result"
    }
   ],
   "source": [
    "itinerarios1 = itinerarios_bases[(itinerarios_bases[\"user_type\"].isin([1,2]))&(itinerarios_bases[\"status\"]==\"short_rental\")]\n",
    "itinerarios1.head()"
   ]
  },
  {
   "cell_type": "code",
   "execution_count": 43,
   "id": "c82e4d9b",
   "metadata": {},
   "outputs": [],
   "source": [
    "def topNRutas(df, n_top ): \n",
    "    cols_rutas=['Origen_destino','Latitud_Salida','Longitud_Salida','Distrito_Salida','Latitud_Llegada','Longitud_Llegada','Distrito_Llegada', 'idplug_station', 'idunplug_station' ]\n",
    "    df_rutas=df[df['idplug_station']!=df['idunplug_station'] ].groupby(cols_rutas)['user_type'].count().to_frame().reset_index().sort_values('user_type', ascending=False)\n",
    "    df_rutas.rename(columns= {'user_type': 'viajes'},  inplace=True )\n",
    "    topRutas=df_rutas.head(25)\n",
    "    topRutas.loc[:,'ruta']=topRutas.apply(lambda x: sorted([x.Longitud_Salida, x.Latitud_Salida, x.Longitud_Llegada, x.Latitud_Llegada]), axis=1)\n",
    "    topRutas.loc[:,'ruta']=topRutas['ruta'].apply(lambda x: ' '.join([str(word) for word in x]))\n",
    "    \n",
    "    def rutas(df): \n",
    "        \n",
    "        long_llegada=df['Longitud_Llegada'].iloc[0]\n",
    "        lat_llegada=df['Latitud_Llegada'].iloc[0]\n",
    "        distrito_llegada=df['Distrito_Llegada'].iloc[0]\n",
    "        \n",
    "        'idplug_station',\n",
    "        'idunplug_station'\n",
    "        \n",
    "        idplug_station=df['idplug_station'].iloc[0]\n",
    "        idunplug_station=df['idunplug_station'].iloc[0]\n",
    "\n",
    "        long_salida=df['Longitud_Salida'].iloc[0]\n",
    "        lat_salida=df['Latitud_Salida'].iloc[0]\n",
    "        distrito_salida=df['Distrito_Salida'].iloc[0]\n",
    "        viajes=df['viajes'].sum()\n",
    "        \n",
    "        cols= ['idplug_station','idunplug_station','Latitud_Salida','Longitud_Salida','Distrito_Salida','Latitud_Llegada','Longitud_Llegada','Distrito_Llegada', 'viajes']\n",
    "        datos=[idplug_station, idunplug_station, lat_salida, long_salida, distrito_salida, lat_llegada, long_llegada,distrito_llegada, viajes]\n",
    "        return pd.Series(dict(zip(cols,datos)))\n",
    "                \n",
    "    topRutasFin= topRutas.groupby('ruta').apply(rutas).reset_index()\n",
    "    return(topRutasFin.head(n_top))\n"
   ]
  },
  {
   "cell_type": "code",
   "execution_count": 44,
   "id": "0b540082",
   "metadata": {},
   "outputs": [],
   "source": [
    "def topNRutas2(df, n_top ): \n",
    "    cols_rutas=['Origen_destino','travel_time','Latitud_Salida','Longitud_Salida','Distrito_Salida','Latitud_Llegada','Longitud_Llegada','Distrito_Llegada', 'idplug_station', 'idunplug_station', 'name_Salida', 'name_Llegada' ]\n",
    "    df_rutas=df[df['idplug_station']!=df['idunplug_station'] ].groupby(cols_rutas)['user_type'].count().to_frame().reset_index().sort_values('user_type', ascending=False)\n",
    "    df_rutas.rename(columns= {'user_type': 'viajes'},  inplace=True )\n",
    "    topRutas=df_rutas.head(25)\n",
    "    topRutas.loc[:,'ruta']=topRutas.apply(lambda x: sorted([x.Longitud_Salida, x.Latitud_Salida, x.Longitud_Llegada, x.Latitud_Llegada]), axis=1)\n",
    "    topRutas.loc[:,'ruta']=topRutas['ruta'].apply(lambda x: ' '.join([str(word) for word in x]))\n",
    "    \n",
    "    def rutas(df): \n",
    "        \n",
    "        long_llegada=df['Longitud_Llegada'].iloc[0]\n",
    "        lat_llegada=df['Latitud_Llegada'].iloc[0]\n",
    "        distrito_llegada=df['Distrito_Llegada'].iloc[0]\n",
    "       \n",
    "        \n",
    "        idplug_station=df['idplug_station'].iloc[0]\n",
    "        idunplug_station=df['idunplug_station'].iloc[0]\n",
    "        \n",
    "        name_salida=df['name_Salida'].iloc[0]\n",
    "        name_llegada=df['name_Llegada'].iloc[0]\n",
    "        \n",
    "        \n",
    "        travel_time=df['travel_time'].mean()\n",
    "        long_salida=df['Longitud_Salida'].iloc[0]\n",
    "        lat_salida=df['Latitud_Salida'].iloc[0]\n",
    "        distrito_salida=df['Distrito_Salida'].iloc[0]\n",
    "        viajes=df['viajes'].sum()\n",
    "        \n",
    "        cols= ['idplug_station','name_Llegada' ,'idunplug_station','name_Salida','travel_time','Latitud_Salida','Longitud_Salida','Distrito_Salida','Latitud_Llegada','Longitud_Llegada','Distrito_Llegada', 'viajes']\n",
    "        datos=[idplug_station,name_llegada ,idunplug_station,name_salida, travel_time, lat_salida, long_salida, distrito_salida, lat_llegada, long_llegada,distrito_llegada, viajes]\n",
    "        return pd.Series(dict(zip(cols,datos)))\n",
    "                \n",
    "    topRutasFin= topRutas.groupby('ruta').apply(rutas).reset_index()\n",
    "    return(topRutasFin.head(n_top))\n"
   ]
  },
  {
   "cell_type": "code",
   "execution_count": 20,
   "id": "4fdbca0a",
   "metadata": {},
   "outputs": [
    {
     "name": "stdout",
     "output_type": "stream",
     "text": [
      "¿Qué estación quieres explorar?: 175\n",
      "175\n"
     ]
    }
   ],
   "source": [
    "N_station = int(input(\"¿Qué estación quieres explorar?: \"))\n",
    "itinerarios1 = itinerarios1[itinerarios1[\"idunplug_station\"] == N_station].reset_index(drop=True)\n",
    "print(N_station)"
   ]
  },
  {
   "cell_type": "code",
   "execution_count": 30,
   "id": "05c0d41a",
   "metadata": {},
   "outputs": [
    {
     "data": {
      "text/html": [
       "<div>\n",
       "<style scoped>\n",
       "    .dataframe tbody tr th:only-of-type {\n",
       "        vertical-align: middle;\n",
       "    }\n",
       "\n",
       "    .dataframe tbody tr th {\n",
       "        vertical-align: top;\n",
       "    }\n",
       "\n",
       "    .dataframe thead th {\n",
       "        text-align: right;\n",
       "    }\n",
       "</style>\n",
       "<table border=\"1\" class=\"dataframe\">\n",
       "  <thead>\n",
       "    <tr style=\"text-align: right;\">\n",
       "      <th></th>\n",
       "      <th>idplug_station</th>\n",
       "      <th>travel_time</th>\n",
       "    </tr>\n",
       "  </thead>\n",
       "  <tbody>\n",
       "    <tr>\n",
       "      <th>0</th>\n",
       "      <td>1</td>\n",
       "      <td>484.487850</td>\n",
       "    </tr>\n",
       "    <tr>\n",
       "      <th>1</th>\n",
       "      <td>2</td>\n",
       "      <td>488.880952</td>\n",
       "    </tr>\n",
       "    <tr>\n",
       "      <th>2</th>\n",
       "      <td>3</td>\n",
       "      <td>650.369427</td>\n",
       "    </tr>\n",
       "    <tr>\n",
       "      <th>3</th>\n",
       "      <td>4</td>\n",
       "      <td>1001.116279</td>\n",
       "    </tr>\n",
       "    <tr>\n",
       "      <th>4</th>\n",
       "      <td>5</td>\n",
       "      <td>841.702830</td>\n",
       "    </tr>\n",
       "    <tr>\n",
       "      <th>...</th>\n",
       "      <td>...</td>\n",
       "      <td>...</td>\n",
       "    </tr>\n",
       "    <tr>\n",
       "      <th>190</th>\n",
       "      <td>211</td>\n",
       "      <td>1022.033898</td>\n",
       "    </tr>\n",
       "    <tr>\n",
       "      <th>191</th>\n",
       "      <td>212</td>\n",
       "      <td>1311.000000</td>\n",
       "    </tr>\n",
       "    <tr>\n",
       "      <th>192</th>\n",
       "      <td>213</td>\n",
       "      <td>1271.681818</td>\n",
       "    </tr>\n",
       "    <tr>\n",
       "      <th>193</th>\n",
       "      <td>218</td>\n",
       "      <td>594.729730</td>\n",
       "    </tr>\n",
       "    <tr>\n",
       "      <th>194</th>\n",
       "      <td>219</td>\n",
       "      <td>666.648438</td>\n",
       "    </tr>\n",
       "  </tbody>\n",
       "</table>\n",
       "<p>195 rows × 2 columns</p>\n",
       "</div>"
      ],
      "text/plain": [
       "     idplug_station  travel_time\n",
       "0                 1   484.487850\n",
       "1                 2   488.880952\n",
       "2                 3   650.369427\n",
       "3                 4  1001.116279\n",
       "4                 5   841.702830\n",
       "..              ...          ...\n",
       "190             211  1022.033898\n",
       "191             212  1311.000000\n",
       "192             213  1271.681818\n",
       "193             218   594.729730\n",
       "194             219   666.648438\n",
       "\n",
       "[195 rows x 2 columns]"
      ]
     },
     "execution_count": 30,
     "metadata": {},
     "output_type": "execute_result"
    }
   ],
   "source": [
    "itinerarios1.groupby(itinerarios1[\"idplug_station\"]).agg({'travel_time':'mean'}).reset_index()"
   ]
  },
  {
   "cell_type": "code",
   "execution_count": 50,
   "id": "09a89f78",
   "metadata": {},
   "outputs": [
    {
     "name": "stderr",
     "output_type": "stream",
     "text": [
      "c:\\Users\\visit\\Anaconda3\\lib\\site-packages\\pandas\\core\\indexing.py:1597: SettingWithCopyWarning:\n",
      "\n",
      "\n",
      "A value is trying to be set on a copy of a slice from a DataFrame.\n",
      "Try using .loc[row_indexer,col_indexer] = value instead\n",
      "\n",
      "See the caveats in the documentation: https://pandas.pydata.org/pandas-docs/stable/user_guide/indexing.html#returning-a-view-versus-a-copy\n",
      "\n",
      "c:\\Users\\visit\\Anaconda3\\lib\\site-packages\\pandas\\core\\indexing.py:1676: SettingWithCopyWarning:\n",
      "\n",
      "\n",
      "A value is trying to be set on a copy of a slice from a DataFrame.\n",
      "Try using .loc[row_indexer,col_indexer] = value instead\n",
      "\n",
      "See the caveats in the documentation: https://pandas.pydata.org/pandas-docs/stable/user_guide/indexing.html#returning-a-view-versus-a-copy\n",
      "\n"
     ]
    },
    {
     "data": {
      "text/html": [
       "<div>\n",
       "<style scoped>\n",
       "    .dataframe tbody tr th:only-of-type {\n",
       "        vertical-align: middle;\n",
       "    }\n",
       "\n",
       "    .dataframe tbody tr th {\n",
       "        vertical-align: top;\n",
       "    }\n",
       "\n",
       "    .dataframe thead th {\n",
       "        text-align: right;\n",
       "    }\n",
       "</style>\n",
       "<table border=\"1\" class=\"dataframe\">\n",
       "  <thead>\n",
       "    <tr style=\"text-align: right;\">\n",
       "      <th></th>\n",
       "      <th>ruta</th>\n",
       "      <th>idplug_station</th>\n",
       "      <th>name_Llegada</th>\n",
       "      <th>idunplug_station</th>\n",
       "      <th>name_Salida</th>\n",
       "      <th>travel_time</th>\n",
       "      <th>Latitud_Salida</th>\n",
       "      <th>Longitud_Salida</th>\n",
       "      <th>Distrito_Salida</th>\n",
       "      <th>Latitud_Llegada</th>\n",
       "      <th>Longitud_Llegada</th>\n",
       "      <th>Distrito_Llegada</th>\n",
       "      <th>viajes</th>\n",
       "    </tr>\n",
       "  </thead>\n",
       "  <tbody>\n",
       "    <tr>\n",
       "      <th>0</th>\n",
       "      <td>-3.69830322265625 -3.694542169570923 40.396266...</td>\n",
       "      <td>175</td>\n",
       "      <td>Jaime el Conquistador</td>\n",
       "      <td>26</td>\n",
       "      <td>Plaza de las Salesas</td>\n",
       "      <td>370.000000</td>\n",
       "      <td>40.423832</td>\n",
       "      <td>-3.694542</td>\n",
       "      <td>01  CENTRO</td>\n",
       "      <td>40.396267</td>\n",
       "      <td>-3.698303</td>\n",
       "      <td>02  ARGANZUELA</td>\n",
       "      <td>7</td>\n",
       "    </tr>\n",
       "    <tr>\n",
       "      <th>1</th>\n",
       "      <td>-3.69830322265625 -3.695580244064331 40.396266...</td>\n",
       "      <td>175</td>\n",
       "      <td>Jaime el Conquistador</td>\n",
       "      <td>27</td>\n",
       "      <td>Huertas</td>\n",
       "      <td>268.785714</td>\n",
       "      <td>40.413284</td>\n",
       "      <td>-3.695580</td>\n",
       "      <td>01  CENTRO</td>\n",
       "      <td>40.396267</td>\n",
       "      <td>-3.698303</td>\n",
       "      <td>02  ARGANZUELA</td>\n",
       "      <td>99</td>\n",
       "    </tr>\n",
       "    <tr>\n",
       "      <th>2</th>\n",
       "      <td>-3.701997995376587 -3.69830322265625 40.396266...</td>\n",
       "      <td>175</td>\n",
       "      <td>Jaime el Conquistador</td>\n",
       "      <td>1</td>\n",
       "      <td>Puerta del Sol</td>\n",
       "      <td>431.500000</td>\n",
       "      <td>40.417110</td>\n",
       "      <td>-3.701998</td>\n",
       "      <td>01  CENTRO</td>\n",
       "      <td>40.396267</td>\n",
       "      <td>-3.698303</td>\n",
       "      <td>02  ARGANZUELA</td>\n",
       "      <td>27</td>\n",
       "    </tr>\n",
       "    <tr>\n",
       "      <th>3</th>\n",
       "      <td>-3.702544689178467 -3.69830322265625 40.396266...</td>\n",
       "      <td>175</td>\n",
       "      <td>Jaime el Conquistador</td>\n",
       "      <td>43</td>\n",
       "      <td>Jesús y María</td>\n",
       "      <td>395.000000</td>\n",
       "      <td>40.410088</td>\n",
       "      <td>-3.702545</td>\n",
       "      <td>01  CENTRO</td>\n",
       "      <td>40.396267</td>\n",
       "      <td>-3.698303</td>\n",
       "      <td>02  ARGANZUELA</td>\n",
       "      <td>12</td>\n",
       "    </tr>\n",
       "    <tr>\n",
       "      <th>4</th>\n",
       "      <td>-3.7035911083221436 -3.69830322265625 40.39626...</td>\n",
       "      <td>175</td>\n",
       "      <td>Jaime el Conquistador</td>\n",
       "      <td>132</td>\n",
       "      <td>Glorieta de los Cuatro Caminos</td>\n",
       "      <td>366.500000</td>\n",
       "      <td>40.446388</td>\n",
       "      <td>-3.703591</td>\n",
       "      <td>07  CHAMBERÍ</td>\n",
       "      <td>40.396267</td>\n",
       "      <td>-3.698303</td>\n",
       "      <td>02  ARGANZUELA</td>\n",
       "      <td>13</td>\n",
       "    </tr>\n",
       "    <tr>\n",
       "      <th>5</th>\n",
       "      <td>-3.71144437789917 -3.69830322265625 40.3962669...</td>\n",
       "      <td>175</td>\n",
       "      <td>Jaime el Conquistador</td>\n",
       "      <td>38</td>\n",
       "      <td>Plaza de los Carros</td>\n",
       "      <td>322.000000</td>\n",
       "      <td>40.411297</td>\n",
       "      <td>-3.711444</td>\n",
       "      <td>01  CENTRO</td>\n",
       "      <td>40.396267</td>\n",
       "      <td>-3.698303</td>\n",
       "      <td>02  ARGANZUELA</td>\n",
       "      <td>13</td>\n",
       "    </tr>\n",
       "  </tbody>\n",
       "</table>\n",
       "</div>"
      ],
      "text/plain": [
       "                                                ruta  idplug_station  \\\n",
       "0  -3.69830322265625 -3.694542169570923 40.396266...             175   \n",
       "1  -3.69830322265625 -3.695580244064331 40.396266...             175   \n",
       "2  -3.701997995376587 -3.69830322265625 40.396266...             175   \n",
       "3  -3.702544689178467 -3.69830322265625 40.396266...             175   \n",
       "4  -3.7035911083221436 -3.69830322265625 40.39626...             175   \n",
       "5  -3.71144437789917 -3.69830322265625 40.3962669...             175   \n",
       "\n",
       "            name_Llegada  idunplug_station                     name_Salida  \\\n",
       "0  Jaime el Conquistador                26            Plaza de las Salesas   \n",
       "1  Jaime el Conquistador                27                         Huertas   \n",
       "2  Jaime el Conquistador                 1                  Puerta del Sol   \n",
       "3  Jaime el Conquistador                43                   Jesús y María   \n",
       "4  Jaime el Conquistador               132  Glorieta de los Cuatro Caminos   \n",
       "5  Jaime el Conquistador                38             Plaza de los Carros   \n",
       "\n",
       "   travel_time  Latitud_Salida  Longitud_Salida Distrito_Salida  \\\n",
       "0   370.000000       40.423832        -3.694542      01  CENTRO   \n",
       "1   268.785714       40.413284        -3.695580      01  CENTRO   \n",
       "2   431.500000       40.417110        -3.701998      01  CENTRO   \n",
       "3   395.000000       40.410088        -3.702545      01  CENTRO   \n",
       "4   366.500000       40.446388        -3.703591    07  CHAMBERÍ   \n",
       "5   322.000000       40.411297        -3.711444      01  CENTRO   \n",
       "\n",
       "   Latitud_Llegada  Longitud_Llegada Distrito_Llegada  viajes  \n",
       "0        40.396267         -3.698303   02  ARGANZUELA       7  \n",
       "1        40.396267         -3.698303   02  ARGANZUELA      99  \n",
       "2        40.396267         -3.698303   02  ARGANZUELA      27  \n",
       "3        40.396267         -3.698303   02  ARGANZUELA      12  \n",
       "4        40.396267         -3.698303   02  ARGANZUELA      13  \n",
       "5        40.396267         -3.698303   02  ARGANZUELA      13  "
      ]
     },
     "execution_count": 50,
     "metadata": {},
     "output_type": "execute_result"
    }
   ],
   "source": [
    "aux=itinerarios1[itinerarios1['idplug_station']==175]\n",
    "aux\n",
    "rutas=topNRutas2(aux, 7)\n",
    "rutas"
   ]
  },
  {
   "cell_type": "code",
   "execution_count": 53,
   "id": "cfcda9bb",
   "metadata": {},
   "outputs": [
    {
     "data": {
      "application/vnd.plotly.v1+json": {
       "config": {
        "plotlyServerURL": "https://plot.ly"
       },
       "data": [
        {
         "fill": "toself",
         "hovertemplate": "travel_time=%{r}<br>name_Salida=%{theta}<extra></extra>",
         "legendgroup": "",
         "line": {
          "color": "#18bc9c",
          "dash": "solid"
         },
         "marker": {
          "symbol": "circle"
         },
         "mode": "lines",
         "name": "",
         "r": [
          370,
          268.7857142857143,
          431.5,
          395,
          366.5,
          322,
          370
         ],
         "showlegend": false,
         "subplot": "polar",
         "theta": [
          "Plaza de las Salesas",
          "Huertas",
          "Puerta del Sol",
          "Jesús y María",
          "Glorieta de los Cuatro Caminos",
          "Plaza de los Carros",
          "Plaza de las Salesas"
         ],
         "type": "scatterpolar"
        }
       ],
       "layout": {
        "legend": {
         "tracegroupgap": 0
        },
        "margin": {
         "t": 60
        },
        "polar": {
         "angularaxis": {
          "direction": "clockwise",
          "rotation": 90
         },
         "domain": {
          "x": [
           0,
           1
          ],
          "y": [
           0,
           1
          ]
         }
        },
        "template": {
         "data": {
          "bar": [
           {
            "error_x": {
             "color": "#2a3f5f"
            },
            "error_y": {
             "color": "#2a3f5f"
            },
            "marker": {
             "line": {
              "color": "#E5ECF6",
              "width": 0.5
             },
             "pattern": {
              "fillmode": "overlay",
              "size": 10,
              "solidity": 0.2
             }
            },
            "type": "bar"
           }
          ],
          "barpolar": [
           {
            "marker": {
             "line": {
              "color": "#E5ECF6",
              "width": 0.5
             },
             "pattern": {
              "fillmode": "overlay",
              "size": 10,
              "solidity": 0.2
             }
            },
            "type": "barpolar"
           }
          ],
          "carpet": [
           {
            "aaxis": {
             "endlinecolor": "#2a3f5f",
             "gridcolor": "white",
             "linecolor": "white",
             "minorgridcolor": "white",
             "startlinecolor": "#2a3f5f"
            },
            "baxis": {
             "endlinecolor": "#2a3f5f",
             "gridcolor": "white",
             "linecolor": "white",
             "minorgridcolor": "white",
             "startlinecolor": "#2a3f5f"
            },
            "type": "carpet"
           }
          ],
          "choropleth": [
           {
            "colorbar": {
             "outlinewidth": 0,
             "ticks": ""
            },
            "type": "choropleth"
           }
          ],
          "contour": [
           {
            "colorbar": {
             "outlinewidth": 0,
             "ticks": ""
            },
            "colorscale": [
             [
              0,
              "#0d0887"
             ],
             [
              0.1111111111111111,
              "#46039f"
             ],
             [
              0.2222222222222222,
              "#7201a8"
             ],
             [
              0.3333333333333333,
              "#9c179e"
             ],
             [
              0.4444444444444444,
              "#bd3786"
             ],
             [
              0.5555555555555556,
              "#d8576b"
             ],
             [
              0.6666666666666666,
              "#ed7953"
             ],
             [
              0.7777777777777778,
              "#fb9f3a"
             ],
             [
              0.8888888888888888,
              "#fdca26"
             ],
             [
              1,
              "#f0f921"
             ]
            ],
            "type": "contour"
           }
          ],
          "contourcarpet": [
           {
            "colorbar": {
             "outlinewidth": 0,
             "ticks": ""
            },
            "type": "contourcarpet"
           }
          ],
          "heatmap": [
           {
            "colorbar": {
             "outlinewidth": 0,
             "ticks": ""
            },
            "colorscale": [
             [
              0,
              "#0d0887"
             ],
             [
              0.1111111111111111,
              "#46039f"
             ],
             [
              0.2222222222222222,
              "#7201a8"
             ],
             [
              0.3333333333333333,
              "#9c179e"
             ],
             [
              0.4444444444444444,
              "#bd3786"
             ],
             [
              0.5555555555555556,
              "#d8576b"
             ],
             [
              0.6666666666666666,
              "#ed7953"
             ],
             [
              0.7777777777777778,
              "#fb9f3a"
             ],
             [
              0.8888888888888888,
              "#fdca26"
             ],
             [
              1,
              "#f0f921"
             ]
            ],
            "type": "heatmap"
           }
          ],
          "heatmapgl": [
           {
            "colorbar": {
             "outlinewidth": 0,
             "ticks": ""
            },
            "colorscale": [
             [
              0,
              "#0d0887"
             ],
             [
              0.1111111111111111,
              "#46039f"
             ],
             [
              0.2222222222222222,
              "#7201a8"
             ],
             [
              0.3333333333333333,
              "#9c179e"
             ],
             [
              0.4444444444444444,
              "#bd3786"
             ],
             [
              0.5555555555555556,
              "#d8576b"
             ],
             [
              0.6666666666666666,
              "#ed7953"
             ],
             [
              0.7777777777777778,
              "#fb9f3a"
             ],
             [
              0.8888888888888888,
              "#fdca26"
             ],
             [
              1,
              "#f0f921"
             ]
            ],
            "type": "heatmapgl"
           }
          ],
          "histogram": [
           {
            "marker": {
             "pattern": {
              "fillmode": "overlay",
              "size": 10,
              "solidity": 0.2
             }
            },
            "type": "histogram"
           }
          ],
          "histogram2d": [
           {
            "colorbar": {
             "outlinewidth": 0,
             "ticks": ""
            },
            "colorscale": [
             [
              0,
              "#0d0887"
             ],
             [
              0.1111111111111111,
              "#46039f"
             ],
             [
              0.2222222222222222,
              "#7201a8"
             ],
             [
              0.3333333333333333,
              "#9c179e"
             ],
             [
              0.4444444444444444,
              "#bd3786"
             ],
             [
              0.5555555555555556,
              "#d8576b"
             ],
             [
              0.6666666666666666,
              "#ed7953"
             ],
             [
              0.7777777777777778,
              "#fb9f3a"
             ],
             [
              0.8888888888888888,
              "#fdca26"
             ],
             [
              1,
              "#f0f921"
             ]
            ],
            "type": "histogram2d"
           }
          ],
          "histogram2dcontour": [
           {
            "colorbar": {
             "outlinewidth": 0,
             "ticks": ""
            },
            "colorscale": [
             [
              0,
              "#0d0887"
             ],
             [
              0.1111111111111111,
              "#46039f"
             ],
             [
              0.2222222222222222,
              "#7201a8"
             ],
             [
              0.3333333333333333,
              "#9c179e"
             ],
             [
              0.4444444444444444,
              "#bd3786"
             ],
             [
              0.5555555555555556,
              "#d8576b"
             ],
             [
              0.6666666666666666,
              "#ed7953"
             ],
             [
              0.7777777777777778,
              "#fb9f3a"
             ],
             [
              0.8888888888888888,
              "#fdca26"
             ],
             [
              1,
              "#f0f921"
             ]
            ],
            "type": "histogram2dcontour"
           }
          ],
          "mesh3d": [
           {
            "colorbar": {
             "outlinewidth": 0,
             "ticks": ""
            },
            "type": "mesh3d"
           }
          ],
          "parcoords": [
           {
            "line": {
             "colorbar": {
              "outlinewidth": 0,
              "ticks": ""
             }
            },
            "type": "parcoords"
           }
          ],
          "pie": [
           {
            "automargin": true,
            "type": "pie"
           }
          ],
          "scatter": [
           {
            "marker": {
             "colorbar": {
              "outlinewidth": 0,
              "ticks": ""
             }
            },
            "type": "scatter"
           }
          ],
          "scatter3d": [
           {
            "line": {
             "colorbar": {
              "outlinewidth": 0,
              "ticks": ""
             }
            },
            "marker": {
             "colorbar": {
              "outlinewidth": 0,
              "ticks": ""
             }
            },
            "type": "scatter3d"
           }
          ],
          "scattercarpet": [
           {
            "marker": {
             "colorbar": {
              "outlinewidth": 0,
              "ticks": ""
             }
            },
            "type": "scattercarpet"
           }
          ],
          "scattergeo": [
           {
            "marker": {
             "colorbar": {
              "outlinewidth": 0,
              "ticks": ""
             }
            },
            "type": "scattergeo"
           }
          ],
          "scattergl": [
           {
            "marker": {
             "colorbar": {
              "outlinewidth": 0,
              "ticks": ""
             }
            },
            "type": "scattergl"
           }
          ],
          "scattermapbox": [
           {
            "marker": {
             "colorbar": {
              "outlinewidth": 0,
              "ticks": ""
             }
            },
            "type": "scattermapbox"
           }
          ],
          "scatterpolar": [
           {
            "marker": {
             "colorbar": {
              "outlinewidth": 0,
              "ticks": ""
             }
            },
            "type": "scatterpolar"
           }
          ],
          "scatterpolargl": [
           {
            "marker": {
             "colorbar": {
              "outlinewidth": 0,
              "ticks": ""
             }
            },
            "type": "scatterpolargl"
           }
          ],
          "scatterternary": [
           {
            "marker": {
             "colorbar": {
              "outlinewidth": 0,
              "ticks": ""
             }
            },
            "type": "scatterternary"
           }
          ],
          "surface": [
           {
            "colorbar": {
             "outlinewidth": 0,
             "ticks": ""
            },
            "colorscale": [
             [
              0,
              "#0d0887"
             ],
             [
              0.1111111111111111,
              "#46039f"
             ],
             [
              0.2222222222222222,
              "#7201a8"
             ],
             [
              0.3333333333333333,
              "#9c179e"
             ],
             [
              0.4444444444444444,
              "#bd3786"
             ],
             [
              0.5555555555555556,
              "#d8576b"
             ],
             [
              0.6666666666666666,
              "#ed7953"
             ],
             [
              0.7777777777777778,
              "#fb9f3a"
             ],
             [
              0.8888888888888888,
              "#fdca26"
             ],
             [
              1,
              "#f0f921"
             ]
            ],
            "type": "surface"
           }
          ],
          "table": [
           {
            "cells": {
             "fill": {
              "color": "#EBF0F8"
             },
             "line": {
              "color": "white"
             }
            },
            "header": {
             "fill": {
              "color": "#C8D4E3"
             },
             "line": {
              "color": "white"
             }
            },
            "type": "table"
           }
          ]
         },
         "layout": {
          "annotationdefaults": {
           "arrowcolor": "#2a3f5f",
           "arrowhead": 0,
           "arrowwidth": 1
          },
          "autotypenumbers": "strict",
          "coloraxis": {
           "colorbar": {
            "outlinewidth": 0,
            "ticks": ""
           }
          },
          "colorscale": {
           "diverging": [
            [
             0,
             "#8e0152"
            ],
            [
             0.1,
             "#c51b7d"
            ],
            [
             0.2,
             "#de77ae"
            ],
            [
             0.3,
             "#f1b6da"
            ],
            [
             0.4,
             "#fde0ef"
            ],
            [
             0.5,
             "#f7f7f7"
            ],
            [
             0.6,
             "#e6f5d0"
            ],
            [
             0.7,
             "#b8e186"
            ],
            [
             0.8,
             "#7fbc41"
            ],
            [
             0.9,
             "#4d9221"
            ],
            [
             1,
             "#276419"
            ]
           ],
           "sequential": [
            [
             0,
             "#0d0887"
            ],
            [
             0.1111111111111111,
             "#46039f"
            ],
            [
             0.2222222222222222,
             "#7201a8"
            ],
            [
             0.3333333333333333,
             "#9c179e"
            ],
            [
             0.4444444444444444,
             "#bd3786"
            ],
            [
             0.5555555555555556,
             "#d8576b"
            ],
            [
             0.6666666666666666,
             "#ed7953"
            ],
            [
             0.7777777777777778,
             "#fb9f3a"
            ],
            [
             0.8888888888888888,
             "#fdca26"
            ],
            [
             1,
             "#f0f921"
            ]
           ],
           "sequentialminus": [
            [
             0,
             "#0d0887"
            ],
            [
             0.1111111111111111,
             "#46039f"
            ],
            [
             0.2222222222222222,
             "#7201a8"
            ],
            [
             0.3333333333333333,
             "#9c179e"
            ],
            [
             0.4444444444444444,
             "#bd3786"
            ],
            [
             0.5555555555555556,
             "#d8576b"
            ],
            [
             0.6666666666666666,
             "#ed7953"
            ],
            [
             0.7777777777777778,
             "#fb9f3a"
            ],
            [
             0.8888888888888888,
             "#fdca26"
            ],
            [
             1,
             "#f0f921"
            ]
           ]
          },
          "colorway": [
           "#636efa",
           "#EF553B",
           "#00cc96",
           "#ab63fa",
           "#FFA15A",
           "#19d3f3",
           "#FF6692",
           "#B6E880",
           "#FF97FF",
           "#FECB52"
          ],
          "font": {
           "color": "#2a3f5f"
          },
          "geo": {
           "bgcolor": "white",
           "lakecolor": "white",
           "landcolor": "#E5ECF6",
           "showlakes": true,
           "showland": true,
           "subunitcolor": "white"
          },
          "hoverlabel": {
           "align": "left"
          },
          "hovermode": "closest",
          "mapbox": {
           "style": "light"
          },
          "paper_bgcolor": "white",
          "plot_bgcolor": "#E5ECF6",
          "polar": {
           "angularaxis": {
            "gridcolor": "white",
            "linecolor": "white",
            "ticks": ""
           },
           "bgcolor": "#E5ECF6",
           "radialaxis": {
            "gridcolor": "white",
            "linecolor": "white",
            "ticks": ""
           }
          },
          "scene": {
           "xaxis": {
            "backgroundcolor": "#E5ECF6",
            "gridcolor": "white",
            "gridwidth": 2,
            "linecolor": "white",
            "showbackground": true,
            "ticks": "",
            "zerolinecolor": "white"
           },
           "yaxis": {
            "backgroundcolor": "#E5ECF6",
            "gridcolor": "white",
            "gridwidth": 2,
            "linecolor": "white",
            "showbackground": true,
            "ticks": "",
            "zerolinecolor": "white"
           },
           "zaxis": {
            "backgroundcolor": "#E5ECF6",
            "gridcolor": "white",
            "gridwidth": 2,
            "linecolor": "white",
            "showbackground": true,
            "ticks": "",
            "zerolinecolor": "white"
           }
          },
          "shapedefaults": {
           "line": {
            "color": "#2a3f5f"
           }
          },
          "ternary": {
           "aaxis": {
            "gridcolor": "white",
            "linecolor": "white",
            "ticks": ""
           },
           "baxis": {
            "gridcolor": "white",
            "linecolor": "white",
            "ticks": ""
           },
           "bgcolor": "#E5ECF6",
           "caxis": {
            "gridcolor": "white",
            "linecolor": "white",
            "ticks": ""
           }
          },
          "title": {
           "x": 0.05
          },
          "xaxis": {
           "automargin": true,
           "gridcolor": "white",
           "linecolor": "white",
           "ticks": "",
           "title": {
            "standoff": 15
           },
           "zerolinecolor": "white",
           "zerolinewidth": 2
          },
          "yaxis": {
           "automargin": true,
           "gridcolor": "white",
           "linecolor": "white",
           "ticks": "",
           "title": {
            "standoff": 15
           },
           "zerolinecolor": "white",
           "zerolinewidth": 2
          }
         }
        }
       }
      }
     },
     "metadata": {},
     "output_type": "display_data"
    }
   ],
   "source": [
    "\n",
    "fig = px.line_polar(rutas, r='travel_time', theta='name_Salida',line_close=True, )#\n",
    "\n",
    "fig.update_traces(fill='toself',line_color =\"#18bc9c\")\n",
    "\n",
    "fig.show()"
   ]
  },
  {
   "cell_type": "code",
   "execution_count": 14,
   "id": "49bcaf12",
   "metadata": {},
   "outputs": [
    {
     "data": {
      "application/vnd.plotly.v1+json": {
       "config": {
        "plotlyServerURL": "https://plot.ly"
       },
       "data": [
        {
         "mode": "markers",
         "r": [
          0
         ],
         "type": "scatterpolar"
        }
       ],
       "layout": {
        "polar": {
         "angularaxis": {
          "showticklabels": false
         },
         "radialaxis": {
          "showticklabels": false
         }
        },
        "showlegend": false,
        "template": {
         "data": {
          "bar": [
           {
            "error_x": {
             "color": "#2a3f5f"
            },
            "error_y": {
             "color": "#2a3f5f"
            },
            "marker": {
             "line": {
              "color": "#E5ECF6",
              "width": 0.5
             },
             "pattern": {
              "fillmode": "overlay",
              "size": 10,
              "solidity": 0.2
             }
            },
            "type": "bar"
           }
          ],
          "barpolar": [
           {
            "marker": {
             "line": {
              "color": "#E5ECF6",
              "width": 0.5
             },
             "pattern": {
              "fillmode": "overlay",
              "size": 10,
              "solidity": 0.2
             }
            },
            "type": "barpolar"
           }
          ],
          "carpet": [
           {
            "aaxis": {
             "endlinecolor": "#2a3f5f",
             "gridcolor": "white",
             "linecolor": "white",
             "minorgridcolor": "white",
             "startlinecolor": "#2a3f5f"
            },
            "baxis": {
             "endlinecolor": "#2a3f5f",
             "gridcolor": "white",
             "linecolor": "white",
             "minorgridcolor": "white",
             "startlinecolor": "#2a3f5f"
            },
            "type": "carpet"
           }
          ],
          "choropleth": [
           {
            "colorbar": {
             "outlinewidth": 0,
             "ticks": ""
            },
            "type": "choropleth"
           }
          ],
          "contour": [
           {
            "colorbar": {
             "outlinewidth": 0,
             "ticks": ""
            },
            "colorscale": [
             [
              0,
              "#0d0887"
             ],
             [
              0.1111111111111111,
              "#46039f"
             ],
             [
              0.2222222222222222,
              "#7201a8"
             ],
             [
              0.3333333333333333,
              "#9c179e"
             ],
             [
              0.4444444444444444,
              "#bd3786"
             ],
             [
              0.5555555555555556,
              "#d8576b"
             ],
             [
              0.6666666666666666,
              "#ed7953"
             ],
             [
              0.7777777777777778,
              "#fb9f3a"
             ],
             [
              0.8888888888888888,
              "#fdca26"
             ],
             [
              1,
              "#f0f921"
             ]
            ],
            "type": "contour"
           }
          ],
          "contourcarpet": [
           {
            "colorbar": {
             "outlinewidth": 0,
             "ticks": ""
            },
            "type": "contourcarpet"
           }
          ],
          "heatmap": [
           {
            "colorbar": {
             "outlinewidth": 0,
             "ticks": ""
            },
            "colorscale": [
             [
              0,
              "#0d0887"
             ],
             [
              0.1111111111111111,
              "#46039f"
             ],
             [
              0.2222222222222222,
              "#7201a8"
             ],
             [
              0.3333333333333333,
              "#9c179e"
             ],
             [
              0.4444444444444444,
              "#bd3786"
             ],
             [
              0.5555555555555556,
              "#d8576b"
             ],
             [
              0.6666666666666666,
              "#ed7953"
             ],
             [
              0.7777777777777778,
              "#fb9f3a"
             ],
             [
              0.8888888888888888,
              "#fdca26"
             ],
             [
              1,
              "#f0f921"
             ]
            ],
            "type": "heatmap"
           }
          ],
          "heatmapgl": [
           {
            "colorbar": {
             "outlinewidth": 0,
             "ticks": ""
            },
            "colorscale": [
             [
              0,
              "#0d0887"
             ],
             [
              0.1111111111111111,
              "#46039f"
             ],
             [
              0.2222222222222222,
              "#7201a8"
             ],
             [
              0.3333333333333333,
              "#9c179e"
             ],
             [
              0.4444444444444444,
              "#bd3786"
             ],
             [
              0.5555555555555556,
              "#d8576b"
             ],
             [
              0.6666666666666666,
              "#ed7953"
             ],
             [
              0.7777777777777778,
              "#fb9f3a"
             ],
             [
              0.8888888888888888,
              "#fdca26"
             ],
             [
              1,
              "#f0f921"
             ]
            ],
            "type": "heatmapgl"
           }
          ],
          "histogram": [
           {
            "marker": {
             "pattern": {
              "fillmode": "overlay",
              "size": 10,
              "solidity": 0.2
             }
            },
            "type": "histogram"
           }
          ],
          "histogram2d": [
           {
            "colorbar": {
             "outlinewidth": 0,
             "ticks": ""
            },
            "colorscale": [
             [
              0,
              "#0d0887"
             ],
             [
              0.1111111111111111,
              "#46039f"
             ],
             [
              0.2222222222222222,
              "#7201a8"
             ],
             [
              0.3333333333333333,
              "#9c179e"
             ],
             [
              0.4444444444444444,
              "#bd3786"
             ],
             [
              0.5555555555555556,
              "#d8576b"
             ],
             [
              0.6666666666666666,
              "#ed7953"
             ],
             [
              0.7777777777777778,
              "#fb9f3a"
             ],
             [
              0.8888888888888888,
              "#fdca26"
             ],
             [
              1,
              "#f0f921"
             ]
            ],
            "type": "histogram2d"
           }
          ],
          "histogram2dcontour": [
           {
            "colorbar": {
             "outlinewidth": 0,
             "ticks": ""
            },
            "colorscale": [
             [
              0,
              "#0d0887"
             ],
             [
              0.1111111111111111,
              "#46039f"
             ],
             [
              0.2222222222222222,
              "#7201a8"
             ],
             [
              0.3333333333333333,
              "#9c179e"
             ],
             [
              0.4444444444444444,
              "#bd3786"
             ],
             [
              0.5555555555555556,
              "#d8576b"
             ],
             [
              0.6666666666666666,
              "#ed7953"
             ],
             [
              0.7777777777777778,
              "#fb9f3a"
             ],
             [
              0.8888888888888888,
              "#fdca26"
             ],
             [
              1,
              "#f0f921"
             ]
            ],
            "type": "histogram2dcontour"
           }
          ],
          "mesh3d": [
           {
            "colorbar": {
             "outlinewidth": 0,
             "ticks": ""
            },
            "type": "mesh3d"
           }
          ],
          "parcoords": [
           {
            "line": {
             "colorbar": {
              "outlinewidth": 0,
              "ticks": ""
             }
            },
            "type": "parcoords"
           }
          ],
          "pie": [
           {
            "automargin": true,
            "type": "pie"
           }
          ],
          "scatter": [
           {
            "marker": {
             "colorbar": {
              "outlinewidth": 0,
              "ticks": ""
             }
            },
            "type": "scatter"
           }
          ],
          "scatter3d": [
           {
            "line": {
             "colorbar": {
              "outlinewidth": 0,
              "ticks": ""
             }
            },
            "marker": {
             "colorbar": {
              "outlinewidth": 0,
              "ticks": ""
             }
            },
            "type": "scatter3d"
           }
          ],
          "scattercarpet": [
           {
            "marker": {
             "colorbar": {
              "outlinewidth": 0,
              "ticks": ""
             }
            },
            "type": "scattercarpet"
           }
          ],
          "scattergeo": [
           {
            "marker": {
             "colorbar": {
              "outlinewidth": 0,
              "ticks": ""
             }
            },
            "type": "scattergeo"
           }
          ],
          "scattergl": [
           {
            "marker": {
             "colorbar": {
              "outlinewidth": 0,
              "ticks": ""
             }
            },
            "type": "scattergl"
           }
          ],
          "scattermapbox": [
           {
            "marker": {
             "colorbar": {
              "outlinewidth": 0,
              "ticks": ""
             }
            },
            "type": "scattermapbox"
           }
          ],
          "scatterpolar": [
           {
            "marker": {
             "colorbar": {
              "outlinewidth": 0,
              "ticks": ""
             }
            },
            "type": "scatterpolar"
           }
          ],
          "scatterpolargl": [
           {
            "marker": {
             "colorbar": {
              "outlinewidth": 0,
              "ticks": ""
             }
            },
            "type": "scatterpolargl"
           }
          ],
          "scatterternary": [
           {
            "marker": {
             "colorbar": {
              "outlinewidth": 0,
              "ticks": ""
             }
            },
            "type": "scatterternary"
           }
          ],
          "surface": [
           {
            "colorbar": {
             "outlinewidth": 0,
             "ticks": ""
            },
            "colorscale": [
             [
              0,
              "#0d0887"
             ],
             [
              0.1111111111111111,
              "#46039f"
             ],
             [
              0.2222222222222222,
              "#7201a8"
             ],
             [
              0.3333333333333333,
              "#9c179e"
             ],
             [
              0.4444444444444444,
              "#bd3786"
             ],
             [
              0.5555555555555556,
              "#d8576b"
             ],
             [
              0.6666666666666666,
              "#ed7953"
             ],
             [
              0.7777777777777778,
              "#fb9f3a"
             ],
             [
              0.8888888888888888,
              "#fdca26"
             ],
             [
              1,
              "#f0f921"
             ]
            ],
            "type": "surface"
           }
          ],
          "table": [
           {
            "cells": {
             "fill": {
              "color": "#EBF0F8"
             },
             "line": {
              "color": "white"
             }
            },
            "header": {
             "fill": {
              "color": "#C8D4E3"
             },
             "line": {
              "color": "white"
             }
            },
            "type": "table"
           }
          ]
         },
         "layout": {
          "annotationdefaults": {
           "arrowcolor": "#2a3f5f",
           "arrowhead": 0,
           "arrowwidth": 1
          },
          "autotypenumbers": "strict",
          "coloraxis": {
           "colorbar": {
            "outlinewidth": 0,
            "ticks": ""
           }
          },
          "colorscale": {
           "diverging": [
            [
             0,
             "#8e0152"
            ],
            [
             0.1,
             "#c51b7d"
            ],
            [
             0.2,
             "#de77ae"
            ],
            [
             0.3,
             "#f1b6da"
            ],
            [
             0.4,
             "#fde0ef"
            ],
            [
             0.5,
             "#f7f7f7"
            ],
            [
             0.6,
             "#e6f5d0"
            ],
            [
             0.7,
             "#b8e186"
            ],
            [
             0.8,
             "#7fbc41"
            ],
            [
             0.9,
             "#4d9221"
            ],
            [
             1,
             "#276419"
            ]
           ],
           "sequential": [
            [
             0,
             "#0d0887"
            ],
            [
             0.1111111111111111,
             "#46039f"
            ],
            [
             0.2222222222222222,
             "#7201a8"
            ],
            [
             0.3333333333333333,
             "#9c179e"
            ],
            [
             0.4444444444444444,
             "#bd3786"
            ],
            [
             0.5555555555555556,
             "#d8576b"
            ],
            [
             0.6666666666666666,
             "#ed7953"
            ],
            [
             0.7777777777777778,
             "#fb9f3a"
            ],
            [
             0.8888888888888888,
             "#fdca26"
            ],
            [
             1,
             "#f0f921"
            ]
           ],
           "sequentialminus": [
            [
             0,
             "#0d0887"
            ],
            [
             0.1111111111111111,
             "#46039f"
            ],
            [
             0.2222222222222222,
             "#7201a8"
            ],
            [
             0.3333333333333333,
             "#9c179e"
            ],
            [
             0.4444444444444444,
             "#bd3786"
            ],
            [
             0.5555555555555556,
             "#d8576b"
            ],
            [
             0.6666666666666666,
             "#ed7953"
            ],
            [
             0.7777777777777778,
             "#fb9f3a"
            ],
            [
             0.8888888888888888,
             "#fdca26"
            ],
            [
             1,
             "#f0f921"
            ]
           ]
          },
          "colorway": [
           "#636efa",
           "#EF553B",
           "#00cc96",
           "#ab63fa",
           "#FFA15A",
           "#19d3f3",
           "#FF6692",
           "#B6E880",
           "#FF97FF",
           "#FECB52"
          ],
          "font": {
           "color": "#2a3f5f"
          },
          "geo": {
           "bgcolor": "white",
           "lakecolor": "white",
           "landcolor": "#E5ECF6",
           "showlakes": true,
           "showland": true,
           "subunitcolor": "white"
          },
          "hoverlabel": {
           "align": "left"
          },
          "hovermode": "closest",
          "mapbox": {
           "style": "light"
          },
          "paper_bgcolor": "white",
          "plot_bgcolor": "#E5ECF6",
          "polar": {
           "angularaxis": {
            "gridcolor": "white",
            "linecolor": "white",
            "ticks": ""
           },
           "bgcolor": "#E5ECF6",
           "radialaxis": {
            "gridcolor": "white",
            "linecolor": "white",
            "ticks": ""
           }
          },
          "scene": {
           "xaxis": {
            "backgroundcolor": "#E5ECF6",
            "gridcolor": "white",
            "gridwidth": 2,
            "linecolor": "white",
            "showbackground": true,
            "ticks": "",
            "zerolinecolor": "white"
           },
           "yaxis": {
            "backgroundcolor": "#E5ECF6",
            "gridcolor": "white",
            "gridwidth": 2,
            "linecolor": "white",
            "showbackground": true,
            "ticks": "",
            "zerolinecolor": "white"
           },
           "zaxis": {
            "backgroundcolor": "#E5ECF6",
            "gridcolor": "white",
            "gridwidth": 2,
            "linecolor": "white",
            "showbackground": true,
            "ticks": "",
            "zerolinecolor": "white"
           }
          },
          "shapedefaults": {
           "line": {
            "color": "#2a3f5f"
           }
          },
          "ternary": {
           "aaxis": {
            "gridcolor": "white",
            "linecolor": "white",
            "ticks": ""
           },
           "baxis": {
            "gridcolor": "white",
            "linecolor": "white",
            "ticks": ""
           },
           "bgcolor": "#E5ECF6",
           "caxis": {
            "gridcolor": "white",
            "linecolor": "white",
            "ticks": ""
           }
          },
          "title": {
           "x": 0.05
          },
          "xaxis": {
           "automargin": true,
           "gridcolor": "white",
           "linecolor": "white",
           "ticks": "",
           "title": {
            "standoff": 15
           },
           "zerolinecolor": "white",
           "zerolinewidth": 2
          },
          "yaxis": {
           "automargin": true,
           "gridcolor": "white",
           "linecolor": "white",
           "ticks": "",
           "title": {
            "standoff": 15
           },
           "zerolinecolor": "white",
           "zerolinewidth": 2
          }
         }
        }
       }
      }
     },
     "metadata": {},
     "output_type": "display_data"
    }
   ],
   "source": [
    "import plotly.graph_objects as go\n",
    "\n",
    "fig = go.Figure(data=\n",
    "    go.Scatterpolar(\n",
    "        r = [0],\n",
    "        #theta = [35,70,120,155,205,240],\n",
    "        mode = 'markers',\n",
    "    ))\n",
    "fig.update_layout(\n",
    "    \n",
    "    polar = dict(\n",
    "        radialaxis = dict( showticklabels=False, ),\n",
    "        angularaxis = dict(showticklabels=False,)\n",
    "    )\n",
    ")\n",
    "fig.update_layout(showlegend=False)\n",
    "fig.show()\n"
   ]
  },
  {
   "cell_type": "code",
   "execution_count": 15,
   "id": "43b45329",
   "metadata": {},
   "outputs": [],
   "source": [
    "def linepolar(df,sentido=None, n_top=None):\n",
    "    if type(df) == str:\n",
    "        fig = go.Figure(data=\n",
    "            go.Scatterpolar(\n",
    "                r = [0],\n",
    "                #theta = [35,70,120,155,205,240],\n",
    "                mode = 'markers',\n",
    "            ))\n",
    "        fig.update_layout(\n",
    "            #height=300/2,\n",
    "            polar = dict(\n",
    "                radialaxis = dict( showticklabels=False, ),\n",
    "                angularaxis = dict(showticklabels=False,)\n",
    "            )\n",
    "        )\n",
    "        fig.update_layout(showlegend=False)\n",
    "        fig.show()\n",
    "        return fig\n",
    "    else: \n",
    "        theta_dict={0:'name_Llegada', 1:'name_Salida'}\n",
    "        rutas=topNRutas2(df, n_top)\n",
    "        \n",
    "        fig = px.line_polar(rutas, r='travel_time', theta=theta_dict[sentido],line_close=True, )#\n",
    "\n",
    "        fig.update_traces(fill='toself',line_color =\"#18bc9c\")\n",
    "        fig.update_layout(height=height/2)\n",
    "        fig.show()\n",
    "        return fig "
   ]
  },
  {
   "cell_type": "code",
   "execution_count": 16,
   "id": "5b8e5724",
   "metadata": {},
   "outputs": [
    {
     "data": {
      "application/vnd.plotly.v1+json": {
       "config": {
        "plotlyServerURL": "https://plot.ly"
       },
       "data": [
        {
         "mode": "markers",
         "r": [
          0
         ],
         "type": "scatterpolar"
        }
       ],
       "layout": {
        "polar": {
         "angularaxis": {
          "showticklabels": false
         },
         "radialaxis": {
          "showticklabels": false
         }
        },
        "showlegend": false,
        "template": {
         "data": {
          "bar": [
           {
            "error_x": {
             "color": "#2a3f5f"
            },
            "error_y": {
             "color": "#2a3f5f"
            },
            "marker": {
             "line": {
              "color": "#E5ECF6",
              "width": 0.5
             },
             "pattern": {
              "fillmode": "overlay",
              "size": 10,
              "solidity": 0.2
             }
            },
            "type": "bar"
           }
          ],
          "barpolar": [
           {
            "marker": {
             "line": {
              "color": "#E5ECF6",
              "width": 0.5
             },
             "pattern": {
              "fillmode": "overlay",
              "size": 10,
              "solidity": 0.2
             }
            },
            "type": "barpolar"
           }
          ],
          "carpet": [
           {
            "aaxis": {
             "endlinecolor": "#2a3f5f",
             "gridcolor": "white",
             "linecolor": "white",
             "minorgridcolor": "white",
             "startlinecolor": "#2a3f5f"
            },
            "baxis": {
             "endlinecolor": "#2a3f5f",
             "gridcolor": "white",
             "linecolor": "white",
             "minorgridcolor": "white",
             "startlinecolor": "#2a3f5f"
            },
            "type": "carpet"
           }
          ],
          "choropleth": [
           {
            "colorbar": {
             "outlinewidth": 0,
             "ticks": ""
            },
            "type": "choropleth"
           }
          ],
          "contour": [
           {
            "colorbar": {
             "outlinewidth": 0,
             "ticks": ""
            },
            "colorscale": [
             [
              0,
              "#0d0887"
             ],
             [
              0.1111111111111111,
              "#46039f"
             ],
             [
              0.2222222222222222,
              "#7201a8"
             ],
             [
              0.3333333333333333,
              "#9c179e"
             ],
             [
              0.4444444444444444,
              "#bd3786"
             ],
             [
              0.5555555555555556,
              "#d8576b"
             ],
             [
              0.6666666666666666,
              "#ed7953"
             ],
             [
              0.7777777777777778,
              "#fb9f3a"
             ],
             [
              0.8888888888888888,
              "#fdca26"
             ],
             [
              1,
              "#f0f921"
             ]
            ],
            "type": "contour"
           }
          ],
          "contourcarpet": [
           {
            "colorbar": {
             "outlinewidth": 0,
             "ticks": ""
            },
            "type": "contourcarpet"
           }
          ],
          "heatmap": [
           {
            "colorbar": {
             "outlinewidth": 0,
             "ticks": ""
            },
            "colorscale": [
             [
              0,
              "#0d0887"
             ],
             [
              0.1111111111111111,
              "#46039f"
             ],
             [
              0.2222222222222222,
              "#7201a8"
             ],
             [
              0.3333333333333333,
              "#9c179e"
             ],
             [
              0.4444444444444444,
              "#bd3786"
             ],
             [
              0.5555555555555556,
              "#d8576b"
             ],
             [
              0.6666666666666666,
              "#ed7953"
             ],
             [
              0.7777777777777778,
              "#fb9f3a"
             ],
             [
              0.8888888888888888,
              "#fdca26"
             ],
             [
              1,
              "#f0f921"
             ]
            ],
            "type": "heatmap"
           }
          ],
          "heatmapgl": [
           {
            "colorbar": {
             "outlinewidth": 0,
             "ticks": ""
            },
            "colorscale": [
             [
              0,
              "#0d0887"
             ],
             [
              0.1111111111111111,
              "#46039f"
             ],
             [
              0.2222222222222222,
              "#7201a8"
             ],
             [
              0.3333333333333333,
              "#9c179e"
             ],
             [
              0.4444444444444444,
              "#bd3786"
             ],
             [
              0.5555555555555556,
              "#d8576b"
             ],
             [
              0.6666666666666666,
              "#ed7953"
             ],
             [
              0.7777777777777778,
              "#fb9f3a"
             ],
             [
              0.8888888888888888,
              "#fdca26"
             ],
             [
              1,
              "#f0f921"
             ]
            ],
            "type": "heatmapgl"
           }
          ],
          "histogram": [
           {
            "marker": {
             "pattern": {
              "fillmode": "overlay",
              "size": 10,
              "solidity": 0.2
             }
            },
            "type": "histogram"
           }
          ],
          "histogram2d": [
           {
            "colorbar": {
             "outlinewidth": 0,
             "ticks": ""
            },
            "colorscale": [
             [
              0,
              "#0d0887"
             ],
             [
              0.1111111111111111,
              "#46039f"
             ],
             [
              0.2222222222222222,
              "#7201a8"
             ],
             [
              0.3333333333333333,
              "#9c179e"
             ],
             [
              0.4444444444444444,
              "#bd3786"
             ],
             [
              0.5555555555555556,
              "#d8576b"
             ],
             [
              0.6666666666666666,
              "#ed7953"
             ],
             [
              0.7777777777777778,
              "#fb9f3a"
             ],
             [
              0.8888888888888888,
              "#fdca26"
             ],
             [
              1,
              "#f0f921"
             ]
            ],
            "type": "histogram2d"
           }
          ],
          "histogram2dcontour": [
           {
            "colorbar": {
             "outlinewidth": 0,
             "ticks": ""
            },
            "colorscale": [
             [
              0,
              "#0d0887"
             ],
             [
              0.1111111111111111,
              "#46039f"
             ],
             [
              0.2222222222222222,
              "#7201a8"
             ],
             [
              0.3333333333333333,
              "#9c179e"
             ],
             [
              0.4444444444444444,
              "#bd3786"
             ],
             [
              0.5555555555555556,
              "#d8576b"
             ],
             [
              0.6666666666666666,
              "#ed7953"
             ],
             [
              0.7777777777777778,
              "#fb9f3a"
             ],
             [
              0.8888888888888888,
              "#fdca26"
             ],
             [
              1,
              "#f0f921"
             ]
            ],
            "type": "histogram2dcontour"
           }
          ],
          "mesh3d": [
           {
            "colorbar": {
             "outlinewidth": 0,
             "ticks": ""
            },
            "type": "mesh3d"
           }
          ],
          "parcoords": [
           {
            "line": {
             "colorbar": {
              "outlinewidth": 0,
              "ticks": ""
             }
            },
            "type": "parcoords"
           }
          ],
          "pie": [
           {
            "automargin": true,
            "type": "pie"
           }
          ],
          "scatter": [
           {
            "marker": {
             "colorbar": {
              "outlinewidth": 0,
              "ticks": ""
             }
            },
            "type": "scatter"
           }
          ],
          "scatter3d": [
           {
            "line": {
             "colorbar": {
              "outlinewidth": 0,
              "ticks": ""
             }
            },
            "marker": {
             "colorbar": {
              "outlinewidth": 0,
              "ticks": ""
             }
            },
            "type": "scatter3d"
           }
          ],
          "scattercarpet": [
           {
            "marker": {
             "colorbar": {
              "outlinewidth": 0,
              "ticks": ""
             }
            },
            "type": "scattercarpet"
           }
          ],
          "scattergeo": [
           {
            "marker": {
             "colorbar": {
              "outlinewidth": 0,
              "ticks": ""
             }
            },
            "type": "scattergeo"
           }
          ],
          "scattergl": [
           {
            "marker": {
             "colorbar": {
              "outlinewidth": 0,
              "ticks": ""
             }
            },
            "type": "scattergl"
           }
          ],
          "scattermapbox": [
           {
            "marker": {
             "colorbar": {
              "outlinewidth": 0,
              "ticks": ""
             }
            },
            "type": "scattermapbox"
           }
          ],
          "scatterpolar": [
           {
            "marker": {
             "colorbar": {
              "outlinewidth": 0,
              "ticks": ""
             }
            },
            "type": "scatterpolar"
           }
          ],
          "scatterpolargl": [
           {
            "marker": {
             "colorbar": {
              "outlinewidth": 0,
              "ticks": ""
             }
            },
            "type": "scatterpolargl"
           }
          ],
          "scatterternary": [
           {
            "marker": {
             "colorbar": {
              "outlinewidth": 0,
              "ticks": ""
             }
            },
            "type": "scatterternary"
           }
          ],
          "surface": [
           {
            "colorbar": {
             "outlinewidth": 0,
             "ticks": ""
            },
            "colorscale": [
             [
              0,
              "#0d0887"
             ],
             [
              0.1111111111111111,
              "#46039f"
             ],
             [
              0.2222222222222222,
              "#7201a8"
             ],
             [
              0.3333333333333333,
              "#9c179e"
             ],
             [
              0.4444444444444444,
              "#bd3786"
             ],
             [
              0.5555555555555556,
              "#d8576b"
             ],
             [
              0.6666666666666666,
              "#ed7953"
             ],
             [
              0.7777777777777778,
              "#fb9f3a"
             ],
             [
              0.8888888888888888,
              "#fdca26"
             ],
             [
              1,
              "#f0f921"
             ]
            ],
            "type": "surface"
           }
          ],
          "table": [
           {
            "cells": {
             "fill": {
              "color": "#EBF0F8"
             },
             "line": {
              "color": "white"
             }
            },
            "header": {
             "fill": {
              "color": "#C8D4E3"
             },
             "line": {
              "color": "white"
             }
            },
            "type": "table"
           }
          ]
         },
         "layout": {
          "annotationdefaults": {
           "arrowcolor": "#2a3f5f",
           "arrowhead": 0,
           "arrowwidth": 1
          },
          "autotypenumbers": "strict",
          "coloraxis": {
           "colorbar": {
            "outlinewidth": 0,
            "ticks": ""
           }
          },
          "colorscale": {
           "diverging": [
            [
             0,
             "#8e0152"
            ],
            [
             0.1,
             "#c51b7d"
            ],
            [
             0.2,
             "#de77ae"
            ],
            [
             0.3,
             "#f1b6da"
            ],
            [
             0.4,
             "#fde0ef"
            ],
            [
             0.5,
             "#f7f7f7"
            ],
            [
             0.6,
             "#e6f5d0"
            ],
            [
             0.7,
             "#b8e186"
            ],
            [
             0.8,
             "#7fbc41"
            ],
            [
             0.9,
             "#4d9221"
            ],
            [
             1,
             "#276419"
            ]
           ],
           "sequential": [
            [
             0,
             "#0d0887"
            ],
            [
             0.1111111111111111,
             "#46039f"
            ],
            [
             0.2222222222222222,
             "#7201a8"
            ],
            [
             0.3333333333333333,
             "#9c179e"
            ],
            [
             0.4444444444444444,
             "#bd3786"
            ],
            [
             0.5555555555555556,
             "#d8576b"
            ],
            [
             0.6666666666666666,
             "#ed7953"
            ],
            [
             0.7777777777777778,
             "#fb9f3a"
            ],
            [
             0.8888888888888888,
             "#fdca26"
            ],
            [
             1,
             "#f0f921"
            ]
           ],
           "sequentialminus": [
            [
             0,
             "#0d0887"
            ],
            [
             0.1111111111111111,
             "#46039f"
            ],
            [
             0.2222222222222222,
             "#7201a8"
            ],
            [
             0.3333333333333333,
             "#9c179e"
            ],
            [
             0.4444444444444444,
             "#bd3786"
            ],
            [
             0.5555555555555556,
             "#d8576b"
            ],
            [
             0.6666666666666666,
             "#ed7953"
            ],
            [
             0.7777777777777778,
             "#fb9f3a"
            ],
            [
             0.8888888888888888,
             "#fdca26"
            ],
            [
             1,
             "#f0f921"
            ]
           ]
          },
          "colorway": [
           "#636efa",
           "#EF553B",
           "#00cc96",
           "#ab63fa",
           "#FFA15A",
           "#19d3f3",
           "#FF6692",
           "#B6E880",
           "#FF97FF",
           "#FECB52"
          ],
          "font": {
           "color": "#2a3f5f"
          },
          "geo": {
           "bgcolor": "white",
           "lakecolor": "white",
           "landcolor": "#E5ECF6",
           "showlakes": true,
           "showland": true,
           "subunitcolor": "white"
          },
          "hoverlabel": {
           "align": "left"
          },
          "hovermode": "closest",
          "mapbox": {
           "style": "light"
          },
          "paper_bgcolor": "white",
          "plot_bgcolor": "#E5ECF6",
          "polar": {
           "angularaxis": {
            "gridcolor": "white",
            "linecolor": "white",
            "ticks": ""
           },
           "bgcolor": "#E5ECF6",
           "radialaxis": {
            "gridcolor": "white",
            "linecolor": "white",
            "ticks": ""
           }
          },
          "scene": {
           "xaxis": {
            "backgroundcolor": "#E5ECF6",
            "gridcolor": "white",
            "gridwidth": 2,
            "linecolor": "white",
            "showbackground": true,
            "ticks": "",
            "zerolinecolor": "white"
           },
           "yaxis": {
            "backgroundcolor": "#E5ECF6",
            "gridcolor": "white",
            "gridwidth": 2,
            "linecolor": "white",
            "showbackground": true,
            "ticks": "",
            "zerolinecolor": "white"
           },
           "zaxis": {
            "backgroundcolor": "#E5ECF6",
            "gridcolor": "white",
            "gridwidth": 2,
            "linecolor": "white",
            "showbackground": true,
            "ticks": "",
            "zerolinecolor": "white"
           }
          },
          "shapedefaults": {
           "line": {
            "color": "#2a3f5f"
           }
          },
          "ternary": {
           "aaxis": {
            "gridcolor": "white",
            "linecolor": "white",
            "ticks": ""
           },
           "baxis": {
            "gridcolor": "white",
            "linecolor": "white",
            "ticks": ""
           },
           "bgcolor": "#E5ECF6",
           "caxis": {
            "gridcolor": "white",
            "linecolor": "white",
            "ticks": ""
           }
          },
          "title": {
           "x": 0.05
          },
          "xaxis": {
           "automargin": true,
           "gridcolor": "white",
           "linecolor": "white",
           "ticks": "",
           "title": {
            "standoff": 15
           },
           "zerolinecolor": "white",
           "zerolinewidth": 2
          },
          "yaxis": {
           "automargin": true,
           "gridcolor": "white",
           "linecolor": "white",
           "ticks": "",
           "title": {
            "standoff": 15
           },
           "zerolinecolor": "white",
           "zerolinewidth": 2
          }
         }
        }
       }
      }
     },
     "metadata": {},
     "output_type": "display_data"
    },
    {
     "data": {
      "application/vnd.plotly.v1+json": {
       "config": {
        "plotlyServerURL": "https://plot.ly"
       },
       "data": [
        {
         "mode": "markers",
         "r": [
          0
         ],
         "type": "scatterpolar"
        }
       ],
       "layout": {
        "polar": {
         "angularaxis": {
          "showticklabels": false
         },
         "radialaxis": {
          "showticklabels": false
         }
        },
        "showlegend": false,
        "template": {
         "data": {
          "bar": [
           {
            "error_x": {
             "color": "#2a3f5f"
            },
            "error_y": {
             "color": "#2a3f5f"
            },
            "marker": {
             "line": {
              "color": "#E5ECF6",
              "width": 0.5
             },
             "pattern": {
              "fillmode": "overlay",
              "size": 10,
              "solidity": 0.2
             }
            },
            "type": "bar"
           }
          ],
          "barpolar": [
           {
            "marker": {
             "line": {
              "color": "#E5ECF6",
              "width": 0.5
             },
             "pattern": {
              "fillmode": "overlay",
              "size": 10,
              "solidity": 0.2
             }
            },
            "type": "barpolar"
           }
          ],
          "carpet": [
           {
            "aaxis": {
             "endlinecolor": "#2a3f5f",
             "gridcolor": "white",
             "linecolor": "white",
             "minorgridcolor": "white",
             "startlinecolor": "#2a3f5f"
            },
            "baxis": {
             "endlinecolor": "#2a3f5f",
             "gridcolor": "white",
             "linecolor": "white",
             "minorgridcolor": "white",
             "startlinecolor": "#2a3f5f"
            },
            "type": "carpet"
           }
          ],
          "choropleth": [
           {
            "colorbar": {
             "outlinewidth": 0,
             "ticks": ""
            },
            "type": "choropleth"
           }
          ],
          "contour": [
           {
            "colorbar": {
             "outlinewidth": 0,
             "ticks": ""
            },
            "colorscale": [
             [
              0,
              "#0d0887"
             ],
             [
              0.1111111111111111,
              "#46039f"
             ],
             [
              0.2222222222222222,
              "#7201a8"
             ],
             [
              0.3333333333333333,
              "#9c179e"
             ],
             [
              0.4444444444444444,
              "#bd3786"
             ],
             [
              0.5555555555555556,
              "#d8576b"
             ],
             [
              0.6666666666666666,
              "#ed7953"
             ],
             [
              0.7777777777777778,
              "#fb9f3a"
             ],
             [
              0.8888888888888888,
              "#fdca26"
             ],
             [
              1,
              "#f0f921"
             ]
            ],
            "type": "contour"
           }
          ],
          "contourcarpet": [
           {
            "colorbar": {
             "outlinewidth": 0,
             "ticks": ""
            },
            "type": "contourcarpet"
           }
          ],
          "heatmap": [
           {
            "colorbar": {
             "outlinewidth": 0,
             "ticks": ""
            },
            "colorscale": [
             [
              0,
              "#0d0887"
             ],
             [
              0.1111111111111111,
              "#46039f"
             ],
             [
              0.2222222222222222,
              "#7201a8"
             ],
             [
              0.3333333333333333,
              "#9c179e"
             ],
             [
              0.4444444444444444,
              "#bd3786"
             ],
             [
              0.5555555555555556,
              "#d8576b"
             ],
             [
              0.6666666666666666,
              "#ed7953"
             ],
             [
              0.7777777777777778,
              "#fb9f3a"
             ],
             [
              0.8888888888888888,
              "#fdca26"
             ],
             [
              1,
              "#f0f921"
             ]
            ],
            "type": "heatmap"
           }
          ],
          "heatmapgl": [
           {
            "colorbar": {
             "outlinewidth": 0,
             "ticks": ""
            },
            "colorscale": [
             [
              0,
              "#0d0887"
             ],
             [
              0.1111111111111111,
              "#46039f"
             ],
             [
              0.2222222222222222,
              "#7201a8"
             ],
             [
              0.3333333333333333,
              "#9c179e"
             ],
             [
              0.4444444444444444,
              "#bd3786"
             ],
             [
              0.5555555555555556,
              "#d8576b"
             ],
             [
              0.6666666666666666,
              "#ed7953"
             ],
             [
              0.7777777777777778,
              "#fb9f3a"
             ],
             [
              0.8888888888888888,
              "#fdca26"
             ],
             [
              1,
              "#f0f921"
             ]
            ],
            "type": "heatmapgl"
           }
          ],
          "histogram": [
           {
            "marker": {
             "pattern": {
              "fillmode": "overlay",
              "size": 10,
              "solidity": 0.2
             }
            },
            "type": "histogram"
           }
          ],
          "histogram2d": [
           {
            "colorbar": {
             "outlinewidth": 0,
             "ticks": ""
            },
            "colorscale": [
             [
              0,
              "#0d0887"
             ],
             [
              0.1111111111111111,
              "#46039f"
             ],
             [
              0.2222222222222222,
              "#7201a8"
             ],
             [
              0.3333333333333333,
              "#9c179e"
             ],
             [
              0.4444444444444444,
              "#bd3786"
             ],
             [
              0.5555555555555556,
              "#d8576b"
             ],
             [
              0.6666666666666666,
              "#ed7953"
             ],
             [
              0.7777777777777778,
              "#fb9f3a"
             ],
             [
              0.8888888888888888,
              "#fdca26"
             ],
             [
              1,
              "#f0f921"
             ]
            ],
            "type": "histogram2d"
           }
          ],
          "histogram2dcontour": [
           {
            "colorbar": {
             "outlinewidth": 0,
             "ticks": ""
            },
            "colorscale": [
             [
              0,
              "#0d0887"
             ],
             [
              0.1111111111111111,
              "#46039f"
             ],
             [
              0.2222222222222222,
              "#7201a8"
             ],
             [
              0.3333333333333333,
              "#9c179e"
             ],
             [
              0.4444444444444444,
              "#bd3786"
             ],
             [
              0.5555555555555556,
              "#d8576b"
             ],
             [
              0.6666666666666666,
              "#ed7953"
             ],
             [
              0.7777777777777778,
              "#fb9f3a"
             ],
             [
              0.8888888888888888,
              "#fdca26"
             ],
             [
              1,
              "#f0f921"
             ]
            ],
            "type": "histogram2dcontour"
           }
          ],
          "mesh3d": [
           {
            "colorbar": {
             "outlinewidth": 0,
             "ticks": ""
            },
            "type": "mesh3d"
           }
          ],
          "parcoords": [
           {
            "line": {
             "colorbar": {
              "outlinewidth": 0,
              "ticks": ""
             }
            },
            "type": "parcoords"
           }
          ],
          "pie": [
           {
            "automargin": true,
            "type": "pie"
           }
          ],
          "scatter": [
           {
            "marker": {
             "colorbar": {
              "outlinewidth": 0,
              "ticks": ""
             }
            },
            "type": "scatter"
           }
          ],
          "scatter3d": [
           {
            "line": {
             "colorbar": {
              "outlinewidth": 0,
              "ticks": ""
             }
            },
            "marker": {
             "colorbar": {
              "outlinewidth": 0,
              "ticks": ""
             }
            },
            "type": "scatter3d"
           }
          ],
          "scattercarpet": [
           {
            "marker": {
             "colorbar": {
              "outlinewidth": 0,
              "ticks": ""
             }
            },
            "type": "scattercarpet"
           }
          ],
          "scattergeo": [
           {
            "marker": {
             "colorbar": {
              "outlinewidth": 0,
              "ticks": ""
             }
            },
            "type": "scattergeo"
           }
          ],
          "scattergl": [
           {
            "marker": {
             "colorbar": {
              "outlinewidth": 0,
              "ticks": ""
             }
            },
            "type": "scattergl"
           }
          ],
          "scattermapbox": [
           {
            "marker": {
             "colorbar": {
              "outlinewidth": 0,
              "ticks": ""
             }
            },
            "type": "scattermapbox"
           }
          ],
          "scatterpolar": [
           {
            "marker": {
             "colorbar": {
              "outlinewidth": 0,
              "ticks": ""
             }
            },
            "type": "scatterpolar"
           }
          ],
          "scatterpolargl": [
           {
            "marker": {
             "colorbar": {
              "outlinewidth": 0,
              "ticks": ""
             }
            },
            "type": "scatterpolargl"
           }
          ],
          "scatterternary": [
           {
            "marker": {
             "colorbar": {
              "outlinewidth": 0,
              "ticks": ""
             }
            },
            "type": "scatterternary"
           }
          ],
          "surface": [
           {
            "colorbar": {
             "outlinewidth": 0,
             "ticks": ""
            },
            "colorscale": [
             [
              0,
              "#0d0887"
             ],
             [
              0.1111111111111111,
              "#46039f"
             ],
             [
              0.2222222222222222,
              "#7201a8"
             ],
             [
              0.3333333333333333,
              "#9c179e"
             ],
             [
              0.4444444444444444,
              "#bd3786"
             ],
             [
              0.5555555555555556,
              "#d8576b"
             ],
             [
              0.6666666666666666,
              "#ed7953"
             ],
             [
              0.7777777777777778,
              "#fb9f3a"
             ],
             [
              0.8888888888888888,
              "#fdca26"
             ],
             [
              1,
              "#f0f921"
             ]
            ],
            "type": "surface"
           }
          ],
          "table": [
           {
            "cells": {
             "fill": {
              "color": "#EBF0F8"
             },
             "line": {
              "color": "white"
             }
            },
            "header": {
             "fill": {
              "color": "#C8D4E3"
             },
             "line": {
              "color": "white"
             }
            },
            "type": "table"
           }
          ]
         },
         "layout": {
          "annotationdefaults": {
           "arrowcolor": "#2a3f5f",
           "arrowhead": 0,
           "arrowwidth": 1
          },
          "autotypenumbers": "strict",
          "coloraxis": {
           "colorbar": {
            "outlinewidth": 0,
            "ticks": ""
           }
          },
          "colorscale": {
           "diverging": [
            [
             0,
             "#8e0152"
            ],
            [
             0.1,
             "#c51b7d"
            ],
            [
             0.2,
             "#de77ae"
            ],
            [
             0.3,
             "#f1b6da"
            ],
            [
             0.4,
             "#fde0ef"
            ],
            [
             0.5,
             "#f7f7f7"
            ],
            [
             0.6,
             "#e6f5d0"
            ],
            [
             0.7,
             "#b8e186"
            ],
            [
             0.8,
             "#7fbc41"
            ],
            [
             0.9,
             "#4d9221"
            ],
            [
             1,
             "#276419"
            ]
           ],
           "sequential": [
            [
             0,
             "#0d0887"
            ],
            [
             0.1111111111111111,
             "#46039f"
            ],
            [
             0.2222222222222222,
             "#7201a8"
            ],
            [
             0.3333333333333333,
             "#9c179e"
            ],
            [
             0.4444444444444444,
             "#bd3786"
            ],
            [
             0.5555555555555556,
             "#d8576b"
            ],
            [
             0.6666666666666666,
             "#ed7953"
            ],
            [
             0.7777777777777778,
             "#fb9f3a"
            ],
            [
             0.8888888888888888,
             "#fdca26"
            ],
            [
             1,
             "#f0f921"
            ]
           ],
           "sequentialminus": [
            [
             0,
             "#0d0887"
            ],
            [
             0.1111111111111111,
             "#46039f"
            ],
            [
             0.2222222222222222,
             "#7201a8"
            ],
            [
             0.3333333333333333,
             "#9c179e"
            ],
            [
             0.4444444444444444,
             "#bd3786"
            ],
            [
             0.5555555555555556,
             "#d8576b"
            ],
            [
             0.6666666666666666,
             "#ed7953"
            ],
            [
             0.7777777777777778,
             "#fb9f3a"
            ],
            [
             0.8888888888888888,
             "#fdca26"
            ],
            [
             1,
             "#f0f921"
            ]
           ]
          },
          "colorway": [
           "#636efa",
           "#EF553B",
           "#00cc96",
           "#ab63fa",
           "#FFA15A",
           "#19d3f3",
           "#FF6692",
           "#B6E880",
           "#FF97FF",
           "#FECB52"
          ],
          "font": {
           "color": "#2a3f5f"
          },
          "geo": {
           "bgcolor": "white",
           "lakecolor": "white",
           "landcolor": "#E5ECF6",
           "showlakes": true,
           "showland": true,
           "subunitcolor": "white"
          },
          "hoverlabel": {
           "align": "left"
          },
          "hovermode": "closest",
          "mapbox": {
           "style": "light"
          },
          "paper_bgcolor": "white",
          "plot_bgcolor": "#E5ECF6",
          "polar": {
           "angularaxis": {
            "gridcolor": "white",
            "linecolor": "white",
            "ticks": ""
           },
           "bgcolor": "#E5ECF6",
           "radialaxis": {
            "gridcolor": "white",
            "linecolor": "white",
            "ticks": ""
           }
          },
          "scene": {
           "xaxis": {
            "backgroundcolor": "#E5ECF6",
            "gridcolor": "white",
            "gridwidth": 2,
            "linecolor": "white",
            "showbackground": true,
            "ticks": "",
            "zerolinecolor": "white"
           },
           "yaxis": {
            "backgroundcolor": "#E5ECF6",
            "gridcolor": "white",
            "gridwidth": 2,
            "linecolor": "white",
            "showbackground": true,
            "ticks": "",
            "zerolinecolor": "white"
           },
           "zaxis": {
            "backgroundcolor": "#E5ECF6",
            "gridcolor": "white",
            "gridwidth": 2,
            "linecolor": "white",
            "showbackground": true,
            "ticks": "",
            "zerolinecolor": "white"
           }
          },
          "shapedefaults": {
           "line": {
            "color": "#2a3f5f"
           }
          },
          "ternary": {
           "aaxis": {
            "gridcolor": "white",
            "linecolor": "white",
            "ticks": ""
           },
           "baxis": {
            "gridcolor": "white",
            "linecolor": "white",
            "ticks": ""
           },
           "bgcolor": "#E5ECF6",
           "caxis": {
            "gridcolor": "white",
            "linecolor": "white",
            "ticks": ""
           }
          },
          "title": {
           "x": 0.05
          },
          "xaxis": {
           "automargin": true,
           "gridcolor": "white",
           "linecolor": "white",
           "ticks": "",
           "title": {
            "standoff": 15
           },
           "zerolinecolor": "white",
           "zerolinewidth": 2
          },
          "yaxis": {
           "automargin": true,
           "gridcolor": "white",
           "linecolor": "white",
           "ticks": "",
           "title": {
            "standoff": 15
           },
           "zerolinecolor": "white",
           "zerolinewidth": 2
          }
         }
        }
       }
      }
     },
     "metadata": {},
     "output_type": "display_data"
    }
   ],
   "source": [
    "linepolar('vacio')"
   ]
  }
 ],
 "metadata": {
  "kernelspec": {
   "display_name": "Python 3.8.8 ('base')",
   "language": "python",
   "name": "python3"
  },
  "language_info": {
   "codemirror_mode": {
    "name": "ipython",
    "version": 3
   },
   "file_extension": ".py",
   "mimetype": "text/x-python",
   "name": "python",
   "nbconvert_exporter": "python",
   "pygments_lexer": "ipython3",
   "version": "3.8.8"
  },
  "vscode": {
   "interpreter": {
    "hash": "9fef7a30f113eaa53eb8b5c309fb488b4423c5d8965bf87e9ef8b3198259acb6"
   }
  }
 },
 "nbformat": 4,
 "nbformat_minor": 5
}
